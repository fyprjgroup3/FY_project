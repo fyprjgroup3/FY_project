{
  "nbformat": 4,
  "nbformat_minor": 0,
  "metadata": {
    "colab": {
      "name": "Labelizer_nb_v3.ipynb",
      "provenance": [],
      "collapsed_sections": [],
      "toc_visible": true,
      "include_colab_link": true
    },
    "kernelspec": {
      "name": "python3",
      "display_name": "Python 3"
    },
    "language_info": {
      "codemirror_mode": {
        "name": "ipython",
        "version": 3
      },
      "file_extension": ".py",
      "mimetype": "text/x-python",
      "name": "python",
      "nbconvert_exporter": "python",
      "pygments_lexer": "ipython3",
      "version": "3.6.5"
    }
  },
  "cells": [
    {
      "cell_type": "markdown",
      "metadata": {
        "id": "view-in-github",
        "colab_type": "text"
      },
      "source": [
        "<a href=\"https://colab.research.google.com/github/fyprjgroup3/FY_project/blob/avik's_work/Labelizer_nb_v3.ipynb\" target=\"_parent\"><img src=\"https://colab.research.google.com/assets/colab-badge.svg\" alt=\"Open In Colab\"/></a>"
      ]
    },
    {
      "cell_type": "code",
      "metadata": {
        "colab_type": "code",
        "id": "UDR0Z89_yP_v",
        "colab": {
          "base_uri": "https://localhost:8080/",
          "height": 190
        },
        "outputId": "aa9f6ddc-84e8-49c4-c6d8-ed4b6b6a4a54"
      },
      "source": [
        "import pandas as pd\n",
        "import numpy as np\n",
        "import re\n",
        "import json\n",
        "import nltk\n",
        "import matplotlib.pyplot as plt\n",
        "import seaborn as sns\n",
        "import string\n",
        "import collections\n",
        "#nltk.download('stopwords')\n",
        "\n",
        "from google.colab import drive\n",
        "from google.colab import files\n",
        "#import io\n",
        "#uploaded = files.upload()\n",
        "\n",
        "#drive.mount('/content/drive') # mounting drive in each runtime\n",
        "\n",
        "pd.set_option(\"display.max_columns\",2500)\n",
        "pd.set_option(\"display.max_rows\",2500)"
      ],
      "execution_count": 1,
      "outputs": [
        {
          "output_type": "stream",
          "text": [
            "/usr/local/lib/python3.6/dist-packages/statsmodels/tools/_testing.py:19: FutureWarning: pandas.util.testing is deprecated. Use the functions in the public API at pandas.testing instead.\n",
            "  import pandas.util.testing as tm\n"
          ],
          "name": "stderr"
        },
        {
          "output_type": "stream",
          "text": [
            "[nltk_data] Downloading package stopwords to /root/nltk_data...\n",
            "[nltk_data]   Unzipping corpora/stopwords.zip.\n",
            "Go to this URL in a browser: https://accounts.google.com/o/oauth2/auth?client_id=947318989803-6bn6qk8qdgf4n4g3pfee6491hc0brc4i.apps.googleusercontent.com&redirect_uri=urn%3aietf%3awg%3aoauth%3a2.0%3aoob&response_type=code&scope=email%20https%3a%2f%2fwww.googleapis.com%2fauth%2fdocs.test%20https%3a%2f%2fwww.googleapis.com%2fauth%2fdrive%20https%3a%2f%2fwww.googleapis.com%2fauth%2fdrive.photos.readonly%20https%3a%2f%2fwww.googleapis.com%2fauth%2fpeopleapi.readonly\n",
            "\n",
            "Enter your authorization code:\n",
            "··········\n",
            "Mounted at /content/drive\n"
          ],
          "name": "stdout"
        }
      ]
    },
    {
      "cell_type": "markdown",
      "metadata": {
        "id": "mwsvjZWIJJxE",
        "colab_type": "text"
      },
      "source": [
        "### Data Import"
      ]
    },
    {
      "cell_type": "code",
      "metadata": {
        "colab_type": "code",
        "id": "cuZZefDs1SgH",
        "outputId": "a8cb86f6-8fb1-423c-9ab6-0dc06934aae1",
        "colab": {
          "base_uri": "https://localhost:8080/",
          "height": 408
        }
      },
      "source": [
        "#import the data\n",
        "data=pd.concat([pd.read_csv('/content/drive/My Drive/FY_project/dataset/results-20190513-ofapr19.csv'), pd.read_csv('/content/drive/My Drive/FY_project/dataset/results-20190613-ofmay19.csv')])\n",
        "#data=pd.read_csv('E:\\yearproject.csv')\n",
        "data.head()"
      ],
      "execution_count": 2,
      "outputs": [
        {
          "output_type": "execute_result",
          "data": {
            "text/html": [
              "<div>\n",
              "<style scoped>\n",
              "    .dataframe tbody tr th:only-of-type {\n",
              "        vertical-align: middle;\n",
              "    }\n",
              "\n",
              "    .dataframe tbody tr th {\n",
              "        vertical-align: top;\n",
              "    }\n",
              "\n",
              "    .dataframe thead th {\n",
              "        text-align: right;\n",
              "    }\n",
              "</style>\n",
              "<table border=\"1\" class=\"dataframe\">\n",
              "  <thead>\n",
              "    <tr style=\"text-align: right;\">\n",
              "      <th></th>\n",
              "      <th>action</th>\n",
              "      <th>url</th>\n",
              "      <th>title</th>\n",
              "      <th>body</th>\n",
              "      <th>labels</th>\n",
              "    </tr>\n",
              "  </thead>\n",
              "  <tbody>\n",
              "    <tr>\n",
              "      <th>0</th>\n",
              "      <td>\"closed\"</td>\n",
              "      <td>\"https://github.com/Microsoft/vcpkg/issues/4548\"</td>\n",
              "      <td>\"Error: Building package zlib:x64-windows-stat...</td>\n",
              "      <td>\"\\r\\nPackage: zlib:x64-windows-static\\r\\nVcpkg...</td>\n",
              "      <td>[{\"id\":455857191,\"node_id\":\"MDU6TGFiZWw0NTU4NT...</td>\n",
              "    </tr>\n",
              "    <tr>\n",
              "      <th>1</th>\n",
              "      <td>\"closed\"</td>\n",
              "      <td>\"https://github.com/primefaces/primeng/issues/...</td>\n",
              "      <td>\"Pagination bug when removing an item\"</td>\n",
              "      <td>\"Reported by a PRO user;\\r\\n\\r\\n&gt; If for exemp...</td>\n",
              "      <td>[{\"id\":312160661,\"node_id\":\"MDU6TGFiZWwzMTIxNj...</td>\n",
              "    </tr>\n",
              "    <tr>\n",
              "      <th>2</th>\n",
              "      <td>\"closed\"</td>\n",
              "      <td>\"https://github.com/zen-kernel/zen-kernel/issu...</td>\n",
              "      <td>\"bfq error\"</td>\n",
              "      <td>\"Hi, Steven/\\r\\nAfter last update today &gt;git f...</td>\n",
              "      <td>[]</td>\n",
              "    </tr>\n",
              "    <tr>\n",
              "      <th>3</th>\n",
              "      <td>\"closed\"</td>\n",
              "      <td>\"https://github.com/biig-io/ngx-smart-modal/is...</td>\n",
              "      <td>\"Can't open next modal at once after closing p...</td>\n",
              "      <td>\"\\r\\nwhen I click immediately after closing pr...</td>\n",
              "      <td>[]</td>\n",
              "    </tr>\n",
              "    <tr>\n",
              "      <th>4</th>\n",
              "      <td>\"closed\"</td>\n",
              "      <td>\"https://github.com/istio/istio/issues/12790\"</td>\n",
              "      <td>\"Helm podAntiAffinity templating error\"</td>\n",
              "      <td>\"**Describe the bug**\\r\\n\\r\\nHelm charts fail ...</td>\n",
              "      <td>[{\"id\":670442116,\"node_id\":\"MDU6TGFiZWw2NzA0ND...</td>\n",
              "    </tr>\n",
              "  </tbody>\n",
              "</table>\n",
              "</div>"
            ],
            "text/plain": [
              "     action                                                url  \\\n",
              "0  \"closed\"   \"https://github.com/Microsoft/vcpkg/issues/4548\"   \n",
              "1  \"closed\"  \"https://github.com/primefaces/primeng/issues/...   \n",
              "2  \"closed\"  \"https://github.com/zen-kernel/zen-kernel/issu...   \n",
              "3  \"closed\"  \"https://github.com/biig-io/ngx-smart-modal/is...   \n",
              "4  \"closed\"      \"https://github.com/istio/istio/issues/12790\"   \n",
              "\n",
              "                                               title  \\\n",
              "0  \"Error: Building package zlib:x64-windows-stat...   \n",
              "1             \"Pagination bug when removing an item\"   \n",
              "2                                        \"bfq error\"   \n",
              "3  \"Can't open next modal at once after closing p...   \n",
              "4            \"Helm podAntiAffinity templating error\"   \n",
              "\n",
              "                                                body  \\\n",
              "0  \"\\r\\nPackage: zlib:x64-windows-static\\r\\nVcpkg...   \n",
              "1  \"Reported by a PRO user;\\r\\n\\r\\n> If for exemp...   \n",
              "2  \"Hi, Steven/\\r\\nAfter last update today >git f...   \n",
              "3  \"\\r\\nwhen I click immediately after closing pr...   \n",
              "4  \"**Describe the bug**\\r\\n\\r\\nHelm charts fail ...   \n",
              "\n",
              "                                              labels  \n",
              "0  [{\"id\":455857191,\"node_id\":\"MDU6TGFiZWw0NTU4NT...  \n",
              "1  [{\"id\":312160661,\"node_id\":\"MDU6TGFiZWwzMTIxNj...  \n",
              "2                                                 []  \n",
              "3                                                 []  \n",
              "4  [{\"id\":670442116,\"node_id\":\"MDU6TGFiZWw2NzA0ND...  "
            ]
          },
          "metadata": {
            "tags": []
          },
          "execution_count": 2
        }
      ]
    },
    {
      "cell_type": "code",
      "metadata": {
        "colab_type": "code",
        "id": "AKgCotmX1Uxo",
        "outputId": "0b9ad160-1cbc-4cc5-d4de-d3bc6bde2c46",
        "colab": {
          "base_uri": "https://localhost:8080/",
          "height": 34
        }
      },
      "source": [
        "print(\"No. of rows:\",data.shape[0])"
      ],
      "execution_count": 3,
      "outputs": [
        {
          "output_type": "stream",
          "text": [
            "No. of rows: 16836\n"
          ],
          "name": "stdout"
        }
      ]
    },
    {
      "cell_type": "markdown",
      "metadata": {
        "id": "nFLSC7bdJJxR",
        "colab_type": "text"
      },
      "source": [
        "### Data Cleaning"
      ]
    },
    {
      "cell_type": "code",
      "metadata": {
        "colab_type": "code",
        "id": "RcaCbq1AVwLg",
        "outputId": "fda79d28-1134-4b4c-d41c-1459223134bd",
        "colab": {
          "base_uri": "https://localhost:8080/",
          "height": 34
        }
      },
      "source": [
        "print('No. of duplicate rows: ',data.duplicated().sum())"
      ],
      "execution_count": 4,
      "outputs": [
        {
          "output_type": "stream",
          "text": [
            "No. of duplicate rows:  15\n"
          ],
          "name": "stdout"
        }
      ]
    },
    {
      "cell_type": "code",
      "metadata": {
        "colab_type": "code",
        "id": "dhtfKNalWfyS",
        "colab": {}
      },
      "source": [
        "data.drop_duplicates(inplace=True)"
      ],
      "execution_count": 0,
      "outputs": []
    },
    {
      "cell_type": "code",
      "metadata": {
        "colab_type": "code",
        "id": "JPgfNluzWnMx",
        "outputId": "e389877d-20df-4374-d9fa-d70c06af81e9",
        "colab": {
          "base_uri": "https://localhost:8080/",
          "height": 34
        }
      },
      "source": [
        "data.shape"
      ],
      "execution_count": 6,
      "outputs": [
        {
          "output_type": "execute_result",
          "data": {
            "text/plain": [
              "(16821, 5)"
            ]
          },
          "metadata": {
            "tags": []
          },
          "execution_count": 6
        }
      ]
    },
    {
      "cell_type": "code",
      "metadata": {
        "colab_type": "code",
        "id": "wk4JasqL1qje",
        "outputId": "b14ea469-e4ca-40a3-cc9c-3da681aaf469",
        "colab": {
          "base_uri": "https://localhost:8080/",
          "height": 204
        }
      },
      "source": [
        "# select necessary features\n",
        "data=data[[\"title\",\"body\",\"labels\"]]\n",
        "data.head()"
      ],
      "execution_count": 7,
      "outputs": [
        {
          "output_type": "execute_result",
          "data": {
            "text/html": [
              "<div>\n",
              "<style scoped>\n",
              "    .dataframe tbody tr th:only-of-type {\n",
              "        vertical-align: middle;\n",
              "    }\n",
              "\n",
              "    .dataframe tbody tr th {\n",
              "        vertical-align: top;\n",
              "    }\n",
              "\n",
              "    .dataframe thead th {\n",
              "        text-align: right;\n",
              "    }\n",
              "</style>\n",
              "<table border=\"1\" class=\"dataframe\">\n",
              "  <thead>\n",
              "    <tr style=\"text-align: right;\">\n",
              "      <th></th>\n",
              "      <th>title</th>\n",
              "      <th>body</th>\n",
              "      <th>labels</th>\n",
              "    </tr>\n",
              "  </thead>\n",
              "  <tbody>\n",
              "    <tr>\n",
              "      <th>0</th>\n",
              "      <td>\"Error: Building package zlib:x64-windows-stat...</td>\n",
              "      <td>\"\\r\\nPackage: zlib:x64-windows-static\\r\\nVcpkg...</td>\n",
              "      <td>[{\"id\":455857191,\"node_id\":\"MDU6TGFiZWw0NTU4NT...</td>\n",
              "    </tr>\n",
              "    <tr>\n",
              "      <th>1</th>\n",
              "      <td>\"Pagination bug when removing an item\"</td>\n",
              "      <td>\"Reported by a PRO user;\\r\\n\\r\\n&gt; If for exemp...</td>\n",
              "      <td>[{\"id\":312160661,\"node_id\":\"MDU6TGFiZWwzMTIxNj...</td>\n",
              "    </tr>\n",
              "    <tr>\n",
              "      <th>2</th>\n",
              "      <td>\"bfq error\"</td>\n",
              "      <td>\"Hi, Steven/\\r\\nAfter last update today &gt;git f...</td>\n",
              "      <td>[]</td>\n",
              "    </tr>\n",
              "    <tr>\n",
              "      <th>3</th>\n",
              "      <td>\"Can't open next modal at once after closing p...</td>\n",
              "      <td>\"\\r\\nwhen I click immediately after closing pr...</td>\n",
              "      <td>[]</td>\n",
              "    </tr>\n",
              "    <tr>\n",
              "      <th>4</th>\n",
              "      <td>\"Helm podAntiAffinity templating error\"</td>\n",
              "      <td>\"**Describe the bug**\\r\\n\\r\\nHelm charts fail ...</td>\n",
              "      <td>[{\"id\":670442116,\"node_id\":\"MDU6TGFiZWw2NzA0ND...</td>\n",
              "    </tr>\n",
              "  </tbody>\n",
              "</table>\n",
              "</div>"
            ],
            "text/plain": [
              "                                               title  \\\n",
              "0  \"Error: Building package zlib:x64-windows-stat...   \n",
              "1             \"Pagination bug when removing an item\"   \n",
              "2                                        \"bfq error\"   \n",
              "3  \"Can't open next modal at once after closing p...   \n",
              "4            \"Helm podAntiAffinity templating error\"   \n",
              "\n",
              "                                                body  \\\n",
              "0  \"\\r\\nPackage: zlib:x64-windows-static\\r\\nVcpkg...   \n",
              "1  \"Reported by a PRO user;\\r\\n\\r\\n> If for exemp...   \n",
              "2  \"Hi, Steven/\\r\\nAfter last update today >git f...   \n",
              "3  \"\\r\\nwhen I click immediately after closing pr...   \n",
              "4  \"**Describe the bug**\\r\\n\\r\\nHelm charts fail ...   \n",
              "\n",
              "                                              labels  \n",
              "0  [{\"id\":455857191,\"node_id\":\"MDU6TGFiZWw0NTU4NT...  \n",
              "1  [{\"id\":312160661,\"node_id\":\"MDU6TGFiZWwzMTIxNj...  \n",
              "2                                                 []  \n",
              "3                                                 []  \n",
              "4  [{\"id\":670442116,\"node_id\":\"MDU6TGFiZWw2NzA0ND...  "
            ]
          },
          "metadata": {
            "tags": []
          },
          "execution_count": 7
        }
      ]
    },
    {
      "cell_type": "code",
      "metadata": {
        "colab_type": "code",
        "id": "gsaA7-fC9N6c",
        "outputId": "c0fc226f-4c40-4e02-f6e1-f8cc846ad7ac",
        "colab": {
          "base_uri": "https://localhost:8080/",
          "height": 204
        }
      },
      "source": [
        "# remove rows with empty labels\n",
        "def clean(s):\n",
        "    if s==\"[]\":\n",
        "        s=np.nan\n",
        "    return s\n",
        "    \n",
        "data['labels']=data['labels'].apply(lambda x: clean(x))\n",
        "data.head()"
      ],
      "execution_count": 8,
      "outputs": [
        {
          "output_type": "execute_result",
          "data": {
            "text/html": [
              "<div>\n",
              "<style scoped>\n",
              "    .dataframe tbody tr th:only-of-type {\n",
              "        vertical-align: middle;\n",
              "    }\n",
              "\n",
              "    .dataframe tbody tr th {\n",
              "        vertical-align: top;\n",
              "    }\n",
              "\n",
              "    .dataframe thead th {\n",
              "        text-align: right;\n",
              "    }\n",
              "</style>\n",
              "<table border=\"1\" class=\"dataframe\">\n",
              "  <thead>\n",
              "    <tr style=\"text-align: right;\">\n",
              "      <th></th>\n",
              "      <th>title</th>\n",
              "      <th>body</th>\n",
              "      <th>labels</th>\n",
              "    </tr>\n",
              "  </thead>\n",
              "  <tbody>\n",
              "    <tr>\n",
              "      <th>0</th>\n",
              "      <td>\"Error: Building package zlib:x64-windows-stat...</td>\n",
              "      <td>\"\\r\\nPackage: zlib:x64-windows-static\\r\\nVcpkg...</td>\n",
              "      <td>[{\"id\":455857191,\"node_id\":\"MDU6TGFiZWw0NTU4NT...</td>\n",
              "    </tr>\n",
              "    <tr>\n",
              "      <th>1</th>\n",
              "      <td>\"Pagination bug when removing an item\"</td>\n",
              "      <td>\"Reported by a PRO user;\\r\\n\\r\\n&gt; If for exemp...</td>\n",
              "      <td>[{\"id\":312160661,\"node_id\":\"MDU6TGFiZWwzMTIxNj...</td>\n",
              "    </tr>\n",
              "    <tr>\n",
              "      <th>2</th>\n",
              "      <td>\"bfq error\"</td>\n",
              "      <td>\"Hi, Steven/\\r\\nAfter last update today &gt;git f...</td>\n",
              "      <td>NaN</td>\n",
              "    </tr>\n",
              "    <tr>\n",
              "      <th>3</th>\n",
              "      <td>\"Can't open next modal at once after closing p...</td>\n",
              "      <td>\"\\r\\nwhen I click immediately after closing pr...</td>\n",
              "      <td>NaN</td>\n",
              "    </tr>\n",
              "    <tr>\n",
              "      <th>4</th>\n",
              "      <td>\"Helm podAntiAffinity templating error\"</td>\n",
              "      <td>\"**Describe the bug**\\r\\n\\r\\nHelm charts fail ...</td>\n",
              "      <td>[{\"id\":670442116,\"node_id\":\"MDU6TGFiZWw2NzA0ND...</td>\n",
              "    </tr>\n",
              "  </tbody>\n",
              "</table>\n",
              "</div>"
            ],
            "text/plain": [
              "                                               title  \\\n",
              "0  \"Error: Building package zlib:x64-windows-stat...   \n",
              "1             \"Pagination bug when removing an item\"   \n",
              "2                                        \"bfq error\"   \n",
              "3  \"Can't open next modal at once after closing p...   \n",
              "4            \"Helm podAntiAffinity templating error\"   \n",
              "\n",
              "                                                body  \\\n",
              "0  \"\\r\\nPackage: zlib:x64-windows-static\\r\\nVcpkg...   \n",
              "1  \"Reported by a PRO user;\\r\\n\\r\\n> If for exemp...   \n",
              "2  \"Hi, Steven/\\r\\nAfter last update today >git f...   \n",
              "3  \"\\r\\nwhen I click immediately after closing pr...   \n",
              "4  \"**Describe the bug**\\r\\n\\r\\nHelm charts fail ...   \n",
              "\n",
              "                                              labels  \n",
              "0  [{\"id\":455857191,\"node_id\":\"MDU6TGFiZWw0NTU4NT...  \n",
              "1  [{\"id\":312160661,\"node_id\":\"MDU6TGFiZWwzMTIxNj...  \n",
              "2                                                NaN  \n",
              "3                                                NaN  \n",
              "4  [{\"id\":670442116,\"node_id\":\"MDU6TGFiZWw2NzA0ND...  "
            ]
          },
          "metadata": {
            "tags": []
          },
          "execution_count": 8
        }
      ]
    },
    {
      "cell_type": "code",
      "metadata": {
        "colab_type": "code",
        "id": "l4BE0H3HIJBH",
        "colab": {}
      },
      "source": [
        "data.dropna(inplace=True)"
      ],
      "execution_count": 0,
      "outputs": []
    },
    {
      "cell_type": "code",
      "metadata": {
        "colab_type": "code",
        "id": "2Spnq92nMJyi",
        "outputId": "2a0ac793-c228-489a-cf07-b8f634a71466",
        "colab": {
          "base_uri": "https://localhost:8080/",
          "height": 238
        }
      },
      "source": [
        "data.head()"
      ],
      "execution_count": 10,
      "outputs": [
        {
          "output_type": "execute_result",
          "data": {
            "text/html": [
              "<div>\n",
              "<style scoped>\n",
              "    .dataframe tbody tr th:only-of-type {\n",
              "        vertical-align: middle;\n",
              "    }\n",
              "\n",
              "    .dataframe tbody tr th {\n",
              "        vertical-align: top;\n",
              "    }\n",
              "\n",
              "    .dataframe thead th {\n",
              "        text-align: right;\n",
              "    }\n",
              "</style>\n",
              "<table border=\"1\" class=\"dataframe\">\n",
              "  <thead>\n",
              "    <tr style=\"text-align: right;\">\n",
              "      <th></th>\n",
              "      <th>title</th>\n",
              "      <th>body</th>\n",
              "      <th>labels</th>\n",
              "    </tr>\n",
              "  </thead>\n",
              "  <tbody>\n",
              "    <tr>\n",
              "      <th>0</th>\n",
              "      <td>\"Error: Building package zlib:x64-windows-stat...</td>\n",
              "      <td>\"\\r\\nPackage: zlib:x64-windows-static\\r\\nVcpkg...</td>\n",
              "      <td>[{\"id\":455857191,\"node_id\":\"MDU6TGFiZWw0NTU4NT...</td>\n",
              "    </tr>\n",
              "    <tr>\n",
              "      <th>1</th>\n",
              "      <td>\"Pagination bug when removing an item\"</td>\n",
              "      <td>\"Reported by a PRO user;\\r\\n\\r\\n&gt; If for exemp...</td>\n",
              "      <td>[{\"id\":312160661,\"node_id\":\"MDU6TGFiZWwzMTIxNj...</td>\n",
              "    </tr>\n",
              "    <tr>\n",
              "      <th>4</th>\n",
              "      <td>\"Helm podAntiAffinity templating error\"</td>\n",
              "      <td>\"**Describe the bug**\\r\\n\\r\\nHelm charts fail ...</td>\n",
              "      <td>[{\"id\":670442116,\"node_id\":\"MDU6TGFiZWw2NzA0ND...</td>\n",
              "    </tr>\n",
              "    <tr>\n",
              "      <th>5</th>\n",
              "      <td>\"[0.5][Tradingview] Quick Chart resize does no...</td>\n",
              "      <td>\"**Describe the bug**\\r\\nThe up and down arrow...</td>\n",
              "      <td>[{\"id\":1089646255,\"node_id\":\"MDU6TGFiZWwxMDg5N...</td>\n",
              "    </tr>\n",
              "    <tr>\n",
              "      <th>6</th>\n",
              "      <td>\"Upgrade isort\"</td>\n",
              "      <td>\"We are using 4.3.4 but [isort[(https://pypi.o...</td>\n",
              "      <td>[{\"id\":717069763,\"node_id\":\"MDU6TGFiZWw3MTcwNj...</td>\n",
              "    </tr>\n",
              "  </tbody>\n",
              "</table>\n",
              "</div>"
            ],
            "text/plain": [
              "                                               title  \\\n",
              "0  \"Error: Building package zlib:x64-windows-stat...   \n",
              "1             \"Pagination bug when removing an item\"   \n",
              "4            \"Helm podAntiAffinity templating error\"   \n",
              "5  \"[0.5][Tradingview] Quick Chart resize does no...   \n",
              "6                                    \"Upgrade isort\"   \n",
              "\n",
              "                                                body  \\\n",
              "0  \"\\r\\nPackage: zlib:x64-windows-static\\r\\nVcpkg...   \n",
              "1  \"Reported by a PRO user;\\r\\n\\r\\n> If for exemp...   \n",
              "4  \"**Describe the bug**\\r\\n\\r\\nHelm charts fail ...   \n",
              "5  \"**Describe the bug**\\r\\nThe up and down arrow...   \n",
              "6  \"We are using 4.3.4 but [isort[(https://pypi.o...   \n",
              "\n",
              "                                              labels  \n",
              "0  [{\"id\":455857191,\"node_id\":\"MDU6TGFiZWw0NTU4NT...  \n",
              "1  [{\"id\":312160661,\"node_id\":\"MDU6TGFiZWwzMTIxNj...  \n",
              "4  [{\"id\":670442116,\"node_id\":\"MDU6TGFiZWw2NzA0ND...  \n",
              "5  [{\"id\":1089646255,\"node_id\":\"MDU6TGFiZWwxMDg5N...  \n",
              "6  [{\"id\":717069763,\"node_id\":\"MDU6TGFiZWw3MTcwNj...  "
            ]
          },
          "metadata": {
            "tags": []
          },
          "execution_count": 10
        }
      ]
    },
    {
      "cell_type": "code",
      "metadata": {
        "colab_type": "code",
        "id": "K7LBFzMaOE9o",
        "outputId": "a8bb90e9-e5c9-4a1d-aeb3-36e579c59c24",
        "colab": {
          "base_uri": "https://localhost:8080/",
          "height": 34
        }
      },
      "source": [
        "print(\"No. of rows:\",data.shape[0])"
      ],
      "execution_count": 11,
      "outputs": [
        {
          "output_type": "stream",
          "text": [
            "No. of rows: 8462\n"
          ],
          "name": "stdout"
        }
      ]
    },
    {
      "cell_type": "code",
      "metadata": {
        "colab_type": "code",
        "id": "FUK5Hl701hmN",
        "outputId": "7ef519b9-0dcb-4afe-9dc8-f842e89e220f",
        "colab": {
          "base_uri": "https://localhost:8080/",
          "height": 119
        }
      },
      "source": [
        "# check format of labels\n",
        "data['labels'][:5]"
      ],
      "execution_count": 12,
      "outputs": [
        {
          "output_type": "execute_result",
          "data": {
            "text/plain": [
              "0    [{\"id\":455857191,\"node_id\":\"MDU6TGFiZWw0NTU4NT...\n",
              "1    [{\"id\":312160661,\"node_id\":\"MDU6TGFiZWwzMTIxNj...\n",
              "4    [{\"id\":670442116,\"node_id\":\"MDU6TGFiZWw2NzA0ND...\n",
              "5    [{\"id\":1089646255,\"node_id\":\"MDU6TGFiZWwxMDg5N...\n",
              "6    [{\"id\":717069763,\"node_id\":\"MDU6TGFiZWw3MTcwNj...\n",
              "Name: labels, dtype: object"
            ]
          },
          "metadata": {
            "tags": []
          },
          "execution_count": 12
        }
      ]
    },
    {
      "cell_type": "code",
      "metadata": {
        "id": "8MTpjGiKJJyQ",
        "colab_type": "code",
        "outputId": "07e6b3b7-3253-49f9-8005-0c5edd878e18",
        "colab": {
          "base_uri": "https://localhost:8080/",
          "height": 54
        }
      },
      "source": [
        "data['labels'][5]"
      ],
      "execution_count": 13,
      "outputs": [
        {
          "output_type": "execute_result",
          "data": {
            "text/plain": [
              "'[{\"id\":1089646255,\"node_id\":\"MDU6TGFiZWwxMDg5NjQ2MjU1\",\"url\":\"https://api.github.com/repos/bitshares/bitshares-ui/labels/[1b]%20User%20Story\",\"name\":\"[1b] User Story\",\"color\":\"b8e4fc\",\"default\":false},{\"id\":272058720,\"node_id\":\"MDU6TGFiZWwyNzIwNTg3MjA=\",\"url\":\"https://api.github.com/repos/bitshares/bitshares-ui/labels/[3]%20Bug\",\"name\":\"[3] Bug\",\"color\":\"b60205\",\"default\":false},{\"id\":522016380,\"node_id\":\"MDU6TGFiZWw1MjIwMTYzODA=\",\"url\":\"https://api.github.com/repos/bitshares/bitshares-ui/labels/[4c]%20High%20Priority\",\"name\":\"[4c] High Priority\",\"color\":\"fbca04\",\"default\":false},{\"id\":1089668332,\"node_id\":\"MDU6TGFiZWwxMDg5NjY4MzMy\",\"url\":\"https://api.github.com/repos/bitshares/bitshares-ui/labels/[5a]%20Tiny\",\"name\":\"[5a] Tiny\",\"color\":\"f9aed0\",\"default\":false},{\"id\":1133046734,\"node_id\":\"MDU6TGFiZWwxMTMzMDQ2NzM0\",\"url\":\"https://api.github.com/repos/bitshares/bitshares-ui/labels/[6]%20RC%20Blockage\",\"name\":\"[6] RC Blockage\",\"color\":\"0052cc\",\"default\":false},{\"id\":1134524965,\"node_id\":\"MDU6TGFiZWwxMTM0NTI0OTY1\",\"url\":\"https://api.github.com/repos/bitshares/bitshares-ui/labels/[7]%20Estimated\",\"name\":\"[7] Estimated\",\"color\":\"994d00\",\"default\":false}]'"
            ]
          },
          "metadata": {
            "tags": []
          },
          "execution_count": 13
        }
      ]
    },
    {
      "cell_type": "code",
      "metadata": {
        "colab_type": "code",
        "id": "wMF76vYc2_9m",
        "outputId": "68408570-f84c-495f-801c-0c58acd47b7d",
        "colab": {
          "base_uri": "https://localhost:8080/",
          "height": 629
        }
      },
      "source": [
        "#since labels are of string type, convert into list of dictionaries\n",
        "json.loads(data['labels'][5])"
      ],
      "execution_count": 14,
      "outputs": [
        {
          "output_type": "execute_result",
          "data": {
            "text/plain": [
              "[{'color': 'b8e4fc',\n",
              "  'default': False,\n",
              "  'id': 1089646255,\n",
              "  'name': '[1b] User Story',\n",
              "  'node_id': 'MDU6TGFiZWwxMDg5NjQ2MjU1',\n",
              "  'url': 'https://api.github.com/repos/bitshares/bitshares-ui/labels/[1b]%20User%20Story'},\n",
              " {'color': 'b60205',\n",
              "  'default': False,\n",
              "  'id': 272058720,\n",
              "  'name': '[3] Bug',\n",
              "  'node_id': 'MDU6TGFiZWwyNzIwNTg3MjA=',\n",
              "  'url': 'https://api.github.com/repos/bitshares/bitshares-ui/labels/[3]%20Bug'},\n",
              " {'color': 'fbca04',\n",
              "  'default': False,\n",
              "  'id': 522016380,\n",
              "  'name': '[4c] High Priority',\n",
              "  'node_id': 'MDU6TGFiZWw1MjIwMTYzODA=',\n",
              "  'url': 'https://api.github.com/repos/bitshares/bitshares-ui/labels/[4c]%20High%20Priority'},\n",
              " {'color': 'f9aed0',\n",
              "  'default': False,\n",
              "  'id': 1089668332,\n",
              "  'name': '[5a] Tiny',\n",
              "  'node_id': 'MDU6TGFiZWwxMDg5NjY4MzMy',\n",
              "  'url': 'https://api.github.com/repos/bitshares/bitshares-ui/labels/[5a]%20Tiny'},\n",
              " {'color': '0052cc',\n",
              "  'default': False,\n",
              "  'id': 1133046734,\n",
              "  'name': '[6] RC Blockage',\n",
              "  'node_id': 'MDU6TGFiZWwxMTMzMDQ2NzM0',\n",
              "  'url': 'https://api.github.com/repos/bitshares/bitshares-ui/labels/[6]%20RC%20Blockage'},\n",
              " {'color': '994d00',\n",
              "  'default': False,\n",
              "  'id': 1134524965,\n",
              "  'name': '[7] Estimated',\n",
              "  'node_id': 'MDU6TGFiZWwxMTM0NTI0OTY1',\n",
              "  'url': 'https://api.github.com/repos/bitshares/bitshares-ui/labels/[7]%20Estimated'}]"
            ]
          },
          "metadata": {
            "tags": []
          },
          "execution_count": 14
        }
      ]
    },
    {
      "cell_type": "code",
      "metadata": {
        "colab_type": "code",
        "id": "UDrrdbud4TyN",
        "outputId": "2874aed1-94be-470f-d59f-6039bbf1c92f",
        "colab": {
          "base_uri": "https://localhost:8080/",
          "height": 119
        }
      },
      "source": [
        "#extract only name field from labels\n",
        "[x['name'] for x in json.loads(data['labels'][5])]"
      ],
      "execution_count": 15,
      "outputs": [
        {
          "output_type": "execute_result",
          "data": {
            "text/plain": [
              "['[1b] User Story',\n",
              " '[3] Bug',\n",
              " '[4c] High Priority',\n",
              " '[5a] Tiny',\n",
              " '[6] RC Blockage',\n",
              " '[7] Estimated']"
            ]
          },
          "metadata": {
            "tags": []
          },
          "execution_count": 15
        }
      ]
    },
    {
      "cell_type": "code",
      "metadata": {
        "colab_type": "code",
        "id": "t-Oifzq76loU",
        "outputId": "7af8514c-3c19-4ccb-d9f6-ede9b3bc29e8",
        "colab": {
          "base_uri": "https://localhost:8080/",
          "height": 187
        }
      },
      "source": [
        "#convert into list of lists\n",
        "labels=[]\n",
        "for i in data['labels']:\n",
        "    labels.append([x['name'] for x in json.loads(i)])\n",
        "labels[:5]"
      ],
      "execution_count": 16,
      "outputs": [
        {
          "output_type": "execute_result",
          "data": {
            "text/plain": [
              "[['needs-repro'],\n",
              " ['enhancement'],\n",
              " ['area/environments'],\n",
              " ['[1b] User Story',\n",
              "  '[3] Bug',\n",
              "  '[4c] High Priority',\n",
              "  '[5a] Tiny',\n",
              "  '[6] RC Blockage',\n",
              "  '[7] Estimated'],\n",
              " ['feature-refactoring', 'good first issue', 'needs PR', 'type-code health']]"
            ]
          },
          "metadata": {
            "tags": []
          },
          "execution_count": 16
        }
      ]
    },
    {
      "cell_type": "code",
      "metadata": {
        "colab_type": "code",
        "id": "hctdulfs75el",
        "outputId": "eaecc116-9eec-4387-a3e8-13a97f7567fb",
        "colab": {
          "base_uri": "https://localhost:8080/",
          "height": 204
        }
      },
      "source": [
        "data['labels']=labels\n",
        "data.head()"
      ],
      "execution_count": 17,
      "outputs": [
        {
          "output_type": "execute_result",
          "data": {
            "text/html": [
              "<div>\n",
              "<style scoped>\n",
              "    .dataframe tbody tr th:only-of-type {\n",
              "        vertical-align: middle;\n",
              "    }\n",
              "\n",
              "    .dataframe tbody tr th {\n",
              "        vertical-align: top;\n",
              "    }\n",
              "\n",
              "    .dataframe thead th {\n",
              "        text-align: right;\n",
              "    }\n",
              "</style>\n",
              "<table border=\"1\" class=\"dataframe\">\n",
              "  <thead>\n",
              "    <tr style=\"text-align: right;\">\n",
              "      <th></th>\n",
              "      <th>title</th>\n",
              "      <th>body</th>\n",
              "      <th>labels</th>\n",
              "    </tr>\n",
              "  </thead>\n",
              "  <tbody>\n",
              "    <tr>\n",
              "      <th>0</th>\n",
              "      <td>\"Error: Building package zlib:x64-windows-stat...</td>\n",
              "      <td>\"\\r\\nPackage: zlib:x64-windows-static\\r\\nVcpkg...</td>\n",
              "      <td>[needs-repro]</td>\n",
              "    </tr>\n",
              "    <tr>\n",
              "      <th>1</th>\n",
              "      <td>\"Pagination bug when removing an item\"</td>\n",
              "      <td>\"Reported by a PRO user;\\r\\n\\r\\n&gt; If for exemp...</td>\n",
              "      <td>[enhancement]</td>\n",
              "    </tr>\n",
              "    <tr>\n",
              "      <th>4</th>\n",
              "      <td>\"Helm podAntiAffinity templating error\"</td>\n",
              "      <td>\"**Describe the bug**\\r\\n\\r\\nHelm charts fail ...</td>\n",
              "      <td>[area/environments]</td>\n",
              "    </tr>\n",
              "    <tr>\n",
              "      <th>5</th>\n",
              "      <td>\"[0.5][Tradingview] Quick Chart resize does no...</td>\n",
              "      <td>\"**Describe the bug**\\r\\nThe up and down arrow...</td>\n",
              "      <td>[[1b] User Story, [3] Bug, [4c] High Priority,...</td>\n",
              "    </tr>\n",
              "    <tr>\n",
              "      <th>6</th>\n",
              "      <td>\"Upgrade isort\"</td>\n",
              "      <td>\"We are using 4.3.4 but [isort[(https://pypi.o...</td>\n",
              "      <td>[feature-refactoring, good first issue, needs ...</td>\n",
              "    </tr>\n",
              "  </tbody>\n",
              "</table>\n",
              "</div>"
            ],
            "text/plain": [
              "                                               title  \\\n",
              "0  \"Error: Building package zlib:x64-windows-stat...   \n",
              "1             \"Pagination bug when removing an item\"   \n",
              "4            \"Helm podAntiAffinity templating error\"   \n",
              "5  \"[0.5][Tradingview] Quick Chart resize does no...   \n",
              "6                                    \"Upgrade isort\"   \n",
              "\n",
              "                                                body  \\\n",
              "0  \"\\r\\nPackage: zlib:x64-windows-static\\r\\nVcpkg...   \n",
              "1  \"Reported by a PRO user;\\r\\n\\r\\n> If for exemp...   \n",
              "4  \"**Describe the bug**\\r\\n\\r\\nHelm charts fail ...   \n",
              "5  \"**Describe the bug**\\r\\nThe up and down arrow...   \n",
              "6  \"We are using 4.3.4 but [isort[(https://pypi.o...   \n",
              "\n",
              "                                              labels  \n",
              "0                                      [needs-repro]  \n",
              "1                                      [enhancement]  \n",
              "4                                [area/environments]  \n",
              "5  [[1b] User Story, [3] Bug, [4c] High Priority,...  \n",
              "6  [feature-refactoring, good first issue, needs ...  "
            ]
          },
          "metadata": {
            "tags": []
          },
          "execution_count": 17
        }
      ]
    },
    {
      "cell_type": "code",
      "metadata": {
        "colab_type": "code",
        "id": "fdCCcKpaU9gI",
        "colab": {}
      },
      "source": [
        "stopwords = nltk.corpus.stopwords.words('english')"
      ],
      "execution_count": 0,
      "outputs": []
    },
    {
      "cell_type": "code",
      "metadata": {
        "colab_type": "code",
        "id": "C3B9XSMJaB5B",
        "outputId": "025dee1b-64b1-499e-fbf7-6bfd8e5faf2c",
        "colab": {
          "base_uri": "https://localhost:8080/",
          "height": 34
        }
      },
      "source": [
        "print(len(stopwords))"
      ],
      "execution_count": 19,
      "outputs": [
        {
          "output_type": "stream",
          "text": [
            "179\n"
          ],
          "name": "stdout"
        }
      ]
    },
    {
      "cell_type": "code",
      "metadata": {
        "colab_type": "code",
        "id": "lNQ8ANvcaMTr",
        "outputId": "565c6674-c2f1-4dfc-a456-69ed60ccc515",
        "colab": {
          "base_uri": "https://localhost:8080/",
          "height": 34
        }
      },
      "source": [
        "stopwords[:5]"
      ],
      "execution_count": 20,
      "outputs": [
        {
          "output_type": "execute_result",
          "data": {
            "text/plain": [
              "['i', 'me', 'my', 'myself', 'we']"
            ]
          },
          "metadata": {
            "tags": []
          },
          "execution_count": 20
        }
      ]
    },
    {
      "cell_type": "code",
      "metadata": {
        "colab_type": "code",
        "id": "h_S6MzHzZ4Fg",
        "outputId": "a5eb2ee4-1818-43d2-e0ca-16bd713b1e38",
        "colab": {
          "base_uri": "https://localhost:8080/",
          "height": 34
        }
      },
      "source": [
        "string.punctuation"
      ],
      "execution_count": 21,
      "outputs": [
        {
          "output_type": "execute_result",
          "data": {
            "text/plain": [
              "'!\"#$%&\\'()*+,-./:;<=>?@[\\\\]^_`{|}~'"
            ]
          },
          "metadata": {
            "tags": []
          },
          "execution_count": 21
        }
      ]
    },
    {
      "cell_type": "code",
      "metadata": {
        "colab_type": "code",
        "id": "kYAO2MubO-UL",
        "colab": {}
      },
      "source": [
        "# function for text cleaning \n",
        "def clean_text(s):\n",
        "    s=re.sub(\"[\\'\\\"]\",\" \",s) #remove ' and \"\n",
        "    s=re.sub('\\\\\\\\r',' ',s)  #remove \\r\n",
        "    s=re.sub('\\\\\\\\n',' ',s)  #remove \\n\n",
        "    s=re.sub('[^a-zA-Z]',' ',s) #remove everything but letters\n",
        "    s=''.join([char for char in s if char not in string.punctuation]) #remove all punctuations\n",
        "    s=' '.join(s.split()) # remove whitespaces \n",
        "    s=s.lower()# convert text to lowercase \n",
        "    return s"
      ],
      "execution_count": 0,
      "outputs": []
    },
    {
      "cell_type": "code",
      "metadata": {
        "colab_type": "code",
        "id": "jk_Ol5NSPJ09",
        "colab": {}
      },
      "source": [
        "# clean title and body fields\n",
        "data['title'] = data['title'].apply(lambda x: clean_text(x))\n",
        "data['body'] = data['body'].apply(lambda x: clean_text(x))"
      ],
      "execution_count": 0,
      "outputs": []
    },
    {
      "cell_type": "code",
      "metadata": {
        "colab_type": "code",
        "id": "io_vyqZ0PlWu",
        "outputId": "55ce236f-c527-4b60-d5da-2d559f9836d7",
        "colab": {
          "base_uri": "https://localhost:8080/",
          "height": 204
        }
      },
      "source": [
        "data.head()"
      ],
      "execution_count": 24,
      "outputs": [
        {
          "output_type": "execute_result",
          "data": {
            "text/html": [
              "<div>\n",
              "<style scoped>\n",
              "    .dataframe tbody tr th:only-of-type {\n",
              "        vertical-align: middle;\n",
              "    }\n",
              "\n",
              "    .dataframe tbody tr th {\n",
              "        vertical-align: top;\n",
              "    }\n",
              "\n",
              "    .dataframe thead th {\n",
              "        text-align: right;\n",
              "    }\n",
              "</style>\n",
              "<table border=\"1\" class=\"dataframe\">\n",
              "  <thead>\n",
              "    <tr style=\"text-align: right;\">\n",
              "      <th></th>\n",
              "      <th>title</th>\n",
              "      <th>body</th>\n",
              "      <th>labels</th>\n",
              "    </tr>\n",
              "  </thead>\n",
              "  <tbody>\n",
              "    <tr>\n",
              "      <th>0</th>\n",
              "      <td>error building package zlib x windows static f...</td>\n",
              "      <td>package zlib x windows static vcpkg version debug</td>\n",
              "      <td>[needs-repro]</td>\n",
              "    </tr>\n",
              "    <tr>\n",
              "      <th>1</th>\n",
              "      <td>pagination bug when removing an item</td>\n",
              "      <td>reported by a pro user if for exemple we have ...</td>\n",
              "      <td>[enhancement]</td>\n",
              "    </tr>\n",
              "    <tr>\n",
              "      <th>4</th>\n",
              "      <td>helm podantiaffinity templating error</td>\n",
              "      <td>describe the bug helm charts fail to generate ...</td>\n",
              "      <td>[area/environments]</td>\n",
              "    </tr>\n",
              "    <tr>\n",
              "      <th>5</th>\n",
              "      <td>tradingview quick chart resize does not honor ...</td>\n",
              "      <td>describe the bug the up and down arrows for tr...</td>\n",
              "      <td>[[1b] User Story, [3] Bug, [4c] High Priority,...</td>\n",
              "    </tr>\n",
              "    <tr>\n",
              "      <th>6</th>\n",
              "      <td>upgrade isort</td>\n",
              "      <td>we are using but isort https pypi org project ...</td>\n",
              "      <td>[feature-refactoring, good first issue, needs ...</td>\n",
              "    </tr>\n",
              "  </tbody>\n",
              "</table>\n",
              "</div>"
            ],
            "text/plain": [
              "                                               title  \\\n",
              "0  error building package zlib x windows static f...   \n",
              "1               pagination bug when removing an item   \n",
              "4              helm podantiaffinity templating error   \n",
              "5  tradingview quick chart resize does not honor ...   \n",
              "6                                      upgrade isort   \n",
              "\n",
              "                                                body  \\\n",
              "0  package zlib x windows static vcpkg version debug   \n",
              "1  reported by a pro user if for exemple we have ...   \n",
              "4  describe the bug helm charts fail to generate ...   \n",
              "5  describe the bug the up and down arrows for tr...   \n",
              "6  we are using but isort https pypi org project ...   \n",
              "\n",
              "                                              labels  \n",
              "0                                      [needs-repro]  \n",
              "1                                      [enhancement]  \n",
              "4                                [area/environments]  \n",
              "5  [[1b] User Story, [3] Bug, [4c] High Priority,...  \n",
              "6  [feature-refactoring, good first issue, needs ...  "
            ]
          },
          "metadata": {
            "tags": []
          },
          "execution_count": 24
        }
      ]
    },
    {
      "cell_type": "code",
      "metadata": {
        "colab_type": "code",
        "id": "jxgEFXceP49H",
        "colab": {}
      },
      "source": [
        "#find most frequent words in title and body\n",
        "def freq_words(x,no=100): \n",
        "    all_words=' '.join([text for text in x]) \n",
        "    all_words=all_words.split() \n",
        "    fdict=nltk.FreqDist(all_words) \n",
        "    df=pd.DataFrame({'word':list(fdict.keys()),'count':list(fdict.values())}) \n",
        "\n",
        "    # select top n most frequent words \n",
        "    d=df.nlargest(columns=\"count\",n=no) \n",
        "\n",
        "    # visualize words and frequencies\n",
        "    plt.figure(figsize=(12,24)) \n",
        "    sns.barplot(x=d['count'],y=d['word'])  "
      ],
      "execution_count": 0,
      "outputs": []
    },
    {
      "cell_type": "code",
      "metadata": {
        "id": "kxD2fcoNJJzU",
        "colab_type": "code",
        "outputId": "548467b1-bd6b-4bc9-fac5-e4820c3c8ac7",
        "colab": {
          "base_uri": "https://localhost:8080/",
          "height": 1000
        }
      },
      "source": [
        "freq_words(data['body'])"
      ],
      "execution_count": 33,
      "outputs": [
        {
          "output_type": "display_data",
          "data": {
            "image/png": "[encoded data removed]",
            "text/plain": [
              "<Figure size 864x1728 with 1 Axes>"
            ]
          },
          "metadata": {
            "tags": [],
            "needs_background": "light"
          }
        }
      ]
    },
    {
      "cell_type": "code",
      "metadata": {
        "colab_type": "code",
        "id": "1IyEJ9c6ScWo",
        "outputId": "7a940956-cec6-43b4-9de4-9f275bbd1052",
        "colab": {
          "base_uri": "https://localhost:8080/",
          "height": 606
        }
      },
      "source": [
        "freq_words(data['title'])"
      ],
      "execution_count": 27,
      "outputs": [
        {
          "output_type": "display_data",
          "data": {
            "image/png": "[encoded data removed]",
            "text/plain": [
              "<Figure size 864x720 with 1 Axes>"
            ]
          },
          "metadata": {
            "tags": [],
            "needs_background": "light"
          }
        }
      ]
    },
    {
      "cell_type": "markdown",
      "metadata": {
        "id": "XCA_D92aJJzc",
        "colab_type": "text"
      },
      "source": [
        "Along with normal stopwords, other not very important words are also present that do not describe the text much."
      ]
    },
    {
      "cell_type": "code",
      "metadata": {
        "id": "oJLJVgrnJJzd",
        "colab_type": "code",
        "colab": {}
      },
      "source": [
        "stopwords.extend(['www','com','r','n','c','e','f','b','g','h','l','http','https','u','v','x','z','de','non','rb','ef','li','ts'\\\n",
        "                  ,'p','md','ci','go','cli','en','ms','br','sdm','us','k','cc','eslint','tat','im','fbadb','cccfb','dali'])\n",
        "def remove_stopwords(s):\n",
        "    s =' '.join([w for w in s.split() if not w in stopwords]) \n",
        "    return s"
      ],
      "execution_count": 0,
      "outputs": []
    },
    {
      "cell_type": "code",
      "metadata": {
        "colab_type": "code",
        "id": "MjImOfJ2W4MY",
        "colab": {}
      },
      "source": [
        "data['title'] = data['title'].apply(lambda x: remove_stopwords(x))\n",
        "data['body'] = data['body'].apply(lambda x: remove_stopwords(x))"
      ],
      "execution_count": 0,
      "outputs": []
    },
    {
      "cell_type": "code",
      "metadata": {
        "id": "1gDpBhOgJJzl",
        "colab_type": "code",
        "outputId": "71b0aa34-4e74-4a03-f37e-b63d6f59dc92",
        "colab": {
          "base_uri": "https://localhost:8080/",
          "height": 204
        }
      },
      "source": [
        "data.head() "
      ],
      "execution_count": 30,
      "outputs": [
        {
          "output_type": "execute_result",
          "data": {
            "text/html": [
              "<div>\n",
              "<style scoped>\n",
              "    .dataframe tbody tr th:only-of-type {\n",
              "        vertical-align: middle;\n",
              "    }\n",
              "\n",
              "    .dataframe tbody tr th {\n",
              "        vertical-align: top;\n",
              "    }\n",
              "\n",
              "    .dataframe thead th {\n",
              "        text-align: right;\n",
              "    }\n",
              "</style>\n",
              "<table border=\"1\" class=\"dataframe\">\n",
              "  <thead>\n",
              "    <tr style=\"text-align: right;\">\n",
              "      <th></th>\n",
              "      <th>title</th>\n",
              "      <th>body</th>\n",
              "      <th>labels</th>\n",
              "    </tr>\n",
              "  </thead>\n",
              "  <tbody>\n",
              "    <tr>\n",
              "      <th>0</th>\n",
              "      <td>error building package zlib windows static fai...</td>\n",
              "      <td>package zlib windows static vcpkg version debug</td>\n",
              "      <td>[needs-repro]</td>\n",
              "    </tr>\n",
              "    <tr>\n",
              "      <th>1</th>\n",
              "      <td>pagination bug removing item</td>\n",
              "      <td>reported pro user exemple table items per page...</td>\n",
              "      <td>[enhancement]</td>\n",
              "    </tr>\n",
              "    <tr>\n",
              "      <th>4</th>\n",
              "      <td>helm podantiaffinity templating error</td>\n",
              "      <td>describe bug helm charts fail generate proper ...</td>\n",
              "      <td>[area/environments]</td>\n",
              "    </tr>\n",
              "    <tr>\n",
              "      <th>5</th>\n",
              "      <td>tradingview quick chart resize honor limit values</td>\n",
              "      <td>describe bug arrows tradingview chart size wor...</td>\n",
              "      <td>[[1b] User Story, [3] Bug, [4c] High Priority,...</td>\n",
              "    </tr>\n",
              "    <tr>\n",
              "      <th>6</th>\n",
              "      <td>upgrade isort</td>\n",
              "      <td>using isort pypi org project isort latest migh...</td>\n",
              "      <td>[feature-refactoring, good first issue, needs ...</td>\n",
              "    </tr>\n",
              "  </tbody>\n",
              "</table>\n",
              "</div>"
            ],
            "text/plain": [
              "                                               title  \\\n",
              "0  error building package zlib windows static fai...   \n",
              "1                       pagination bug removing item   \n",
              "4              helm podantiaffinity templating error   \n",
              "5  tradingview quick chart resize honor limit values   \n",
              "6                                      upgrade isort   \n",
              "\n",
              "                                                body  \\\n",
              "0    package zlib windows static vcpkg version debug   \n",
              "1  reported pro user exemple table items per page...   \n",
              "4  describe bug helm charts fail generate proper ...   \n",
              "5  describe bug arrows tradingview chart size wor...   \n",
              "6  using isort pypi org project isort latest migh...   \n",
              "\n",
              "                                              labels  \n",
              "0                                      [needs-repro]  \n",
              "1                                      [enhancement]  \n",
              "4                                [area/environments]  \n",
              "5  [[1b] User Story, [3] Bug, [4c] High Priority,...  \n",
              "6  [feature-refactoring, good first issue, needs ...  "
            ]
          },
          "metadata": {
            "tags": []
          },
          "execution_count": 30
        }
      ]
    },
    {
      "cell_type": "code",
      "metadata": {
        "id": "MJqu-h1vJJzo",
        "colab_type": "code",
        "outputId": "28464bf9-59e6-4686-852e-d190bd1952bb",
        "colab": {
          "base_uri": "https://localhost:8080/",
          "height": 1000
        }
      },
      "source": [
        "freq_words(data['body'])"
      ],
      "execution_count": 34,
      "outputs": [
        {
          "output_type": "display_data",
          "data": {
            "image/png": "[encoded data removed]",
            "text/plain": [
              "<Figure size 864x1728 with 1 Axes>"
            ]
          },
          "metadata": {
            "tags": [],
            "needs_background": "light"
          }
        }
      ]
    },
    {
      "cell_type": "code",
      "metadata": {
        "id": "WZy6goTuJJzu",
        "colab_type": "code",
        "outputId": "a3a09be5-cb4e-4f5a-a5ab-0297c554a038",
        "colab": {
          "base_uri": "https://localhost:8080/",
          "height": 1000
        }
      },
      "source": [
        "freq_words(data['title'])"
      ],
      "execution_count": 35,
      "outputs": [
        {
          "output_type": "display_data",
          "data": {
            "image/png": "[encoded data removed]",
            "text/plain": [
              "<Figure size 864x1728 with 1 Axes>"
            ]
          },
          "metadata": {
            "tags": [],
            "needs_background": "light"
          }
        }
      ]
    },
    {
      "cell_type": "code",
      "metadata": {
        "id": "791tBFbTJJzy",
        "colab_type": "code",
        "outputId": "7769996b-9e9a-41d8-b86d-ed8904d90f3f",
        "colab": {
          "base_uri": "https://localhost:8080/",
          "height": 204
        }
      },
      "source": [
        "data.head()"
      ],
      "execution_count": 36,
      "outputs": [
        {
          "output_type": "execute_result",
          "data": {
            "text/html": [
              "<div>\n",
              "<style scoped>\n",
              "    .dataframe tbody tr th:only-of-type {\n",
              "        vertical-align: middle;\n",
              "    }\n",
              "\n",
              "    .dataframe tbody tr th {\n",
              "        vertical-align: top;\n",
              "    }\n",
              "\n",
              "    .dataframe thead th {\n",
              "        text-align: right;\n",
              "    }\n",
              "</style>\n",
              "<table border=\"1\" class=\"dataframe\">\n",
              "  <thead>\n",
              "    <tr style=\"text-align: right;\">\n",
              "      <th></th>\n",
              "      <th>title</th>\n",
              "      <th>body</th>\n",
              "      <th>labels</th>\n",
              "    </tr>\n",
              "  </thead>\n",
              "  <tbody>\n",
              "    <tr>\n",
              "      <th>0</th>\n",
              "      <td>error building package zlib windows static fai...</td>\n",
              "      <td>package zlib windows static vcpkg version debug</td>\n",
              "      <td>[needs-repro]</td>\n",
              "    </tr>\n",
              "    <tr>\n",
              "      <th>1</th>\n",
              "      <td>pagination bug removing item</td>\n",
              "      <td>reported pro user exemple table items per page...</td>\n",
              "      <td>[enhancement]</td>\n",
              "    </tr>\n",
              "    <tr>\n",
              "      <th>4</th>\n",
              "      <td>helm podantiaffinity templating error</td>\n",
              "      <td>describe bug helm charts fail generate proper ...</td>\n",
              "      <td>[area/environments]</td>\n",
              "    </tr>\n",
              "    <tr>\n",
              "      <th>5</th>\n",
              "      <td>tradingview quick chart resize honor limit values</td>\n",
              "      <td>describe bug arrows tradingview chart size wor...</td>\n",
              "      <td>[[1b] User Story, [3] Bug, [4c] High Priority,...</td>\n",
              "    </tr>\n",
              "    <tr>\n",
              "      <th>6</th>\n",
              "      <td>upgrade isort</td>\n",
              "      <td>using isort pypi org project isort latest migh...</td>\n",
              "      <td>[feature-refactoring, good first issue, needs ...</td>\n",
              "    </tr>\n",
              "  </tbody>\n",
              "</table>\n",
              "</div>"
            ],
            "text/plain": [
              "                                               title  \\\n",
              "0  error building package zlib windows static fai...   \n",
              "1                       pagination bug removing item   \n",
              "4              helm podantiaffinity templating error   \n",
              "5  tradingview quick chart resize honor limit values   \n",
              "6                                      upgrade isort   \n",
              "\n",
              "                                                body  \\\n",
              "0    package zlib windows static vcpkg version debug   \n",
              "1  reported pro user exemple table items per page...   \n",
              "4  describe bug helm charts fail generate proper ...   \n",
              "5  describe bug arrows tradingview chart size wor...   \n",
              "6  using isort pypi org project isort latest migh...   \n",
              "\n",
              "                                              labels  \n",
              "0                                      [needs-repro]  \n",
              "1                                      [enhancement]  \n",
              "4                                [area/environments]  \n",
              "5  [[1b] User Story, [3] Bug, [4c] High Priority,...  \n",
              "6  [feature-refactoring, good first issue, needs ...  "
            ]
          },
          "metadata": {
            "tags": []
          },
          "execution_count": 36
        }
      ]
    },
    {
      "cell_type": "code",
      "metadata": {
        "colab_type": "code",
        "id": "_tBgzPbmaEzq",
        "colab": {}
      },
      "source": [
        "#Labels of different issues are in different forms as they are created manually\n",
        "#Need to bring all in same shape to get proper count\n",
        "\n",
        "def clean_label(l):\n",
        "    s=','.join(l) # convert list to string\n",
        "    s=re.sub(r'\\[[^\\]]*\\]','',s) # remove everything within []\n",
        "    s=re.sub('[^a-zA-Z\\,]',' ',s) # remove everything but letters and comma\n",
        "    s=' '.join(s.split()) # remove extra spaces\n",
        "    s=s.lower() # to lowercase\n",
        "    lst=s.split(',')\n",
        "    return [lb.strip() for lb in lst] #strip spaces"
      ],
      "execution_count": 0,
      "outputs": []
    },
    {
      "cell_type": "code",
      "metadata": {
        "colab_type": "code",
        "id": "b7hoD_aSaSuI",
        "colab": {}
      },
      "source": [
        "data['clean_lbl']=data['labels'].apply(lambda x: clean_label(x))"
      ],
      "execution_count": 0,
      "outputs": []
    },
    {
      "cell_type": "code",
      "metadata": {
        "colab_type": "code",
        "id": "8aVtf_xwalQL",
        "outputId": "7396bc71-8e80-4062-bc61-e717d57d7290",
        "colab": {
          "base_uri": "https://localhost:8080/",
          "height": 289
        }
      },
      "source": [
        "data.head()"
      ],
      "execution_count": 39,
      "outputs": [
        {
          "output_type": "execute_result",
          "data": {
            "text/html": [
              "<div>\n",
              "<style scoped>\n",
              "    .dataframe tbody tr th:only-of-type {\n",
              "        vertical-align: middle;\n",
              "    }\n",
              "\n",
              "    .dataframe tbody tr th {\n",
              "        vertical-align: top;\n",
              "    }\n",
              "\n",
              "    .dataframe thead th {\n",
              "        text-align: right;\n",
              "    }\n",
              "</style>\n",
              "<table border=\"1\" class=\"dataframe\">\n",
              "  <thead>\n",
              "    <tr style=\"text-align: right;\">\n",
              "      <th></th>\n",
              "      <th>title</th>\n",
              "      <th>body</th>\n",
              "      <th>labels</th>\n",
              "      <th>clean_lbl</th>\n",
              "    </tr>\n",
              "  </thead>\n",
              "  <tbody>\n",
              "    <tr>\n",
              "      <th>0</th>\n",
              "      <td>error building package zlib windows static fai...</td>\n",
              "      <td>package zlib windows static vcpkg version debug</td>\n",
              "      <td>[needs-repro]</td>\n",
              "      <td>[needs repro]</td>\n",
              "    </tr>\n",
              "    <tr>\n",
              "      <th>1</th>\n",
              "      <td>pagination bug removing item</td>\n",
              "      <td>reported pro user exemple table items per page...</td>\n",
              "      <td>[enhancement]</td>\n",
              "      <td>[enhancement]</td>\n",
              "    </tr>\n",
              "    <tr>\n",
              "      <th>4</th>\n",
              "      <td>helm podantiaffinity templating error</td>\n",
              "      <td>describe bug helm charts fail generate proper ...</td>\n",
              "      <td>[area/environments]</td>\n",
              "      <td>[area environments]</td>\n",
              "    </tr>\n",
              "    <tr>\n",
              "      <th>5</th>\n",
              "      <td>tradingview quick chart resize honor limit values</td>\n",
              "      <td>describe bug arrows tradingview chart size wor...</td>\n",
              "      <td>[[1b] User Story, [3] Bug, [4c] High Priority,...</td>\n",
              "      <td>[user story, bug, high priority, tiny, rc bloc...</td>\n",
              "    </tr>\n",
              "    <tr>\n",
              "      <th>6</th>\n",
              "      <td>upgrade isort</td>\n",
              "      <td>using isort pypi org project isort latest migh...</td>\n",
              "      <td>[feature-refactoring, good first issue, needs ...</td>\n",
              "      <td>[feature refactoring, good first issue, needs ...</td>\n",
              "    </tr>\n",
              "  </tbody>\n",
              "</table>\n",
              "</div>"
            ],
            "text/plain": [
              "                                               title  \\\n",
              "0  error building package zlib windows static fai...   \n",
              "1                       pagination bug removing item   \n",
              "4              helm podantiaffinity templating error   \n",
              "5  tradingview quick chart resize honor limit values   \n",
              "6                                      upgrade isort   \n",
              "\n",
              "                                                body  \\\n",
              "0    package zlib windows static vcpkg version debug   \n",
              "1  reported pro user exemple table items per page...   \n",
              "4  describe bug helm charts fail generate proper ...   \n",
              "5  describe bug arrows tradingview chart size wor...   \n",
              "6  using isort pypi org project isort latest migh...   \n",
              "\n",
              "                                              labels  \\\n",
              "0                                      [needs-repro]   \n",
              "1                                      [enhancement]   \n",
              "4                                [area/environments]   \n",
              "5  [[1b] User Story, [3] Bug, [4c] High Priority,...   \n",
              "6  [feature-refactoring, good first issue, needs ...   \n",
              "\n",
              "                                           clean_lbl  \n",
              "0                                      [needs repro]  \n",
              "1                                      [enhancement]  \n",
              "4                                [area environments]  \n",
              "5  [user story, bug, high priority, tiny, rc bloc...  \n",
              "6  [feature refactoring, good first issue, needs ...  "
            ]
          },
          "metadata": {
            "tags": []
          },
          "execution_count": 39
        }
      ]
    },
    {
      "cell_type": "code",
      "metadata": {
        "id": "-3BDvel1JJ0A",
        "colab_type": "code",
        "colab": {}
      },
      "source": [
        "#get all labels in a single list\n",
        "l=[]\n",
        "for i in data['clean_lbl']:\n",
        "    l.append(i)"
      ],
      "execution_count": 0,
      "outputs": []
    },
    {
      "cell_type": "code",
      "metadata": {
        "id": "2uX8VhGfJJ0H",
        "colab_type": "code",
        "outputId": "4250ce7c-40d3-4b75-820f-a0cb2dc2f5b4",
        "colab": {
          "base_uri": "https://localhost:8080/",
          "height": 102
        }
      },
      "source": [
        "l[:5]"
      ],
      "execution_count": 50,
      "outputs": [
        {
          "output_type": "execute_result",
          "data": {
            "text/plain": [
              "[['needs repro'],\n",
              " ['enhancement'],\n",
              " ['area environments'],\n",
              " ['user story', 'bug', 'high priority', 'tiny', 'rc blockage', 'estimated'],\n",
              " ['feature refactoring', 'good first issue', 'needs pr', 'type code health']]"
            ]
          },
          "metadata": {
            "tags": []
          },
          "execution_count": 50
        }
      ]
    },
    {
      "cell_type": "code",
      "metadata": {
        "id": "qGnrjKmaJJ0M",
        "colab_type": "code",
        "colab": {}
      },
      "source": [
        "#Count frequency of labels\n",
        "count={}\n",
        "for y in l:  \n",
        "    for x in y:\n",
        "        if x not in count:\n",
        "            count[x]=1\n",
        "        else:\n",
        "            count[x]+=1\n",
        "d = collections.Counter(count)\n",
        "freq=[]\n",
        "for w,c in d.most_common(2502):\n",
        "    freq.append([w,c])"
      ],
      "execution_count": 0,
      "outputs": []
    },
    {
      "cell_type": "code",
      "metadata": {
        "id": "fBZOuopzJJ0Q",
        "colab_type": "code",
        "outputId": "eb69c059-8385-47cd-f09c-3fc97a8fe3c7",
        "colab": {
          "base_uri": "https://localhost:8080/",
          "height": 867
        }
      },
      "source": [
        "#top 50 frequent labels\n",
        "freq[:50]"
      ],
      "execution_count": 52,
      "outputs": [
        {
          "output_type": "execute_result",
          "data": {
            "text/plain": [
              "[['bug', 1671],\n",
              " ['enhancement', 1305],\n",
              " ['question', 325],\n",
              " ['help wanted', 262],\n",
              " ['good first issue', 195],\n",
              " ['type bug', 190],\n",
              " ['', 179],\n",
              " ['feature', 166],\n",
              " ['wontfix', 128],\n",
              " ['stale', 120],\n",
              " ['in progress', 113],\n",
              " ['p', 102],\n",
              " ['greenkeeper', 95],\n",
              " ['triaged', 85],\n",
              " ['priority high', 83],\n",
              " ['documentation', 80],\n",
              " ['feature request', 77],\n",
              " ['type enhancement', 69],\n",
              " ['task', 67],\n",
              " ['priority medium', 66],\n",
              " ['duplicate', 66],\n",
              " ['invalid', 63],\n",
              " ['user submission', 59],\n",
              " ['kind bug', 54],\n",
              " ['high priority', 48],\n",
              " ['frontend', 48],\n",
              " ['ui', 45],\n",
              " ['fixed', 44],\n",
              " ['epic', 43],\n",
              " ['p medium', 42],\n",
              " ['priority', 42],\n",
              " ['priority low', 41],\n",
              " ['assigned to author', 41],\n",
              " ['priority p', 40],\n",
              " ['docs', 39],\n",
              " ['sprint', 39],\n",
              " ['n adguard browser extension', 38],\n",
              " ['review', 38],\n",
              " ['new version', 38],\n",
              " ['design', 36],\n",
              " ['type feature', 36],\n",
              " ['v', 34],\n",
              " ['backend', 32],\n",
              " ['needs more info', 32],\n",
              " ['discussion', 30],\n",
              " ['priority critical', 30],\n",
              " ['api', 29],\n",
              " ['engine gecko', 29],\n",
              " ['version', 28],\n",
              " ['support', 26]]"
            ]
          },
          "metadata": {
            "tags": []
          },
          "execution_count": 52
        }
      ]
    },
    {
      "cell_type": "code",
      "metadata": {
        "colab_type": "code",
        "id": "hOFm2ZqWc_tJ",
        "colab": {}
      },
      "source": [
        "#\"type bug\",\"kind bug\" & \"bug fix\" are same, need to make them all as \"bug\"\n",
        "#Same thing applies for other labels. Using multiple string replaces for the same purpose\n",
        "lbls=[]\n",
        "for i in l:\n",
        "    i=[w.replace('type bug','bug').replace('kind bug','bug').replace('bug fix','bug').replace('bug bug','bug')\n",
        "       .replace('c enhancement','enhancement').replace('doenhancement','enhancement').replace('type enhancement','enhancement')\n",
        "       .replace('kind enhancement','enhancement').replace('improvement','enhancement').replace('suggestion','enhancement')\n",
        "       .replace('t be enhancement','enhancement').replace('t fe enhancement','enhancement')\n",
        "       .replace('feature request','feature').replace('new feature','feature').replace('type feature','feature')\n",
        "       .replace('kind feature','feature').replace('feature refactoring','feature')\n",
        "       .replace('priority high','highpriority').replace('priority critical','highpriority').replace('priority p','highpriority')\n",
        "       .replace('high priority','highpriority').replace('p high','highpriority').replace('priority important','highpriority')\n",
        "       .replace('priority medium','mediumpriority').replace('medium priority','mediumpriority')\n",
        "       .replace('priority med','mediumpriority').replace('p medium','mediumpriority')\n",
        "       .replace('low priority','lowpriority').replace('priority low','lowpriority')\n",
        "       .replace('type question','question').replace('kind question','question')\n",
        "       .replace('type support','support').replace('help wanted','helpwanted')\n",
        "       .replace('docs','documentation').replace('documentation needed','documentation').replace('type documentation','documentation')\n",
        "       .replace('type task','task').replace('front end','frontend')\n",
        "       .replace('type helpwanted','helpwanted').replace('in review','review').replace('triaged','triage') for w in i]\n",
        "    lbls.append(i)"
      ],
      "execution_count": 0,
      "outputs": []
    },
    {
      "cell_type": "code",
      "metadata": {
        "colab_type": "code",
        "id": "7_Qj0BHw38vb",
        "colab": {}
      },
      "source": [
        "count={}\n",
        "for y in lbls:\n",
        "    for x in y:\n",
        "        if x not in count:\n",
        "            count[x]=1\n",
        "        else:\n",
        "            count[x]+=1\n",
        "d = collections.Counter(count)\n",
        "freq=[]\n",
        "for w,c in d.most_common():\n",
        "    freq.append([w,c])"
      ],
      "execution_count": 0,
      "outputs": []
    },
    {
      "cell_type": "code",
      "metadata": {
        "colab_type": "code",
        "id": "M3m0Zpz3ApX9",
        "outputId": "187b31eb-25bc-4219-ff6c-34b459b18396",
        "colab": {
          "base_uri": "https://localhost:8080/",
          "height": 867
        }
      },
      "source": [
        "freq[:50]"
      ],
      "execution_count": 55,
      "outputs": [
        {
          "output_type": "execute_result",
          "data": {
            "text/plain": [
              "[['bug', 1936],\n",
              " ['enhancement', 1446],\n",
              " ['question', 359],\n",
              " ['feature', 347],\n",
              " ['helpwanted', 268],\n",
              " ['highpriority', 244],\n",
              " ['good first issue', 195],\n",
              " ['', 179],\n",
              " ['documentation', 140],\n",
              " ['mediumpriority', 134],\n",
              " ['wontfix', 128],\n",
              " ['stale', 120],\n",
              " ['in progress', 113],\n",
              " ['triage', 111],\n",
              " ['p', 102],\n",
              " ['greenkeeper', 95],\n",
              " ['task', 77],\n",
              " ['frontend', 74],\n",
              " ['duplicate', 66],\n",
              " ['lowpriority', 64],\n",
              " ['invalid', 63],\n",
              " ['user submission', 59],\n",
              " ['review', 56],\n",
              " ['ui', 45],\n",
              " ['support', 44],\n",
              " ['fixed', 44],\n",
              " ['epic', 43],\n",
              " ['priority', 42],\n",
              " ['assigned to author', 41],\n",
              " ['sprint', 39],\n",
              " ['n adguard browser extension', 38],\n",
              " ['new version', 38],\n",
              " ['design', 36],\n",
              " ['v', 34],\n",
              " ['backend', 32],\n",
              " ['needs more info', 32],\n",
              " ['discussion', 30],\n",
              " ['api', 29],\n",
              " ['engine gecko', 29],\n",
              " ['version', 28],\n",
              " ['ready', 26],\n",
              " ['browser firefox', 26],\n",
              " ['cxp', 26],\n",
              " ['browser firefox mobile', 26],\n",
              " ['backlog', 25],\n",
              " ['a resolved', 24],\n",
              " ['todo', 23],\n",
              " ['user story', 21],\n",
              " ['doc bug', 21],\n",
              " ['t anti adblock script', 21]]"
            ]
          },
          "metadata": {
            "tags": []
          },
          "execution_count": 55
        }
      ]
    },
    {
      "cell_type": "code",
      "metadata": {
        "id": "Fi3yCX7GQtdj",
        "colab_type": "code",
        "colab": {}
      },
      "source": [
        "#feature and enhancement are same hence using single word enhancement\n",
        "lbls1=[]\n",
        "for i in lbls:\n",
        "    i=[w.replace('feature','enhancement')\n",
        "        for w in i]\n",
        "    lbls1.append(i)"
      ],
      "execution_count": 0,
      "outputs": []
    },
    {
      "cell_type": "code",
      "metadata": {
        "id": "sx9iZu4dQtAA",
        "colab_type": "code",
        "colab": {}
      },
      "source": [
        "count={}\n",
        "for y in lbls1:\n",
        "    for x in y:\n",
        "        if x not in count:\n",
        "            count[x]=1\n",
        "        else:\n",
        "            count[x]+=1\n",
        "d = collections.Counter(count)\n",
        "freq=[]\n",
        "for w,c in d.most_common():\n",
        "    freq.append([w,c])"
      ],
      "execution_count": 0,
      "outputs": []
    },
    {
      "cell_type": "code",
      "metadata": {
        "id": "mSvVNEAzSGsa",
        "colab_type": "code",
        "colab": {
          "base_uri": "https://localhost:8080/",
          "height": 867
        },
        "outputId": "c446736e-61c3-4a65-feb3-31666b6f06fb"
      },
      "source": [
        "freq[:50]"
      ],
      "execution_count": 58,
      "outputs": [
        {
          "output_type": "execute_result",
          "data": {
            "text/plain": [
              "[['bug', 1936],\n",
              " ['enhancement', 1793],\n",
              " ['question', 359],\n",
              " ['helpwanted', 268],\n",
              " ['highpriority', 244],\n",
              " ['good first issue', 195],\n",
              " ['', 179],\n",
              " ['documentation', 140],\n",
              " ['mediumpriority', 134],\n",
              " ['wontfix', 128],\n",
              " ['stale', 120],\n",
              " ['in progress', 113],\n",
              " ['triage', 111],\n",
              " ['p', 102],\n",
              " ['greenkeeper', 95],\n",
              " ['task', 77],\n",
              " ['frontend', 74],\n",
              " ['duplicate', 66],\n",
              " ['lowpriority', 64],\n",
              " ['invalid', 63],\n",
              " ['user submission', 59],\n",
              " ['review', 56],\n",
              " ['ui', 45],\n",
              " ['support', 44],\n",
              " ['fixed', 44],\n",
              " ['epic', 43],\n",
              " ['priority', 42],\n",
              " ['assigned to author', 41],\n",
              " ['sprint', 39],\n",
              " ['n adguard browser extension', 38],\n",
              " ['new version', 38],\n",
              " ['design', 36],\n",
              " ['v', 34],\n",
              " ['backend', 32],\n",
              " ['needs more info', 32],\n",
              " ['discussion', 30],\n",
              " ['api', 29],\n",
              " ['engine gecko', 29],\n",
              " ['version', 28],\n",
              " ['ready', 26],\n",
              " ['browser firefox', 26],\n",
              " ['cxp', 26],\n",
              " ['browser firefox mobile', 26],\n",
              " ['backlog', 25],\n",
              " ['a resolved', 24],\n",
              " ['todo', 23],\n",
              " ['user story', 21],\n",
              " ['doc bug', 21],\n",
              " ['t anti adblock script', 21],\n",
              " ['done', 21]]"
            ]
          },
          "metadata": {
            "tags": []
          },
          "execution_count": 58
        }
      ]
    },
    {
      "cell_type": "code",
      "metadata": {
        "colab_type": "code",
        "id": "BPe3L7oeI5fn",
        "outputId": "68cf73e1-28b1-4c10-d6f3-563484796ff8",
        "colab": {
          "base_uri": "https://localhost:8080/",
          "height": 289
        }
      },
      "source": [
        "#add cleaned labels to the dataset\n",
        "data['lbls_clean']=lbls1\n",
        "data.head()"
      ],
      "execution_count": 61,
      "outputs": [
        {
          "output_type": "execute_result",
          "data": {
            "text/html": [
              "<div>\n",
              "<style scoped>\n",
              "    .dataframe tbody tr th:only-of-type {\n",
              "        vertical-align: middle;\n",
              "    }\n",
              "\n",
              "    .dataframe tbody tr th {\n",
              "        vertical-align: top;\n",
              "    }\n",
              "\n",
              "    .dataframe thead th {\n",
              "        text-align: right;\n",
              "    }\n",
              "</style>\n",
              "<table border=\"1\" class=\"dataframe\">\n",
              "  <thead>\n",
              "    <tr style=\"text-align: right;\">\n",
              "      <th></th>\n",
              "      <th>title</th>\n",
              "      <th>body</th>\n",
              "      <th>labels</th>\n",
              "      <th>clean_lbl</th>\n",
              "      <th>lbls_clean</th>\n",
              "    </tr>\n",
              "  </thead>\n",
              "  <tbody>\n",
              "    <tr>\n",
              "      <th>0</th>\n",
              "      <td>error building package zlib windows static fai...</td>\n",
              "      <td>package zlib windows static vcpkg version debug</td>\n",
              "      <td>[needs-repro]</td>\n",
              "      <td>[needs repro]</td>\n",
              "      <td>[needs repro]</td>\n",
              "    </tr>\n",
              "    <tr>\n",
              "      <th>1</th>\n",
              "      <td>pagination bug removing item</td>\n",
              "      <td>reported pro user exemple table items per page...</td>\n",
              "      <td>[enhancement]</td>\n",
              "      <td>[enhancement]</td>\n",
              "      <td>[enhancement]</td>\n",
              "    </tr>\n",
              "    <tr>\n",
              "      <th>4</th>\n",
              "      <td>helm podantiaffinity templating error</td>\n",
              "      <td>describe bug helm charts fail generate proper ...</td>\n",
              "      <td>[area/environments]</td>\n",
              "      <td>[area environments]</td>\n",
              "      <td>[area environments]</td>\n",
              "    </tr>\n",
              "    <tr>\n",
              "      <th>5</th>\n",
              "      <td>tradingview quick chart resize honor limit values</td>\n",
              "      <td>describe bug arrows tradingview chart size wor...</td>\n",
              "      <td>[[1b] User Story, [3] Bug, [4c] High Priority,...</td>\n",
              "      <td>[user story, bug, high priority, tiny, rc bloc...</td>\n",
              "      <td>[user story, bug, highpriority, tiny, rc block...</td>\n",
              "    </tr>\n",
              "    <tr>\n",
              "      <th>6</th>\n",
              "      <td>upgrade isort</td>\n",
              "      <td>using isort pypi org project isort latest migh...</td>\n",
              "      <td>[feature-refactoring, good first issue, needs ...</td>\n",
              "      <td>[feature refactoring, good first issue, needs ...</td>\n",
              "      <td>[enhancement, good first issue, needs pr, type...</td>\n",
              "    </tr>\n",
              "  </tbody>\n",
              "</table>\n",
              "</div>"
            ],
            "text/plain": [
              "                                               title  \\\n",
              "0  error building package zlib windows static fai...   \n",
              "1                       pagination bug removing item   \n",
              "4              helm podantiaffinity templating error   \n",
              "5  tradingview quick chart resize honor limit values   \n",
              "6                                      upgrade isort   \n",
              "\n",
              "                                                body  \\\n",
              "0    package zlib windows static vcpkg version debug   \n",
              "1  reported pro user exemple table items per page...   \n",
              "4  describe bug helm charts fail generate proper ...   \n",
              "5  describe bug arrows tradingview chart size wor...   \n",
              "6  using isort pypi org project isort latest migh...   \n",
              "\n",
              "                                              labels  \\\n",
              "0                                      [needs-repro]   \n",
              "1                                      [enhancement]   \n",
              "4                                [area/environments]   \n",
              "5  [[1b] User Story, [3] Bug, [4c] High Priority,...   \n",
              "6  [feature-refactoring, good first issue, needs ...   \n",
              "\n",
              "                                           clean_lbl  \\\n",
              "0                                      [needs repro]   \n",
              "1                                      [enhancement]   \n",
              "4                                [area environments]   \n",
              "5  [user story, bug, high priority, tiny, rc bloc...   \n",
              "6  [feature refactoring, good first issue, needs ...   \n",
              "\n",
              "                                          lbls_clean  \n",
              "0                                      [needs repro]  \n",
              "1                                      [enhancement]  \n",
              "4                                [area environments]  \n",
              "5  [user story, bug, highpriority, tiny, rc block...  \n",
              "6  [enhancement, good first issue, needs pr, type...  "
            ]
          },
          "metadata": {
            "tags": []
          },
          "execution_count": 61
        }
      ]
    },
    {
      "cell_type": "code",
      "metadata": {
        "colab_type": "code",
        "id": "vmEk4c4YI4db",
        "colab": {}
      },
      "source": [
        "#Not all labels can be taken for model building hence selecting\n",
        "#Important and some common labels of almost every repository\n",
        "selected_labels=['bug','enhancement','question','helpwanted','documentation','task','invalid','support','review','frontend']\n",
        "\n",
        "\n",
        "#Not all labels can be taken for model building\n",
        "#Selecting top 50 frequent labels\n",
        "#selected_labels=[]\n",
        "#for i in freq[:50]:\n",
        "#    selected_labels.append(i[0])"
      ],
      "execution_count": 0,
      "outputs": []
    },
    {
      "cell_type": "code",
      "metadata": {
        "id": "abWrZwyTJJ0s",
        "colab_type": "code",
        "outputId": "d07b710e-7ed5-48b8-96b5-1913b0b37ad1",
        "colab": {}
      },
      "source": [
        "#selected_labels[:5]"
      ],
      "execution_count": 0,
      "outputs": [
        {
          "output_type": "execute_result",
          "data": {
            "text/plain": [
              "['bug', 'enhancement', 'question', 'feature', 'highpriority']"
            ]
          },
          "metadata": {
            "tags": []
          },
          "execution_count": 46
        }
      ]
    },
    {
      "cell_type": "code",
      "metadata": {
        "colab_type": "code",
        "id": "rV29NoprMXZy",
        "outputId": "208f711d-8174-457c-85f2-ced2b4932954",
        "colab": {
          "base_uri": "https://localhost:8080/",
          "height": 204
        }
      },
      "source": [
        "dset=data[[\"title\",\"body\",\"lbls_clean\"]]\n",
        "dset.head()"
      ],
      "execution_count": 63,
      "outputs": [
        {
          "output_type": "execute_result",
          "data": {
            "text/html": [
              "<div>\n",
              "<style scoped>\n",
              "    .dataframe tbody tr th:only-of-type {\n",
              "        vertical-align: middle;\n",
              "    }\n",
              "\n",
              "    .dataframe tbody tr th {\n",
              "        vertical-align: top;\n",
              "    }\n",
              "\n",
              "    .dataframe thead th {\n",
              "        text-align: right;\n",
              "    }\n",
              "</style>\n",
              "<table border=\"1\" class=\"dataframe\">\n",
              "  <thead>\n",
              "    <tr style=\"text-align: right;\">\n",
              "      <th></th>\n",
              "      <th>title</th>\n",
              "      <th>body</th>\n",
              "      <th>lbls_clean</th>\n",
              "    </tr>\n",
              "  </thead>\n",
              "  <tbody>\n",
              "    <tr>\n",
              "      <th>0</th>\n",
              "      <td>error building package zlib windows static fai...</td>\n",
              "      <td>package zlib windows static vcpkg version debug</td>\n",
              "      <td>[needs repro]</td>\n",
              "    </tr>\n",
              "    <tr>\n",
              "      <th>1</th>\n",
              "      <td>pagination bug removing item</td>\n",
              "      <td>reported pro user exemple table items per page...</td>\n",
              "      <td>[enhancement]</td>\n",
              "    </tr>\n",
              "    <tr>\n",
              "      <th>4</th>\n",
              "      <td>helm podantiaffinity templating error</td>\n",
              "      <td>describe bug helm charts fail generate proper ...</td>\n",
              "      <td>[area environments]</td>\n",
              "    </tr>\n",
              "    <tr>\n",
              "      <th>5</th>\n",
              "      <td>tradingview quick chart resize honor limit values</td>\n",
              "      <td>describe bug arrows tradingview chart size wor...</td>\n",
              "      <td>[user story, bug, highpriority, tiny, rc block...</td>\n",
              "    </tr>\n",
              "    <tr>\n",
              "      <th>6</th>\n",
              "      <td>upgrade isort</td>\n",
              "      <td>using isort pypi org project isort latest migh...</td>\n",
              "      <td>[enhancement, good first issue, needs pr, type...</td>\n",
              "    </tr>\n",
              "  </tbody>\n",
              "</table>\n",
              "</div>"
            ],
            "text/plain": [
              "                                               title  \\\n",
              "0  error building package zlib windows static fai...   \n",
              "1                       pagination bug removing item   \n",
              "4              helm podantiaffinity templating error   \n",
              "5  tradingview quick chart resize honor limit values   \n",
              "6                                      upgrade isort   \n",
              "\n",
              "                                                body  \\\n",
              "0    package zlib windows static vcpkg version debug   \n",
              "1  reported pro user exemple table items per page...   \n",
              "4  describe bug helm charts fail generate proper ...   \n",
              "5  describe bug arrows tradingview chart size wor...   \n",
              "6  using isort pypi org project isort latest migh...   \n",
              "\n",
              "                                          lbls_clean  \n",
              "0                                      [needs repro]  \n",
              "1                                      [enhancement]  \n",
              "4                                [area environments]  \n",
              "5  [user story, bug, highpriority, tiny, rc block...  \n",
              "6  [enhancement, good first issue, needs pr, type...  "
            ]
          },
          "metadata": {
            "tags": []
          },
          "execution_count": 63
        }
      ]
    },
    {
      "cell_type": "code",
      "metadata": {
        "colab_type": "code",
        "id": "du-x6jM8QCsa",
        "outputId": "76761fb7-f65f-494d-e0e9-2d2a8381634f",
        "colab": {
          "base_uri": "https://localhost:8080/",
          "height": 481
        }
      },
      "source": [
        "#Keep only selected labels and remove others\n",
        "#each row is intersected with the selected_labels lists\n",
        "def intersection(lst1, lst2): \n",
        "    temp = set(lst2) \n",
        "    lst3 = [value for value in lst1 if value in temp] \n",
        "    return lst3\n",
        "\n",
        "dset['lbls_clean']=[intersection(selected_labels,i) for i in dset['lbls_clean']]\n",
        "dset.head(10)"
      ],
      "execution_count": 64,
      "outputs": [
        {
          "output_type": "stream",
          "text": [
            "/usr/local/lib/python3.6/dist-packages/ipykernel_launcher.py:6: SettingWithCopyWarning: \n",
            "A value is trying to be set on a copy of a slice from a DataFrame.\n",
            "Try using .loc[row_indexer,col_indexer] = value instead\n",
            "\n",
            "See the caveats in the documentation: https://pandas.pydata.org/pandas-docs/stable/user_guide/indexing.html#returning-a-view-versus-a-copy\n",
            "  \n"
          ],
          "name": "stderr"
        },
        {
          "output_type": "execute_result",
          "data": {
            "text/html": [
              "<div>\n",
              "<style scoped>\n",
              "    .dataframe tbody tr th:only-of-type {\n",
              "        vertical-align: middle;\n",
              "    }\n",
              "\n",
              "    .dataframe tbody tr th {\n",
              "        vertical-align: top;\n",
              "    }\n",
              "\n",
              "    .dataframe thead th {\n",
              "        text-align: right;\n",
              "    }\n",
              "</style>\n",
              "<table border=\"1\" class=\"dataframe\">\n",
              "  <thead>\n",
              "    <tr style=\"text-align: right;\">\n",
              "      <th></th>\n",
              "      <th>title</th>\n",
              "      <th>body</th>\n",
              "      <th>lbls_clean</th>\n",
              "    </tr>\n",
              "  </thead>\n",
              "  <tbody>\n",
              "    <tr>\n",
              "      <th>0</th>\n",
              "      <td>error building package zlib windows static fai...</td>\n",
              "      <td>package zlib windows static vcpkg version debug</td>\n",
              "      <td>[]</td>\n",
              "    </tr>\n",
              "    <tr>\n",
              "      <th>1</th>\n",
              "      <td>pagination bug removing item</td>\n",
              "      <td>reported pro user exemple table items per page...</td>\n",
              "      <td>[enhancement]</td>\n",
              "    </tr>\n",
              "    <tr>\n",
              "      <th>4</th>\n",
              "      <td>helm podantiaffinity templating error</td>\n",
              "      <td>describe bug helm charts fail generate proper ...</td>\n",
              "      <td>[]</td>\n",
              "    </tr>\n",
              "    <tr>\n",
              "      <th>5</th>\n",
              "      <td>tradingview quick chart resize honor limit values</td>\n",
              "      <td>describe bug arrows tradingview chart size wor...</td>\n",
              "      <td>[bug]</td>\n",
              "    </tr>\n",
              "    <tr>\n",
              "      <th>6</th>\n",
              "      <td>upgrade isort</td>\n",
              "      <td>using isort pypi org project isort latest migh...</td>\n",
              "      <td>[enhancement]</td>\n",
              "    </tr>\n",
              "    <tr>\n",
              "      <th>7</th>\n",
              "      <td>configurable window completion</td>\n",
              "      <td>fixed window completion given questionnaire co...</td>\n",
              "      <td>[enhancement]</td>\n",
              "    </tr>\n",
              "    <tr>\n",
              "      <th>8</th>\n",
              "      <td>telemetry add search counts baseline ping</td>\n",
              "      <td>follow github mozilla mobile fenix issues issu...</td>\n",
              "      <td>[]</td>\n",
              "    </tr>\n",
              "    <tr>\n",
              "      <th>9</th>\n",
              "      <td>sql show zone configuration table table name p...</td>\n",
              "      <td>describe problem partitioned table created rep...</td>\n",
              "      <td>[enhancement]</td>\n",
              "    </tr>\n",
              "    <tr>\n",
              "      <th>12</th>\n",
              "      <td>add ice snow melt flag general flag category</td>\n",
              "      <td>could useful cases</td>\n",
              "      <td>[enhancement]</td>\n",
              "    </tr>\n",
              "    <tr>\n",
              "      <th>13</th>\n",
              "      <td>vulnerability ddos get api projects</td>\n",
              "      <td>project apitestuat template apiv projectsgetqu...</td>\n",
              "      <td>[]</td>\n",
              "    </tr>\n",
              "  </tbody>\n",
              "</table>\n",
              "</div>"
            ],
            "text/plain": [
              "                                                title  \\\n",
              "0   error building package zlib windows static fai...   \n",
              "1                        pagination bug removing item   \n",
              "4               helm podantiaffinity templating error   \n",
              "5   tradingview quick chart resize honor limit values   \n",
              "6                                       upgrade isort   \n",
              "7                      configurable window completion   \n",
              "8           telemetry add search counts baseline ping   \n",
              "9   sql show zone configuration table table name p...   \n",
              "12       add ice snow melt flag general flag category   \n",
              "13                vulnerability ddos get api projects   \n",
              "\n",
              "                                                 body     lbls_clean  \n",
              "0     package zlib windows static vcpkg version debug             []  \n",
              "1   reported pro user exemple table items per page...  [enhancement]  \n",
              "4   describe bug helm charts fail generate proper ...             []  \n",
              "5   describe bug arrows tradingview chart size wor...          [bug]  \n",
              "6   using isort pypi org project isort latest migh...  [enhancement]  \n",
              "7   fixed window completion given questionnaire co...  [enhancement]  \n",
              "8   follow github mozilla mobile fenix issues issu...             []  \n",
              "9   describe problem partitioned table created rep...  [enhancement]  \n",
              "12                                 could useful cases  [enhancement]  \n",
              "13  project apitestuat template apiv projectsgetqu...             []  "
            ]
          },
          "metadata": {
            "tags": []
          },
          "execution_count": 64
        }
      ]
    },
    {
      "cell_type": "code",
      "metadata": {
        "colab_type": "code",
        "id": "mt2PBQniR_eR",
        "colab": {}
      },
      "source": [
        "#Selected labels resulted in some empty labels as many repositories do not have them\n",
        "def clean(s):\n",
        "    if len(s)==0:\n",
        "        s=np.nan\n",
        "    return s\n",
        "\n",
        "ldata=dset.copy(deep=True)   \n",
        "ldata['lbls_clean']=ldata['lbls_clean'].apply(lambda x: clean(x))\n",
        "ldata.dropna(inplace=True) #Removing empty-label rows"
      ],
      "execution_count": 0,
      "outputs": []
    },
    {
      "cell_type": "code",
      "metadata": {
        "colab_type": "code",
        "id": "irojrKu7YzaA",
        "outputId": "74594aec-7a80-45cc-a774-f2bc89801f8a",
        "colab": {
          "base_uri": "https://localhost:8080/",
          "height": 34
        }
      },
      "source": [
        "ldata.shape"
      ],
      "execution_count": 66,
      "outputs": [
        {
          "output_type": "execute_result",
          "data": {
            "text/plain": [
              "(4524, 3)"
            ]
          },
          "metadata": {
            "tags": []
          },
          "execution_count": 66
        }
      ]
    },
    {
      "cell_type": "code",
      "metadata": {
        "colab_type": "code",
        "id": "KL3Oqf_RYg6p",
        "colab": {}
      },
      "source": [
        "#rows having body and title with empty values are removed\n",
        "ldata=ldata[ldata['body']!=\"\"]\n",
        "ldata=ldata[ldata['title']!=\"\"]"
      ],
      "execution_count": 0,
      "outputs": []
    },
    {
      "cell_type": "code",
      "metadata": {
        "colab_type": "code",
        "id": "sxl_rR8dZ7af",
        "outputId": "77098e54-e38b-41eb-ccd8-964ed4b20301",
        "colab": {
          "base_uri": "https://localhost:8080/",
          "height": 34
        }
      },
      "source": [
        "#finally dataset is reduced to 2543 rows after cleaning and pre-processing\n",
        "ldata.shape"
      ],
      "execution_count": 68,
      "outputs": [
        {
          "output_type": "execute_result",
          "data": {
            "text/plain": [
              "(4040, 3)"
            ]
          },
          "metadata": {
            "tags": []
          },
          "execution_count": 68
        }
      ]
    },
    {
      "cell_type": "code",
      "metadata": {
        "id": "TLG3zhK_JJ1S",
        "colab_type": "code",
        "colab": {}
      },
      "source": [
        "ldata.reset_index(inplace=True,drop=True)"
      ],
      "execution_count": 0,
      "outputs": []
    },
    {
      "cell_type": "code",
      "metadata": {
        "id": "JTEgH9AaJJ1i",
        "colab_type": "code",
        "outputId": "20b77a30-bd8e-4edc-8e42-73b65d3cb928",
        "colab": {
          "base_uri": "https://localhost:8080/",
          "height": 204
        }
      },
      "source": [
        "ldata.head()"
      ],
      "execution_count": 70,
      "outputs": [
        {
          "output_type": "execute_result",
          "data": {
            "text/html": [
              "<div>\n",
              "<style scoped>\n",
              "    .dataframe tbody tr th:only-of-type {\n",
              "        vertical-align: middle;\n",
              "    }\n",
              "\n",
              "    .dataframe tbody tr th {\n",
              "        vertical-align: top;\n",
              "    }\n",
              "\n",
              "    .dataframe thead th {\n",
              "        text-align: right;\n",
              "    }\n",
              "</style>\n",
              "<table border=\"1\" class=\"dataframe\">\n",
              "  <thead>\n",
              "    <tr style=\"text-align: right;\">\n",
              "      <th></th>\n",
              "      <th>title</th>\n",
              "      <th>body</th>\n",
              "      <th>lbls_clean</th>\n",
              "    </tr>\n",
              "  </thead>\n",
              "  <tbody>\n",
              "    <tr>\n",
              "      <th>0</th>\n",
              "      <td>pagination bug removing item</td>\n",
              "      <td>reported pro user exemple table items per page...</td>\n",
              "      <td>[enhancement]</td>\n",
              "    </tr>\n",
              "    <tr>\n",
              "      <th>1</th>\n",
              "      <td>tradingview quick chart resize honor limit values</td>\n",
              "      <td>describe bug arrows tradingview chart size wor...</td>\n",
              "      <td>[bug]</td>\n",
              "    </tr>\n",
              "    <tr>\n",
              "      <th>2</th>\n",
              "      <td>upgrade isort</td>\n",
              "      <td>using isort pypi org project isort latest migh...</td>\n",
              "      <td>[enhancement]</td>\n",
              "    </tr>\n",
              "    <tr>\n",
              "      <th>3</th>\n",
              "      <td>configurable window completion</td>\n",
              "      <td>fixed window completion given questionnaire co...</td>\n",
              "      <td>[enhancement]</td>\n",
              "    </tr>\n",
              "    <tr>\n",
              "      <th>4</th>\n",
              "      <td>sql show zone configuration table table name p...</td>\n",
              "      <td>describe problem partitioned table created rep...</td>\n",
              "      <td>[enhancement]</td>\n",
              "    </tr>\n",
              "  </tbody>\n",
              "</table>\n",
              "</div>"
            ],
            "text/plain": [
              "                                               title  \\\n",
              "0                       pagination bug removing item   \n",
              "1  tradingview quick chart resize honor limit values   \n",
              "2                                      upgrade isort   \n",
              "3                     configurable window completion   \n",
              "4  sql show zone configuration table table name p...   \n",
              "\n",
              "                                                body     lbls_clean  \n",
              "0  reported pro user exemple table items per page...  [enhancement]  \n",
              "1  describe bug arrows tradingview chart size wor...          [bug]  \n",
              "2  using isort pypi org project isort latest migh...  [enhancement]  \n",
              "3  fixed window completion given questionnaire co...  [enhancement]  \n",
              "4  describe problem partitioned table created rep...  [enhancement]  "
            ]
          },
          "metadata": {
            "tags": []
          },
          "execution_count": 70
        }
      ]
    },
    {
      "cell_type": "markdown",
      "metadata": {
        "id": "evtk401VJJ1l",
        "colab_type": "text"
      },
      "source": [
        "### Model Building"
      ]
    },
    {
      "cell_type": "code",
      "metadata": {
        "id": "2hHRI3mUJJ1l",
        "colab_type": "code",
        "colab": {}
      },
      "source": [
        "from sklearn.preprocessing import MultiLabelBinarizer"
      ],
      "execution_count": 0,
      "outputs": []
    },
    {
      "cell_type": "code",
      "metadata": {
        "id": "_d3oSY9zJJ1o",
        "colab_type": "code",
        "colab": {}
      },
      "source": [
        "mb=MultiLabelBinarizer()"
      ],
      "execution_count": 0,
      "outputs": []
    },
    {
      "cell_type": "code",
      "metadata": {
        "id": "cSQWe4khJJ1r",
        "colab_type": "code",
        "outputId": "f9fcad22-4a09-44f6-a486-90b71bf782ee",
        "colab": {
          "base_uri": "https://localhost:8080/",
          "height": 34
        }
      },
      "source": [
        "mb.fit(ldata['lbls_clean'])"
      ],
      "execution_count": 73,
      "outputs": [
        {
          "output_type": "execute_result",
          "data": {
            "text/plain": [
              "MultiLabelBinarizer(classes=None, sparse_output=False)"
            ]
          },
          "metadata": {
            "tags": []
          },
          "execution_count": 73
        }
      ]
    },
    {
      "cell_type": "code",
      "metadata": {
        "id": "bmlfzsoVJJ1t",
        "colab_type": "code",
        "colab": {}
      },
      "source": [
        "y=mb.transform(ldata['lbls_clean'])"
      ],
      "execution_count": 0,
      "outputs": []
    },
    {
      "cell_type": "code",
      "metadata": {
        "id": "Adwx7ZokJJ1y",
        "colab_type": "code",
        "outputId": "49a0296f-3782-4968-8cd1-86d85a57c4c1",
        "colab": {
          "base_uri": "https://localhost:8080/",
          "height": 136
        }
      },
      "source": [
        "y"
      ],
      "execution_count": 75,
      "outputs": [
        {
          "output_type": "execute_result",
          "data": {
            "text/plain": [
              "array([[0, 0, 1, ..., 0, 0, 0],\n",
              "       [1, 0, 0, ..., 0, 0, 0],\n",
              "       [0, 0, 1, ..., 0, 0, 0],\n",
              "       ...,\n",
              "       [1, 0, 0, ..., 0, 0, 0],\n",
              "       [0, 0, 1, ..., 0, 0, 0],\n",
              "       [0, 0, 0, ..., 0, 0, 0]])"
            ]
          },
          "metadata": {
            "tags": []
          },
          "execution_count": 75
        }
      ]
    },
    {
      "cell_type": "code",
      "metadata": {
        "id": "vS1h8abbJJ11",
        "colab_type": "code",
        "colab": {}
      },
      "source": [
        "from sklearn.feature_extraction.text import TfidfVectorizer"
      ],
      "execution_count": 0,
      "outputs": []
    },
    {
      "cell_type": "code",
      "metadata": {
        "id": "tVEfjh8IJJ14",
        "colab_type": "code",
        "colab": {}
      },
      "source": [
        "tfidf=TfidfVectorizer(max_features=100)"
      ],
      "execution_count": 0,
      "outputs": []
    },
    {
      "cell_type": "code",
      "metadata": {
        "id": "BpWDhvFvJJ17",
        "colab_type": "code",
        "colab": {}
      },
      "source": [
        "from sklearn.model_selection import train_test_split"
      ],
      "execution_count": 0,
      "outputs": []
    },
    {
      "cell_type": "code",
      "metadata": {
        "id": "xecq9g9XJJ1-",
        "colab_type": "code",
        "colab": {}
      },
      "source": [
        "X_train, X_test, y_train, y_test = train_test_split(ldata['body'], y, test_size=0.33, random_state=42)"
      ],
      "execution_count": 0,
      "outputs": []
    },
    {
      "cell_type": "code",
      "metadata": {
        "id": "HwRTD2dJJJ2C",
        "colab_type": "code",
        "colab": {}
      },
      "source": [
        "xtrain_tfidf=tfidf.fit_transform(X_train)\n",
        "xtest_tfidf=tfidf.transform(X_test)"
      ],
      "execution_count": 0,
      "outputs": []
    },
    {
      "cell_type": "code",
      "metadata": {
        "id": "HvDJyOM4JJ2F",
        "colab_type": "code",
        "colab": {}
      },
      "source": [
        "from sklearn.linear_model import LogisticRegression\n",
        "from sklearn.multiclass import OneVsRestClassifier\n",
        "from sklearn.metrics import f1_score"
      ],
      "execution_count": 0,
      "outputs": []
    },
    {
      "cell_type": "code",
      "metadata": {
        "id": "k5bNIba5JJ2H",
        "colab_type": "code",
        "colab": {}
      },
      "source": [
        "lr=LogisticRegression()\n",
        "clf=OneVsRestClassifier(lr)"
      ],
      "execution_count": 0,
      "outputs": []
    },
    {
      "cell_type": "code",
      "metadata": {
        "id": "5_ExMapYJJ2K",
        "colab_type": "code",
        "outputId": "c78f0648-6867-41e8-e7ed-dd9b43ac0688",
        "colab": {
          "base_uri": "https://localhost:8080/",
          "height": 187
        }
      },
      "source": [
        "clf.fit(xtrain_tfidf,y_train)"
      ],
      "execution_count": 83,
      "outputs": [
        {
          "output_type": "execute_result",
          "data": {
            "text/plain": [
              "OneVsRestClassifier(estimator=LogisticRegression(C=1.0, class_weight=None,\n",
              "                                                 dual=False, fit_intercept=True,\n",
              "                                                 intercept_scaling=1,\n",
              "                                                 l1_ratio=None, max_iter=100,\n",
              "                                                 multi_class='auto',\n",
              "                                                 n_jobs=None, penalty='l2',\n",
              "                                                 random_state=None,\n",
              "                                                 solver='lbfgs', tol=0.0001,\n",
              "                                                 verbose=0, warm_start=False),\n",
              "                    n_jobs=None)"
            ]
          },
          "metadata": {
            "tags": []
          },
          "execution_count": 83
        }
      ]
    },
    {
      "cell_type": "code",
      "metadata": {
        "id": "PgXRsTsJJJ2N",
        "colab_type": "code",
        "colab": {}
      },
      "source": [
        "pred=clf.predict(xtest_tfidf)"
      ],
      "execution_count": 0,
      "outputs": []
    },
    {
      "cell_type": "code",
      "metadata": {
        "id": "MUzzSknlJJ2P",
        "colab_type": "code",
        "outputId": "c8e640f3-0a0b-4bca-9c3a-f64da73330e8",
        "colab": {
          "base_uri": "https://localhost:8080/",
          "height": 34
        }
      },
      "source": [
        "pred[5]"
      ],
      "execution_count": 85,
      "outputs": [
        {
          "output_type": "execute_result",
          "data": {
            "text/plain": [
              "array([0, 0, 0, 0, 0, 0, 0, 0, 0, 0])"
            ]
          },
          "metadata": {
            "tags": []
          },
          "execution_count": 85
        }
      ]
    },
    {
      "cell_type": "code",
      "metadata": {
        "id": "KSWN1gLJJJ2V",
        "colab_type": "code",
        "outputId": "d54f2629-4843-4f9f-c6be-6c9b46f8a22b",
        "colab": {
          "base_uri": "https://localhost:8080/",
          "height": 51
        }
      },
      "source": [
        "print(\"predicted:\",mb.inverse_transform(pred)[250])\n",
        "print(\"actual:\",mb.inverse_transform(y_test)[250])"
      ],
      "execution_count": 95,
      "outputs": [
        {
          "output_type": "stream",
          "text": [
            "predicted: ('enhancement',)\n",
            "actual: ('enhancement',)\n"
          ],
          "name": "stdout"
        }
      ]
    },
    {
      "cell_type": "code",
      "metadata": {
        "id": "Hde49q7vJJ2b",
        "colab_type": "code",
        "outputId": "786e2782-2a9a-4750-c2bc-58ca2b77c905",
        "colab": {
          "base_uri": "https://localhost:8080/",
          "height": 34
        }
      },
      "source": [
        "f1_score(y_test,pred,average=\"micro\")"
      ],
      "execution_count": 87,
      "outputs": [
        {
          "output_type": "execute_result",
          "data": {
            "text/plain": [
              "0.49537241075363597"
            ]
          },
          "metadata": {
            "tags": []
          },
          "execution_count": 87
        }
      ]
    },
    {
      "cell_type": "markdown",
      "metadata": {
        "id": "PQUfxBnOJJ2j",
        "colab_type": "text"
      },
      "source": [
        "f1-score of 0.2352941176470588 achieved using 0.5 as threshold probability"
      ]
    },
    {
      "cell_type": "code",
      "metadata": {
        "id": "4SMHS4ZTJJ2k",
        "colab_type": "code",
        "colab": {}
      },
      "source": [
        "#Get prediction probalities\n",
        "prob=clf.predict_proba(xtest_tfidf)"
      ],
      "execution_count": 0,
      "outputs": []
    },
    {
      "cell_type": "code",
      "metadata": {
        "id": "QN1bg14ZJJ2m",
        "colab_type": "code",
        "colab": {}
      },
      "source": [
        "#Set threshold of 0.2 instead of 0.5\n",
        "#Hence any probability >= 0.2 will be 1, else 0.\n",
        "t=0.2\n",
        "pred_new=(prob>=t).astype(int)"
      ],
      "execution_count": 0,
      "outputs": []
    },
    {
      "cell_type": "code",
      "metadata": {
        "id": "6qw1IB_8JJ2q",
        "colab_type": "code",
        "outputId": "b2be06b3-4fbf-4fd0-8d7e-61cb5f5bad6f",
        "colab": {
          "base_uri": "https://localhost:8080/",
          "height": 34
        }
      },
      "source": [
        "f1_score(y_test,pred_new,average=\"micro\")"
      ],
      "execution_count": 90,
      "outputs": [
        {
          "output_type": "execute_result",
          "data": {
            "text/plain": [
              "0.5726256983240223"
            ]
          },
          "metadata": {
            "tags": []
          },
          "execution_count": 90
        }
      ]
    },
    {
      "cell_type": "markdown",
      "metadata": {
        "id": "3jEkcL4UJJ2v",
        "colab_type": "text"
      },
      "source": [
        "f1-score of 0.41789667896678967 achieved using 0.2 as threshold probability"
      ]
    },
    {
      "cell_type": "code",
      "metadata": {
        "id": "jFgbJu_XJJ2v",
        "colab_type": "code",
        "colab": {}
      },
      "source": [
        ""
      ],
      "execution_count": 0,
      "outputs": []
    }
  ]
}