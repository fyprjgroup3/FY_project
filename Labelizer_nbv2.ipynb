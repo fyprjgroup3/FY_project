{
  "nbformat": 4,
  "nbformat_minor": 0,
  "metadata": {
    "colab": {
      "name": "Labelizer_nb.ipynb",
      "provenance": [],
      "collapsed_sections": [],
      "include_colab_link": true
    },
    "kernelspec": {
      "name": "python3",
      "display_name": "Python 3"
    }
  },
  "cells": [
    {
      "cell_type": "markdown",
      "metadata": {
        "id": "view-in-github",
        "colab_type": "text"
      },
      "source": [
        "<a href=\"https://colab.research.google.com/github/fyprjgroup3/FY_project/blob/avik's_work/Labelizer_nbv2.ipynb\" target=\"_parent\"><img src=\"https://colab.research.google.com/assets/colab-badge.svg\" alt=\"Open In Colab\"/></a>"
      ]
    },
    {
      "cell_type": "code",
      "metadata": {
        "id": "UDR0Z89_yP_v",
        "colab_type": "code",
        "colab": {}
      },
      "source": [
        "import pandas as pd\n",
        "import numpy as np\n",
        "import re\n",
        "import json\n",
        "import nltk\n",
        "import matplotlib.pyplot as plt\n",
        "import seaborn as sns\n",
        "import string\n",
        "import collections\n",
        "#nltk.download('stopwords')\n",
        "\n",
        "from google.colab import drive\n",
        "from google.colab import files\n",
        "#import io\n",
        "#uploaded = files.upload()\n",
        "\n",
        "#drive.mount('/content/drive') # mounting drive in each runtime\n",
        "\n",
        "pd.set_option(\"display.max_columns\",2500)\n",
        "pd.set_option(\"display.max_rows\",2500)"
      ],
      "execution_count": 0,
      "outputs": []
    },
    {
      "cell_type": "code",
      "metadata": {
        "id": "cuZZefDs1SgH",
        "colab_type": "code",
        "outputId": "3362ccf8-8afa-4629-c738-89b2f234334e",
        "colab": {
          "base_uri": "https://localhost:8080/",
          "height": 513
        }
      },
      "source": [
        "#importing the dataset\n",
        "dset=pd.read_csv('/content/drive/My Drive/FY_project/dataset/results-20190513-ofapr19.csv')\n",
        "dset.head()"
      ],
      "execution_count": 167,
      "outputs": [
        {
          "output_type": "execute_result",
          "data": {
            "text/html": [
              "<div>\n",
              "<style scoped>\n",
              "    .dataframe tbody tr th:only-of-type {\n",
              "        vertical-align: middle;\n",
              "    }\n",
              "\n",
              "    .dataframe tbody tr th {\n",
              "        vertical-align: top;\n",
              "    }\n",
              "\n",
              "    .dataframe thead th {\n",
              "        text-align: right;\n",
              "    }\n",
              "</style>\n",
              "<table border=\"1\" class=\"dataframe\">\n",
              "  <thead>\n",
              "    <tr style=\"text-align: right;\">\n",
              "      <th></th>\n",
              "      <th>action</th>\n",
              "      <th>url</th>\n",
              "      <th>title</th>\n",
              "      <th>body</th>\n",
              "      <th>labels</th>\n",
              "    </tr>\n",
              "  </thead>\n",
              "  <tbody>\n",
              "    <tr>\n",
              "      <th>0</th>\n",
              "      <td>\"closed\"</td>\n",
              "      <td>\"https://github.com/Microsoft/vcpkg/issues/4548\"</td>\n",
              "      <td>\"Error: Building package zlib:x64-windows-stat...</td>\n",
              "      <td>\"\\r\\nPackage: zlib:x64-windows-static\\r\\nVcpkg...</td>\n",
              "      <td>[{\"id\":455857191,\"node_id\":\"MDU6TGFiZWw0NTU4NT...</td>\n",
              "    </tr>\n",
              "    <tr>\n",
              "      <th>1</th>\n",
              "      <td>\"closed\"</td>\n",
              "      <td>\"https://github.com/primefaces/primeng/issues/...</td>\n",
              "      <td>\"Pagination bug when removing an item\"</td>\n",
              "      <td>\"Reported by a PRO user;\\r\\n\\r\\n&gt; If for exemp...</td>\n",
              "      <td>[{\"id\":312160661,\"node_id\":\"MDU6TGFiZWwzMTIxNj...</td>\n",
              "    </tr>\n",
              "    <tr>\n",
              "      <th>2</th>\n",
              "      <td>\"closed\"</td>\n",
              "      <td>\"https://github.com/zen-kernel/zen-kernel/issu...</td>\n",
              "      <td>\"bfq error\"</td>\n",
              "      <td>\"Hi, Steven/\\r\\nAfter last update today &gt;git f...</td>\n",
              "      <td>[]</td>\n",
              "    </tr>\n",
              "    <tr>\n",
              "      <th>3</th>\n",
              "      <td>\"closed\"</td>\n",
              "      <td>\"https://github.com/biig-io/ngx-smart-modal/is...</td>\n",
              "      <td>\"Can't open next modal at once after closing p...</td>\n",
              "      <td>\"\\r\\nwhen I click immediately after closing pr...</td>\n",
              "      <td>[]</td>\n",
              "    </tr>\n",
              "    <tr>\n",
              "      <th>4</th>\n",
              "      <td>\"closed\"</td>\n",
              "      <td>\"https://github.com/istio/istio/issues/12790\"</td>\n",
              "      <td>\"Helm podAntiAffinity templating error\"</td>\n",
              "      <td>\"**Describe the bug**\\r\\n\\r\\nHelm charts fail ...</td>\n",
              "      <td>[{\"id\":670442116,\"node_id\":\"MDU6TGFiZWw2NzA0ND...</td>\n",
              "    </tr>\n",
              "  </tbody>\n",
              "</table>\n",
              "</div>"
            ],
            "text/plain": [
              "     action                                                url  \\\n",
              "0  \"closed\"   \"https://github.com/Microsoft/vcpkg/issues/4548\"   \n",
              "1  \"closed\"  \"https://github.com/primefaces/primeng/issues/...   \n",
              "2  \"closed\"  \"https://github.com/zen-kernel/zen-kernel/issu...   \n",
              "3  \"closed\"  \"https://github.com/biig-io/ngx-smart-modal/is...   \n",
              "4  \"closed\"      \"https://github.com/istio/istio/issues/12790\"   \n",
              "\n",
              "                                               title  \\\n",
              "0  \"Error: Building package zlib:x64-windows-stat...   \n",
              "1             \"Pagination bug when removing an item\"   \n",
              "2                                        \"bfq error\"   \n",
              "3  \"Can't open next modal at once after closing p...   \n",
              "4            \"Helm podAntiAffinity templating error\"   \n",
              "\n",
              "                                                body  \\\n",
              "0  \"\\r\\nPackage: zlib:x64-windows-static\\r\\nVcpkg...   \n",
              "1  \"Reported by a PRO user;\\r\\n\\r\\n> If for exemp...   \n",
              "2  \"Hi, Steven/\\r\\nAfter last update today >git f...   \n",
              "3  \"\\r\\nwhen I click immediately after closing pr...   \n",
              "4  \"**Describe the bug**\\r\\n\\r\\nHelm charts fail ...   \n",
              "\n",
              "                                              labels  \n",
              "0  [{\"id\":455857191,\"node_id\":\"MDU6TGFiZWw0NTU4NT...  \n",
              "1  [{\"id\":312160661,\"node_id\":\"MDU6TGFiZWwzMTIxNj...  \n",
              "2                                                 []  \n",
              "3                                                 []  \n",
              "4  [{\"id\":670442116,\"node_id\":\"MDU6TGFiZWw2NzA0ND...  "
            ]
          },
          "metadata": {
            "tags": []
          },
          "execution_count": 167
        }
      ]
    },
    {
      "cell_type": "code",
      "metadata": {
        "id": "AKgCotmX1Uxo",
        "colab_type": "code",
        "outputId": "ed24a75b-16af-4acb-b485-275e98e9cfc0",
        "colab": {
          "base_uri": "https://localhost:8080/",
          "height": 34
        }
      },
      "source": [
        "#No of rows initially\n",
        "print(\"No. of Rows:\",end=\" \")\n",
        "dset.shape[0]"
      ],
      "execution_count": 168,
      "outputs": [
        {
          "output_type": "stream",
          "text": [
            "No. of Rows: "
          ],
          "name": "stdout"
        },
        {
          "output_type": "execute_result",
          "data": {
            "text/plain": [
              "7964"
            ]
          },
          "metadata": {
            "tags": []
          },
          "execution_count": 168
        }
      ]
    },
    {
      "cell_type": "code",
      "metadata": {
        "id": "RcaCbq1AVwLg",
        "colab_type": "code",
        "outputId": "c3367fc5-d864-4d52-a043-084aa27f0575",
        "colab": {
          "base_uri": "https://localhost:8080/",
          "height": 34
        }
      },
      "source": [
        "# Removing Duplicates if any in the dataset\n",
        "print('The no. of duplicates in the data are',dset.duplicated().sum())"
      ],
      "execution_count": 169,
      "outputs": [
        {
          "output_type": "stream",
          "text": [
            "The no. of duplicates in the data are 3\n"
          ],
          "name": "stdout"
        }
      ]
    },
    {
      "cell_type": "code",
      "metadata": {
        "id": "dhtfKNalWfyS",
        "colab_type": "code",
        "colab": {}
      },
      "source": [
        "dset.drop_duplicates(inplace=True)"
      ],
      "execution_count": 0,
      "outputs": []
    },
    {
      "cell_type": "code",
      "metadata": {
        "id": "JPgfNluzWnMx",
        "colab_type": "code",
        "outputId": "d304b228-9e71-4016-a318-5c2d9e2bc6fe",
        "colab": {
          "base_uri": "https://localhost:8080/",
          "height": 34
        }
      },
      "source": [
        "dset.shape"
      ],
      "execution_count": 171,
      "outputs": [
        {
          "output_type": "execute_result",
          "data": {
            "text/plain": [
              "(7961, 5)"
            ]
          },
          "metadata": {
            "tags": []
          },
          "execution_count": 171
        }
      ]
    },
    {
      "cell_type": "code",
      "metadata": {
        "id": "wk4JasqL1qje",
        "colab_type": "code",
        "outputId": "c2182654-37cb-45b5-b5ec-4556ee0e16cf",
        "colab": {
          "base_uri": "https://localhost:8080/",
          "height": 289
        }
      },
      "source": [
        "# selecting necessary features\n",
        "prc_dset=dset[[\"title\",\"body\",\"labels\"]]\n",
        "prc_dset.head()"
      ],
      "execution_count": 172,
      "outputs": [
        {
          "output_type": "execute_result",
          "data": {
            "text/html": [
              "<div>\n",
              "<style scoped>\n",
              "    .dataframe tbody tr th:only-of-type {\n",
              "        vertical-align: middle;\n",
              "    }\n",
              "\n",
              "    .dataframe tbody tr th {\n",
              "        vertical-align: top;\n",
              "    }\n",
              "\n",
              "    .dataframe thead th {\n",
              "        text-align: right;\n",
              "    }\n",
              "</style>\n",
              "<table border=\"1\" class=\"dataframe\">\n",
              "  <thead>\n",
              "    <tr style=\"text-align: right;\">\n",
              "      <th></th>\n",
              "      <th>title</th>\n",
              "      <th>body</th>\n",
              "      <th>labels</th>\n",
              "    </tr>\n",
              "  </thead>\n",
              "  <tbody>\n",
              "    <tr>\n",
              "      <th>0</th>\n",
              "      <td>\"Error: Building package zlib:x64-windows-stat...</td>\n",
              "      <td>\"\\r\\nPackage: zlib:x64-windows-static\\r\\nVcpkg...</td>\n",
              "      <td>[{\"id\":455857191,\"node_id\":\"MDU6TGFiZWw0NTU4NT...</td>\n",
              "    </tr>\n",
              "    <tr>\n",
              "      <th>1</th>\n",
              "      <td>\"Pagination bug when removing an item\"</td>\n",
              "      <td>\"Reported by a PRO user;\\r\\n\\r\\n&gt; If for exemp...</td>\n",
              "      <td>[{\"id\":312160661,\"node_id\":\"MDU6TGFiZWwzMTIxNj...</td>\n",
              "    </tr>\n",
              "    <tr>\n",
              "      <th>2</th>\n",
              "      <td>\"bfq error\"</td>\n",
              "      <td>\"Hi, Steven/\\r\\nAfter last update today &gt;git f...</td>\n",
              "      <td>[]</td>\n",
              "    </tr>\n",
              "    <tr>\n",
              "      <th>3</th>\n",
              "      <td>\"Can't open next modal at once after closing p...</td>\n",
              "      <td>\"\\r\\nwhen I click immediately after closing pr...</td>\n",
              "      <td>[]</td>\n",
              "    </tr>\n",
              "    <tr>\n",
              "      <th>4</th>\n",
              "      <td>\"Helm podAntiAffinity templating error\"</td>\n",
              "      <td>\"**Describe the bug**\\r\\n\\r\\nHelm charts fail ...</td>\n",
              "      <td>[{\"id\":670442116,\"node_id\":\"MDU6TGFiZWw2NzA0ND...</td>\n",
              "    </tr>\n",
              "  </tbody>\n",
              "</table>\n",
              "</div>"
            ],
            "text/plain": [
              "                                               title  \\\n",
              "0  \"Error: Building package zlib:x64-windows-stat...   \n",
              "1             \"Pagination bug when removing an item\"   \n",
              "2                                        \"bfq error\"   \n",
              "3  \"Can't open next modal at once after closing p...   \n",
              "4            \"Helm podAntiAffinity templating error\"   \n",
              "\n",
              "                                                body  \\\n",
              "0  \"\\r\\nPackage: zlib:x64-windows-static\\r\\nVcpkg...   \n",
              "1  \"Reported by a PRO user;\\r\\n\\r\\n> If for exemp...   \n",
              "2  \"Hi, Steven/\\r\\nAfter last update today >git f...   \n",
              "3  \"\\r\\nwhen I click immediately after closing pr...   \n",
              "4  \"**Describe the bug**\\r\\n\\r\\nHelm charts fail ...   \n",
              "\n",
              "                                              labels  \n",
              "0  [{\"id\":455857191,\"node_id\":\"MDU6TGFiZWw0NTU4NT...  \n",
              "1  [{\"id\":312160661,\"node_id\":\"MDU6TGFiZWwzMTIxNj...  \n",
              "2                                                 []  \n",
              "3                                                 []  \n",
              "4  [{\"id\":670442116,\"node_id\":\"MDU6TGFiZWw2NzA0ND...  "
            ]
          },
          "metadata": {
            "tags": []
          },
          "execution_count": 172
        }
      ]
    },
    {
      "cell_type": "code",
      "metadata": {
        "id": "gsaA7-fC9N6c",
        "colab_type": "code",
        "outputId": "cf4ea9da-977c-4e39-a3c5-6996a3e82ee0",
        "colab": {
          "base_uri": "https://localhost:8080/",
          "height": 411
        }
      },
      "source": [
        "# Removing empty label rows\n",
        "def clean(s):\n",
        "  '''\n",
        "  Sets Empty labels as NaNs\n",
        "  '''\n",
        "  \n",
        "  if s == \"[]\":\n",
        "    s=np.nan\n",
        "  return s\n",
        "    \n",
        "prc_dset['labels']=prc_dset['labels'].apply(lambda x: clean(x))\n",
        "prc_dset.head()"
      ],
      "execution_count": 173,
      "outputs": [
        {
          "output_type": "stream",
          "text": [
            "/usr/local/lib/python3.6/dist-packages/ipykernel_launcher.py:10: SettingWithCopyWarning: \n",
            "A value is trying to be set on a copy of a slice from a DataFrame.\n",
            "Try using .loc[row_indexer,col_indexer] = value instead\n",
            "\n",
            "See the caveats in the documentation: http://pandas.pydata.org/pandas-docs/stable/user_guide/indexing.html#returning-a-view-versus-a-copy\n",
            "  # Remove the CWD from sys.path while we load stuff.\n"
          ],
          "name": "stderr"
        },
        {
          "output_type": "execute_result",
          "data": {
            "text/html": [
              "<div>\n",
              "<style scoped>\n",
              "    .dataframe tbody tr th:only-of-type {\n",
              "        vertical-align: middle;\n",
              "    }\n",
              "\n",
              "    .dataframe tbody tr th {\n",
              "        vertical-align: top;\n",
              "    }\n",
              "\n",
              "    .dataframe thead th {\n",
              "        text-align: right;\n",
              "    }\n",
              "</style>\n",
              "<table border=\"1\" class=\"dataframe\">\n",
              "  <thead>\n",
              "    <tr style=\"text-align: right;\">\n",
              "      <th></th>\n",
              "      <th>title</th>\n",
              "      <th>body</th>\n",
              "      <th>labels</th>\n",
              "    </tr>\n",
              "  </thead>\n",
              "  <tbody>\n",
              "    <tr>\n",
              "      <th>0</th>\n",
              "      <td>\"Error: Building package zlib:x64-windows-stat...</td>\n",
              "      <td>\"\\r\\nPackage: zlib:x64-windows-static\\r\\nVcpkg...</td>\n",
              "      <td>[{\"id\":455857191,\"node_id\":\"MDU6TGFiZWw0NTU4NT...</td>\n",
              "    </tr>\n",
              "    <tr>\n",
              "      <th>1</th>\n",
              "      <td>\"Pagination bug when removing an item\"</td>\n",
              "      <td>\"Reported by a PRO user;\\r\\n\\r\\n&gt; If for exemp...</td>\n",
              "      <td>[{\"id\":312160661,\"node_id\":\"MDU6TGFiZWwzMTIxNj...</td>\n",
              "    </tr>\n",
              "    <tr>\n",
              "      <th>2</th>\n",
              "      <td>\"bfq error\"</td>\n",
              "      <td>\"Hi, Steven/\\r\\nAfter last update today &gt;git f...</td>\n",
              "      <td>NaN</td>\n",
              "    </tr>\n",
              "    <tr>\n",
              "      <th>3</th>\n",
              "      <td>\"Can't open next modal at once after closing p...</td>\n",
              "      <td>\"\\r\\nwhen I click immediately after closing pr...</td>\n",
              "      <td>NaN</td>\n",
              "    </tr>\n",
              "    <tr>\n",
              "      <th>4</th>\n",
              "      <td>\"Helm podAntiAffinity templating error\"</td>\n",
              "      <td>\"**Describe the bug**\\r\\n\\r\\nHelm charts fail ...</td>\n",
              "      <td>[{\"id\":670442116,\"node_id\":\"MDU6TGFiZWw2NzA0ND...</td>\n",
              "    </tr>\n",
              "  </tbody>\n",
              "</table>\n",
              "</div>"
            ],
            "text/plain": [
              "                                               title  \\\n",
              "0  \"Error: Building package zlib:x64-windows-stat...   \n",
              "1             \"Pagination bug when removing an item\"   \n",
              "2                                        \"bfq error\"   \n",
              "3  \"Can't open next modal at once after closing p...   \n",
              "4            \"Helm podAntiAffinity templating error\"   \n",
              "\n",
              "                                                body  \\\n",
              "0  \"\\r\\nPackage: zlib:x64-windows-static\\r\\nVcpkg...   \n",
              "1  \"Reported by a PRO user;\\r\\n\\r\\n> If for exemp...   \n",
              "2  \"Hi, Steven/\\r\\nAfter last update today >git f...   \n",
              "3  \"\\r\\nwhen I click immediately after closing pr...   \n",
              "4  \"**Describe the bug**\\r\\n\\r\\nHelm charts fail ...   \n",
              "\n",
              "                                              labels  \n",
              "0  [{\"id\":455857191,\"node_id\":\"MDU6TGFiZWw0NTU4NT...  \n",
              "1  [{\"id\":312160661,\"node_id\":\"MDU6TGFiZWwzMTIxNj...  \n",
              "2                                                NaN  \n",
              "3                                                NaN  \n",
              "4  [{\"id\":670442116,\"node_id\":\"MDU6TGFiZWw2NzA0ND...  "
            ]
          },
          "metadata": {
            "tags": []
          },
          "execution_count": 173
        }
      ]
    },
    {
      "cell_type": "code",
      "metadata": {
        "id": "l4BE0H3HIJBH",
        "colab_type": "code",
        "outputId": "cffc7d20-1864-4574-e3fc-4343908d717a",
        "colab": {
          "base_uri": "https://localhost:8080/",
          "height": 122
        }
      },
      "source": [
        "prc_dset.dropna(inplace=True)"
      ],
      "execution_count": 174,
      "outputs": [
        {
          "output_type": "stream",
          "text": [
            "/usr/local/lib/python3.6/dist-packages/ipykernel_launcher.py:1: SettingWithCopyWarning: \n",
            "A value is trying to be set on a copy of a slice from a DataFrame\n",
            "\n",
            "See the caveats in the documentation: http://pandas.pydata.org/pandas-docs/stable/user_guide/indexing.html#returning-a-view-versus-a-copy\n",
            "  \"\"\"Entry point for launching an IPython kernel.\n"
          ],
          "name": "stderr"
        }
      ]
    },
    {
      "cell_type": "code",
      "metadata": {
        "id": "2Spnq92nMJyi",
        "colab_type": "code",
        "outputId": "a4e4936d-5ef2-432a-fb11-6890508a8254",
        "colab": {
          "base_uri": "https://localhost:8080/",
          "height": 289
        }
      },
      "source": [
        "prc_dset.head()"
      ],
      "execution_count": 175,
      "outputs": [
        {
          "output_type": "execute_result",
          "data": {
            "text/html": [
              "<div>\n",
              "<style scoped>\n",
              "    .dataframe tbody tr th:only-of-type {\n",
              "        vertical-align: middle;\n",
              "    }\n",
              "\n",
              "    .dataframe tbody tr th {\n",
              "        vertical-align: top;\n",
              "    }\n",
              "\n",
              "    .dataframe thead th {\n",
              "        text-align: right;\n",
              "    }\n",
              "</style>\n",
              "<table border=\"1\" class=\"dataframe\">\n",
              "  <thead>\n",
              "    <tr style=\"text-align: right;\">\n",
              "      <th></th>\n",
              "      <th>title</th>\n",
              "      <th>body</th>\n",
              "      <th>labels</th>\n",
              "    </tr>\n",
              "  </thead>\n",
              "  <tbody>\n",
              "    <tr>\n",
              "      <th>0</th>\n",
              "      <td>\"Error: Building package zlib:x64-windows-stat...</td>\n",
              "      <td>\"\\r\\nPackage: zlib:x64-windows-static\\r\\nVcpkg...</td>\n",
              "      <td>[{\"id\":455857191,\"node_id\":\"MDU6TGFiZWw0NTU4NT...</td>\n",
              "    </tr>\n",
              "    <tr>\n",
              "      <th>1</th>\n",
              "      <td>\"Pagination bug when removing an item\"</td>\n",
              "      <td>\"Reported by a PRO user;\\r\\n\\r\\n&gt; If for exemp...</td>\n",
              "      <td>[{\"id\":312160661,\"node_id\":\"MDU6TGFiZWwzMTIxNj...</td>\n",
              "    </tr>\n",
              "    <tr>\n",
              "      <th>4</th>\n",
              "      <td>\"Helm podAntiAffinity templating error\"</td>\n",
              "      <td>\"**Describe the bug**\\r\\n\\r\\nHelm charts fail ...</td>\n",
              "      <td>[{\"id\":670442116,\"node_id\":\"MDU6TGFiZWw2NzA0ND...</td>\n",
              "    </tr>\n",
              "    <tr>\n",
              "      <th>5</th>\n",
              "      <td>\"[0.5][Tradingview] Quick Chart resize does no...</td>\n",
              "      <td>\"**Describe the bug**\\r\\nThe up and down arrow...</td>\n",
              "      <td>[{\"id\":1089646255,\"node_id\":\"MDU6TGFiZWwxMDg5N...</td>\n",
              "    </tr>\n",
              "    <tr>\n",
              "      <th>6</th>\n",
              "      <td>\"Upgrade isort\"</td>\n",
              "      <td>\"We are using 4.3.4 but [isort[(https://pypi.o...</td>\n",
              "      <td>[{\"id\":717069763,\"node_id\":\"MDU6TGFiZWw3MTcwNj...</td>\n",
              "    </tr>\n",
              "  </tbody>\n",
              "</table>\n",
              "</div>"
            ],
            "text/plain": [
              "                                               title  \\\n",
              "0  \"Error: Building package zlib:x64-windows-stat...   \n",
              "1             \"Pagination bug when removing an item\"   \n",
              "4            \"Helm podAntiAffinity templating error\"   \n",
              "5  \"[0.5][Tradingview] Quick Chart resize does no...   \n",
              "6                                    \"Upgrade isort\"   \n",
              "\n",
              "                                                body  \\\n",
              "0  \"\\r\\nPackage: zlib:x64-windows-static\\r\\nVcpkg...   \n",
              "1  \"Reported by a PRO user;\\r\\n\\r\\n> If for exemp...   \n",
              "4  \"**Describe the bug**\\r\\n\\r\\nHelm charts fail ...   \n",
              "5  \"**Describe the bug**\\r\\nThe up and down arrow...   \n",
              "6  \"We are using 4.3.4 but [isort[(https://pypi.o...   \n",
              "\n",
              "                                              labels  \n",
              "0  [{\"id\":455857191,\"node_id\":\"MDU6TGFiZWw0NTU4NT...  \n",
              "1  [{\"id\":312160661,\"node_id\":\"MDU6TGFiZWwzMTIxNj...  \n",
              "4  [{\"id\":670442116,\"node_id\":\"MDU6TGFiZWw2NzA0ND...  \n",
              "5  [{\"id\":1089646255,\"node_id\":\"MDU6TGFiZWwxMDg5N...  \n",
              "6  [{\"id\":717069763,\"node_id\":\"MDU6TGFiZWw3MTcwNj...  "
            ]
          },
          "metadata": {
            "tags": []
          },
          "execution_count": 175
        }
      ]
    },
    {
      "cell_type": "code",
      "metadata": {
        "id": "K7LBFzMaOE9o",
        "colab_type": "code",
        "outputId": "765e1c3b-18c1-44c6-c5a5-3dcea59a7424",
        "colab": {
          "base_uri": "https://localhost:8080/",
          "height": 34
        }
      },
      "source": [
        "print(\"No. rows after null label rows removed:\",end=\" \")\n",
        "prc_dset.shape[0]"
      ],
      "execution_count": 176,
      "outputs": [
        {
          "output_type": "stream",
          "text": [
            "No. rows after null label rows removed: "
          ],
          "name": "stdout"
        },
        {
          "output_type": "execute_result",
          "data": {
            "text/plain": [
              "4063"
            ]
          },
          "metadata": {
            "tags": []
          },
          "execution_count": 176
        }
      ]
    },
    {
      "cell_type": "code",
      "metadata": {
        "id": "FUK5Hl701hmN",
        "colab_type": "code",
        "outputId": "6ccefd43-f3c0-46c4-a95a-394683e2b771",
        "colab": {
          "base_uri": "https://localhost:8080/",
          "height": 54
        }
      },
      "source": [
        "# checking the format of labels\n",
        "prc_dset['labels'][5]"
      ],
      "execution_count": 177,
      "outputs": [
        {
          "output_type": "execute_result",
          "data": {
            "text/plain": [
              "'[{\"id\":1089646255,\"node_id\":\"MDU6TGFiZWwxMDg5NjQ2MjU1\",\"url\":\"https://api.github.com/repos/bitshares/bitshares-ui/labels/[1b]%20User%20Story\",\"name\":\"[1b] User Story\",\"color\":\"b8e4fc\",\"default\":false},{\"id\":272058720,\"node_id\":\"MDU6TGFiZWwyNzIwNTg3MjA=\",\"url\":\"https://api.github.com/repos/bitshares/bitshares-ui/labels/[3]%20Bug\",\"name\":\"[3] Bug\",\"color\":\"b60205\",\"default\":false},{\"id\":522016380,\"node_id\":\"MDU6TGFiZWw1MjIwMTYzODA=\",\"url\":\"https://api.github.com/repos/bitshares/bitshares-ui/labels/[4c]%20High%20Priority\",\"name\":\"[4c] High Priority\",\"color\":\"fbca04\",\"default\":false},{\"id\":1089668332,\"node_id\":\"MDU6TGFiZWwxMDg5NjY4MzMy\",\"url\":\"https://api.github.com/repos/bitshares/bitshares-ui/labels/[5a]%20Tiny\",\"name\":\"[5a] Tiny\",\"color\":\"f9aed0\",\"default\":false},{\"id\":1133046734,\"node_id\":\"MDU6TGFiZWwxMTMzMDQ2NzM0\",\"url\":\"https://api.github.com/repos/bitshares/bitshares-ui/labels/[6]%20RC%20Blockage\",\"name\":\"[6] RC Blockage\",\"color\":\"0052cc\",\"default\":false},{\"id\":1134524965,\"node_id\":\"MDU6TGFiZWwxMTM0NTI0OTY1\",\"url\":\"https://api.github.com/repos/bitshares/bitshares-ui/labels/[7]%20Estimated\",\"name\":\"[7] Estimated\",\"color\":\"994d00\",\"default\":false}]'"
            ]
          },
          "metadata": {
            "tags": []
          },
          "execution_count": 177
        }
      ]
    },
    {
      "cell_type": "code",
      "metadata": {
        "id": "wMF76vYc2_9m",
        "colab_type": "code",
        "outputId": "c106e14a-3aed-4454-9267-3b90ef42b0ea",
        "colab": {
          "base_uri": "https://localhost:8080/",
          "height": 629
        }
      },
      "source": [
        "#since labels are of string type converting it into list of dictionaries\n",
        "json.loads(prc_dset['labels'][5])"
      ],
      "execution_count": 178,
      "outputs": [
        {
          "output_type": "execute_result",
          "data": {
            "text/plain": [
              "[{'color': 'b8e4fc',\n",
              "  'default': False,\n",
              "  'id': 1089646255,\n",
              "  'name': '[1b] User Story',\n",
              "  'node_id': 'MDU6TGFiZWwxMDg5NjQ2MjU1',\n",
              "  'url': 'https://api.github.com/repos/bitshares/bitshares-ui/labels/[1b]%20User%20Story'},\n",
              " {'color': 'b60205',\n",
              "  'default': False,\n",
              "  'id': 272058720,\n",
              "  'name': '[3] Bug',\n",
              "  'node_id': 'MDU6TGFiZWwyNzIwNTg3MjA=',\n",
              "  'url': 'https://api.github.com/repos/bitshares/bitshares-ui/labels/[3]%20Bug'},\n",
              " {'color': 'fbca04',\n",
              "  'default': False,\n",
              "  'id': 522016380,\n",
              "  'name': '[4c] High Priority',\n",
              "  'node_id': 'MDU6TGFiZWw1MjIwMTYzODA=',\n",
              "  'url': 'https://api.github.com/repos/bitshares/bitshares-ui/labels/[4c]%20High%20Priority'},\n",
              " {'color': 'f9aed0',\n",
              "  'default': False,\n",
              "  'id': 1089668332,\n",
              "  'name': '[5a] Tiny',\n",
              "  'node_id': 'MDU6TGFiZWwxMDg5NjY4MzMy',\n",
              "  'url': 'https://api.github.com/repos/bitshares/bitshares-ui/labels/[5a]%20Tiny'},\n",
              " {'color': '0052cc',\n",
              "  'default': False,\n",
              "  'id': 1133046734,\n",
              "  'name': '[6] RC Blockage',\n",
              "  'node_id': 'MDU6TGFiZWwxMTMzMDQ2NzM0',\n",
              "  'url': 'https://api.github.com/repos/bitshares/bitshares-ui/labels/[6]%20RC%20Blockage'},\n",
              " {'color': '994d00',\n",
              "  'default': False,\n",
              "  'id': 1134524965,\n",
              "  'name': '[7] Estimated',\n",
              "  'node_id': 'MDU6TGFiZWwxMTM0NTI0OTY1',\n",
              "  'url': 'https://api.github.com/repos/bitshares/bitshares-ui/labels/[7]%20Estimated'}]"
            ]
          },
          "metadata": {
            "tags": []
          },
          "execution_count": 178
        }
      ]
    },
    {
      "cell_type": "code",
      "metadata": {
        "id": "UDrrdbud4TyN",
        "colab_type": "code",
        "outputId": "4c3bc79b-23d0-4043-a164-db568bd24b66",
        "colab": {
          "base_uri": "https://localhost:8080/",
          "height": 119
        }
      },
      "source": [
        "#To extract only name field from labels\n",
        "[x['name'] for x in json.loads(prc_dset['labels'][5])]"
      ],
      "execution_count": 179,
      "outputs": [
        {
          "output_type": "execute_result",
          "data": {
            "text/plain": [
              "['[1b] User Story',\n",
              " '[3] Bug',\n",
              " '[4c] High Priority',\n",
              " '[5a] Tiny',\n",
              " '[6] RC Blockage',\n",
              " '[7] Estimated']"
            ]
          },
          "metadata": {
            "tags": []
          },
          "execution_count": 179
        }
      ]
    },
    {
      "cell_type": "code",
      "metadata": {
        "id": "t-Oifzq76loU",
        "colab_type": "code",
        "outputId": "e7b080d7-f845-48b4-eb12-cc5b2feaf757",
        "colab": {
          "base_uri": "https://localhost:8080/",
          "height": 272
        }
      },
      "source": [
        "#Converting names of labels into list of lists\n",
        "labels=[]\n",
        "\n",
        "for i in prc_dset['labels']:\n",
        "  labels.append([x['name'] for x in json.loads(i)])\n",
        "\n",
        "labels[:10]"
      ],
      "execution_count": 180,
      "outputs": [
        {
          "output_type": "execute_result",
          "data": {
            "text/plain": [
              "[['needs-repro'],\n",
              " ['enhancement'],\n",
              " ['area/environments'],\n",
              " ['[1b] User Story',\n",
              "  '[3] Bug',\n",
              "  '[4c] High Priority',\n",
              "  '[5a] Tiny',\n",
              "  '[6] RC Blockage',\n",
              "  '[7] Estimated'],\n",
              " ['feature-refactoring', 'good first issue', 'needs PR', 'type-code health'],\n",
              " ['feature'],\n",
              " ['Feature:Search', 'Feature:Telemetry', 'P1', 'a-c'],\n",
              " ['A-partitioning', 'A-sql-syntax', 'C-enhancement'],\n",
              " ['enhancement', 'priority:low'],\n",
              " ['ApiTestUat']]"
            ]
          },
          "metadata": {
            "tags": []
          },
          "execution_count": 180
        }
      ]
    },
    {
      "cell_type": "code",
      "metadata": {
        "id": "hctdulfs75el",
        "colab_type": "code",
        "outputId": "5125ab9a-aaf3-413f-875c-727c60a84f93",
        "colab": {
          "base_uri": "https://localhost:8080/",
          "height": 394
        }
      },
      "source": [
        "#merging processed labels into the dataset\n",
        "prc_dset['labels']=labels\n",
        "prc_dset.head()"
      ],
      "execution_count": 181,
      "outputs": [
        {
          "output_type": "stream",
          "text": [
            "/usr/local/lib/python3.6/dist-packages/ipykernel_launcher.py:1: SettingWithCopyWarning: \n",
            "A value is trying to be set on a copy of a slice from a DataFrame.\n",
            "Try using .loc[row_indexer,col_indexer] = value instead\n",
            "\n",
            "See the caveats in the documentation: http://pandas.pydata.org/pandas-docs/stable/user_guide/indexing.html#returning-a-view-versus-a-copy\n",
            "  \"\"\"Entry point for launching an IPython kernel.\n"
          ],
          "name": "stderr"
        },
        {
          "output_type": "execute_result",
          "data": {
            "text/html": [
              "<div>\n",
              "<style scoped>\n",
              "    .dataframe tbody tr th:only-of-type {\n",
              "        vertical-align: middle;\n",
              "    }\n",
              "\n",
              "    .dataframe tbody tr th {\n",
              "        vertical-align: top;\n",
              "    }\n",
              "\n",
              "    .dataframe thead th {\n",
              "        text-align: right;\n",
              "    }\n",
              "</style>\n",
              "<table border=\"1\" class=\"dataframe\">\n",
              "  <thead>\n",
              "    <tr style=\"text-align: right;\">\n",
              "      <th></th>\n",
              "      <th>title</th>\n",
              "      <th>body</th>\n",
              "      <th>labels</th>\n",
              "    </tr>\n",
              "  </thead>\n",
              "  <tbody>\n",
              "    <tr>\n",
              "      <th>0</th>\n",
              "      <td>\"Error: Building package zlib:x64-windows-stat...</td>\n",
              "      <td>\"\\r\\nPackage: zlib:x64-windows-static\\r\\nVcpkg...</td>\n",
              "      <td>[needs-repro]</td>\n",
              "    </tr>\n",
              "    <tr>\n",
              "      <th>1</th>\n",
              "      <td>\"Pagination bug when removing an item\"</td>\n",
              "      <td>\"Reported by a PRO user;\\r\\n\\r\\n&gt; If for exemp...</td>\n",
              "      <td>[enhancement]</td>\n",
              "    </tr>\n",
              "    <tr>\n",
              "      <th>4</th>\n",
              "      <td>\"Helm podAntiAffinity templating error\"</td>\n",
              "      <td>\"**Describe the bug**\\r\\n\\r\\nHelm charts fail ...</td>\n",
              "      <td>[area/environments]</td>\n",
              "    </tr>\n",
              "    <tr>\n",
              "      <th>5</th>\n",
              "      <td>\"[0.5][Tradingview] Quick Chart resize does no...</td>\n",
              "      <td>\"**Describe the bug**\\r\\nThe up and down arrow...</td>\n",
              "      <td>[[1b] User Story, [3] Bug, [4c] High Priority,...</td>\n",
              "    </tr>\n",
              "    <tr>\n",
              "      <th>6</th>\n",
              "      <td>\"Upgrade isort\"</td>\n",
              "      <td>\"We are using 4.3.4 but [isort[(https://pypi.o...</td>\n",
              "      <td>[feature-refactoring, good first issue, needs ...</td>\n",
              "    </tr>\n",
              "  </tbody>\n",
              "</table>\n",
              "</div>"
            ],
            "text/plain": [
              "                                               title  \\\n",
              "0  \"Error: Building package zlib:x64-windows-stat...   \n",
              "1             \"Pagination bug when removing an item\"   \n",
              "4            \"Helm podAntiAffinity templating error\"   \n",
              "5  \"[0.5][Tradingview] Quick Chart resize does no...   \n",
              "6                                    \"Upgrade isort\"   \n",
              "\n",
              "                                                body  \\\n",
              "0  \"\\r\\nPackage: zlib:x64-windows-static\\r\\nVcpkg...   \n",
              "1  \"Reported by a PRO user;\\r\\n\\r\\n> If for exemp...   \n",
              "4  \"**Describe the bug**\\r\\n\\r\\nHelm charts fail ...   \n",
              "5  \"**Describe the bug**\\r\\nThe up and down arrow...   \n",
              "6  \"We are using 4.3.4 but [isort[(https://pypi.o...   \n",
              "\n",
              "                                              labels  \n",
              "0                                      [needs-repro]  \n",
              "1                                      [enhancement]  \n",
              "4                                [area/environments]  \n",
              "5  [[1b] User Story, [3] Bug, [4c] High Priority,...  \n",
              "6  [feature-refactoring, good first issue, needs ...  "
            ]
          },
          "metadata": {
            "tags": []
          },
          "execution_count": 181
        }
      ]
    },
    {
      "cell_type": "code",
      "metadata": {
        "id": "fdCCcKpaU9gI",
        "colab_type": "code",
        "colab": {}
      },
      "source": [
        "stopwords = nltk.corpus.stopwords.words('english')"
      ],
      "execution_count": 0,
      "outputs": []
    },
    {
      "cell_type": "code",
      "metadata": {
        "id": "C3B9XSMJaB5B",
        "colab_type": "code",
        "outputId": "39ddd0da-a9e8-4b80-cf87-5aab7d937289",
        "colab": {
          "base_uri": "https://localhost:8080/",
          "height": 34
        }
      },
      "source": [
        "print(len(stopwords))"
      ],
      "execution_count": 183,
      "outputs": [
        {
          "output_type": "stream",
          "text": [
            "179\n"
          ],
          "name": "stdout"
        }
      ]
    },
    {
      "cell_type": "code",
      "metadata": {
        "id": "lNQ8ANvcaMTr",
        "colab_type": "code",
        "outputId": "d72f115e-c62f-4f6c-ef2b-3b593edc84a8",
        "colab": {
          "base_uri": "https://localhost:8080/",
          "height": 34
        }
      },
      "source": [
        "stopwords[:5]"
      ],
      "execution_count": 184,
      "outputs": [
        {
          "output_type": "execute_result",
          "data": {
            "text/plain": [
              "['i', 'me', 'my', 'myself', 'we']"
            ]
          },
          "metadata": {
            "tags": []
          },
          "execution_count": 184
        }
      ]
    },
    {
      "cell_type": "code",
      "metadata": {
        "id": "h_S6MzHzZ4Fg",
        "colab_type": "code",
        "outputId": "8fa9b394-9d2d-4b24-fbd0-b863f4579e4d",
        "colab": {
          "base_uri": "https://localhost:8080/",
          "height": 34
        }
      },
      "source": [
        "string.punctuation"
      ],
      "execution_count": 185,
      "outputs": [
        {
          "output_type": "execute_result",
          "data": {
            "text/plain": [
              "'!\"#$%&\\'()*+,-./:;<=>?@[\\\\]^_`{|}~'"
            ]
          },
          "metadata": {
            "tags": []
          },
          "execution_count": 185
        }
      ]
    },
    {
      "cell_type": "code",
      "metadata": {
        "id": "kYAO2MubO-UL",
        "colab_type": "code",
        "colab": {}
      },
      "source": [
        "# function for text cleaning \n",
        "def clean_text(s):\n",
        "    s=re.sub(\"[\\'\\\"]\",\"\",s) #remove '' and \"\"\n",
        "    s=re.sub(\"\\\\\\\\r\",\"\",s)  #remove \\r\n",
        "    s=re.sub(\"\\\\\\\\n\",\"\",s)  #remove \\n\n",
        "    s=re.sub(\"[^a-zA-Z]\",\" \",s) #remove everything but letters\n",
        "    s=''.join([char for char in s if char not in string.punctuation]) #remove all punctuations\n",
        "    #l=[word.lower() for word in s.split() if not word.lower() in stopword]  #remove stopwords\n",
        "    s = ' '.join(s.split()) # remove whitespaces \n",
        "    s = s.lower()# convert text to lowercase \n",
        "\n",
        "    return s\n"
      ],
      "execution_count": 0,
      "outputs": []
    },
    {
      "cell_type": "code",
      "metadata": {
        "id": "jk_Ol5NSPJ09",
        "colab_type": "code",
        "outputId": "232de3ae-b222-468f-b4ed-46a5886bd225",
        "colab": {
          "base_uri": "https://localhost:8080/",
          "height": 241
        }
      },
      "source": [
        "# cleaning of title and body fields\n",
        "prc_dset['title'] = prc_dset['title'].apply(lambda x: clean_text(x))\n",
        "prc_dset['body'] = prc_dset['body'].apply(lambda x: clean_text(x))\n"
      ],
      "execution_count": 187,
      "outputs": [
        {
          "output_type": "stream",
          "text": [
            "/usr/local/lib/python3.6/dist-packages/ipykernel_launcher.py:1: SettingWithCopyWarning: \n",
            "A value is trying to be set on a copy of a slice from a DataFrame.\n",
            "Try using .loc[row_indexer,col_indexer] = value instead\n",
            "\n",
            "See the caveats in the documentation: http://pandas.pydata.org/pandas-docs/stable/user_guide/indexing.html#returning-a-view-versus-a-copy\n",
            "  \"\"\"Entry point for launching an IPython kernel.\n",
            "/usr/local/lib/python3.6/dist-packages/ipykernel_launcher.py:2: SettingWithCopyWarning: \n",
            "A value is trying to be set on a copy of a slice from a DataFrame.\n",
            "Try using .loc[row_indexer,col_indexer] = value instead\n",
            "\n",
            "See the caveats in the documentation: http://pandas.pydata.org/pandas-docs/stable/user_guide/indexing.html#returning-a-view-versus-a-copy\n",
            "  \n"
          ],
          "name": "stderr"
        }
      ]
    },
    {
      "cell_type": "code",
      "metadata": {
        "id": "io_vyqZ0PlWu",
        "colab_type": "code",
        "outputId": "bd10ac1d-40d2-45ad-9429-2942b6d1173a",
        "colab": {
          "base_uri": "https://localhost:8080/",
          "height": 529
        }
      },
      "source": [
        "#Cleaned labels and body fields\n",
        "prc_dset.head(10)"
      ],
      "execution_count": 188,
      "outputs": [
        {
          "output_type": "execute_result",
          "data": {
            "text/html": [
              "<div>\n",
              "<style scoped>\n",
              "    .dataframe tbody tr th:only-of-type {\n",
              "        vertical-align: middle;\n",
              "    }\n",
              "\n",
              "    .dataframe tbody tr th {\n",
              "        vertical-align: top;\n",
              "    }\n",
              "\n",
              "    .dataframe thead th {\n",
              "        text-align: right;\n",
              "    }\n",
              "</style>\n",
              "<table border=\"1\" class=\"dataframe\">\n",
              "  <thead>\n",
              "    <tr style=\"text-align: right;\">\n",
              "      <th></th>\n",
              "      <th>title</th>\n",
              "      <th>body</th>\n",
              "      <th>labels</th>\n",
              "    </tr>\n",
              "  </thead>\n",
              "  <tbody>\n",
              "    <tr>\n",
              "      <th>0</th>\n",
              "      <td>error building package zlib x windows static f...</td>\n",
              "      <td>package zlib x windows staticvcpkg version debug</td>\n",
              "      <td>[needs-repro]</td>\n",
              "    </tr>\n",
              "    <tr>\n",
              "      <th>1</th>\n",
              "      <td>pagination bug when removing an item</td>\n",
              "      <td>reported by a pro user if for exemple we have ...</td>\n",
              "      <td>[enhancement]</td>\n",
              "    </tr>\n",
              "    <tr>\n",
              "      <th>4</th>\n",
              "      <td>helm podantiaffinity templating error</td>\n",
              "      <td>describe the bug helm charts fail to generate ...</td>\n",
              "      <td>[area/environments]</td>\n",
              "    </tr>\n",
              "    <tr>\n",
              "      <th>5</th>\n",
              "      <td>tradingview quick chart resize does not honor ...</td>\n",
              "      <td>describe the bug the up and down arrows for tr...</td>\n",
              "      <td>[[1b] User Story, [3] Bug, [4c] High Priority,...</td>\n",
              "    </tr>\n",
              "    <tr>\n",
              "      <th>6</th>\n",
              "      <td>upgrade isort</td>\n",
              "      <td>we are using but isort https pypi org project ...</td>\n",
              "      <td>[feature-refactoring, good first issue, needs ...</td>\n",
              "    </tr>\n",
              "    <tr>\n",
              "      <th>7</th>\n",
              "      <td>configurable window of completion</td>\n",
              "      <td>from not fixed the window for completion of a ...</td>\n",
              "      <td>[feature]</td>\n",
              "    </tr>\n",
              "    <tr>\n",
              "      <th>8</th>\n",
              "      <td>telemetry add search counts to baseline ping</td>\n",
              "      <td>follow up on https github com mozilla mobile f...</td>\n",
              "      <td>[Feature:Search, Feature:Telemetry, P1, a-c]</td>\n",
              "    </tr>\n",
              "    <tr>\n",
              "      <th>9</th>\n",
              "      <td>sql show zone configuration for table table na...</td>\n",
              "      <td>describe the problem i partitioned a table cre...</td>\n",
              "      <td>[A-partitioning, A-sql-syntax, C-enhancement]</td>\n",
              "    </tr>\n",
              "    <tr>\n",
              "      <th>12</th>\n",
              "      <td>add ice and snow melt flag general flag category</td>\n",
              "      <td>could be useful in some cases</td>\n",
              "      <td>[enhancement, priority:low]</td>\n",
              "    </tr>\n",
              "    <tr>\n",
              "      <th>13</th>\n",
              "      <td>vulnerability ddos get api v projects</td>\n",
              "      <td>project apitestuattemplate apiv projectsgetque...</td>\n",
              "      <td>[ApiTestUat]</td>\n",
              "    </tr>\n",
              "  </tbody>\n",
              "</table>\n",
              "</div>"
            ],
            "text/plain": [
              "                                                title  \\\n",
              "0   error building package zlib x windows static f...   \n",
              "1                pagination bug when removing an item   \n",
              "4               helm podantiaffinity templating error   \n",
              "5   tradingview quick chart resize does not honor ...   \n",
              "6                                       upgrade isort   \n",
              "7                   configurable window of completion   \n",
              "8        telemetry add search counts to baseline ping   \n",
              "9   sql show zone configuration for table table na...   \n",
              "12   add ice and snow melt flag general flag category   \n",
              "13              vulnerability ddos get api v projects   \n",
              "\n",
              "                                                 body  \\\n",
              "0    package zlib x windows staticvcpkg version debug   \n",
              "1   reported by a pro user if for exemple we have ...   \n",
              "4   describe the bug helm charts fail to generate ...   \n",
              "5   describe the bug the up and down arrows for tr...   \n",
              "6   we are using but isort https pypi org project ...   \n",
              "7   from not fixed the window for completion of a ...   \n",
              "8   follow up on https github com mozilla mobile f...   \n",
              "9   describe the problem i partitioned a table cre...   \n",
              "12                      could be useful in some cases   \n",
              "13  project apitestuattemplate apiv projectsgetque...   \n",
              "\n",
              "                                               labels  \n",
              "0                                       [needs-repro]  \n",
              "1                                       [enhancement]  \n",
              "4                                 [area/environments]  \n",
              "5   [[1b] User Story, [3] Bug, [4c] High Priority,...  \n",
              "6   [feature-refactoring, good first issue, needs ...  \n",
              "7                                           [feature]  \n",
              "8        [Feature:Search, Feature:Telemetry, P1, a-c]  \n",
              "9       [A-partitioning, A-sql-syntax, C-enhancement]  \n",
              "12                        [enhancement, priority:low]  \n",
              "13                                       [ApiTestUat]  "
            ]
          },
          "metadata": {
            "tags": []
          },
          "execution_count": 188
        }
      ]
    },
    {
      "cell_type": "code",
      "metadata": {
        "id": "jxgEFXceP49H",
        "colab_type": "code",
        "outputId": "24e3211d-d16e-4718-b430-b6264f78524e",
        "colab": {
          "base_uri": "https://localhost:8080/",
          "height": 1000
        }
      },
      "source": [
        "#find out the most frequent words in the title and body\n",
        "def freq_words(x, terms = 30): \n",
        "  all_words = ' '.join([text for text in x]) \n",
        "  all_words = all_words.split() \n",
        "  fdist = nltk.FreqDist(all_words) \n",
        "  words_df = pd.DataFrame({'word':list(fdist.keys()), 'count':list(fdist.values())}) \n",
        "  \n",
        "  # selecting top n most frequent words \n",
        "  d = words_df.nlargest(columns=\"count\", n = terms) \n",
        "  \n",
        "  # visualize words and frequencies\n",
        "  plt.figure(figsize=(12,24)) \n",
        "  ax = sns.barplot(data=d, x= \"count\", y = \"word\") \n",
        "  ax.set(ylabel = 'Word') \n",
        "  plt.show()\n",
        "  \n",
        "# print 50 most frequent words \n",
        "freq_words(prc_dset['body'], 50)\n",
        "# Denotes many stopwords are present in title and body"
      ],
      "execution_count": 189,
      "outputs": [
        {
          "output_type": "display_data",
          "data": {
            "image/png": "[encoded data removed]",
            "text/plain": [
              "<Figure size 864x1728 with 1 Axes>"
            ]
          },
          "metadata": {
            "tags": []
          }
        }
      ]
    },
    {
      "cell_type": "code",
      "metadata": {
        "id": "1IyEJ9c6ScWo",
        "colab_type": "code",
        "outputId": "974c23de-f3ba-46d9-bd42-64a631b38888",
        "colab": {
          "base_uri": "https://localhost:8080/",
          "height": 1000
        }
      },
      "source": [
        "freq_words(prc_dset['title'], 50)"
      ],
      "execution_count": 190,
      "outputs": [
        {
          "output_type": "display_data",
          "data": {
            "image/png": "[encoded data removed]",
            "text/plain": [
              "<Figure size 864x1728 with 1 Axes>"
            ]
          },
          "metadata": {
            "tags": []
          }
        }
      ]
    },
    {
      "cell_type": "code",
      "metadata": {
        "id": "bPUBe6XlaDi1",
        "colab_type": "code",
        "colab": {}
      },
      "source": [
        "# Along with common english stopwords few others are present as noise in the data\n",
        "newStopWords = ['www','com','r','n','c','e','f','b','g','h','l','http','https','u','v','x','z','de','non','rb','ef','li','ts','p','md','ci','go','cli','en','ms','br','sdm','us','k','cc','eslint','tat','im','fbadb','cccfb','dali']\n",
        "# Extended list of pre-defined nltk stopwords with some redundant words\n",
        "stopwords.extend(newStopWords)"
      ],
      "execution_count": 0,
      "outputs": []
    },
    {
      "cell_type": "code",
      "metadata": {
        "id": "8QaT6bZ9Wais",
        "colab_type": "code",
        "outputId": "dac255cf-c116-435c-a2d3-0512c96d5101",
        "colab": {
          "base_uri": "https://localhost:8080/",
          "height": 241
        }
      },
      "source": [
        "#function to remove stopwords\n",
        "def remove_stopwords(text):\n",
        "    no_stopword_text = [w for w in text.split() if not w in stopwords]\n",
        "    return ' '.join(no_stopword_text)\n",
        "\n",
        "#removing stopwords from title and body\n",
        "prc_dset['title'] = prc_dset['title'].apply(lambda x: remove_stopwords(x))\n",
        "prc_dset['body'] = prc_dset['body'].apply(lambda x: remove_stopwords(x))"
      ],
      "execution_count": 192,
      "outputs": [
        {
          "output_type": "stream",
          "text": [
            "/usr/local/lib/python3.6/dist-packages/ipykernel_launcher.py:6: SettingWithCopyWarning: \n",
            "A value is trying to be set on a copy of a slice from a DataFrame.\n",
            "Try using .loc[row_indexer,col_indexer] = value instead\n",
            "\n",
            "See the caveats in the documentation: http://pandas.pydata.org/pandas-docs/stable/user_guide/indexing.html#returning-a-view-versus-a-copy\n",
            "  \n",
            "/usr/local/lib/python3.6/dist-packages/ipykernel_launcher.py:7: SettingWithCopyWarning: \n",
            "A value is trying to be set on a copy of a slice from a DataFrame.\n",
            "Try using .loc[row_indexer,col_indexer] = value instead\n",
            "\n",
            "See the caveats in the documentation: http://pandas.pydata.org/pandas-docs/stable/user_guide/indexing.html#returning-a-view-versus-a-copy\n",
            "  import sys\n"
          ],
          "name": "stderr"
        }
      ]
    },
    {
      "cell_type": "code",
      "metadata": {
        "id": "MjImOfJ2W4MY",
        "colab_type": "code",
        "outputId": "11d07fb7-0d1a-4328-9077-c2dcf9e8e406",
        "colab": {
          "base_uri": "https://localhost:8080/",
          "height": 1000
        }
      },
      "source": [
        "#Frequency of common words now showing some relevant words\n",
        "freq_words(prc_dset['title'], 50)"
      ],
      "execution_count": 193,
      "outputs": [
        {
          "output_type": "display_data",
          "data": {
            "image/png": "[encoded data removed]",
            "text/plain": [
              "<Figure size 864x1728 with 1 Axes>"
            ]
          },
          "metadata": {
            "tags": []
          }
        }
      ]
    },
    {
      "cell_type": "code",
      "metadata": {
        "id": "oUULKm77YCh7",
        "colab_type": "code",
        "outputId": "c817d29e-2e4b-4678-d4b4-2045ce787de4",
        "colab": {
          "base_uri": "https://localhost:8080/",
          "height": 1000
        }
      },
      "source": [
        "freq_words(prc_dset['body'], 50)"
      ],
      "execution_count": 194,
      "outputs": [
        {
          "output_type": "display_data",
          "data": {
            "image/png": "[encoded data removed]",
            "text/plain": [
              "<Figure size 864x1728 with 1 Axes>"
            ]
          },
          "metadata": {
            "tags": []
          }
        }
      ]
    },
    {
      "cell_type": "code",
      "metadata": {
        "id": "gsQJNvHWY_Zg",
        "colab_type": "code",
        "outputId": "12c0c029-b9e2-4f44-ada5-38ca9917f06d",
        "colab": {
          "base_uri": "https://localhost:8080/",
          "height": 512
        }
      },
      "source": [
        "#cleaned dataset\n",
        "prc_dset.head(10)"
      ],
      "execution_count": 195,
      "outputs": [
        {
          "output_type": "execute_result",
          "data": {
            "text/html": [
              "<div>\n",
              "<style scoped>\n",
              "    .dataframe tbody tr th:only-of-type {\n",
              "        vertical-align: middle;\n",
              "    }\n",
              "\n",
              "    .dataframe tbody tr th {\n",
              "        vertical-align: top;\n",
              "    }\n",
              "\n",
              "    .dataframe thead th {\n",
              "        text-align: right;\n",
              "    }\n",
              "</style>\n",
              "<table border=\"1\" class=\"dataframe\">\n",
              "  <thead>\n",
              "    <tr style=\"text-align: right;\">\n",
              "      <th></th>\n",
              "      <th>title</th>\n",
              "      <th>body</th>\n",
              "      <th>labels</th>\n",
              "    </tr>\n",
              "  </thead>\n",
              "  <tbody>\n",
              "    <tr>\n",
              "      <th>0</th>\n",
              "      <td>error building package zlib windows static fai...</td>\n",
              "      <td>package zlib windows staticvcpkg version debug</td>\n",
              "      <td>[needs-repro]</td>\n",
              "    </tr>\n",
              "    <tr>\n",
              "      <th>1</th>\n",
              "      <td>pagination bug removing item</td>\n",
              "      <td>reported pro user exemple table items per page...</td>\n",
              "      <td>[enhancement]</td>\n",
              "    </tr>\n",
              "    <tr>\n",
              "      <th>4</th>\n",
              "      <td>helm podantiaffinity templating error</td>\n",
              "      <td>describe bug helm charts fail generate proper ...</td>\n",
              "      <td>[area/environments]</td>\n",
              "    </tr>\n",
              "    <tr>\n",
              "      <th>5</th>\n",
              "      <td>tradingview quick chart resize honor limit values</td>\n",
              "      <td>describe bug arrows tradingview chart size don...</td>\n",
              "      <td>[[1b] User Story, [3] Bug, [4c] High Priority,...</td>\n",
              "    </tr>\n",
              "    <tr>\n",
              "      <th>6</th>\n",
              "      <td>upgrade isort</td>\n",
              "      <td>using isort pypi org project isort latest migh...</td>\n",
              "      <td>[feature-refactoring, good first issue, needs ...</td>\n",
              "    </tr>\n",
              "    <tr>\n",
              "      <th>7</th>\n",
              "      <td>configurable window completion</td>\n",
              "      <td>fixed window completion given questionnaire co...</td>\n",
              "      <td>[feature]</td>\n",
              "    </tr>\n",
              "    <tr>\n",
              "      <th>8</th>\n",
              "      <td>telemetry add search counts baseline ping</td>\n",
              "      <td>follow github mozilla mobile fenix issues issu...</td>\n",
              "      <td>[Feature:Search, Feature:Telemetry, P1, a-c]</td>\n",
              "    </tr>\n",
              "    <tr>\n",
              "      <th>9</th>\n",
              "      <td>sql show zone configuration table table name p...</td>\n",
              "      <td>describe problem partitioned table created rep...</td>\n",
              "      <td>[A-partitioning, A-sql-syntax, C-enhancement]</td>\n",
              "    </tr>\n",
              "    <tr>\n",
              "      <th>12</th>\n",
              "      <td>add ice snow melt flag general flag category</td>\n",
              "      <td>could useful cases</td>\n",
              "      <td>[enhancement, priority:low]</td>\n",
              "    </tr>\n",
              "    <tr>\n",
              "      <th>13</th>\n",
              "      <td>vulnerability ddos get api projects</td>\n",
              "      <td>project apitestuattemplate apiv projectsgetque...</td>\n",
              "      <td>[ApiTestUat]</td>\n",
              "    </tr>\n",
              "  </tbody>\n",
              "</table>\n",
              "</div>"
            ],
            "text/plain": [
              "                                                title  \\\n",
              "0   error building package zlib windows static fai...   \n",
              "1                        pagination bug removing item   \n",
              "4               helm podantiaffinity templating error   \n",
              "5   tradingview quick chart resize honor limit values   \n",
              "6                                       upgrade isort   \n",
              "7                      configurable window completion   \n",
              "8           telemetry add search counts baseline ping   \n",
              "9   sql show zone configuration table table name p...   \n",
              "12       add ice snow melt flag general flag category   \n",
              "13                vulnerability ddos get api projects   \n",
              "\n",
              "                                                 body  \\\n",
              "0      package zlib windows staticvcpkg version debug   \n",
              "1   reported pro user exemple table items per page...   \n",
              "4   describe bug helm charts fail generate proper ...   \n",
              "5   describe bug arrows tradingview chart size don...   \n",
              "6   using isort pypi org project isort latest migh...   \n",
              "7   fixed window completion given questionnaire co...   \n",
              "8   follow github mozilla mobile fenix issues issu...   \n",
              "9   describe problem partitioned table created rep...   \n",
              "12                                 could useful cases   \n",
              "13  project apitestuattemplate apiv projectsgetque...   \n",
              "\n",
              "                                               labels  \n",
              "0                                       [needs-repro]  \n",
              "1                                       [enhancement]  \n",
              "4                                 [area/environments]  \n",
              "5   [[1b] User Story, [3] Bug, [4c] High Priority,...  \n",
              "6   [feature-refactoring, good first issue, needs ...  \n",
              "7                                           [feature]  \n",
              "8        [Feature:Search, Feature:Telemetry, P1, a-c]  \n",
              "9       [A-partitioning, A-sql-syntax, C-enhancement]  \n",
              "12                        [enhancement, priority:low]  \n",
              "13                                       [ApiTestUat]  "
            ]
          },
          "metadata": {
            "tags": []
          },
          "execution_count": 195
        }
      ]
    },
    {
      "cell_type": "code",
      "metadata": {
        "id": "HAYUydvFZCu-",
        "colab_type": "code",
        "colab": {}
      },
      "source": [
        "#Merging all labels in a single list\n",
        "labels=[]\n",
        "for i in prc_dset['labels']:\n",
        "    labels.extend(i)"
      ],
      "execution_count": 0,
      "outputs": []
    },
    {
      "cell_type": "code",
      "metadata": {
        "id": "vBZ1Gns__bjB",
        "colab_type": "code",
        "outputId": "b82c613e-b096-4dcb-f69c-d35196497b2d",
        "colab": {
          "base_uri": "https://localhost:8080/",
          "height": 187
        }
      },
      "source": [
        "#Merged list of all labels\n",
        "labels[:10]"
      ],
      "execution_count": 197,
      "outputs": [
        {
          "output_type": "execute_result",
          "data": {
            "text/plain": [
              "['needs-repro',\n",
              " 'enhancement',\n",
              " 'area/environments',\n",
              " '[1b] User Story',\n",
              " '[3] Bug',\n",
              " '[4c] High Priority',\n",
              " '[5a] Tiny',\n",
              " '[6] RC Blockage',\n",
              " '[7] Estimated',\n",
              " 'feature-refactoring']"
            ]
          },
          "metadata": {
            "tags": []
          },
          "execution_count": 197
        }
      ]
    },
    {
      "cell_type": "code",
      "metadata": {
        "id": "E3qI0snK_u1l",
        "colab_type": "code",
        "colab": {}
      },
      "source": [
        "#Counting frequency of the labels\n",
        "count={}\n",
        "for x in labels:\n",
        "    if x not in count:\n",
        "        count[x]=1\n",
        "    else:\n",
        "        count[x]+=1\n",
        "d = collections.Counter(count)\n",
        "freq=[]\n",
        "i=0\n",
        "for w,c in d.most_common(2502):\n",
        "    freq.append([w,c])"
      ],
      "execution_count": 0,
      "outputs": []
    },
    {
      "cell_type": "code",
      "metadata": {
        "id": "FMb0nf28_3xz",
        "colab_type": "code",
        "outputId": "921f5eb1-6e84-4df5-f71c-2f6d452adff2",
        "colab": {
          "base_uri": "https://localhost:8080/",
          "height": 867
        }
      },
      "source": [
        "#1st 50 frequent labels\n",
        "freq[:50]"
      ],
      "execution_count": 199,
      "outputs": [
        {
          "output_type": "execute_result",
          "data": {
            "text/plain": [
              "[['bug', 673],\n",
              " ['enhancement', 586],\n",
              " ['question', 147],\n",
              " ['help wanted', 104],\n",
              " ['good first issue', 87],\n",
              " ['wontfix', 72],\n",
              " ['feature', 67],\n",
              " ['Bug', 55],\n",
              " ['stale', 48],\n",
              " ['greenkeeper', 47],\n",
              " ['in progress', 39],\n",
              " ['triaged', 38],\n",
              " ['type: bug', 33],\n",
              " ['documentation', 31],\n",
              " ['duplicate', 30],\n",
              " ['kind/bug', 28],\n",
              " ['task', 26],\n",
              " ['invalid', 26],\n",
              " ['user-submission', 25],\n",
              " ['assigned-to-author', 23],\n",
              " ['review', 21],\n",
              " ['docs', 20],\n",
              " ['Enhancement', 20],\n",
              " ['N: AdGuard Browser Extension', 18],\n",
              " ['feature request', 18],\n",
              " ['P3: Medium', 17],\n",
              " ['browser-firefox', 17],\n",
              " ['P1', 15],\n",
              " ['Priority: High', 15],\n",
              " ['Priority: Medium', 15],\n",
              " ['frontend', 15],\n",
              " ['support', 14],\n",
              " ['design', 14],\n",
              " ['Epic', 14],\n",
              " ['new-version', 14],\n",
              " ['cxp', 14],\n",
              " ['browser-firefox-mobile', 14],\n",
              " ['ui', 13],\n",
              " ['Feature', 13],\n",
              " ['high priority', 13],\n",
              " ['triage', 13],\n",
              " ['discussion', 12],\n",
              " ['priority/P0', 12],\n",
              " ['doc-enhancement', 12],\n",
              " ['Type: Bug', 12],\n",
              " ['type: enhancement', 12],\n",
              " ['In Scope (June 2019)', 11],\n",
              " ['target/1.8.0', 11],\n",
              " ['lang/zh', 11],\n",
              " ['kind/feature', 11]]"
            ]
          },
          "metadata": {
            "tags": []
          },
          "execution_count": 199
        }
      ]
    },
    {
      "cell_type": "code",
      "metadata": {
        "id": "_tBgzPbmaEzq",
        "colab_type": "code",
        "colab": {}
      },
      "source": [
        "#Labels of different repositories are in different forms\n",
        "#as they are created manually\n",
        "#need to bring it in same shape to get proper count\n",
        "\n",
        "#Removing digits and punctuations from labels\n",
        "def clean_label(l):\n",
        "    s=','.join(l)\n",
        "    s=re.sub(\"[\\[\\\\]]\",'',s)\n",
        "    s=re.sub(\"['0123456789']\",'',s)\n",
        "    s=''.join([char.lower() for char in s])\n",
        "    st=[]\n",
        "    for com in s.split(','):\n",
        "        l=[]\n",
        "        for wo in com.split():\n",
        "            if not wo in ['r','c','b','rc','a','l','x','z',':','p:']:\n",
        "                l.append(wo)\n",
        "        st.append(' '.join(l))\n",
        "    return ','.join(st) "
      ],
      "execution_count": 0,
      "outputs": []
    },
    {
      "cell_type": "code",
      "metadata": {
        "id": "b7hoD_aSaSuI",
        "colab_type": "code",
        "outputId": "fbb2b740-bab3-4109-f409-6fe080369a43",
        "colab": {
          "base_uri": "https://localhost:8080/",
          "height": 139
        }
      },
      "source": [
        "#Adding the cleaned labels to the dataset\n",
        "prc_dset['clean_lbl']=prc_dset['labels'].apply(lambda x: clean_label(x))"
      ],
      "execution_count": 201,
      "outputs": [
        {
          "output_type": "stream",
          "text": [
            "/usr/local/lib/python3.6/dist-packages/ipykernel_launcher.py:1: SettingWithCopyWarning: \n",
            "A value is trying to be set on a copy of a slice from a DataFrame.\n",
            "Try using .loc[row_indexer,col_indexer] = value instead\n",
            "\n",
            "See the caveats in the documentation: http://pandas.pydata.org/pandas-docs/stable/user_guide/indexing.html#returning-a-view-versus-a-copy\n",
            "  \"\"\"Entry point for launching an IPython kernel.\n"
          ],
          "name": "stderr"
        }
      ]
    },
    {
      "cell_type": "code",
      "metadata": {
        "id": "8aVtf_xwalQL",
        "colab_type": "code",
        "outputId": "5cb70523-3922-4014-e70d-805a72e33d06",
        "colab": {
          "base_uri": "https://localhost:8080/",
          "height": 529
        }
      },
      "source": [
        "#Dataset with the cleaned labels\n",
        "prc_dset.head(10)"
      ],
      "execution_count": 202,
      "outputs": [
        {
          "output_type": "execute_result",
          "data": {
            "text/html": [
              "<div>\n",
              "<style scoped>\n",
              "    .dataframe tbody tr th:only-of-type {\n",
              "        vertical-align: middle;\n",
              "    }\n",
              "\n",
              "    .dataframe tbody tr th {\n",
              "        vertical-align: top;\n",
              "    }\n",
              "\n",
              "    .dataframe thead th {\n",
              "        text-align: right;\n",
              "    }\n",
              "</style>\n",
              "<table border=\"1\" class=\"dataframe\">\n",
              "  <thead>\n",
              "    <tr style=\"text-align: right;\">\n",
              "      <th></th>\n",
              "      <th>title</th>\n",
              "      <th>body</th>\n",
              "      <th>labels</th>\n",
              "      <th>clean_lbl</th>\n",
              "    </tr>\n",
              "  </thead>\n",
              "  <tbody>\n",
              "    <tr>\n",
              "      <th>0</th>\n",
              "      <td>error building package zlib windows static fai...</td>\n",
              "      <td>package zlib windows staticvcpkg version debug</td>\n",
              "      <td>[needs-repro]</td>\n",
              "      <td>needs-repro</td>\n",
              "    </tr>\n",
              "    <tr>\n",
              "      <th>1</th>\n",
              "      <td>pagination bug removing item</td>\n",
              "      <td>reported pro user exemple table items per page...</td>\n",
              "      <td>[enhancement]</td>\n",
              "      <td>enhancement</td>\n",
              "    </tr>\n",
              "    <tr>\n",
              "      <th>4</th>\n",
              "      <td>helm podantiaffinity templating error</td>\n",
              "      <td>describe bug helm charts fail generate proper ...</td>\n",
              "      <td>[area/environments]</td>\n",
              "      <td>area/environments</td>\n",
              "    </tr>\n",
              "    <tr>\n",
              "      <th>5</th>\n",
              "      <td>tradingview quick chart resize honor limit values</td>\n",
              "      <td>describe bug arrows tradingview chart size don...</td>\n",
              "      <td>[[1b] User Story, [3] Bug, [4c] High Priority,...</td>\n",
              "      <td>user story,bug,high priority,tiny,blockage,est...</td>\n",
              "    </tr>\n",
              "    <tr>\n",
              "      <th>6</th>\n",
              "      <td>upgrade isort</td>\n",
              "      <td>using isort pypi org project isort latest migh...</td>\n",
              "      <td>[feature-refactoring, good first issue, needs ...</td>\n",
              "      <td>feature-refactoring,good first issue,needs pr,...</td>\n",
              "    </tr>\n",
              "    <tr>\n",
              "      <th>7</th>\n",
              "      <td>configurable window completion</td>\n",
              "      <td>fixed window completion given questionnaire co...</td>\n",
              "      <td>[feature]</td>\n",
              "      <td>feature</td>\n",
              "    </tr>\n",
              "    <tr>\n",
              "      <th>8</th>\n",
              "      <td>telemetry add search counts baseline ping</td>\n",
              "      <td>follow github mozilla mobile fenix issues issu...</td>\n",
              "      <td>[Feature:Search, Feature:Telemetry, P1, a-c]</td>\n",
              "      <td>feature:search,feature:telemetry,p,a-c</td>\n",
              "    </tr>\n",
              "    <tr>\n",
              "      <th>9</th>\n",
              "      <td>sql show zone configuration table table name p...</td>\n",
              "      <td>describe problem partitioned table created rep...</td>\n",
              "      <td>[A-partitioning, A-sql-syntax, C-enhancement]</td>\n",
              "      <td>a-partitioning,a-sql-syntax,c-enhancement</td>\n",
              "    </tr>\n",
              "    <tr>\n",
              "      <th>12</th>\n",
              "      <td>add ice snow melt flag general flag category</td>\n",
              "      <td>could useful cases</td>\n",
              "      <td>[enhancement, priority:low]</td>\n",
              "      <td>enhancement,priority:low</td>\n",
              "    </tr>\n",
              "    <tr>\n",
              "      <th>13</th>\n",
              "      <td>vulnerability ddos get api projects</td>\n",
              "      <td>project apitestuattemplate apiv projectsgetque...</td>\n",
              "      <td>[ApiTestUat]</td>\n",
              "      <td>apitestuat</td>\n",
              "    </tr>\n",
              "  </tbody>\n",
              "</table>\n",
              "</div>"
            ],
            "text/plain": [
              "                                                title  \\\n",
              "0   error building package zlib windows static fai...   \n",
              "1                        pagination bug removing item   \n",
              "4               helm podantiaffinity templating error   \n",
              "5   tradingview quick chart resize honor limit values   \n",
              "6                                       upgrade isort   \n",
              "7                      configurable window completion   \n",
              "8           telemetry add search counts baseline ping   \n",
              "9   sql show zone configuration table table name p...   \n",
              "12       add ice snow melt flag general flag category   \n",
              "13                vulnerability ddos get api projects   \n",
              "\n",
              "                                                 body  \\\n",
              "0      package zlib windows staticvcpkg version debug   \n",
              "1   reported pro user exemple table items per page...   \n",
              "4   describe bug helm charts fail generate proper ...   \n",
              "5   describe bug arrows tradingview chart size don...   \n",
              "6   using isort pypi org project isort latest migh...   \n",
              "7   fixed window completion given questionnaire co...   \n",
              "8   follow github mozilla mobile fenix issues issu...   \n",
              "9   describe problem partitioned table created rep...   \n",
              "12                                 could useful cases   \n",
              "13  project apitestuattemplate apiv projectsgetque...   \n",
              "\n",
              "                                               labels  \\\n",
              "0                                       [needs-repro]   \n",
              "1                                       [enhancement]   \n",
              "4                                 [area/environments]   \n",
              "5   [[1b] User Story, [3] Bug, [4c] High Priority,...   \n",
              "6   [feature-refactoring, good first issue, needs ...   \n",
              "7                                           [feature]   \n",
              "8        [Feature:Search, Feature:Telemetry, P1, a-c]   \n",
              "9       [A-partitioning, A-sql-syntax, C-enhancement]   \n",
              "12                        [enhancement, priority:low]   \n",
              "13                                       [ApiTestUat]   \n",
              "\n",
              "                                            clean_lbl  \n",
              "0                                         needs-repro  \n",
              "1                                         enhancement  \n",
              "4                                   area/environments  \n",
              "5   user story,bug,high priority,tiny,blockage,est...  \n",
              "6   feature-refactoring,good first issue,needs pr,...  \n",
              "7                                             feature  \n",
              "8              feature:search,feature:telemetry,p,a-c  \n",
              "9           a-partitioning,a-sql-syntax,c-enhancement  \n",
              "12                           enhancement,priority:low  \n",
              "13                                         apitestuat  "
            ]
          },
          "metadata": {
            "tags": []
          },
          "execution_count": 202
        }
      ]
    },
    {
      "cell_type": "code",
      "metadata": {
        "id": "YTH72MYiby9u",
        "colab_type": "code",
        "colab": {}
      },
      "source": [
        "#List of lists form of labels converted to string\n",
        "#Need to get it back in original form\n",
        "lbls=[]\n",
        "for i in prc_dset['clean_lbl']:\n",
        "  l=i.split(',')\n",
        "  lbls.append(l)"
      ],
      "execution_count": 0,
      "outputs": []
    },
    {
      "cell_type": "code",
      "metadata": {
        "id": "DDB3YgETcahJ",
        "colab_type": "code",
        "outputId": "d62a6068-cc7a-4223-eef4-952e3336a238",
        "colab": {
          "base_uri": "https://localhost:8080/",
          "height": 187
        }
      },
      "source": [
        "#Original form achieved\n",
        "lbls[:10]"
      ],
      "execution_count": 204,
      "outputs": [
        {
          "output_type": "execute_result",
          "data": {
            "text/plain": [
              "[['needs-repro'],\n",
              " ['enhancement'],\n",
              " ['area/environments'],\n",
              " ['user story', 'bug', 'high priority', 'tiny', 'blockage', 'estimated'],\n",
              " ['feature-refactoring', 'good first issue', 'needs pr', 'type-code health'],\n",
              " ['feature'],\n",
              " ['feature:search', 'feature:telemetry', 'p', 'a-c'],\n",
              " ['a-partitioning', 'a-sql-syntax', 'c-enhancement'],\n",
              " ['enhancement', 'priority:low'],\n",
              " ['apitestuat']]"
            ]
          },
          "metadata": {
            "tags": []
          },
          "execution_count": 204
        }
      ]
    },
    {
      "cell_type": "code",
      "metadata": {
        "id": "hOFm2ZqWc_tJ",
        "colab_type": "code",
        "colab": {}
      },
      "source": [
        "#\"bug\",\"Bug\" & \"kind/bug\" are same hence need to make them as same word,say, \"bug\"\n",
        "#Same thing applies for other labels\n",
        "#Using multiple string replaces for the same purpose\n",
        "lbls_clean=[]\n",
        "for i in lbls:\n",
        "  i=[w.replace('type: bug','bug').replace('kind/bug','bug').replace('type_bug','bug').replace('type:bug','bug').replace('type bug','bug').replace('type.bug','bug').replace('type-bug','bug').replace('bug / fix','bug').replace('🐞 bug','bug').replace('type: bug 🐛','bug').replace('🐛 bug','bug').replace('bug 🐛','bug').replace('c-enhancement','enhancement').replace('doenhancement','enhancement').replace('type: enhancement','enhancement').replace('type:enhancement','enhancement').replace('kind/enhancement','enhancement').replace('improvement','enhancement').replace('✨ enhancement','enhancement').replace('feature request','feature').replace('feature_request','feature').replace('new feature','feature').replace('type: feature','feature').replace('kind/feature','feature').replace('feature-refactoring','feature').replace('docs','documentation').replace('priority: high','highpriority').replace('priority:high','highpriority').replace('priority - high','highpriority').replace('priority/high','highpriority').replace('priority.high','highpriority').replace('priority-critical','highpriority').replace('priority: critical','highpriority').replace('high priority','highpriority').replace('priority.medium','mediumpriority').replace('medium priority','mediumpriority').replace('type: question','question').replace('kind/question','question').replace('🤔 question','question').replace('type:support','support').replace('in-progress','in progress').replace('help wanted','helpwanted').replace('type.task','task') for w in i]\n",
        "  lbls_clean.append(i)\n"
      ],
      "execution_count": 0,
      "outputs": []
    },
    {
      "cell_type": "code",
      "metadata": {
        "id": "VfIhMtEzfp5v",
        "colab_type": "code",
        "outputId": "b018275c-49da-4d83-9e6b-d66583bc56db",
        "colab": {
          "base_uri": "https://localhost:8080/",
          "height": 442
        }
      },
      "source": [
        "#cleaned labels\n",
        "lbls_clean[:25]"
      ],
      "execution_count": 206,
      "outputs": [
        {
          "output_type": "execute_result",
          "data": {
            "text/plain": [
              "[['needs-repro'],\n",
              " ['enhancement'],\n",
              " ['area/environments'],\n",
              " ['user story', 'bug', 'highpriority', 'tiny', 'blockage', 'estimated'],\n",
              " ['feature', 'good first issue', 'needs pr', 'type-code health'],\n",
              " ['feature'],\n",
              " ['feature:search', 'feature:telemetry', 'p', 'a-c'],\n",
              " ['a-partitioning', 'a-sql-syntax', 'enhancement'],\n",
              " ['enhancement', 'priority:low'],\n",
              " ['apitestuat'],\n",
              " ['enhancement'],\n",
              " ['bug', 'compiler', 'highpriority', 'repl'],\n",
              " ['not-reproducible'],\n",
              " ['support'],\n",
              " ['backport', 'enhancement'],\n",
              " ['category: ux', 'low'],\n",
              " ['backtest', 'good first issue'],\n",
              " ['severe: feature', 'tool', '○ platform-fuchsia'],\n",
              " ['cgmes', 'bug'],\n",
              " ['enhancement'],\n",
              " ['highpriority', 'type: refactor'],\n",
              " ['bug'],\n",
              " ['back end', 'feature', 'highpriority'],\n",
              " ['question'],\n",
              " ['wontfix']]"
            ]
          },
          "metadata": {
            "tags": []
          },
          "execution_count": 206
        }
      ]
    },
    {
      "cell_type": "code",
      "metadata": {
        "id": "HzYr5IUdBOly",
        "colab_type": "code",
        "colab": {}
      },
      "source": [
        "#Now the labels are ready for frequency count\n",
        "#Merging all labels in a single list\n",
        "labels=[]\n",
        "for i in lbls_clean:\n",
        "    labels.extend(i)"
      ],
      "execution_count": 0,
      "outputs": []
    },
    {
      "cell_type": "code",
      "metadata": {
        "id": "7vWt61U-B40T",
        "colab_type": "code",
        "outputId": "ea30742c-583f-401c-eb2d-3880fd00a0d7",
        "colab": {
          "base_uri": "https://localhost:8080/",
          "height": 34
        }
      },
      "source": [
        "#Total no. of labels\n",
        "len(labels)"
      ],
      "execution_count": 208,
      "outputs": [
        {
          "output_type": "execute_result",
          "data": {
            "text/plain": [
              "7266"
            ]
          },
          "metadata": {
            "tags": []
          },
          "execution_count": 208
        }
      ]
    },
    {
      "cell_type": "code",
      "metadata": {
        "id": "89BUi6btEahE",
        "colab_type": "code",
        "outputId": "6c13d97a-c80e-4f01-dbd9-3b82e4ac514b",
        "colab": {
          "base_uri": "https://localhost:8080/",
          "height": 187
        }
      },
      "source": [
        "labels[:10]"
      ],
      "execution_count": 209,
      "outputs": [
        {
          "output_type": "execute_result",
          "data": {
            "text/plain": [
              "['needs-repro',\n",
              " 'enhancement',\n",
              " 'area/environments',\n",
              " 'user story',\n",
              " 'bug',\n",
              " 'highpriority',\n",
              " 'tiny',\n",
              " 'blockage',\n",
              " 'estimated',\n",
              " 'feature']"
            ]
          },
          "metadata": {
            "tags": []
          },
          "execution_count": 209
        }
      ]
    },
    {
      "cell_type": "code",
      "metadata": {
        "id": "7_Qj0BHw38vb",
        "colab_type": "code",
        "colab": {}
      },
      "source": [
        "#Frequency Count of common labels\n",
        "count={}\n",
        "for x in labels:\n",
        "    if x not in count:\n",
        "        count[x]=1\n",
        "    else:\n",
        "        count[x]+=1\n",
        "d = collections.Counter(count)\n",
        "freq=[]\n",
        "i=0\n",
        "for w,c in d.most_common():\n",
        "    freq.append([w,c])"
      ],
      "execution_count": 0,
      "outputs": []
    },
    {
      "cell_type": "code",
      "metadata": {
        "id": "M3m0Zpz3ApX9",
        "colab_type": "code",
        "outputId": "3ef79ce7-8496-4297-c57f-d7a5b718c6c7",
        "colab": {
          "base_uri": "https://localhost:8080/",
          "height": 527
        }
      },
      "source": [
        "#Most frequent labels\n",
        "freq[:30]"
      ],
      "execution_count": 211,
      "outputs": [
        {
          "output_type": "execute_result",
          "data": {
            "text/plain": [
              "[['bug', 861],\n",
              " ['enhancement', 663],\n",
              " ['question', 174],\n",
              " ['feature', 140],\n",
              " ['helpwanted', 106],\n",
              " ['good first issue', 89],\n",
              " ['highpriority', 85],\n",
              " ['wontfix', 75],\n",
              " ['documentation', 63],\n",
              " ['in progress', 51],\n",
              " ['stale', 50],\n",
              " ['p', 48],\n",
              " ['greenkeeper', 47],\n",
              " ['triaged', 42],\n",
              " ['task', 39],\n",
              " ['medium', 36],\n",
              " ['duplicate', 35],\n",
              " ['invalid', 30],\n",
              " ['support', 26],\n",
              " ['user-submission', 25],\n",
              " ['ui', 23],\n",
              " ['assigned-to-author', 23],\n",
              " ['priority: medium', 22],\n",
              " ['review', 21],\n",
              " ['', 21],\n",
              " ['design', 19],\n",
              " ['high', 19],\n",
              " ['n: adguard browser extension', 18],\n",
              " ['frontend', 18],\n",
              " ['epic', 18]]"
            ]
          },
          "metadata": {
            "tags": []
          },
          "execution_count": 211
        }
      ]
    },
    {
      "cell_type": "code",
      "metadata": {
        "id": "BPe3L7oeI5fn",
        "colab_type": "code",
        "outputId": "cd6eedfc-4f8b-4a07-bdcc-0545090c9642",
        "colab": {
          "base_uri": "https://localhost:8080/",
          "height": 428
        }
      },
      "source": [
        "#Counts have changed properly\n",
        "#Now adding cleaned labels to the dataset\n",
        "prc_dset['lbls_clean']=lbls_clean\n",
        "prc_dset.head()"
      ],
      "execution_count": 212,
      "outputs": [
        {
          "output_type": "stream",
          "text": [
            "/usr/local/lib/python3.6/dist-packages/ipykernel_launcher.py:1: SettingWithCopyWarning: \n",
            "A value is trying to be set on a copy of a slice from a DataFrame.\n",
            "Try using .loc[row_indexer,col_indexer] = value instead\n",
            "\n",
            "See the caveats in the documentation: http://pandas.pydata.org/pandas-docs/stable/user_guide/indexing.html#returning-a-view-versus-a-copy\n",
            "  \"\"\"Entry point for launching an IPython kernel.\n"
          ],
          "name": "stderr"
        },
        {
          "output_type": "execute_result",
          "data": {
            "text/html": [
              "<div>\n",
              "<style scoped>\n",
              "    .dataframe tbody tr th:only-of-type {\n",
              "        vertical-align: middle;\n",
              "    }\n",
              "\n",
              "    .dataframe tbody tr th {\n",
              "        vertical-align: top;\n",
              "    }\n",
              "\n",
              "    .dataframe thead th {\n",
              "        text-align: right;\n",
              "    }\n",
              "</style>\n",
              "<table border=\"1\" class=\"dataframe\">\n",
              "  <thead>\n",
              "    <tr style=\"text-align: right;\">\n",
              "      <th></th>\n",
              "      <th>title</th>\n",
              "      <th>body</th>\n",
              "      <th>labels</th>\n",
              "      <th>clean_lbl</th>\n",
              "      <th>lbls_clean</th>\n",
              "    </tr>\n",
              "  </thead>\n",
              "  <tbody>\n",
              "    <tr>\n",
              "      <th>0</th>\n",
              "      <td>error building package zlib windows static fai...</td>\n",
              "      <td>package zlib windows staticvcpkg version debug</td>\n",
              "      <td>[needs-repro]</td>\n",
              "      <td>needs-repro</td>\n",
              "      <td>[needs-repro]</td>\n",
              "    </tr>\n",
              "    <tr>\n",
              "      <th>1</th>\n",
              "      <td>pagination bug removing item</td>\n",
              "      <td>reported pro user exemple table items per page...</td>\n",
              "      <td>[enhancement]</td>\n",
              "      <td>enhancement</td>\n",
              "      <td>[enhancement]</td>\n",
              "    </tr>\n",
              "    <tr>\n",
              "      <th>4</th>\n",
              "      <td>helm podantiaffinity templating error</td>\n",
              "      <td>describe bug helm charts fail generate proper ...</td>\n",
              "      <td>[area/environments]</td>\n",
              "      <td>area/environments</td>\n",
              "      <td>[area/environments]</td>\n",
              "    </tr>\n",
              "    <tr>\n",
              "      <th>5</th>\n",
              "      <td>tradingview quick chart resize honor limit values</td>\n",
              "      <td>describe bug arrows tradingview chart size don...</td>\n",
              "      <td>[[1b] User Story, [3] Bug, [4c] High Priority,...</td>\n",
              "      <td>user story,bug,high priority,tiny,blockage,est...</td>\n",
              "      <td>[user story, bug, highpriority, tiny, blockage...</td>\n",
              "    </tr>\n",
              "    <tr>\n",
              "      <th>6</th>\n",
              "      <td>upgrade isort</td>\n",
              "      <td>using isort pypi org project isort latest migh...</td>\n",
              "      <td>[feature-refactoring, good first issue, needs ...</td>\n",
              "      <td>feature-refactoring,good first issue,needs pr,...</td>\n",
              "      <td>[feature, good first issue, needs pr, type-cod...</td>\n",
              "    </tr>\n",
              "  </tbody>\n",
              "</table>\n",
              "</div>"
            ],
            "text/plain": [
              "                                               title  \\\n",
              "0  error building package zlib windows static fai...   \n",
              "1                       pagination bug removing item   \n",
              "4              helm podantiaffinity templating error   \n",
              "5  tradingview quick chart resize honor limit values   \n",
              "6                                      upgrade isort   \n",
              "\n",
              "                                                body  \\\n",
              "0     package zlib windows staticvcpkg version debug   \n",
              "1  reported pro user exemple table items per page...   \n",
              "4  describe bug helm charts fail generate proper ...   \n",
              "5  describe bug arrows tradingview chart size don...   \n",
              "6  using isort pypi org project isort latest migh...   \n",
              "\n",
              "                                              labels  \\\n",
              "0                                      [needs-repro]   \n",
              "1                                      [enhancement]   \n",
              "4                                [area/environments]   \n",
              "5  [[1b] User Story, [3] Bug, [4c] High Priority,...   \n",
              "6  [feature-refactoring, good first issue, needs ...   \n",
              "\n",
              "                                           clean_lbl  \\\n",
              "0                                        needs-repro   \n",
              "1                                        enhancement   \n",
              "4                                  area/environments   \n",
              "5  user story,bug,high priority,tiny,blockage,est...   \n",
              "6  feature-refactoring,good first issue,needs pr,...   \n",
              "\n",
              "                                          lbls_clean  \n",
              "0                                      [needs-repro]  \n",
              "1                                      [enhancement]  \n",
              "4                                [area/environments]  \n",
              "5  [user story, bug, highpriority, tiny, blockage...  \n",
              "6  [feature, good first issue, needs pr, type-cod...  "
            ]
          },
          "metadata": {
            "tags": []
          },
          "execution_count": 212
        }
      ]
    },
    {
      "cell_type": "code",
      "metadata": {
        "id": "vmEk4c4YI4db",
        "colab_type": "code",
        "colab": {}
      },
      "source": [
        "#Not all labels can be taken for model building hence selecting\n",
        "#Important and some common labels of almost every repository\n",
        "selected_labels=['bug','enhancement','question','feature','helpwanted','highpriority','documentation','greenkeeper','task','invalid','support','review','frontend']"
      ],
      "execution_count": 0,
      "outputs": []
    },
    {
      "cell_type": "code",
      "metadata": {
        "id": "rV29NoprMXZy",
        "colab_type": "code",
        "outputId": "dbd0d3bb-3180-4f0b-caa6-1a709c2d5cbc",
        "colab": {
          "base_uri": "https://localhost:8080/",
          "height": 289
        }
      },
      "source": [
        "#taking dataset to another dataframe\n",
        "data=prc_dset[[\"title\",\"body\",\"lbls_clean\"]]\n",
        "data.head()"
      ],
      "execution_count": 214,
      "outputs": [
        {
          "output_type": "execute_result",
          "data": {
            "text/html": [
              "<div>\n",
              "<style scoped>\n",
              "    .dataframe tbody tr th:only-of-type {\n",
              "        vertical-align: middle;\n",
              "    }\n",
              "\n",
              "    .dataframe tbody tr th {\n",
              "        vertical-align: top;\n",
              "    }\n",
              "\n",
              "    .dataframe thead th {\n",
              "        text-align: right;\n",
              "    }\n",
              "</style>\n",
              "<table border=\"1\" class=\"dataframe\">\n",
              "  <thead>\n",
              "    <tr style=\"text-align: right;\">\n",
              "      <th></th>\n",
              "      <th>title</th>\n",
              "      <th>body</th>\n",
              "      <th>lbls_clean</th>\n",
              "    </tr>\n",
              "  </thead>\n",
              "  <tbody>\n",
              "    <tr>\n",
              "      <th>0</th>\n",
              "      <td>error building package zlib windows static fai...</td>\n",
              "      <td>package zlib windows staticvcpkg version debug</td>\n",
              "      <td>[needs-repro]</td>\n",
              "    </tr>\n",
              "    <tr>\n",
              "      <th>1</th>\n",
              "      <td>pagination bug removing item</td>\n",
              "      <td>reported pro user exemple table items per page...</td>\n",
              "      <td>[enhancement]</td>\n",
              "    </tr>\n",
              "    <tr>\n",
              "      <th>4</th>\n",
              "      <td>helm podantiaffinity templating error</td>\n",
              "      <td>describe bug helm charts fail generate proper ...</td>\n",
              "      <td>[area/environments]</td>\n",
              "    </tr>\n",
              "    <tr>\n",
              "      <th>5</th>\n",
              "      <td>tradingview quick chart resize honor limit values</td>\n",
              "      <td>describe bug arrows tradingview chart size don...</td>\n",
              "      <td>[user story, bug, highpriority, tiny, blockage...</td>\n",
              "    </tr>\n",
              "    <tr>\n",
              "      <th>6</th>\n",
              "      <td>upgrade isort</td>\n",
              "      <td>using isort pypi org project isort latest migh...</td>\n",
              "      <td>[feature, good first issue, needs pr, type-cod...</td>\n",
              "    </tr>\n",
              "  </tbody>\n",
              "</table>\n",
              "</div>"
            ],
            "text/plain": [
              "                                               title  \\\n",
              "0  error building package zlib windows static fai...   \n",
              "1                       pagination bug removing item   \n",
              "4              helm podantiaffinity templating error   \n",
              "5  tradingview quick chart resize honor limit values   \n",
              "6                                      upgrade isort   \n",
              "\n",
              "                                                body  \\\n",
              "0     package zlib windows staticvcpkg version debug   \n",
              "1  reported pro user exemple table items per page...   \n",
              "4  describe bug helm charts fail generate proper ...   \n",
              "5  describe bug arrows tradingview chart size don...   \n",
              "6  using isort pypi org project isort latest migh...   \n",
              "\n",
              "                                          lbls_clean  \n",
              "0                                      [needs-repro]  \n",
              "1                                      [enhancement]  \n",
              "4                                [area/environments]  \n",
              "5  [user story, bug, highpriority, tiny, blockage...  \n",
              "6  [feature, good first issue, needs pr, type-cod...  "
            ]
          },
          "metadata": {
            "tags": []
          },
          "execution_count": 214
        }
      ]
    },
    {
      "cell_type": "code",
      "metadata": {
        "id": "du-x6jM8QCsa",
        "colab_type": "code",
        "outputId": "03308e66-c0aa-4b91-ee77-fcf8419033e8",
        "colab": {
          "base_uri": "https://localhost:8080/",
          "height": 481
        }
      },
      "source": [
        "#To keep only selected labels and remove others\n",
        "#each row is intersected with the selected_labels lists\n",
        "def intersection(lst1, lst2): \n",
        "   \n",
        "    temp = set(lst2) \n",
        "    lst3 = [value for value in lst1 if value in temp] \n",
        "    return lst3\n",
        "\n",
        "data['lbls_clean']=[intersection(selected_labels,i) for i in data['lbls_clean']]\n",
        "data.head(10)"
      ],
      "execution_count": 215,
      "outputs": [
        {
          "output_type": "stream",
          "text": [
            "/usr/local/lib/python3.6/dist-packages/ipykernel_launcher.py:7: SettingWithCopyWarning: \n",
            "A value is trying to be set on a copy of a slice from a DataFrame.\n",
            "Try using .loc[row_indexer,col_indexer] = value instead\n",
            "\n",
            "See the caveats in the documentation: http://pandas.pydata.org/pandas-docs/stable/user_guide/indexing.html#returning-a-view-versus-a-copy\n",
            "  import sys\n"
          ],
          "name": "stderr"
        },
        {
          "output_type": "execute_result",
          "data": {
            "text/html": [
              "<div>\n",
              "<style scoped>\n",
              "    .dataframe tbody tr th:only-of-type {\n",
              "        vertical-align: middle;\n",
              "    }\n",
              "\n",
              "    .dataframe tbody tr th {\n",
              "        vertical-align: top;\n",
              "    }\n",
              "\n",
              "    .dataframe thead th {\n",
              "        text-align: right;\n",
              "    }\n",
              "</style>\n",
              "<table border=\"1\" class=\"dataframe\">\n",
              "  <thead>\n",
              "    <tr style=\"text-align: right;\">\n",
              "      <th></th>\n",
              "      <th>title</th>\n",
              "      <th>body</th>\n",
              "      <th>lbls_clean</th>\n",
              "    </tr>\n",
              "  </thead>\n",
              "  <tbody>\n",
              "    <tr>\n",
              "      <th>0</th>\n",
              "      <td>error building package zlib windows static fai...</td>\n",
              "      <td>package zlib windows staticvcpkg version debug</td>\n",
              "      <td>[]</td>\n",
              "    </tr>\n",
              "    <tr>\n",
              "      <th>1</th>\n",
              "      <td>pagination bug removing item</td>\n",
              "      <td>reported pro user exemple table items per page...</td>\n",
              "      <td>[enhancement]</td>\n",
              "    </tr>\n",
              "    <tr>\n",
              "      <th>4</th>\n",
              "      <td>helm podantiaffinity templating error</td>\n",
              "      <td>describe bug helm charts fail generate proper ...</td>\n",
              "      <td>[]</td>\n",
              "    </tr>\n",
              "    <tr>\n",
              "      <th>5</th>\n",
              "      <td>tradingview quick chart resize honor limit values</td>\n",
              "      <td>describe bug arrows tradingview chart size don...</td>\n",
              "      <td>[bug, highpriority]</td>\n",
              "    </tr>\n",
              "    <tr>\n",
              "      <th>6</th>\n",
              "      <td>upgrade isort</td>\n",
              "      <td>using isort pypi org project isort latest migh...</td>\n",
              "      <td>[feature]</td>\n",
              "    </tr>\n",
              "    <tr>\n",
              "      <th>7</th>\n",
              "      <td>configurable window completion</td>\n",
              "      <td>fixed window completion given questionnaire co...</td>\n",
              "      <td>[feature]</td>\n",
              "    </tr>\n",
              "    <tr>\n",
              "      <th>8</th>\n",
              "      <td>telemetry add search counts baseline ping</td>\n",
              "      <td>follow github mozilla mobile fenix issues issu...</td>\n",
              "      <td>[]</td>\n",
              "    </tr>\n",
              "    <tr>\n",
              "      <th>9</th>\n",
              "      <td>sql show zone configuration table table name p...</td>\n",
              "      <td>describe problem partitioned table created rep...</td>\n",
              "      <td>[enhancement]</td>\n",
              "    </tr>\n",
              "    <tr>\n",
              "      <th>12</th>\n",
              "      <td>add ice snow melt flag general flag category</td>\n",
              "      <td>could useful cases</td>\n",
              "      <td>[enhancement]</td>\n",
              "    </tr>\n",
              "    <tr>\n",
              "      <th>13</th>\n",
              "      <td>vulnerability ddos get api projects</td>\n",
              "      <td>project apitestuattemplate apiv projectsgetque...</td>\n",
              "      <td>[]</td>\n",
              "    </tr>\n",
              "  </tbody>\n",
              "</table>\n",
              "</div>"
            ],
            "text/plain": [
              "                                                title  \\\n",
              "0   error building package zlib windows static fai...   \n",
              "1                        pagination bug removing item   \n",
              "4               helm podantiaffinity templating error   \n",
              "5   tradingview quick chart resize honor limit values   \n",
              "6                                       upgrade isort   \n",
              "7                      configurable window completion   \n",
              "8           telemetry add search counts baseline ping   \n",
              "9   sql show zone configuration table table name p...   \n",
              "12       add ice snow melt flag general flag category   \n",
              "13                vulnerability ddos get api projects   \n",
              "\n",
              "                                                 body           lbls_clean  \n",
              "0      package zlib windows staticvcpkg version debug                   []  \n",
              "1   reported pro user exemple table items per page...        [enhancement]  \n",
              "4   describe bug helm charts fail generate proper ...                   []  \n",
              "5   describe bug arrows tradingview chart size don...  [bug, highpriority]  \n",
              "6   using isort pypi org project isort latest migh...            [feature]  \n",
              "7   fixed window completion given questionnaire co...            [feature]  \n",
              "8   follow github mozilla mobile fenix issues issu...                   []  \n",
              "9   describe problem partitioned table created rep...        [enhancement]  \n",
              "12                                 could useful cases        [enhancement]  \n",
              "13  project apitestuattemplate apiv projectsgetque...                   []  "
            ]
          },
          "metadata": {
            "tags": []
          },
          "execution_count": 215
        }
      ]
    },
    {
      "cell_type": "code",
      "metadata": {
        "id": "mt2PBQniR_eR",
        "colab_type": "code",
        "colab": {}
      },
      "source": [
        "#Selected labels resulted in some empty labels as many repositories do not\n",
        "#have them\n",
        "def clean(s):\n",
        "  '''\n",
        "  Sets Empty labels as NaNs\n",
        "  '''\n",
        "  \n",
        "  if len(s) == 0:\n",
        "    s=np.nan\n",
        "  return s\n",
        "\n",
        "#Removing empty label rows\n",
        "ldata=data.copy(deep=True)   \n",
        "ldata['lbls_clean']=ldata['lbls_clean'].apply(lambda x: clean(x))\n",
        "ldata.dropna(inplace=True)"
      ],
      "execution_count": 0,
      "outputs": []
    },
    {
      "cell_type": "code",
      "metadata": {
        "id": "ajrWjHi1SMzZ",
        "colab_type": "code",
        "outputId": "49379983-33f2-4b99-e021-df186adb9311",
        "colab": {
          "base_uri": "https://localhost:8080/",
          "height": 204
        }
      },
      "source": [
        "ldata.head()"
      ],
      "execution_count": 217,
      "outputs": [
        {
          "output_type": "execute_result",
          "data": {
            "text/html": [
              "<div>\n",
              "<style scoped>\n",
              "    .dataframe tbody tr th:only-of-type {\n",
              "        vertical-align: middle;\n",
              "    }\n",
              "\n",
              "    .dataframe tbody tr th {\n",
              "        vertical-align: top;\n",
              "    }\n",
              "\n",
              "    .dataframe thead th {\n",
              "        text-align: right;\n",
              "    }\n",
              "</style>\n",
              "<table border=\"1\" class=\"dataframe\">\n",
              "  <thead>\n",
              "    <tr style=\"text-align: right;\">\n",
              "      <th></th>\n",
              "      <th>title</th>\n",
              "      <th>body</th>\n",
              "      <th>lbls_clean</th>\n",
              "    </tr>\n",
              "  </thead>\n",
              "  <tbody>\n",
              "    <tr>\n",
              "      <th>1</th>\n",
              "      <td>pagination bug removing item</td>\n",
              "      <td>reported pro user exemple table items per page...</td>\n",
              "      <td>[enhancement]</td>\n",
              "    </tr>\n",
              "    <tr>\n",
              "      <th>5</th>\n",
              "      <td>tradingview quick chart resize honor limit values</td>\n",
              "      <td>describe bug arrows tradingview chart size don...</td>\n",
              "      <td>[bug, highpriority]</td>\n",
              "    </tr>\n",
              "    <tr>\n",
              "      <th>6</th>\n",
              "      <td>upgrade isort</td>\n",
              "      <td>using isort pypi org project isort latest migh...</td>\n",
              "      <td>[feature]</td>\n",
              "    </tr>\n",
              "    <tr>\n",
              "      <th>7</th>\n",
              "      <td>configurable window completion</td>\n",
              "      <td>fixed window completion given questionnaire co...</td>\n",
              "      <td>[feature]</td>\n",
              "    </tr>\n",
              "    <tr>\n",
              "      <th>9</th>\n",
              "      <td>sql show zone configuration table table name p...</td>\n",
              "      <td>describe problem partitioned table created rep...</td>\n",
              "      <td>[enhancement]</td>\n",
              "    </tr>\n",
              "  </tbody>\n",
              "</table>\n",
              "</div>"
            ],
            "text/plain": [
              "                                               title  \\\n",
              "1                       pagination bug removing item   \n",
              "5  tradingview quick chart resize honor limit values   \n",
              "6                                      upgrade isort   \n",
              "7                     configurable window completion   \n",
              "9  sql show zone configuration table table name p...   \n",
              "\n",
              "                                                body           lbls_clean  \n",
              "1  reported pro user exemple table items per page...        [enhancement]  \n",
              "5  describe bug arrows tradingview chart size don...  [bug, highpriority]  \n",
              "6  using isort pypi org project isort latest migh...            [feature]  \n",
              "7  fixed window completion given questionnaire co...            [feature]  \n",
              "9  describe problem partitioned table created rep...        [enhancement]  "
            ]
          },
          "metadata": {
            "tags": []
          },
          "execution_count": 217
        }
      ]
    },
    {
      "cell_type": "code",
      "metadata": {
        "id": "irojrKu7YzaA",
        "colab_type": "code",
        "outputId": "355f80e0-51a7-4a90-852d-5b75aa842fb1",
        "colab": {
          "base_uri": "https://localhost:8080/",
          "height": 34
        }
      },
      "source": [
        "#no. of rows after the operation\n",
        "ldata.shape"
      ],
      "execution_count": 218,
      "outputs": [
        {
          "output_type": "execute_result",
          "data": {
            "text/plain": [
              "(2131, 3)"
            ]
          },
          "metadata": {
            "tags": []
          },
          "execution_count": 218
        }
      ]
    },
    {
      "cell_type": "code",
      "metadata": {
        "id": "KL3Oqf_RYg6p",
        "colab_type": "code",
        "colab": {}
      },
      "source": [
        "#body and title have still empty values\n",
        "#need to remove the rows having the same\n",
        "ldata=ldata[ldata['body']!=\"\"]\n",
        "ldata=ldata[ldata['title']!=\"\"]"
      ],
      "execution_count": 0,
      "outputs": []
    },
    {
      "cell_type": "code",
      "metadata": {
        "id": "sxl_rR8dZ7af",
        "colab_type": "code",
        "colab": {
          "base_uri": "https://localhost:8080/",
          "height": 34
        },
        "outputId": "f185f79a-fa1e-44c8-a932-8accbc91bdb8"
      },
      "source": [
        "#finally dataset is reduced to 1908 rows after cleaning and pre-processing\n",
        "ldata.shape"
      ],
      "execution_count": 220,
      "outputs": [
        {
          "output_type": "execute_result",
          "data": {
            "text/plain": [
              "(1908, 3)"
            ]
          },
          "metadata": {
            "tags": []
          },
          "execution_count": 220
        }
      ]
    }
  ]
}