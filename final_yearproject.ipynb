{
  "nbformat": 4,
  "nbformat_minor": 0,
  "metadata": {
    "colab": {
      "name": "final_yearproject.ipynb",
      "version": "0.3.2",
      "provenance": []
    },
    "language_info": {
      "codemirror_mode": {
        "name": "ipython",
        "version": 3
      },
      "file_extension": ".py",
      "mimetype": "text/x-python",
      "name": "python",
      "nbconvert_exporter": "python",
      "pygments_lexer": "ipython3",
      "version": "3.6.5"
    },
    "kernelspec": {
      "display_name": "Python 3",
      "language": "python",
      "name": "python3"
    }
  },
  "cells": [
    {
      "cell_type": "markdown",
      "metadata": {
        "id": "yL2jd5sAxEDB",
        "colab_type": "text"
      },
      "source": [
        "### <a id='Getting Data Ready2'>1. Getting Data Ready</a>"
      ]
    },
    {
      "cell_type": "code",
      "metadata": {
        "id": "gX3gI4OpxEDK",
        "colab_type": "code",
        "colab": {}
      },
      "source": [
        "import numpy as np\n",
        "import pandas as pd\n",
        "import matplotlib.pyplot as plt\n",
        "%matplotlib inline\n",
        "import seaborn as sns\n",
        "import calendar\n",
        "import copy\n",
        "from seaborn import set"
      ],
      "execution_count": 0,
      "outputs": []
    },
    {
      "cell_type": "code",
      "metadata": {
        "id": "f_RDAgUkCJTs",
        "colab_type": "code",
        "colab": {}
      },
      "source": [
        "# Load the DataSet containing the data for github archive\n",
        "# into a panda DataFrame data"
      ],
      "execution_count": 0,
      "outputs": []
    },
    {
      "cell_type": "code",
      "metadata": {
        "id": "QqR9yq9eE-OO",
        "colab_type": "code",
        "colab": {
          "base_uri": "https://localhost:8080/",
          "height": 35
        },
        "outputId": "60623d5f-798f-45a0-bed7-22fb9b74dfab"
      },
      "source": [
        "url = 'https://raw.githubusercontent.com/fyprjgroup3/FY_project/master/results-20190513-ofapr19.csv'\n",
        "try:\n",
        "  data = pd.read_csv(url)\n",
        "  print('File loaded successfully.')\n",
        "except:\n",
        "  print('File not found')\n",
        "\n",
        "# Dataset is now stored in a Pandas Dataframe"
      ],
      "execution_count": 9,
      "outputs": [
        {
          "output_type": "stream",
          "text": [
            "File loaded successfully.\n"
          ],
          "name": "stdout"
        }
      ]
    },
    {
      "cell_type": "code",
      "metadata": {
        "id": "rqwyQ5ZVxEDg",
        "colab_type": "code",
        "colab": {
          "base_uri": "https://localhost:8080/",
          "height": 35
        },
        "outputId": "91bb6da0-342a-4752-90f5-12e84a882789"
      },
      "source": [
        "# Load file from local drive\n",
        "try:\n",
        "    data = pd.read_csv('F:\\yearproject.csv')\n",
        "    print('File successfully loaded into the DataFrame..')\n",
        "except:\n",
        "    print(\"File not found...\")"
      ],
      "execution_count": 7,
      "outputs": [
        {
          "output_type": "stream",
          "text": [
            "File not found...\n"
          ],
          "name": "stdout"
        }
      ]
    },
    {
      "cell_type": "markdown",
      "metadata": {
        "id": "-p2ZRsLFCgvL",
        "colab_type": "text"
      },
      "source": [
        "### <a id='Displaying the different features of the DataSet2'>2. Displaying the different features of the DataSet</a>"
      ]
    },
    {
      "cell_type": "code",
      "metadata": {
        "id": "yPprUm25xEDw",
        "colab_type": "code",
        "colab": {
          "base_uri": "https://localhost:8080/",
          "height": 35
        },
        "outputId": "991809a6-2154-4401-f5a9-711fa75099c5"
      },
      "source": [
        "# SHow all the columns present in the dataset\n",
        "data.columns"
      ],
      "execution_count": 10,
      "outputs": [
        {
          "output_type": "execute_result",
          "data": {
            "text/plain": [
              "Index(['action', 'url', 'title', 'body', 'labels'], dtype='object')"
            ]
          },
          "metadata": {
            "tags": []
          },
          "execution_count": 10
        }
      ]
    },
    {
      "cell_type": "code",
      "metadata": {
        "id": "zgzbyOWHxED_",
        "colab_type": "code",
        "colab": {
          "base_uri": "https://localhost:8080/",
          "height": 126
        },
        "outputId": "681a6c12-6279-406f-8c7e-521ef2adbff4"
      },
      "source": [
        "data.count()"
      ],
      "execution_count": 11,
      "outputs": [
        {
          "output_type": "execute_result",
          "data": {
            "text/plain": [
              "action    7964\n",
              "url       7964\n",
              "title     7964\n",
              "body      7920\n",
              "labels    7964\n",
              "dtype: int64"
            ]
          },
          "metadata": {
            "tags": []
          },
          "execution_count": 11
        }
      ]
    },
    {
      "cell_type": "code",
      "metadata": {
        "id": "eso9KmIfxEEJ",
        "colab_type": "code",
        "colab": {
          "base_uri": "https://localhost:8080/",
          "height": 782
        },
        "outputId": "5c794c72-8c40-43aa-bceb-9aa17a3614dd"
      },
      "source": [
        "# Displaying the first 10 data of the Dataset\n",
        "data.head(10)"
      ],
      "execution_count": 12,
      "outputs": [
        {
          "output_type": "execute_result",
          "data": {
            "text/html": [
              "<div>\n",
              "<style scoped>\n",
              "    .dataframe tbody tr th:only-of-type {\n",
              "        vertical-align: middle;\n",
              "    }\n",
              "\n",
              "    .dataframe tbody tr th {\n",
              "        vertical-align: top;\n",
              "    }\n",
              "\n",
              "    .dataframe thead th {\n",
              "        text-align: right;\n",
              "    }\n",
              "</style>\n",
              "<table border=\"1\" class=\"dataframe\">\n",
              "  <thead>\n",
              "    <tr style=\"text-align: right;\">\n",
              "      <th></th>\n",
              "      <th>action</th>\n",
              "      <th>url</th>\n",
              "      <th>title</th>\n",
              "      <th>body</th>\n",
              "      <th>labels</th>\n",
              "    </tr>\n",
              "  </thead>\n",
              "  <tbody>\n",
              "    <tr>\n",
              "      <th>0</th>\n",
              "      <td>\"closed\"</td>\n",
              "      <td>\"https://github.com/Microsoft/vcpkg/issues/4548\"</td>\n",
              "      <td>\"Error: Building package zlib:x64-windows-stat...</td>\n",
              "      <td>\"\\r\\nPackage: zlib:x64-windows-static\\r\\nVcpkg...</td>\n",
              "      <td>[{\"id\":455857191,\"node_id\":\"MDU6TGFiZWw0NTU4NT...</td>\n",
              "    </tr>\n",
              "    <tr>\n",
              "      <th>1</th>\n",
              "      <td>\"closed\"</td>\n",
              "      <td>\"https://github.com/primefaces/primeng/issues/...</td>\n",
              "      <td>\"Pagination bug when removing an item\"</td>\n",
              "      <td>\"Reported by a PRO user;\\r\\n\\r\\n&gt; If for exemp...</td>\n",
              "      <td>[{\"id\":312160661,\"node_id\":\"MDU6TGFiZWwzMTIxNj...</td>\n",
              "    </tr>\n",
              "    <tr>\n",
              "      <th>2</th>\n",
              "      <td>\"closed\"</td>\n",
              "      <td>\"https://github.com/zen-kernel/zen-kernel/issu...</td>\n",
              "      <td>\"bfq error\"</td>\n",
              "      <td>\"Hi, Steven/\\r\\nAfter last update today &gt;git f...</td>\n",
              "      <td>[]</td>\n",
              "    </tr>\n",
              "    <tr>\n",
              "      <th>3</th>\n",
              "      <td>\"closed\"</td>\n",
              "      <td>\"https://github.com/biig-io/ngx-smart-modal/is...</td>\n",
              "      <td>\"Can't open next modal at once after closing p...</td>\n",
              "      <td>\"\\r\\nwhen I click immediately after closing pr...</td>\n",
              "      <td>[]</td>\n",
              "    </tr>\n",
              "    <tr>\n",
              "      <th>4</th>\n",
              "      <td>\"closed\"</td>\n",
              "      <td>\"https://github.com/istio/istio/issues/12790\"</td>\n",
              "      <td>\"Helm podAntiAffinity templating error\"</td>\n",
              "      <td>\"**Describe the bug**\\r\\n\\r\\nHelm charts fail ...</td>\n",
              "      <td>[{\"id\":670442116,\"node_id\":\"MDU6TGFiZWw2NzA0ND...</td>\n",
              "    </tr>\n",
              "    <tr>\n",
              "      <th>5</th>\n",
              "      <td>\"closed\"</td>\n",
              "      <td>\"https://github.com/bitshares/bitshares-ui/iss...</td>\n",
              "      <td>\"[0.5][Tradingview] Quick Chart resize does no...</td>\n",
              "      <td>\"**Describe the bug**\\r\\nThe up and down arrow...</td>\n",
              "      <td>[{\"id\":1089646255,\"node_id\":\"MDU6TGFiZWwxMDg5N...</td>\n",
              "    </tr>\n",
              "    <tr>\n",
              "      <th>6</th>\n",
              "      <td>\"closed\"</td>\n",
              "      <td>\"https://github.com/Microsoft/vscode-python/is...</td>\n",
              "      <td>\"Upgrade isort\"</td>\n",
              "      <td>\"We are using 4.3.4 but [isort[(https://pypi.o...</td>\n",
              "      <td>[{\"id\":717069763,\"node_id\":\"MDU6TGFiZWw3MTcwNj...</td>\n",
              "    </tr>\n",
              "    <tr>\n",
              "      <th>7</th>\n",
              "      <td>\"closed\"</td>\n",
              "      <td>\"https://github.com/RADAR-base/RADAR-Questionn...</td>\n",
              "      <td>\"Configurable window of completion\"</td>\n",
              "      <td>\"From #146, not fixed: the window for completi...</td>\n",
              "      <td>[{\"id\":450181004,\"node_id\":\"MDU6TGFiZWw0NTAxOD...</td>\n",
              "    </tr>\n",
              "    <tr>\n",
              "      <th>8</th>\n",
              "      <td>\"closed\"</td>\n",
              "      <td>\"https://github.com/mozilla-mobile/fenix/issue...</td>\n",
              "      <td>\"[Telemetry] Add search counts to baseline ping\"</td>\n",
              "      <td>\"Follow up on https://github.com/mozilla-mobil...</td>\n",
              "      <td>[{\"id\":1298366359,\"node_id\":\"MDU6TGFiZWwxMjk4M...</td>\n",
              "    </tr>\n",
              "    <tr>\n",
              "      <th>9</th>\n",
              "      <td>\"closed\"</td>\n",
              "      <td>\"https://github.com/cockroachdb/cockroach/issu...</td>\n",
              "      <td>\"sql: SHOW ZONE CONFIGURATION FOR TABLE &lt;table...</td>\n",
              "      <td>\"**Describe the problem**\\r\\n\\r\\nI partitioned...</td>\n",
              "      <td>[{\"id\":728643548,\"node_id\":\"MDU6TGFiZWw3Mjg2ND...</td>\n",
              "    </tr>\n",
              "  </tbody>\n",
              "</table>\n",
              "</div>"
            ],
            "text/plain": [
              "     action                                                url  \\\n",
              "0  \"closed\"   \"https://github.com/Microsoft/vcpkg/issues/4548\"   \n",
              "1  \"closed\"  \"https://github.com/primefaces/primeng/issues/...   \n",
              "2  \"closed\"  \"https://github.com/zen-kernel/zen-kernel/issu...   \n",
              "3  \"closed\"  \"https://github.com/biig-io/ngx-smart-modal/is...   \n",
              "4  \"closed\"      \"https://github.com/istio/istio/issues/12790\"   \n",
              "5  \"closed\"  \"https://github.com/bitshares/bitshares-ui/iss...   \n",
              "6  \"closed\"  \"https://github.com/Microsoft/vscode-python/is...   \n",
              "7  \"closed\"  \"https://github.com/RADAR-base/RADAR-Questionn...   \n",
              "8  \"closed\"  \"https://github.com/mozilla-mobile/fenix/issue...   \n",
              "9  \"closed\"  \"https://github.com/cockroachdb/cockroach/issu...   \n",
              "\n",
              "                                               title  \\\n",
              "0  \"Error: Building package zlib:x64-windows-stat...   \n",
              "1             \"Pagination bug when removing an item\"   \n",
              "2                                        \"bfq error\"   \n",
              "3  \"Can't open next modal at once after closing p...   \n",
              "4            \"Helm podAntiAffinity templating error\"   \n",
              "5  \"[0.5][Tradingview] Quick Chart resize does no...   \n",
              "6                                    \"Upgrade isort\"   \n",
              "7                \"Configurable window of completion\"   \n",
              "8   \"[Telemetry] Add search counts to baseline ping\"   \n",
              "9  \"sql: SHOW ZONE CONFIGURATION FOR TABLE <table...   \n",
              "\n",
              "                                                body  \\\n",
              "0  \"\\r\\nPackage: zlib:x64-windows-static\\r\\nVcpkg...   \n",
              "1  \"Reported by a PRO user;\\r\\n\\r\\n> If for exemp...   \n",
              "2  \"Hi, Steven/\\r\\nAfter last update today >git f...   \n",
              "3  \"\\r\\nwhen I click immediately after closing pr...   \n",
              "4  \"**Describe the bug**\\r\\n\\r\\nHelm charts fail ...   \n",
              "5  \"**Describe the bug**\\r\\nThe up and down arrow...   \n",
              "6  \"We are using 4.3.4 but [isort[(https://pypi.o...   \n",
              "7  \"From #146, not fixed: the window for completi...   \n",
              "8  \"Follow up on https://github.com/mozilla-mobil...   \n",
              "9  \"**Describe the problem**\\r\\n\\r\\nI partitioned...   \n",
              "\n",
              "                                              labels  \n",
              "0  [{\"id\":455857191,\"node_id\":\"MDU6TGFiZWw0NTU4NT...  \n",
              "1  [{\"id\":312160661,\"node_id\":\"MDU6TGFiZWwzMTIxNj...  \n",
              "2                                                 []  \n",
              "3                                                 []  \n",
              "4  [{\"id\":670442116,\"node_id\":\"MDU6TGFiZWw2NzA0ND...  \n",
              "5  [{\"id\":1089646255,\"node_id\":\"MDU6TGFiZWwxMDg5N...  \n",
              "6  [{\"id\":717069763,\"node_id\":\"MDU6TGFiZWw3MTcwNj...  \n",
              "7  [{\"id\":450181004,\"node_id\":\"MDU6TGFiZWw0NTAxOD...  \n",
              "8  [{\"id\":1298366359,\"node_id\":\"MDU6TGFiZWwxMjk4M...  \n",
              "9  [{\"id\":728643548,\"node_id\":\"MDU6TGFiZWw3Mjg2ND...  "
            ]
          },
          "metadata": {
            "tags": []
          },
          "execution_count": 12
        }
      ]
    },
    {
      "cell_type": "code",
      "metadata": {
        "id": "vNyDex6_FmDm",
        "colab_type": "code",
        "colab": {
          "base_uri": "https://localhost:8080/",
          "height": 852
        },
        "outputId": "b12e035a-20f4-49a8-ce6b-f8c4343e3895"
      },
      "source": [
        "# Displaying the last 10\n",
        "data.tail(10)"
      ],
      "execution_count": 13,
      "outputs": [
        {
          "output_type": "execute_result",
          "data": {
            "text/html": [
              "<div>\n",
              "<style scoped>\n",
              "    .dataframe tbody tr th:only-of-type {\n",
              "        vertical-align: middle;\n",
              "    }\n",
              "\n",
              "    .dataframe tbody tr th {\n",
              "        vertical-align: top;\n",
              "    }\n",
              "\n",
              "    .dataframe thead th {\n",
              "        text-align: right;\n",
              "    }\n",
              "</style>\n",
              "<table border=\"1\" class=\"dataframe\">\n",
              "  <thead>\n",
              "    <tr style=\"text-align: right;\">\n",
              "      <th></th>\n",
              "      <th>action</th>\n",
              "      <th>url</th>\n",
              "      <th>title</th>\n",
              "      <th>body</th>\n",
              "      <th>labels</th>\n",
              "    </tr>\n",
              "  </thead>\n",
              "  <tbody>\n",
              "    <tr>\n",
              "      <th>7954</th>\n",
              "      <td>\"closed\"</td>\n",
              "      <td>\"https://github.com/nforgeio/neonKUBE/issues/477\"</td>\n",
              "      <td>\"Neon.Xunit.Nats: Test fixture for NATS queuing.\"</td>\n",
              "      <td>\"This doesn't need to be too complex.\"</td>\n",
              "      <td>[]</td>\n",
              "    </tr>\n",
              "    <tr>\n",
              "      <th>7955</th>\n",
              "      <td>\"closed\"</td>\n",
              "      <td>\"https://github.com/CS340-19/MoonMan/issues/23\"</td>\n",
              "      <td>\"Add non visual health tracking for player and...</td>\n",
              "      <td>\"\"</td>\n",
              "      <td>[]</td>\n",
              "    </tr>\n",
              "    <tr>\n",
              "      <th>7956</th>\n",
              "      <td>\"closed\"</td>\n",
              "      <td>\"https://github.com/Kozea/cairocffi/issues/128\"</td>\n",
              "      <td>\"Missing dll path for pixbuf on alpine linux\"</td>\n",
              "      <td>\"It seems like pixbuf could not find required ...</td>\n",
              "      <td>[]</td>\n",
              "    </tr>\n",
              "    <tr>\n",
              "      <th>7957</th>\n",
              "      <td>\"closed\"</td>\n",
              "      <td>\"https://github.com/nmfta-repo/nmfta-opentelem...</td>\n",
              "      <td>\"review all the URI endpoints to make them coh...</td>\n",
              "      <td>\"\"</td>\n",
              "      <td>[{\"id\":1252863651,\"node_id\":\"MDU6TGFiZWwxMjUyO...</td>\n",
              "    </tr>\n",
              "    <tr>\n",
              "      <th>7958</th>\n",
              "      <td>\"closed\"</td>\n",
              "      <td>\"https://github.com/Azure/azure-cosmos-dotnet-...</td>\n",
              "      <td>\"Custom handlers not executed from CreateItemQ...</td>\n",
              "      <td>\"&gt;We are continuously addressing and improving...</td>\n",
              "      <td>[]</td>\n",
              "    </tr>\n",
              "    <tr>\n",
              "      <th>7959</th>\n",
              "      <td>\"closed\"</td>\n",
              "      <td>\"https://github.com/CommandPost/CommandPost/is...</td>\n",
              "      <td>\"Finer audio controls in Tangent\"</td>\n",
              "      <td>\"Mike Lunt writes:\\r\\n\\r\\n&gt; **What feature wou...</td>\n",
              "      <td>[{\"id\":487891729,\"node_id\":\"MDU6TGFiZWw0ODc4OT...</td>\n",
              "    </tr>\n",
              "    <tr>\n",
              "      <th>7960</th>\n",
              "      <td>\"closed\"</td>\n",
              "      <td>\"https://github.com/Duracom/Development-Apache...</td>\n",
              "      <td>\"Composer auth (for https) is not being saved\"</td>\n",
              "      <td>\"Everytime you reboot the docker images the au...</td>\n",
              "      <td>[{\"id\":991880776,\"node_id\":\"MDU6TGFiZWw5OTE4OD...</td>\n",
              "    </tr>\n",
              "    <tr>\n",
              "      <th>7961</th>\n",
              "      <td>\"closed\"</td>\n",
              "      <td>\"https://github.com/threefoldtech/digitalmeX/i...</td>\n",
              "      <td>\"Slide macro\"</td>\n",
              "      <td>\"Based on the work here: https://github.com/th...</td>\n",
              "      <td>[{\"id\":1166794637,\"node_id\":\"MDU6TGFiZWwxMTY2N...</td>\n",
              "    </tr>\n",
              "    <tr>\n",
              "      <th>7962</th>\n",
              "      <td>\"closed\"</td>\n",
              "      <td>\"https://github.com/git-lfs/git-lfs/issues/3609\"</td>\n",
              "      <td>\"How to see the real change after using LFS :-)\"</td>\n",
              "      <td>\"Dear folks\\r\\n\\r\\nIt's not really an issue (r...</td>\n",
              "      <td>[]</td>\n",
              "    </tr>\n",
              "    <tr>\n",
              "      <th>7963</th>\n",
              "      <td>\"closed\"</td>\n",
              "      <td>\"https://github.com/ONSdigital/design-system/i...</td>\n",
              "      <td>\"Change bias of question/answer width on summa...</td>\n",
              "      <td>\"Move the answer over in the summary providing...</td>\n",
              "      <td>[{\"id\":1136807032,\"node_id\":\"MDU6TGFiZWwxMTM2O...</td>\n",
              "    </tr>\n",
              "  </tbody>\n",
              "</table>\n",
              "</div>"
            ],
            "text/plain": [
              "        action                                                url  \\\n",
              "7954  \"closed\"  \"https://github.com/nforgeio/neonKUBE/issues/477\"   \n",
              "7955  \"closed\"    \"https://github.com/CS340-19/MoonMan/issues/23\"   \n",
              "7956  \"closed\"    \"https://github.com/Kozea/cairocffi/issues/128\"   \n",
              "7957  \"closed\"  \"https://github.com/nmfta-repo/nmfta-opentelem...   \n",
              "7958  \"closed\"  \"https://github.com/Azure/azure-cosmos-dotnet-...   \n",
              "7959  \"closed\"  \"https://github.com/CommandPost/CommandPost/is...   \n",
              "7960  \"closed\"  \"https://github.com/Duracom/Development-Apache...   \n",
              "7961  \"closed\"  \"https://github.com/threefoldtech/digitalmeX/i...   \n",
              "7962  \"closed\"   \"https://github.com/git-lfs/git-lfs/issues/3609\"   \n",
              "7963  \"closed\"  \"https://github.com/ONSdigital/design-system/i...   \n",
              "\n",
              "                                                  title  \\\n",
              "7954  \"Neon.Xunit.Nats: Test fixture for NATS queuing.\"   \n",
              "7955  \"Add non visual health tracking for player and...   \n",
              "7956      \"Missing dll path for pixbuf on alpine linux\"   \n",
              "7957  \"review all the URI endpoints to make them coh...   \n",
              "7958  \"Custom handlers not executed from CreateItemQ...   \n",
              "7959                  \"Finer audio controls in Tangent\"   \n",
              "7960     \"Composer auth (for https) is not being saved\"   \n",
              "7961                                      \"Slide macro\"   \n",
              "7962   \"How to see the real change after using LFS :-)\"   \n",
              "7963  \"Change bias of question/answer width on summa...   \n",
              "\n",
              "                                                   body  \\\n",
              "7954             \"This doesn't need to be too complex.\"   \n",
              "7955                                                 \"\"   \n",
              "7956  \"It seems like pixbuf could not find required ...   \n",
              "7957                                                 \"\"   \n",
              "7958  \">We are continuously addressing and improving...   \n",
              "7959  \"Mike Lunt writes:\\r\\n\\r\\n> **What feature wou...   \n",
              "7960  \"Everytime you reboot the docker images the au...   \n",
              "7961  \"Based on the work here: https://github.com/th...   \n",
              "7962  \"Dear folks\\r\\n\\r\\nIt's not really an issue (r...   \n",
              "7963  \"Move the answer over in the summary providing...   \n",
              "\n",
              "                                                 labels  \n",
              "7954                                                 []  \n",
              "7955                                                 []  \n",
              "7956                                                 []  \n",
              "7957  [{\"id\":1252863651,\"node_id\":\"MDU6TGFiZWwxMjUyO...  \n",
              "7958                                                 []  \n",
              "7959  [{\"id\":487891729,\"node_id\":\"MDU6TGFiZWw0ODc4OT...  \n",
              "7960  [{\"id\":991880776,\"node_id\":\"MDU6TGFiZWw5OTE4OD...  \n",
              "7961  [{\"id\":1166794637,\"node_id\":\"MDU6TGFiZWwxMTY2N...  \n",
              "7962                                                 []  \n",
              "7963  [{\"id\":1136807032,\"node_id\":\"MDU6TGFiZWwxMTM2O...  "
            ]
          },
          "metadata": {
            "tags": []
          },
          "execution_count": 13
        }
      ]
    },
    {
      "cell_type": "code",
      "metadata": {
        "id": "Y0mzFqdkxEEX",
        "colab_type": "code",
        "colab": {},
        "outputId": "b8a52281-9d89-414d-db76-7bceba2f232d"
      },
      "source": [
        "# Shape of the DataFrame\n",
        "\n",
        "data.shape"
      ],
      "execution_count": 0,
      "outputs": [
        {
          "output_type": "execute_result",
          "data": {
            "text/plain": [
              "(7964, 5)"
            ]
          },
          "metadata": {
            "tags": []
          },
          "execution_count": 6
        }
      ]
    },
    {
      "cell_type": "code",
      "metadata": {
        "id": "edP26UwNxEEn",
        "colab_type": "code",
        "colab": {},
        "outputId": "37c0e85b-d297-44b6-c6be-80d0fc39752c"
      },
      "source": [
        "# General info about the dataset\n",
        "data.info()"
      ],
      "execution_count": 0,
      "outputs": [
        {
          "output_type": "stream",
          "text": [
            "<class 'pandas.core.frame.DataFrame'>\n",
            "RangeIndex: 7964 entries, 0 to 7963\n",
            "Data columns (total 5 columns):\n",
            "action    7964 non-null object\n",
            "url       7964 non-null object\n",
            "title     7964 non-null object\n",
            "body      7920 non-null object\n",
            "labels    7964 non-null object\n",
            "dtypes: object(5)\n",
            "memory usage: 311.2+ KB\n"
          ],
          "name": "stdout"
        }
      ]
    },
    {
      "cell_type": "code",
      "metadata": {
        "id": "ReLjjjOSFxHl",
        "colab_type": "code",
        "colab": {
          "base_uri": "https://localhost:8080/",
          "height": 126
        },
        "outputId": "7d64ccee-76ca-4e81-bde3-7ce9a6516005"
      },
      "source": [
        "# Datatype of each column\n",
        "data.dtypes"
      ],
      "execution_count": 14,
      "outputs": [
        {
          "output_type": "execute_result",
          "data": {
            "text/plain": [
              "action    object\n",
              "url       object\n",
              "title     object\n",
              "body      object\n",
              "labels    object\n",
              "dtype: object"
            ]
          },
          "metadata": {
            "tags": []
          },
          "execution_count": 14
        }
      ]
    },
    {
      "cell_type": "markdown",
      "metadata": {
        "id": "Wu_m7C9GxEE5",
        "colab_type": "text"
      },
      "source": [
        "### <a id='Data Cleaning and Munging'>2. Data Cleaning and Munging</a>"
      ]
    },
    {
      "cell_type": "code",
      "metadata": {
        "id": "Lbvm4gfRGAZu",
        "colab_type": "code",
        "colab": {
          "base_uri": "https://localhost:8080/",
          "height": 126
        },
        "outputId": "eb4ec794-6087-4651-da63-2703f041b3cb"
      },
      "source": [
        "# Sum of null value in each column\n",
        "data.isnull().sum()"
      ],
      "execution_count": 15,
      "outputs": [
        {
          "output_type": "execute_result",
          "data": {
            "text/plain": [
              "action     0\n",
              "url        0\n",
              "title      0\n",
              "body      44\n",
              "labels     0\n",
              "dtype: int64"
            ]
          },
          "metadata": {
            "tags": []
          },
          "execution_count": 15
        }
      ]
    },
    {
      "cell_type": "markdown",
      "metadata": {
        "id": "9qJ_YGrrGNhz",
        "colab_type": "text"
      },
      "source": [
        "### $\\color{red}{\\text{Heat Map}}$ before filing up null values with suitable data"
      ]
    },
    {
      "cell_type": "code",
      "metadata": {
        "id": "ctOmvJ3OxEFD",
        "colab_type": "code",
        "colab": {
          "base_uri": "https://localhost:8080/",
          "height": 302
        },
        "outputId": "d45ce20b-777f-4d81-bac6-23cc701750a7"
      },
      "source": [
        "\n",
        "plt.title('HEATMAP BEFORE FILLING UP NULL VALUES IN DATA')\n",
        "sns.heatmap(data.isnull(),yticklabels=False,cbar=True,cmap='viridis')"
      ],
      "execution_count": 17,
      "outputs": [
        {
          "output_type": "execute_result",
          "data": {
            "text/plain": [
              "<matplotlib.axes._subplots.AxesSubplot at 0x7fca9a135048>"
            ]
          },
          "metadata": {
            "tags": []
          },
          "execution_count": 17
        },
        {
          "output_type": "display_data",
          "data": {
            "image/png": "[encoded data removed]",
            "text/plain": [
              "<Figure size 432x288 with 2 Axes>"
            ]
          },
          "metadata": {
            "tags": []
          }
        }
      ]
    },
    {
      "cell_type": "code",
      "metadata": {
        "id": "M26TdKhwxEFc",
        "colab_type": "code",
        "colab": {},
        "outputId": "08f4b84d-8a0d-41ce-cf6b-a8bb5e2d6a81"
      },
      "source": [
        "print('The null values in body coulmn is ',data['body'].isnull().sum())"
      ],
      "execution_count": 0,
      "outputs": [
        {
          "output_type": "stream",
          "text": [
            "The null values in body coulmn is  44\n"
          ],
          "name": "stdout"
        }
      ]
    },
    {
      "cell_type": "markdown",
      "metadata": {
        "id": "xvNo8ofCGr11",
        "colab_type": "text"
      },
      "source": [
        "### Dealing with the null values "
      ]
    },
    {
      "cell_type": "code",
      "metadata": {
        "id": "NpcJcIvExEFn",
        "colab_type": "code",
        "colab": {}
      },
      "source": [
        "data.dropna(inplace=True)"
      ],
      "execution_count": 0,
      "outputs": []
    },
    {
      "cell_type": "code",
      "metadata": {
        "id": "dKWH_gWfxEFt",
        "colab_type": "code",
        "colab": {},
        "outputId": "865accd8-7dac-4cd7-9351-2cadf6dcb0e5"
      },
      "source": [
        "data.shape"
      ],
      "execution_count": 0,
      "outputs": [
        {
          "output_type": "execute_result",
          "data": {
            "text/plain": [
              "(7920, 5)"
            ]
          },
          "metadata": {
            "tags": []
          },
          "execution_count": 12
        }
      ]
    },
    {
      "cell_type": "markdown",
      "metadata": {
        "id": "b40bfxpVxEF4",
        "colab_type": "text"
      },
      "source": [
        "###  Dealing with duplicates in the data set"
      ]
    },
    {
      "cell_type": "code",
      "metadata": {
        "scrolled": true,
        "id": "CVHxW-PUxEF6",
        "colab_type": "code",
        "colab": {},
        "outputId": "0e2e5b94-1b3c-486b-e128-670618074094"
      },
      "source": [
        "print('The no. of duplicates in the data are',data.duplicated().sum())\n",
        "data[data.duplicated()]"
      ],
      "execution_count": 0,
      "outputs": [
        {
          "output_type": "stream",
          "text": [
            "The no. of duplicates in the data are 3\n"
          ],
          "name": "stdout"
        },
        {
          "output_type": "execute_result",
          "data": {
            "text/html": [
              "<div>\n",
              "<style scoped>\n",
              "    .dataframe tbody tr th:only-of-type {\n",
              "        vertical-align: middle;\n",
              "    }\n",
              "\n",
              "    .dataframe tbody tr th {\n",
              "        vertical-align: top;\n",
              "    }\n",
              "\n",
              "    .dataframe thead th {\n",
              "        text-align: right;\n",
              "    }\n",
              "</style>\n",
              "<table border=\"1\" class=\"dataframe\">\n",
              "  <thead>\n",
              "    <tr style=\"text-align: right;\">\n",
              "      <th></th>\n",
              "      <th>action</th>\n",
              "      <th>url</th>\n",
              "      <th>title</th>\n",
              "      <th>body</th>\n",
              "      <th>labels</th>\n",
              "    </tr>\n",
              "  </thead>\n",
              "  <tbody>\n",
              "    <tr>\n",
              "      <th>3965</th>\n",
              "      <td>\"closed\"</td>\n",
              "      <td>\"https://github.com/favroautomation/automation...</td>\n",
              "      <td>\"Issue renamed\"</td>\n",
              "      <td>\"New description for issue\"</td>\n",
              "      <td>[]</td>\n",
              "    </tr>\n",
              "    <tr>\n",
              "      <th>5439</th>\n",
              "      <td>\"closed\"</td>\n",
              "      <td>\"https://github.com/plumed-nest/plumed-nest/is...</td>\n",
              "      <td>\"input_file problem\"</td>\n",
              "      <td>\"It looks like there is a problem in parsing i...</td>\n",
              "      <td>[]</td>\n",
              "    </tr>\n",
              "    <tr>\n",
              "      <th>7849</th>\n",
              "      <td>\"closed\"</td>\n",
              "      <td>\"https://github.com/FortAwesome/Font-Awesome/i...</td>\n",
              "      <td>\"Space between icons breaks/improves rendering...</td>\n",
              "      <td>\"Apparently, adding a space between icons brea...</td>\n",
              "      <td>[{\"id\":917255,\"node_id\":\"MDU6TGFiZWw5MTcyNTU=\"...</td>\n",
              "    </tr>\n",
              "  </tbody>\n",
              "</table>\n",
              "</div>"
            ],
            "text/plain": [
              "        action                                                url  \\\n",
              "3965  \"closed\"  \"https://github.com/favroautomation/automation...   \n",
              "5439  \"closed\"  \"https://github.com/plumed-nest/plumed-nest/is...   \n",
              "7849  \"closed\"  \"https://github.com/FortAwesome/Font-Awesome/i...   \n",
              "\n",
              "                                                  title  \\\n",
              "3965                                    \"Issue renamed\"   \n",
              "5439                               \"input_file problem\"   \n",
              "7849  \"Space between icons breaks/improves rendering...   \n",
              "\n",
              "                                                   body  \\\n",
              "3965                        \"New description for issue\"   \n",
              "5439  \"It looks like there is a problem in parsing i...   \n",
              "7849  \"Apparently, adding a space between icons brea...   \n",
              "\n",
              "                                                 labels  \n",
              "3965                                                 []  \n",
              "5439                                                 []  \n",
              "7849  [{\"id\":917255,\"node_id\":\"MDU6TGFiZWw5MTcyNTU=\"...  "
            ]
          },
          "metadata": {
            "tags": []
          },
          "execution_count": 13
        }
      ]
    },
    {
      "cell_type": "code",
      "metadata": {
        "id": "r9GzDxR_xEGJ",
        "colab_type": "code",
        "colab": {}
      },
      "source": [
        "data.drop_duplicates(inplace=True)"
      ],
      "execution_count": 0,
      "outputs": []
    },
    {
      "cell_type": "code",
      "metadata": {
        "id": "cPqpwjZQxEGR",
        "colab_type": "code",
        "colab": {},
        "outputId": "b85dcd4b-debd-46db-adfd-f58d3ba7a7c3"
      },
      "source": [
        "data.shape"
      ],
      "execution_count": 0,
      "outputs": [
        {
          "output_type": "execute_result",
          "data": {
            "text/plain": [
              "(7917, 5)"
            ]
          },
          "metadata": {
            "tags": []
          },
          "execution_count": 15
        }
      ]
    },
    {
      "cell_type": "code",
      "metadata": {
        "id": "y4D0d_X_xEGi",
        "colab_type": "code",
        "colab": {},
        "outputId": "df2e2f5d-1999-4c4e-d216-a548e1276c0f"
      },
      "source": [
        "plt.title('HEATMAP AFTER FILLING UP NULL VALUES IN DATA')\n",
        "sns.heatmap(data.isnull(),yticklabels=False,cbar=True,cmap='viridis')"
      ],
      "execution_count": 0,
      "outputs": [
        {
          "output_type": "execute_result",
          "data": {
            "text/plain": [
              "<matplotlib.axes._subplots.AxesSubplot at 0x1fde942c8d0>"
            ]
          },
          "metadata": {
            "tags": []
          },
          "execution_count": 16
        },
        {
          "output_type": "display_data",
          "data": {
            "image/png": "[encoded data removed]",
            "text/plain": [
              "<Figure size 432x288 with 2 Axes>"
            ]
          },
          "metadata": {
            "tags": []
          }
        }
      ]
    },
    {
      "cell_type": "markdown",
      "metadata": {
        "id": "mubwZt02xEG7",
        "colab_type": "text"
      },
      "source": [
        "### <a id='Data Analysis'>2. Data Analysis</a>"
      ]
    },
    {
      "cell_type": "code",
      "metadata": {
        "id": "xFDEmEsaxEG9",
        "colab_type": "code",
        "colab": {}
      },
      "source": [
        "labeled=data[data['labels']!='[]']\n",
        "unlabeled=data[data['labels']=='[]']"
      ],
      "execution_count": 0,
      "outputs": []
    },
    {
      "cell_type": "code",
      "metadata": {
        "id": "8hpF96GaxEHL",
        "colab_type": "code",
        "colab": {},
        "outputId": "c609556a-6f55-4e6d-9b91-1ff79b0fddc4"
      },
      "source": [
        "labeled.shape"
      ],
      "execution_count": 0,
      "outputs": [
        {
          "output_type": "execute_result",
          "data": {
            "text/plain": [
              "(4063, 5)"
            ]
          },
          "metadata": {
            "tags": []
          },
          "execution_count": 48
        }
      ]
    },
    {
      "cell_type": "code",
      "metadata": {
        "id": "cKsOTVvsxEHS",
        "colab_type": "code",
        "colab": {},
        "outputId": "89d060af-a273-42ec-c9de-712c4e59b9cb"
      },
      "source": [
        "unlabeled.shape"
      ],
      "execution_count": 0,
      "outputs": [
        {
          "output_type": "execute_result",
          "data": {
            "text/plain": [
              "(3854, 5)"
            ]
          },
          "metadata": {
            "tags": []
          },
          "execution_count": 49
        }
      ]
    },
    {
      "cell_type": "markdown",
      "metadata": {
        "id": "z0IGme35Hlqh",
        "colab_type": "text"
      },
      "source": [
        "### Graphical Analysis"
      ]
    },
    {
      "cell_type": "code",
      "metadata": {
        "id": "tinyJoMOH-7A",
        "colab_type": "code",
        "colab": {
          "base_uri": "https://localhost:8080/",
          "height": 35
        },
        "outputId": "7defe724-ce4f-452d-97de-91c336cbf57e"
      },
      "source": [
        "data['action'].unique()"
      ],
      "execution_count": 22,
      "outputs": [
        {
          "output_type": "execute_result",
          "data": {
            "text/plain": [
              "array(['\"closed\"'], dtype=object)"
            ]
          },
          "metadata": {
            "tags": []
          },
          "execution_count": 22
        }
      ]
    },
    {
      "cell_type": "code",
      "metadata": {
        "id": "HxQmgxP2xEHd",
        "colab_type": "code",
        "colab": {
          "base_uri": "https://localhost:8080/",
          "height": 319
        },
        "outputId": "60642276-17d1-4c94-c1f9-9e23674c4f77"
      },
      "source": [
        "plt.title('NUMBER OF CLOSED ISSUE')\n",
        "plt.rcParams['axes.labelsize']=12\n",
        "sns.countplot(x=data.action)"
      ],
      "execution_count": 23,
      "outputs": [
        {
          "output_type": "execute_result",
          "data": {
            "text/plain": [
              "<matplotlib.axes._subplots.AxesSubplot at 0x7fca961f8dd8>"
            ]
          },
          "metadata": {
            "tags": []
          },
          "execution_count": 23
        },
        {
          "output_type": "display_data",
          "data": {
            "image/png": "[encoded data removed]",
            "text/plain": [
              "<Figure size 432x288 with 1 Axes>"
            ]
          },
          "metadata": {
            "tags": []
          }
        }
      ]
    },
    {
      "cell_type": "code",
      "metadata": {
        "id": "4sy4s9jHLUHr",
        "colab_type": "code",
        "colab": {}
      },
      "source": [
        "def compute_id(cols):\n",
        "  Url = cols\n",
        "  #print(Url)\n",
        "  Url = Url[len('https://github.com/')+1:]\n",
        "  #print(Url)\n",
        "  s=''\n",
        "  for e in Url:\n",
        "    if e!='/':\n",
        "      s += e\n",
        "    else:\n",
        "      break\n",
        "  #print(s)\n",
        "  return s"
      ],
      "execution_count": 0,
      "outputs": []
    },
    {
      "cell_type": "code",
      "metadata": {
        "id": "OWl_lSgaLFwn",
        "colab_type": "code",
        "colab": {}
      },
      "source": [
        "url_id['url'] = data['url'].apply(compute_id)"
      ],
      "execution_count": 0,
      "outputs": []
    },
    {
      "cell_type": "code",
      "metadata": {
        "id": "AZ00JK0CMqqa",
        "colab_type": "code",
        "colab": {
          "base_uri": "https://localhost:8080/",
          "height": 217
        },
        "outputId": "fad68665-05f0-4f44-8f6c-1e95cf2fac04"
      },
      "source": [
        "url_id.head(10)"
      ],
      "execution_count": 54,
      "outputs": [
        {
          "output_type": "execute_result",
          "data": {
            "text/plain": [
              "0         Microsoft\n",
              "1        primefaces\n",
              "2        zen-kernel\n",
              "3           biig-io\n",
              "4             istio\n",
              "5         bitshares\n",
              "6         Microsoft\n",
              "7        RADAR-base\n",
              "8    mozilla-mobile\n",
              "9       cockroachdb\n",
              "Name: url, dtype: object"
            ]
          },
          "metadata": {
            "tags": []
          },
          "execution_count": 54
        }
      ]
    },
    {
      "cell_type": "code",
      "metadata": {
        "id": "WsTrxtyWNwLQ",
        "colab_type": "code",
        "colab": {}
      },
      "source": [
        "#v1=url_id[url_id['url'].isin(url_id['url'].value_counts()[0:10].index)]\n",
        "#v1.head(5)\n",
        "#sns.countplot(x='url',data=v1)"
      ],
      "execution_count": 0,
      "outputs": []
    }
  ]
}