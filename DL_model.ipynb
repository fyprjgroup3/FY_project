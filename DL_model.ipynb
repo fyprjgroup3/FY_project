{
  "nbformat": 4,
  "nbformat_minor": 0,
  "metadata": {
    "colab": {
      "name": "Untitled",
      "provenance": [],
      "authorship_tag": "ABX9TyM4gZJz33WbHpRXU5wF4OGS",
      "include_colab_link": true
    },
    "kernelspec": {
      "name": "python3",
      "display_name": "Python 3"
    }
  },
  "cells": [
    {
      "cell_type": "markdown",
      "metadata": {
        "id": "view-in-github",
        "colab_type": "text"
      },
      "source": [
        "<a href=\"https://colab.research.google.com/github/fyprjgroup3/FY_project/blob/avik's_work/DL_model.ipynb\" target=\"_parent\"><img src=\"https://colab.research.google.com/assets/colab-badge.svg\" alt=\"Open In Colab\"/></a>"
      ]
    },
    {
      "cell_type": "code",
      "metadata": {
        "id": "YugeNSRaFJEt",
        "colab_type": "code",
        "colab": {}
      },
      "source": [
        "import pandas as pd\n",
        "from sklearn.model_selection import train_test_split\n",
        "\n",
        "pd.set_option(\"display.max_columns\",2500)\n",
        "pd.set_option(\"display.max_rows\",2500)"
      ],
      "execution_count": 0,
      "outputs": []
    },
    {
      "cell_type": "code",
      "metadata": {
        "id": "wU_PVsYXFSrx",
        "colab_type": "code",
        "colab": {}
      },
      "source": [
        "df = pd.concat([pd.read_csv(f'https://storage.googleapis.com/codenet/issue_labels/00000000000{i}.csv.gz')\n",
        "                for i in range(10)])"
      ],
      "execution_count": 0,
      "outputs": []
    },
    {
      "cell_type": "code",
      "metadata": {
        "id": "kFg6kUMtKudO",
        "colab_type": "code",
        "outputId": "4dd44c95-a31c-4539-f1b1-ae0910256c82",
        "colab": {
          "base_uri": "https://localhost:8080/",
          "height": 326
        }
      },
      "source": [
        "df.head()"
      ],
      "execution_count": 0,
      "outputs": [
        {
          "output_type": "execute_result",
          "data": {
            "text/html": [
              "<div>\n",
              "<style scoped>\n",
              "    .dataframe tbody tr th:only-of-type {\n",
              "        vertical-align: middle;\n",
              "    }\n",
              "\n",
              "    .dataframe tbody tr th {\n",
              "        vertical-align: top;\n",
              "    }\n",
              "\n",
              "    .dataframe thead th {\n",
              "        text-align: right;\n",
              "    }\n",
              "</style>\n",
              "<table border=\"1\" class=\"dataframe\">\n",
              "  <thead>\n",
              "    <tr style=\"text-align: right;\">\n",
              "      <th></th>\n",
              "      <th>url</th>\n",
              "      <th>repo</th>\n",
              "      <th>title</th>\n",
              "      <th>body</th>\n",
              "      <th>num_labels</th>\n",
              "      <th>labels</th>\n",
              "      <th>c_bug</th>\n",
              "      <th>c_feature</th>\n",
              "      <th>c_question</th>\n",
              "      <th>class_int</th>\n",
              "    </tr>\n",
              "  </thead>\n",
              "  <tbody>\n",
              "    <tr>\n",
              "      <th>0</th>\n",
              "      <td>\"https://github.com/F5Networks/f5-openstack-lb...</td>\n",
              "      <td>F5Networks/f5-openstack-lbaasv2-driver</td>\n",
              "      <td>test_l7policies_and_rules.py:testl7basicupdate...</td>\n",
              "      <td>title: test_l7policies_and_rules.py:testl7basi...</td>\n",
              "      <td>3</td>\n",
              "      <td>[\"P3\", \"S3\", \"test-bug\"]</td>\n",
              "      <td>True</td>\n",
              "      <td>False</td>\n",
              "      <td>False</td>\n",
              "      <td>0</td>\n",
              "    </tr>\n",
              "    <tr>\n",
              "      <th>1</th>\n",
              "      <td>\"https://github.com/aspnet/Mvc/issues/6339\"</td>\n",
              "      <td>aspnet/Mvc</td>\n",
              "      <td>testing all controllers dependency injection</td>\n",
              "      <td>i'm writing integration tests for my applicati...</td>\n",
              "      <td>1</td>\n",
              "      <td>[\"question\"]</td>\n",
              "      <td>False</td>\n",
              "      <td>False</td>\n",
              "      <td>True</td>\n",
              "      <td>2</td>\n",
              "    </tr>\n",
              "    <tr>\n",
              "      <th>2</th>\n",
              "      <td>\"https://github.com/ionic-team/ionic-cli/issue...</td>\n",
              "      <td>ionic-team/ionic-cli</td>\n",
              "      <td>testing ionic4 - serve shows two displays</td>\n",
              "      <td>\\r   description:  \\r ionic serve shows two di...</td>\n",
              "      <td>1</td>\n",
              "      <td>[\"bug\"]</td>\n",
              "      <td>True</td>\n",
              "      <td>False</td>\n",
              "      <td>False</td>\n",
              "      <td>0</td>\n",
              "    </tr>\n",
              "    <tr>\n",
              "      <th>3</th>\n",
              "      <td>\"https://github.com/thefarwind/chip-8/issues/21\"</td>\n",
              "      <td>thefarwind/chip-8</td>\n",
              "      <td>tests are all broken</td>\n",
              "      <td>when switching chip8 such that the audio, disp...</td>\n",
              "      <td>2</td>\n",
              "      <td>[\"bug\", \"tests\"]</td>\n",
              "      <td>True</td>\n",
              "      <td>False</td>\n",
              "      <td>False</td>\n",
              "      <td>0</td>\n",
              "    </tr>\n",
              "    <tr>\n",
              "      <th>4</th>\n",
              "      <td>\"https://github.com/n-sokolov/CoffeeShop/issue...</td>\n",
              "      <td>n-sokolov/CoffeeShop</td>\n",
              "      <td>tests for paging</td>\n",
              "      <td>_  context  _: paging mechanism must be tested...</td>\n",
              "      <td>1</td>\n",
              "      <td>[\"enhancement\"]</td>\n",
              "      <td>False</td>\n",
              "      <td>True</td>\n",
              "      <td>False</td>\n",
              "      <td>1</td>\n",
              "    </tr>\n",
              "  </tbody>\n",
              "</table>\n",
              "</div>"
            ],
            "text/plain": [
              "                                                 url  \\\n",
              "0  \"https://github.com/F5Networks/f5-openstack-lb...   \n",
              "1        \"https://github.com/aspnet/Mvc/issues/6339\"   \n",
              "2  \"https://github.com/ionic-team/ionic-cli/issue...   \n",
              "3   \"https://github.com/thefarwind/chip-8/issues/21\"   \n",
              "4  \"https://github.com/n-sokolov/CoffeeShop/issue...   \n",
              "\n",
              "                                     repo  \\\n",
              "0  F5Networks/f5-openstack-lbaasv2-driver   \n",
              "1                              aspnet/Mvc   \n",
              "2                    ionic-team/ionic-cli   \n",
              "3                       thefarwind/chip-8   \n",
              "4                    n-sokolov/CoffeeShop   \n",
              "\n",
              "                                               title  \\\n",
              "0  test_l7policies_and_rules.py:testl7basicupdate...   \n",
              "1       testing all controllers dependency injection   \n",
              "2          testing ionic4 - serve shows two displays   \n",
              "3                               tests are all broken   \n",
              "4                                   tests for paging   \n",
              "\n",
              "                                                body  num_labels  \\\n",
              "0  title: test_l7policies_and_rules.py:testl7basi...           3   \n",
              "1  i'm writing integration tests for my applicati...           1   \n",
              "2  \\r   description:  \\r ionic serve shows two di...           1   \n",
              "3  when switching chip8 such that the audio, disp...           2   \n",
              "4  _  context  _: paging mechanism must be tested...           1   \n",
              "\n",
              "                     labels  c_bug  c_feature  c_question  class_int  \n",
              "0  [\"P3\", \"S3\", \"test-bug\"]   True      False       False          0  \n",
              "1              [\"question\"]  False      False        True          2  \n",
              "2                   [\"bug\"]   True      False       False          0  \n",
              "3          [\"bug\", \"tests\"]   True      False       False          0  \n",
              "4           [\"enhancement\"]  False       True       False          1  "
            ]
          },
          "metadata": {
            "tags": []
          },
          "execution_count": 6
        }
      ]
    },
    {
      "cell_type": "code",
      "metadata": {
        "id": "m4rh8RCoK87a",
        "colab_type": "code",
        "colab": {}
      },
      "source": [
        "#to save and download raw data\n",
        "#df.to_csv('/content/drive/My Drive/Colab Notebooks/Raw_issue_data.csv')"
      ],
      "execution_count": 0,
      "outputs": []
    }
  ]
}