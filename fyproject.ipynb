{
 "cells": [
  {
   "cell_type": "markdown",
   "metadata": {},
   "source": [
    "### <a id='Getting Data Ready2'>1. Getting Data Ready</a>"
   ]
  },
  {
   "cell_type": "code",
   "execution_count": 1,
   "metadata": {},
   "outputs": [],
   "source": [
    "import pandas as pd\n",
    "import json\n",
    "import re"
   ]
  },
  {
   "cell_type": "code",
   "execution_count": 2,
   "metadata": {},
   "outputs": [
    {
     "name": "stdout",
     "output_type": "stream",
     "text": [
      "File successfully loaded into the DataFrame..\n"
     ]
    }
   ],
   "source": [
    "try:\n",
    "    data = pd.read_csv('E:\\yearproject.csv')\n",
    "    print('File successfully loaded into the DataFrame..')\n",
    "except:\n",
    "    print(\"File not found...\")"
   ]
  },
  {
   "cell_type": "code",
   "execution_count": 3,
   "metadata": {},
   "outputs": [
    {
     "data": {
      "text/plain": [
       "Index(['action', 'url', 'title', 'body', 'labels'], dtype='object')"
      ]
     },
     "execution_count": 3,
     "metadata": {},
     "output_type": "execute_result"
    }
   ],
   "source": [
    "data.columns"
   ]
  },
  {
   "cell_type": "code",
   "execution_count": 4,
   "metadata": {},
   "outputs": [
    {
     "data": {
      "text/plain": [
       "action    7964\n",
       "url       7964\n",
       "title     7964\n",
       "body      7920\n",
       "labels    7964\n",
       "dtype: int64"
      ]
     },
     "execution_count": 4,
     "metadata": {},
     "output_type": "execute_result"
    }
   ],
   "source": [
    "data.count()"
   ]
  },
  {
   "cell_type": "code",
   "execution_count": 5,
   "metadata": {},
   "outputs": [
    {
     "data": {
      "text/html": [
       "<div>\n",
       "<style scoped>\n",
       "    .dataframe tbody tr th:only-of-type {\n",
       "        vertical-align: middle;\n",
       "    }\n",
       "\n",
       "    .dataframe tbody tr th {\n",
       "        vertical-align: top;\n",
       "    }\n",
       "\n",
       "    .dataframe thead th {\n",
       "        text-align: right;\n",
       "    }\n",
       "</style>\n",
       "<table border=\"1\" class=\"dataframe\">\n",
       "  <thead>\n",
       "    <tr style=\"text-align: right;\">\n",
       "      <th></th>\n",
       "      <th>action</th>\n",
       "      <th>url</th>\n",
       "      <th>title</th>\n",
       "      <th>body</th>\n",
       "      <th>labels</th>\n",
       "    </tr>\n",
       "  </thead>\n",
       "  <tbody>\n",
       "    <tr>\n",
       "      <th>0</th>\n",
       "      <td>\"closed\"</td>\n",
       "      <td>\"https://github.com/Microsoft/vcpkg/issues/4548\"</td>\n",
       "      <td>\"Error: Building package zlib:x64-windows-stat...</td>\n",
       "      <td>\"\\r\\nPackage: zlib:x64-windows-static\\r\\nVcpkg...</td>\n",
       "      <td>[{\"id\":455857191,\"node_id\":\"MDU6TGFiZWw0NTU4NT...</td>\n",
       "    </tr>\n",
       "    <tr>\n",
       "      <th>1</th>\n",
       "      <td>\"closed\"</td>\n",
       "      <td>\"https://github.com/primefaces/primeng/issues/...</td>\n",
       "      <td>\"Pagination bug when removing an item\"</td>\n",
       "      <td>\"Reported by a PRO user;\\r\\n\\r\\n&gt; If for exemp...</td>\n",
       "      <td>[{\"id\":312160661,\"node_id\":\"MDU6TGFiZWwzMTIxNj...</td>\n",
       "    </tr>\n",
       "    <tr>\n",
       "      <th>2</th>\n",
       "      <td>\"closed\"</td>\n",
       "      <td>\"https://github.com/zen-kernel/zen-kernel/issu...</td>\n",
       "      <td>\"bfq error\"</td>\n",
       "      <td>\"Hi, Steven/\\r\\nAfter last update today &gt;git f...</td>\n",
       "      <td>[]</td>\n",
       "    </tr>\n",
       "  </tbody>\n",
       "</table>\n",
       "</div>"
      ],
      "text/plain": [
       "     action                                                url  \\\n",
       "0  \"closed\"   \"https://github.com/Microsoft/vcpkg/issues/4548\"   \n",
       "1  \"closed\"  \"https://github.com/primefaces/primeng/issues/...   \n",
       "2  \"closed\"  \"https://github.com/zen-kernel/zen-kernel/issu...   \n",
       "\n",
       "                                               title  \\\n",
       "0  \"Error: Building package zlib:x64-windows-stat...   \n",
       "1             \"Pagination bug when removing an item\"   \n",
       "2                                        \"bfq error\"   \n",
       "\n",
       "                                                body  \\\n",
       "0  \"\\r\\nPackage: zlib:x64-windows-static\\r\\nVcpkg...   \n",
       "1  \"Reported by a PRO user;\\r\\n\\r\\n> If for exemp...   \n",
       "2  \"Hi, Steven/\\r\\nAfter last update today >git f...   \n",
       "\n",
       "                                              labels  \n",
       "0  [{\"id\":455857191,\"node_id\":\"MDU6TGFiZWw0NTU4NT...  \n",
       "1  [{\"id\":312160661,\"node_id\":\"MDU6TGFiZWwzMTIxNj...  \n",
       "2                                                 []  "
      ]
     },
     "execution_count": 5,
     "metadata": {},
     "output_type": "execute_result"
    }
   ],
   "source": [
    "data.head(3)"
   ]
  },
  {
   "cell_type": "code",
   "execution_count": 6,
   "metadata": {},
   "outputs": [
    {
     "data": {
      "text/plain": [
       "(7964, 5)"
      ]
     },
     "execution_count": 6,
     "metadata": {},
     "output_type": "execute_result"
    }
   ],
   "source": [
    "data.shape"
   ]
  },
  {
   "cell_type": "markdown",
   "metadata": {},
   "source": [
    "### <a id='Data Cleaning and Munging'>2. Data Cleaning and Munging</a>"
   ]
  },
  {
   "cell_type": "code",
   "execution_count": 7,
   "metadata": {},
   "outputs": [
    {
     "name": "stdout",
     "output_type": "stream",
     "text": [
      "Null values in:\n"
     ]
    },
    {
     "data": {
      "text/plain": [
       "action     0\n",
       "url        0\n",
       "title      0\n",
       "body      44\n",
       "labels     0\n",
       "dtype: int64"
      ]
     },
     "execution_count": 7,
     "metadata": {},
     "output_type": "execute_result"
    }
   ],
   "source": [
    "print(\"Null values in:\")\n",
    "data.isnull().sum()"
   ]
  },
  {
   "cell_type": "code",
   "execution_count": 8,
   "metadata": {},
   "outputs": [],
   "source": [
    "data.dropna(inplace=True)"
   ]
  },
  {
   "cell_type": "code",
   "execution_count": 9,
   "metadata": {},
   "outputs": [
    {
     "data": {
      "text/plain": [
       "(7920, 5)"
      ]
     },
     "execution_count": 9,
     "metadata": {},
     "output_type": "execute_result"
    }
   ],
   "source": [
    "data.shape"
   ]
  },
  {
   "cell_type": "markdown",
   "metadata": {},
   "source": [
    "### 3.2 Dealing with duplicates in the data set"
   ]
  },
  {
   "cell_type": "code",
   "execution_count": 10,
   "metadata": {
    "scrolled": true
   },
   "outputs": [
    {
     "name": "stdout",
     "output_type": "stream",
     "text": [
      "The no. of duplicates in the data are 3\n"
     ]
    }
   ],
   "source": [
    "print('The no. of duplicates in the data are',data.duplicated().sum())"
   ]
  },
  {
   "cell_type": "code",
   "execution_count": 11,
   "metadata": {},
   "outputs": [],
   "source": [
    "data.drop_duplicates(inplace=True)"
   ]
  },
  {
   "cell_type": "code",
   "execution_count": 12,
   "metadata": {},
   "outputs": [
    {
     "data": {
      "text/plain": [
       "action    0\n",
       "url       0\n",
       "title     0\n",
       "body      0\n",
       "labels    0\n",
       "dtype: int64"
      ]
     },
     "execution_count": 12,
     "metadata": {},
     "output_type": "execute_result"
    }
   ],
   "source": [
    "data.isnull().sum()"
   ]
  },
  {
   "cell_type": "code",
   "execution_count": 13,
   "metadata": {},
   "outputs": [
    {
     "data": {
      "text/plain": [
       "(7917, 5)"
      ]
     },
     "execution_count": 13,
     "metadata": {},
     "output_type": "execute_result"
    }
   ],
   "source": [
    "data.shape"
   ]
  },
  {
   "cell_type": "markdown",
   "metadata": {},
   "source": [
    "### <a id='Data Analysis'>2. Data Analysis</a>"
   ]
  },
  {
   "cell_type": "code",
   "execution_count": 14,
   "metadata": {},
   "outputs": [
    {
     "data": {
      "text/plain": [
       "7917"
      ]
     },
     "execution_count": 14,
     "metadata": {},
     "output_type": "execute_result"
    }
   ],
   "source": [
    "closed=data[data['action']==\"\\\"closed\\\"\"]\n",
    "len(closed)"
   ]
  },
  {
   "cell_type": "markdown",
   "metadata": {},
   "source": [
    "**ALL CLOSED ISSUES**"
   ]
  },
  {
   "cell_type": "code",
   "execution_count": 15,
   "metadata": {},
   "outputs": [],
   "source": [
    "#Removing url and action columns\n",
    "data=data[[\"title\",\"body\",\"labels\"]]"
   ]
  },
  {
   "cell_type": "code",
   "execution_count": 16,
   "metadata": {},
   "outputs": [],
   "source": [
    "labeled=data[data['labels']!='[]']\n",
    "unlabeled=data[data['labels']=='[]']"
   ]
  },
  {
   "cell_type": "code",
   "execution_count": 17,
   "metadata": {},
   "outputs": [
    {
     "data": {
      "text/plain": [
       "(4063, 3)"
      ]
     },
     "execution_count": 17,
     "metadata": {},
     "output_type": "execute_result"
    }
   ],
   "source": [
    "labeled.shape"
   ]
  },
  {
   "cell_type": "code",
   "execution_count": 18,
   "metadata": {},
   "outputs": [
    {
     "data": {
      "text/plain": [
       "(3854, 3)"
      ]
     },
     "execution_count": 18,
     "metadata": {},
     "output_type": "execute_result"
    }
   ],
   "source": [
    "unlabeled.shape"
   ]
  },
  {
   "cell_type": "code",
   "execution_count": 19,
   "metadata": {},
   "outputs": [
    {
     "data": {
      "text/html": [
       "<div>\n",
       "<style scoped>\n",
       "    .dataframe tbody tr th:only-of-type {\n",
       "        vertical-align: middle;\n",
       "    }\n",
       "\n",
       "    .dataframe tbody tr th {\n",
       "        vertical-align: top;\n",
       "    }\n",
       "\n",
       "    .dataframe thead th {\n",
       "        text-align: right;\n",
       "    }\n",
       "</style>\n",
       "<table border=\"1\" class=\"dataframe\">\n",
       "  <thead>\n",
       "    <tr style=\"text-align: right;\">\n",
       "      <th></th>\n",
       "      <th>title</th>\n",
       "      <th>body</th>\n",
       "      <th>labels</th>\n",
       "    </tr>\n",
       "  </thead>\n",
       "  <tbody>\n",
       "    <tr>\n",
       "      <th>0</th>\n",
       "      <td>\"Error: Building package zlib:x64-windows-stat...</td>\n",
       "      <td>\"\\r\\nPackage: zlib:x64-windows-static\\r\\nVcpkg...</td>\n",
       "      <td>[{\"id\":455857191,\"node_id\":\"MDU6TGFiZWw0NTU4NT...</td>\n",
       "    </tr>\n",
       "    <tr>\n",
       "      <th>1</th>\n",
       "      <td>\"Pagination bug when removing an item\"</td>\n",
       "      <td>\"Reported by a PRO user;\\r\\n\\r\\n&gt; If for exemp...</td>\n",
       "      <td>[{\"id\":312160661,\"node_id\":\"MDU6TGFiZWwzMTIxNj...</td>\n",
       "    </tr>\n",
       "    <tr>\n",
       "      <th>4</th>\n",
       "      <td>\"Helm podAntiAffinity templating error\"</td>\n",
       "      <td>\"**Describe the bug**\\r\\n\\r\\nHelm charts fail ...</td>\n",
       "      <td>[{\"id\":670442116,\"node_id\":\"MDU6TGFiZWw2NzA0ND...</td>\n",
       "    </tr>\n",
       "    <tr>\n",
       "      <th>5</th>\n",
       "      <td>\"[0.5][Tradingview] Quick Chart resize does no...</td>\n",
       "      <td>\"**Describe the bug**\\r\\nThe up and down arrow...</td>\n",
       "      <td>[{\"id\":1089646255,\"node_id\":\"MDU6TGFiZWwxMDg5N...</td>\n",
       "    </tr>\n",
       "    <tr>\n",
       "      <th>6</th>\n",
       "      <td>\"Upgrade isort\"</td>\n",
       "      <td>\"We are using 4.3.4 but [isort[(https://pypi.o...</td>\n",
       "      <td>[{\"id\":717069763,\"node_id\":\"MDU6TGFiZWw3MTcwNj...</td>\n",
       "    </tr>\n",
       "  </tbody>\n",
       "</table>\n",
       "</div>"
      ],
      "text/plain": [
       "                                               title  \\\n",
       "0  \"Error: Building package zlib:x64-windows-stat...   \n",
       "1             \"Pagination bug when removing an item\"   \n",
       "4            \"Helm podAntiAffinity templating error\"   \n",
       "5  \"[0.5][Tradingview] Quick Chart resize does no...   \n",
       "6                                    \"Upgrade isort\"   \n",
       "\n",
       "                                                body  \\\n",
       "0  \"\\r\\nPackage: zlib:x64-windows-static\\r\\nVcpkg...   \n",
       "1  \"Reported by a PRO user;\\r\\n\\r\\n> If for exemp...   \n",
       "4  \"**Describe the bug**\\r\\n\\r\\nHelm charts fail ...   \n",
       "5  \"**Describe the bug**\\r\\nThe up and down arrow...   \n",
       "6  \"We are using 4.3.4 but [isort[(https://pypi.o...   \n",
       "\n",
       "                                              labels  \n",
       "0  [{\"id\":455857191,\"node_id\":\"MDU6TGFiZWw0NTU4NT...  \n",
       "1  [{\"id\":312160661,\"node_id\":\"MDU6TGFiZWwzMTIxNj...  \n",
       "4  [{\"id\":670442116,\"node_id\":\"MDU6TGFiZWw2NzA0ND...  \n",
       "5  [{\"id\":1089646255,\"node_id\":\"MDU6TGFiZWwxMDg5N...  \n",
       "6  [{\"id\":717069763,\"node_id\":\"MDU6TGFiZWw3MTcwNj...  "
      ]
     },
     "execution_count": 19,
     "metadata": {},
     "output_type": "execute_result"
    }
   ],
   "source": [
    "labeled.head()"
   ]
  },
  {
   "cell_type": "code",
   "execution_count": 20,
   "metadata": {},
   "outputs": [
    {
     "data": {
      "text/plain": [
       "[{'id': 1089646255,\n",
       "  'node_id': 'MDU6TGFiZWwxMDg5NjQ2MjU1',\n",
       "  'url': 'https://api.github.com/repos/bitshares/bitshares-ui/labels/[1b]%20User%20Story',\n",
       "  'name': '[1b] User Story',\n",
       "  'color': 'b8e4fc',\n",
       "  'default': False},\n",
       " {'id': 272058720,\n",
       "  'node_id': 'MDU6TGFiZWwyNzIwNTg3MjA=',\n",
       "  'url': 'https://api.github.com/repos/bitshares/bitshares-ui/labels/[3]%20Bug',\n",
       "  'name': '[3] Bug',\n",
       "  'color': 'b60205',\n",
       "  'default': False},\n",
       " {'id': 522016380,\n",
       "  'node_id': 'MDU6TGFiZWw1MjIwMTYzODA=',\n",
       "  'url': 'https://api.github.com/repos/bitshares/bitshares-ui/labels/[4c]%20High%20Priority',\n",
       "  'name': '[4c] High Priority',\n",
       "  'color': 'fbca04',\n",
       "  'default': False},\n",
       " {'id': 1089668332,\n",
       "  'node_id': 'MDU6TGFiZWwxMDg5NjY4MzMy',\n",
       "  'url': 'https://api.github.com/repos/bitshares/bitshares-ui/labels/[5a]%20Tiny',\n",
       "  'name': '[5a] Tiny',\n",
       "  'color': 'f9aed0',\n",
       "  'default': False},\n",
       " {'id': 1133046734,\n",
       "  'node_id': 'MDU6TGFiZWwxMTMzMDQ2NzM0',\n",
       "  'url': 'https://api.github.com/repos/bitshares/bitshares-ui/labels/[6]%20RC%20Blockage',\n",
       "  'name': '[6] RC Blockage',\n",
       "  'color': '0052cc',\n",
       "  'default': False},\n",
       " {'id': 1134524965,\n",
       "  'node_id': 'MDU6TGFiZWwxMTM0NTI0OTY1',\n",
       "  'url': 'https://api.github.com/repos/bitshares/bitshares-ui/labels/[7]%20Estimated',\n",
       "  'name': '[7] Estimated',\n",
       "  'color': '994d00',\n",
       "  'default': False}]"
      ]
     },
     "execution_count": 20,
     "metadata": {},
     "output_type": "execute_result"
    }
   ],
   "source": [
    "json.loads(labeled['labels'][5])"
   ]
  },
  {
   "cell_type": "code",
   "execution_count": 21,
   "metadata": {},
   "outputs": [
    {
     "data": {
      "text/plain": [
       "['[1b] User Story',\n",
       " '[3] Bug',\n",
       " '[4c] High Priority',\n",
       " '[5a] Tiny',\n",
       " '[6] RC Blockage',\n",
       " '[7] Estimated']"
      ]
     },
     "execution_count": 21,
     "metadata": {},
     "output_type": "execute_result"
    }
   ],
   "source": [
    "#converting string to dict\n",
    "[x['name'] for x in json.loads(labeled['labels'][5])]"
   ]
  },
  {
   "cell_type": "code",
   "execution_count": 22,
   "metadata": {},
   "outputs": [
    {
     "name": "stderr",
     "output_type": "stream",
     "text": [
      "C:\\Users\\Dhriti Dhruve\\Anaconda3\\lib\\site-packages\\ipykernel_launcher.py:4: SettingWithCopyWarning: \n",
      "A value is trying to be set on a copy of a slice from a DataFrame.\n",
      "Try using .loc[row_indexer,col_indexer] = value instead\n",
      "\n",
      "See the caveats in the documentation: http://pandas.pydata.org/pandas-docs/stable/indexing.html#indexing-view-versus-copy\n",
      "  after removing the cwd from sys.path.\n"
     ]
    }
   ],
   "source": [
    "labels=[]\n",
    "for i in labeled['labels']:\n",
    "    labels.append([x['name'] for x in json.loads(i)])\n",
    "labeled['labels']=labels"
   ]
  },
  {
   "cell_type": "code",
   "execution_count": 23,
   "metadata": {},
   "outputs": [],
   "source": [
    "import string\n",
    "from nltk.corpus import stopwords  # corpus means collection of writings"
   ]
  },
  {
   "cell_type": "code",
   "execution_count": 24,
   "metadata": {},
   "outputs": [
    {
     "data": {
      "text/plain": [
       "'!\"#$%&\\'()*+,-./:;<=>?@[\\\\]^_`{|}~'"
      ]
     },
     "execution_count": 24,
     "metadata": {},
     "output_type": "execute_result"
    }
   ],
   "source": [
    "string.punctuation"
   ]
  },
  {
   "cell_type": "code",
   "execution_count": 25,
   "metadata": {},
   "outputs": [
    {
     "name": "stdout",
     "output_type": "stream",
     "text": [
      "179\n"
     ]
    }
   ],
   "source": [
    "print(len(stopwords.words('english')))"
   ]
  },
  {
   "cell_type": "code",
   "execution_count": 26,
   "metadata": {},
   "outputs": [
    {
     "data": {
      "text/plain": [
       "['i', 'me', 'my', 'myself', 'we']"
      ]
     },
     "execution_count": 26,
     "metadata": {},
     "output_type": "execute_result"
    }
   ],
   "source": [
    "stopword=stopwords.words('english')\n",
    "stopword[:5]"
   ]
  },
  {
   "cell_type": "code",
   "execution_count": 27,
   "metadata": {},
   "outputs": [],
   "source": [
    "newStopWords = ['www','com','r','n','c','e','f','b','g','h','l','http','https','u','v','x','z','de','non','rb','ef']\n",
    "stopword.extend(newStopWords)"
   ]
  },
  {
   "cell_type": "code",
   "execution_count": 28,
   "metadata": {},
   "outputs": [],
   "source": [
    "def clean_text(s):\n",
    "    s=re.sub(\"[\\'\\\"]\",\"\",s) #remove '' and \"\"\n",
    "    s=re.sub(\"\\\\\\\\r\",\"\",s)  #remove \\r\n",
    "    s=re.sub(\"\\\\\\\\n\",\"\",s)  #remove \\n\n",
    "    s=re.sub(\"[^a-zA-Z]\",\" \",s) #remove everything but letters\n",
    "    s=''.join([char for char in s if char not in string.punctuation]) #remove all punctuations\n",
    "    l=[word.lower() for word in s.split() if not word.lower() in stopword]  #remove stopwords\n",
    "    return ' '.join(l)"
   ]
  },
  {
   "cell_type": "code",
   "execution_count": 29,
   "metadata": {},
   "outputs": [
    {
     "name": "stderr",
     "output_type": "stream",
     "text": [
      "C:\\Users\\Dhriti Dhruve\\Anaconda3\\lib\\site-packages\\ipykernel_launcher.py:1: SettingWithCopyWarning: \n",
      "A value is trying to be set on a copy of a slice from a DataFrame.\n",
      "Try using .loc[row_indexer,col_indexer] = value instead\n",
      "\n",
      "See the caveats in the documentation: http://pandas.pydata.org/pandas-docs/stable/indexing.html#indexing-view-versus-copy\n",
      "  \"\"\"Entry point for launching an IPython kernel.\n",
      "C:\\Users\\Dhriti Dhruve\\Anaconda3\\lib\\site-packages\\ipykernel_launcher.py:2: SettingWithCopyWarning: \n",
      "A value is trying to be set on a copy of a slice from a DataFrame.\n",
      "Try using .loc[row_indexer,col_indexer] = value instead\n",
      "\n",
      "See the caveats in the documentation: http://pandas.pydata.org/pandas-docs/stable/indexing.html#indexing-view-versus-copy\n",
      "  \n"
     ]
    }
   ],
   "source": [
    "labeled['title'] = labeled['title'].apply(lambda x: clean_text(x))\n",
    "labeled['body'] = labeled['body'].apply(lambda x: clean_text(x))"
   ]
  },
  {
   "cell_type": "code",
   "execution_count": 30,
   "metadata": {},
   "outputs": [
    {
     "data": {
      "text/html": [
       "<div>\n",
       "<style scoped>\n",
       "    .dataframe tbody tr th:only-of-type {\n",
       "        vertical-align: middle;\n",
       "    }\n",
       "\n",
       "    .dataframe tbody tr th {\n",
       "        vertical-align: top;\n",
       "    }\n",
       "\n",
       "    .dataframe thead th {\n",
       "        text-align: right;\n",
       "    }\n",
       "</style>\n",
       "<table border=\"1\" class=\"dataframe\">\n",
       "  <thead>\n",
       "    <tr style=\"text-align: right;\">\n",
       "      <th></th>\n",
       "      <th>title</th>\n",
       "      <th>body</th>\n",
       "      <th>labels</th>\n",
       "    </tr>\n",
       "  </thead>\n",
       "  <tbody>\n",
       "    <tr>\n",
       "      <th>0</th>\n",
       "      <td>error building package zlib windows static fai...</td>\n",
       "      <td>package zlib windows staticvcpkg version debug</td>\n",
       "      <td>[needs-repro]</td>\n",
       "    </tr>\n",
       "    <tr>\n",
       "      <th>1</th>\n",
       "      <td>pagination bug removing item</td>\n",
       "      <td>reported pro user exemple table items per page...</td>\n",
       "      <td>[enhancement]</td>\n",
       "    </tr>\n",
       "    <tr>\n",
       "      <th>4</th>\n",
       "      <td>helm podantiaffinity templating error</td>\n",
       "      <td>describe bug helm charts fail generate proper ...</td>\n",
       "      <td>[area/environments]</td>\n",
       "    </tr>\n",
       "    <tr>\n",
       "      <th>5</th>\n",
       "      <td>tradingview quick chart resize honor limit values</td>\n",
       "      <td>describe bug arrows tradingview chart size don...</td>\n",
       "      <td>[[1b] User Story, [3] Bug, [4c] High Priority,...</td>\n",
       "    </tr>\n",
       "    <tr>\n",
       "      <th>6</th>\n",
       "      <td>upgrade isort</td>\n",
       "      <td>using isort pypi org project isort latest migh...</td>\n",
       "      <td>[feature-refactoring, good first issue, needs ...</td>\n",
       "    </tr>\n",
       "  </tbody>\n",
       "</table>\n",
       "</div>"
      ],
      "text/plain": [
       "                                               title  \\\n",
       "0  error building package zlib windows static fai...   \n",
       "1                       pagination bug removing item   \n",
       "4              helm podantiaffinity templating error   \n",
       "5  tradingview quick chart resize honor limit values   \n",
       "6                                      upgrade isort   \n",
       "\n",
       "                                                body  \\\n",
       "0     package zlib windows staticvcpkg version debug   \n",
       "1  reported pro user exemple table items per page...   \n",
       "4  describe bug helm charts fail generate proper ...   \n",
       "5  describe bug arrows tradingview chart size don...   \n",
       "6  using isort pypi org project isort latest migh...   \n",
       "\n",
       "                                              labels  \n",
       "0                                      [needs-repro]  \n",
       "1                                      [enhancement]  \n",
       "4                                [area/environments]  \n",
       "5  [[1b] User Story, [3] Bug, [4c] High Priority,...  \n",
       "6  [feature-refactoring, good first issue, needs ...  "
      ]
     },
     "execution_count": 30,
     "metadata": {},
     "output_type": "execute_result"
    }
   ],
   "source": [
    "labeled.head()"
   ]
  },
  {
   "cell_type": "code",
   "execution_count": 31,
   "metadata": {},
   "outputs": [],
   "source": [
    "labels=[]\n",
    "for i in labeled['labels']:\n",
    "    labels.append(' '.join(i))"
   ]
  },
  {
   "cell_type": "code",
   "execution_count": 32,
   "metadata": {},
   "outputs": [
    {
     "data": {
      "text/plain": [
       "['needs-repro',\n",
       " 'enhancement',\n",
       " 'area/environments',\n",
       " '[1b] User Story [3] Bug [4c] High Priority [5a] Tiny [6] RC Blockage [7] Estimated',\n",
       " 'feature-refactoring good first issue needs PR type-code health',\n",
       " 'feature',\n",
       " 'Feature:Search Feature:Telemetry P1 a-c',\n",
       " 'A-partitioning A-sql-syntax C-enhancement',\n",
       " 'enhancement priority:low',\n",
       " 'ApiTestUat']"
      ]
     },
     "execution_count": 32,
     "metadata": {},
     "output_type": "execute_result"
    }
   ],
   "source": [
    "labels[:10]"
   ]
  },
  {
   "cell_type": "code",
   "execution_count": 33,
   "metadata": {},
   "outputs": [],
   "source": [
    "import collections\n",
    "count={}\n",
    "for x in labels:\n",
    "    if x not in count:\n",
    "        count[x]=1\n",
    "    else:\n",
    "        count[x]+=1\n",
    "d = collections.Counter(count)\n",
    "freq=[]\n",
    "i=0\n",
    "for w,c in d.most_common(2502):\n",
    "    freq.append([w,c])"
   ]
  },
  {
   "cell_type": "code",
   "execution_count": 34,
   "metadata": {},
   "outputs": [
    {
     "data": {
      "text/plain": [
       "[['bug', 356],\n",
       " ['enhancement', 353],\n",
       " ['question', 97],\n",
       " ['greenkeeper', 45],\n",
       " ['wontfix', 37],\n",
       " ['feature', 32],\n",
       " ['help wanted', 25],\n",
       " ['duplicate', 21],\n",
       " ['good first issue', 20],\n",
       " ['task', 18]]"
      ]
     },
     "execution_count": 34,
     "metadata": {},
     "output_type": "execute_result"
    }
   ],
   "source": [
    "freq[:10]"
   ]
  },
  {
   "cell_type": "code",
   "execution_count": null,
   "metadata": {},
   "outputs": [],
   "source": []
  }
 ],
 "metadata": {
  "kernelspec": {
   "display_name": "Python 3",
   "language": "python",
   "name": "python3"
  },
  "language_info": {
   "codemirror_mode": {
    "name": "ipython",
    "version": 3
   },
   "file_extension": ".py",
   "mimetype": "text/x-python",
   "name": "python",
   "nbconvert_exporter": "python",
   "pygments_lexer": "ipython3",
   "version": "3.6.5"
  }
 },
 "nbformat": 4,
 "nbformat_minor": 2
}
