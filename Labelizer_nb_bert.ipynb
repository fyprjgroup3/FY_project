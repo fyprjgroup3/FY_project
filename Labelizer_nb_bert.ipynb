{
  "nbformat": 4,
  "nbformat_minor": 0,
  "metadata": {
    "colab": {
      "name": "Labelizer_nb_bert.ipynb",
      "provenance": [],
      "collapsed_sections": [],
      "toc_visible": true,
      "include_colab_link": true
    },
    "kernelspec": {
      "name": "python3",
      "display_name": "Python 3"
    },
    "accelerator": "GPU"
  },
  "cells": [
    {
      "cell_type": "markdown",
      "metadata": {
        "id": "view-in-github",
        "colab_type": "text"
      },
      "source": [
        "<a href=\"https://colab.research.google.com/github/fyprjgroup3/FY_project/blob/avik's_work/Labelizer_nb_bert.ipynb\" target=\"_parent\"><img src=\"https://colab.research.google.com/assets/colab-badge.svg\" alt=\"Open In Colab\"/></a>"
      ]
    },
    {
      "cell_type": "markdown",
      "metadata": {
        "id": "bQ417S4tZuXs",
        "colab_type": "text"
      },
      "source": [
        "# Checking GPU"
      ]
    },
    {
      "cell_type": "code",
      "metadata": {
        "id": "rcT3N-NxZtu4",
        "colab_type": "code",
        "outputId": "1fda32b2-6027-4e7c-b2e7-ba9f64b8e0a6",
        "colab": {
          "base_uri": "https://localhost:8080/",
          "height": 34
        }
      },
      "source": [
        "%tensorflow_version 1.x"
      ],
      "execution_count": 0,
      "outputs": [
        {
          "output_type": "stream",
          "text": [
            "TensorFlow 1.x selected.\n"
          ],
          "name": "stdout"
        }
      ]
    },
    {
      "cell_type": "code",
      "metadata": {
        "id": "FsBYEQ3Lu-bo",
        "colab_type": "code",
        "outputId": "1519d0f2-7572-4ed7-ccb6-9e24d1e31d2d",
        "colab": {
          "base_uri": "https://localhost:8080/",
          "height": 34
        }
      },
      "source": [
        "import tensorflow as tf\n",
        "tf.test.gpu_device_name()"
      ],
      "execution_count": 0,
      "outputs": [
        {
          "output_type": "execute_result",
          "data": {
            "text/plain": [
              "'/device:GPU:0'"
            ]
          },
          "metadata": {
            "tags": []
          },
          "execution_count": 2
        }
      ]
    },
    {
      "cell_type": "code",
      "metadata": {
        "id": "M-HXW3_fvMxJ",
        "colab_type": "code",
        "outputId": "15e413ac-7eca-4d0b-aca6-a98680f818d6",
        "colab": {
          "base_uri": "https://localhost:8080/",
          "height": 496
        }
      },
      "source": [
        "from tensorflow.python.client import device_lib\n",
        "device_lib.list_local_devices()"
      ],
      "execution_count": 0,
      "outputs": [
        {
          "output_type": "execute_result",
          "data": {
            "text/plain": [
              "[name: \"/device:CPU:0\"\n",
              " device_type: \"CPU\"\n",
              " memory_limit: 268435456\n",
              " locality {\n",
              " }\n",
              " incarnation: 11446139236792660464, name: \"/device:XLA_CPU:0\"\n",
              " device_type: \"XLA_CPU\"\n",
              " memory_limit: 17179869184\n",
              " locality {\n",
              " }\n",
              " incarnation: 16020130704632162565\n",
              " physical_device_desc: \"device: XLA_CPU device\", name: \"/device:XLA_GPU:0\"\n",
              " device_type: \"XLA_GPU\"\n",
              " memory_limit: 17179869184\n",
              " locality {\n",
              " }\n",
              " incarnation: 18128591681570503960\n",
              " physical_device_desc: \"device: XLA_GPU device\", name: \"/device:GPU:0\"\n",
              " device_type: \"GPU\"\n",
              " memory_limit: 15956161332\n",
              " locality {\n",
              "   bus_id: 1\n",
              "   links {\n",
              "   }\n",
              " }\n",
              " incarnation: 708757718410596657\n",
              " physical_device_desc: \"device: 0, name: Tesla P100-PCIE-16GB, pci bus id: 0000:00:04.0, compute capability: 6.0\"]"
            ]
          },
          "metadata": {
            "tags": []
          },
          "execution_count": 3
        }
      ]
    },
    {
      "cell_type": "markdown",
      "metadata": {
        "id": "Ahx6odvjZiyE",
        "colab_type": "text"
      },
      "source": [
        "# Getting Dataset & Required Libraries"
      ]
    },
    {
      "cell_type": "code",
      "metadata": {
        "id": "a7dTNqZde9g5",
        "colab_type": "code",
        "outputId": "021624c9-0969-459d-8be6-7e83ca7ab6eb",
        "colab": {
          "base_uri": "https://localhost:8080/",
          "height": 156
        }
      },
      "source": [
        "import pandas as pd\n",
        "import numpy as np\n",
        "import re\n",
        "import json\n",
        "import nltk\n",
        "import matplotlib.pyplot as plt\n",
        "import seaborn as sns\n",
        "import string\n",
        "import collections\n",
        "#nltk.download('stopwords')\n",
        "\n",
        "from google.colab import drive\n",
        "from google.colab import files\n",
        "#import io\n",
        "#uploaded = files.upload()\n",
        "\n",
        "drive.mount('/content/drive') # mounting drive in each runtime\n",
        "\n",
        "pd.set_option(\"display.max_columns\",2500)\n",
        "pd.set_option(\"display.max_rows\",2500)"
      ],
      "execution_count": 0,
      "outputs": [
        {
          "output_type": "stream",
          "text": [
            "/usr/local/lib/python3.6/dist-packages/statsmodels/tools/_testing.py:19: FutureWarning: pandas.util.testing is deprecated. Use the functions in the public API at pandas.testing instead.\n",
            "  import pandas.util.testing as tm\n"
          ],
          "name": "stderr"
        },
        {
          "output_type": "stream",
          "text": [
            "Go to this URL in a browser: https://accounts.google.com/o/oauth2/auth?client_id=947318989803-6bn6qk8qdgf4n4g3pfee6491hc0brc4i.apps.googleusercontent.com&redirect_uri=urn%3aietf%3awg%3aoauth%3a2.0%3aoob&response_type=code&scope=email%20https%3a%2f%2fwww.googleapis.com%2fauth%2fdocs.test%20https%3a%2f%2fwww.googleapis.com%2fauth%2fdrive%20https%3a%2f%2fwww.googleapis.com%2fauth%2fdrive.photos.readonly%20https%3a%2f%2fwww.googleapis.com%2fauth%2fpeopleapi.readonly\n",
            "\n",
            "Enter your authorization code:\n",
            "··········\n",
            "Mounted at /content/drive\n"
          ],
          "name": "stdout"
        }
      ]
    },
    {
      "cell_type": "code",
      "metadata": {
        "id": "VBdtBpNAg11s",
        "colab_type": "code",
        "outputId": "05901a93-4106-44eb-df30-61ab73020a84",
        "colab": {
          "base_uri": "https://localhost:8080/",
          "height": 564
        }
      },
      "source": [
        "#import the data\n",
        "data=pd.concat([pd.read_csv('/content/drive/My Drive/FY_project/dataset/results-20190513-ofapr19.csv'), \n",
        "                pd.read_csv('/content/drive/My Drive/FY_project/dataset/results-20190613-ofmay19.csv'), \n",
        "                pd.read_csv('/content/drive/My Drive/FY_project/dataset/results-20200415-ofjun19.csv'),\n",
        "                pd.read_csv('/content/drive/My Drive/FY_project/dataset/results-apr-questions.csv'),\n",
        "                pd.read_csv('/content/drive/My Drive/FY_project/dataset/results-jul-questions.csv'),\n",
        "                pd.read_csv('/content/drive/My Drive/FY_project/dataset/results-bug_20k.csv'),\n",
        "                pd.read_csv('/content/drive/My Drive/FY_project/dataset/results-enhancement_17k.csv')])\n",
        "#data=pd.read_csv('E:\\yearproject.csv')\n",
        "data.tail()"
      ],
      "execution_count": 0,
      "outputs": [
        {
          "output_type": "execute_result",
          "data": {
            "text/html": [
              "<div>\n",
              "<style scoped>\n",
              "    .dataframe tbody tr th:only-of-type {\n",
              "        vertical-align: middle;\n",
              "    }\n",
              "\n",
              "    .dataframe tbody tr th {\n",
              "        vertical-align: top;\n",
              "    }\n",
              "\n",
              "    .dataframe thead th {\n",
              "        text-align: right;\n",
              "    }\n",
              "</style>\n",
              "<table border=\"1\" class=\"dataframe\">\n",
              "  <thead>\n",
              "    <tr style=\"text-align: right;\">\n",
              "      <th></th>\n",
              "      <th>action</th>\n",
              "      <th>url</th>\n",
              "      <th>title</th>\n",
              "      <th>body</th>\n",
              "      <th>labels</th>\n",
              "    </tr>\n",
              "  </thead>\n",
              "  <tbody>\n",
              "    <tr>\n",
              "      <th>16995</th>\n",
              "      <td>\"closed\"</td>\n",
              "      <td>\"https://github.com/RagtagOpen/freefrom-compen...</td>\n",
              "      <td>\"Footer should match prototype\"</td>\n",
              "      <td>\"Footer should match prototype (see [here](htt...</td>\n",
              "      <td>[{\"id\":1446836041,\"node_id\":\"MDU6TGFiZWwxNDQ2O...</td>\n",
              "    </tr>\n",
              "    <tr>\n",
              "      <th>16996</th>\n",
              "      <td>\"closed\"</td>\n",
              "      <td>\"https://github.com/frc5587/TitanBot/issues/7\"</td>\n",
              "      <td>\"\\\"Getting Started\\\" documentation\"</td>\n",
              "      <td>\"In accordance with #6, all sensitive informat...</td>\n",
              "      <td>[{\"id\":1515855500,\"node_id\":\"MDU6TGFiZWwxNTE1O...</td>\n",
              "    </tr>\n",
              "    <tr>\n",
              "      <th>16997</th>\n",
              "      <td>\"closed\"</td>\n",
              "      <td>\"https://github.com/Jaspero/jms/issues/108\"</td>\n",
              "      <td>\"Advanced options for Table\"</td>\n",
              "      <td>\"- [ ] Search\\r\\n- [x] Filter\\r\\n- [x] Hiding ...</td>\n",
              "      <td>[{\"id\":1366968101,\"node_id\":\"MDU6TGFiZWwxMzY2O...</td>\n",
              "    </tr>\n",
              "    <tr>\n",
              "      <th>16998</th>\n",
              "      <td>\"closed\"</td>\n",
              "      <td>\"https://github.com/WeBankPartners/wecube-plug...</td>\n",
              "      <td>\"视图配置-列表选择指标后，改变指标表达式造成删除指标项无法与选择框选项联动\"</td>\n",
              "      <td>\"**描述您的需求**  \\r\\n如题\\r\\n\\r\\n\\r\\n**预期行为**  \\r\\n上...</td>\n",
              "      <td>[{\"id\":1503246165,\"node_id\":\"MDU6TGFiZWwxNTAzM...</td>\n",
              "    </tr>\n",
              "    <tr>\n",
              "      <th>16999</th>\n",
              "      <td>\"closed\"</td>\n",
              "      <td>\"https://github.com/ICIJ/datashare/issues/287\"</td>\n",
              "      <td>\"Create a staging\"</td>\n",
              "      <td>\"\"</td>\n",
              "      <td>[{\"id\":361147909,\"node_id\":\"MDU6TGFiZWwzNjExND...</td>\n",
              "    </tr>\n",
              "  </tbody>\n",
              "</table>\n",
              "</div>"
            ],
            "text/plain": [
              "         action                                                url  \\\n",
              "16995  \"closed\"  \"https://github.com/RagtagOpen/freefrom-compen...   \n",
              "16996  \"closed\"     \"https://github.com/frc5587/TitanBot/issues/7\"   \n",
              "16997  \"closed\"        \"https://github.com/Jaspero/jms/issues/108\"   \n",
              "16998  \"closed\"  \"https://github.com/WeBankPartners/wecube-plug...   \n",
              "16999  \"closed\"     \"https://github.com/ICIJ/datashare/issues/287\"   \n",
              "\n",
              "                                         title  \\\n",
              "16995          \"Footer should match prototype\"   \n",
              "16996      \"\\\"Getting Started\\\" documentation\"   \n",
              "16997             \"Advanced options for Table\"   \n",
              "16998  \"视图配置-列表选择指标后，改变指标表达式造成删除指标项无法与选择框选项联动\"   \n",
              "16999                       \"Create a staging\"   \n",
              "\n",
              "                                                    body  \\\n",
              "16995  \"Footer should match prototype (see [here](htt...   \n",
              "16996  \"In accordance with #6, all sensitive informat...   \n",
              "16997  \"- [ ] Search\\r\\n- [x] Filter\\r\\n- [x] Hiding ...   \n",
              "16998  \"**描述您的需求**  \\r\\n如题\\r\\n\\r\\n\\r\\n**预期行为**  \\r\\n上...   \n",
              "16999                                                 \"\"   \n",
              "\n",
              "                                                  labels  \n",
              "16995  [{\"id\":1446836041,\"node_id\":\"MDU6TGFiZWwxNDQ2O...  \n",
              "16996  [{\"id\":1515855500,\"node_id\":\"MDU6TGFiZWwxNTE1O...  \n",
              "16997  [{\"id\":1366968101,\"node_id\":\"MDU6TGFiZWwxMzY2O...  \n",
              "16998  [{\"id\":1503246165,\"node_id\":\"MDU6TGFiZWwxNTAzM...  \n",
              "16999  [{\"id\":361147909,\"node_id\":\"MDU6TGFiZWwzNjExND...  "
            ]
          },
          "metadata": {
            "tags": []
          },
          "execution_count": 5
        }
      ]
    },
    {
      "cell_type": "code",
      "metadata": {
        "id": "ZcTmze_Rg5ER",
        "colab_type": "code",
        "colab": {}
      },
      "source": [
        "from sklearn.utils import shuffle\n",
        "data=shuffle(data)"
      ],
      "execution_count": 0,
      "outputs": []
    },
    {
      "cell_type": "code",
      "metadata": {
        "id": "tORC2I4ghA0S",
        "colab_type": "code",
        "outputId": "0e31d125-9b6a-44e2-c25c-cb8c868c4813",
        "colab": {
          "base_uri": "https://localhost:8080/",
          "height": 34
        }
      },
      "source": [
        "print(\"No. of rows:\",data.shape[0])"
      ],
      "execution_count": 0,
      "outputs": [
        {
          "output_type": "stream",
          "text": [
            "No. of rows: 74620\n"
          ],
          "name": "stdout"
        }
      ]
    },
    {
      "cell_type": "markdown",
      "metadata": {
        "id": "nFLSC7bdJJxR",
        "colab_type": "text"
      },
      "source": [
        "# Data Cleaning"
      ]
    },
    {
      "cell_type": "code",
      "metadata": {
        "colab_type": "code",
        "id": "RcaCbq1AVwLg",
        "outputId": "992966da-f52f-4147-da3d-b36786ae92f9",
        "colab": {
          "base_uri": "https://localhost:8080/",
          "height": 34
        }
      },
      "source": [
        "print('No. of duplicate rows: ',data.duplicated().sum())"
      ],
      "execution_count": 0,
      "outputs": [
        {
          "output_type": "stream",
          "text": [
            "No. of duplicate rows:  657\n"
          ],
          "name": "stdout"
        }
      ]
    },
    {
      "cell_type": "code",
      "metadata": {
        "colab_type": "code",
        "id": "dhtfKNalWfyS",
        "colab": {}
      },
      "source": [
        "data.drop_duplicates(inplace=True)"
      ],
      "execution_count": 0,
      "outputs": []
    },
    {
      "cell_type": "code",
      "metadata": {
        "colab_type": "code",
        "id": "JPgfNluzWnMx",
        "outputId": "d08cd055-4c52-436b-ab02-9382cad88c3c",
        "colab": {
          "base_uri": "https://localhost:8080/",
          "height": 34
        }
      },
      "source": [
        "data.shape"
      ],
      "execution_count": 0,
      "outputs": [
        {
          "output_type": "execute_result",
          "data": {
            "text/plain": [
              "(73963, 5)"
            ]
          },
          "metadata": {
            "tags": []
          },
          "execution_count": 10
        }
      ]
    },
    {
      "cell_type": "code",
      "metadata": {
        "colab_type": "code",
        "id": "wk4JasqL1qje",
        "outputId": "cd756035-162f-4dac-876f-4fd607860128",
        "colab": {
          "base_uri": "https://localhost:8080/",
          "height": 272
        }
      },
      "source": [
        "# select necessary features\n",
        "data=data[[\"title\",\"body\",\"labels\"]]\n",
        "data.head()"
      ],
      "execution_count": 0,
      "outputs": [
        {
          "output_type": "execute_result",
          "data": {
            "text/html": [
              "<div>\n",
              "<style scoped>\n",
              "    .dataframe tbody tr th:only-of-type {\n",
              "        vertical-align: middle;\n",
              "    }\n",
              "\n",
              "    .dataframe tbody tr th {\n",
              "        vertical-align: top;\n",
              "    }\n",
              "\n",
              "    .dataframe thead th {\n",
              "        text-align: right;\n",
              "    }\n",
              "</style>\n",
              "<table border=\"1\" class=\"dataframe\">\n",
              "  <thead>\n",
              "    <tr style=\"text-align: right;\">\n",
              "      <th></th>\n",
              "      <th>title</th>\n",
              "      <th>body</th>\n",
              "      <th>labels</th>\n",
              "    </tr>\n",
              "  </thead>\n",
              "  <tbody>\n",
              "    <tr>\n",
              "      <th>794</th>\n",
              "      <td>\"Added input to console, output the instructio...</td>\n",
              "      <td>\"\"</td>\n",
              "      <td>[]</td>\n",
              "    </tr>\n",
              "    <tr>\n",
              "      <th>5134</th>\n",
              "      <td>\"Flashing twice won't uninstall\"</td>\n",
              "      <td>\"So I've installed the cepheus.79 accidentally...</td>\n",
              "      <td>[]</td>\n",
              "    </tr>\n",
              "    <tr>\n",
              "      <th>2793</th>\n",
              "      <td>\"test\"</td>\n",
              "      <td>\"\"</td>\n",
              "      <td>[{\"id\":1403508358,\"node_id\":\"MDU6TGFiZWwxNDAzN...</td>\n",
              "    </tr>\n",
              "    <tr>\n",
              "      <th>3675</th>\n",
              "      <td>\"Update containerd to 1.3.0\"</td>\n",
              "      <td>\"The latest release of containerd - 1.3.0 - is...</td>\n",
              "      <td>[{\"id\":927511018,\"node_id\":\"MDU6TGFiZWw5Mjc1MT...</td>\n",
              "    </tr>\n",
              "    <tr>\n",
              "      <th>7907</th>\n",
              "      <td>\"Zoomify source should support custom TileGrid...</td>\n",
              "      <td>\"Zoomify source always sets the TileGrid exten...</td>\n",
              "      <td>[{\"id\":263341481,\"node_id\":\"MDU6TGFiZWwyNjMzND...</td>\n",
              "    </tr>\n",
              "  </tbody>\n",
              "</table>\n",
              "</div>"
            ],
            "text/plain": [
              "                                                  title  \\\n",
              "794   \"Added input to console, output the instructio...   \n",
              "5134                   \"Flashing twice won't uninstall\"   \n",
              "2793                                             \"test\"   \n",
              "3675                       \"Update containerd to 1.3.0\"   \n",
              "7907  \"Zoomify source should support custom TileGrid...   \n",
              "\n",
              "                                                   body  \\\n",
              "794                                                  \"\"   \n",
              "5134  \"So I've installed the cepheus.79 accidentally...   \n",
              "2793                                                 \"\"   \n",
              "3675  \"The latest release of containerd - 1.3.0 - is...   \n",
              "7907  \"Zoomify source always sets the TileGrid exten...   \n",
              "\n",
              "                                                 labels  \n",
              "794                                                  []  \n",
              "5134                                                 []  \n",
              "2793  [{\"id\":1403508358,\"node_id\":\"MDU6TGFiZWwxNDAzN...  \n",
              "3675  [{\"id\":927511018,\"node_id\":\"MDU6TGFiZWw5Mjc1MT...  \n",
              "7907  [{\"id\":263341481,\"node_id\":\"MDU6TGFiZWwyNjMzND...  "
            ]
          },
          "metadata": {
            "tags": []
          },
          "execution_count": 11
        }
      ]
    },
    {
      "cell_type": "code",
      "metadata": {
        "colab_type": "code",
        "id": "gsaA7-fC9N6c",
        "outputId": "45eeb25e-62cb-4752-bc54-be653e34310f",
        "colab": {
          "base_uri": "https://localhost:8080/",
          "height": 272
        }
      },
      "source": [
        "# remove rows with empty labels\n",
        "def clean(s):\n",
        "    if s==\"[]\":\n",
        "        s=np.nan\n",
        "    return s\n",
        "    \n",
        "data['labels']=data['labels'].apply(lambda x: clean(x))\n",
        "data.head()"
      ],
      "execution_count": 0,
      "outputs": [
        {
          "output_type": "execute_result",
          "data": {
            "text/html": [
              "<div>\n",
              "<style scoped>\n",
              "    .dataframe tbody tr th:only-of-type {\n",
              "        vertical-align: middle;\n",
              "    }\n",
              "\n",
              "    .dataframe tbody tr th {\n",
              "        vertical-align: top;\n",
              "    }\n",
              "\n",
              "    .dataframe thead th {\n",
              "        text-align: right;\n",
              "    }\n",
              "</style>\n",
              "<table border=\"1\" class=\"dataframe\">\n",
              "  <thead>\n",
              "    <tr style=\"text-align: right;\">\n",
              "      <th></th>\n",
              "      <th>title</th>\n",
              "      <th>body</th>\n",
              "      <th>labels</th>\n",
              "    </tr>\n",
              "  </thead>\n",
              "  <tbody>\n",
              "    <tr>\n",
              "      <th>794</th>\n",
              "      <td>\"Added input to console, output the instructio...</td>\n",
              "      <td>\"\"</td>\n",
              "      <td>NaN</td>\n",
              "    </tr>\n",
              "    <tr>\n",
              "      <th>5134</th>\n",
              "      <td>\"Flashing twice won't uninstall\"</td>\n",
              "      <td>\"So I've installed the cepheus.79 accidentally...</td>\n",
              "      <td>NaN</td>\n",
              "    </tr>\n",
              "    <tr>\n",
              "      <th>2793</th>\n",
              "      <td>\"test\"</td>\n",
              "      <td>\"\"</td>\n",
              "      <td>[{\"id\":1403508358,\"node_id\":\"MDU6TGFiZWwxNDAzN...</td>\n",
              "    </tr>\n",
              "    <tr>\n",
              "      <th>3675</th>\n",
              "      <td>\"Update containerd to 1.3.0\"</td>\n",
              "      <td>\"The latest release of containerd - 1.3.0 - is...</td>\n",
              "      <td>[{\"id\":927511018,\"node_id\":\"MDU6TGFiZWw5Mjc1MT...</td>\n",
              "    </tr>\n",
              "    <tr>\n",
              "      <th>7907</th>\n",
              "      <td>\"Zoomify source should support custom TileGrid...</td>\n",
              "      <td>\"Zoomify source always sets the TileGrid exten...</td>\n",
              "      <td>[{\"id\":263341481,\"node_id\":\"MDU6TGFiZWwyNjMzND...</td>\n",
              "    </tr>\n",
              "  </tbody>\n",
              "</table>\n",
              "</div>"
            ],
            "text/plain": [
              "                                                  title  \\\n",
              "794   \"Added input to console, output the instructio...   \n",
              "5134                   \"Flashing twice won't uninstall\"   \n",
              "2793                                             \"test\"   \n",
              "3675                       \"Update containerd to 1.3.0\"   \n",
              "7907  \"Zoomify source should support custom TileGrid...   \n",
              "\n",
              "                                                   body  \\\n",
              "794                                                  \"\"   \n",
              "5134  \"So I've installed the cepheus.79 accidentally...   \n",
              "2793                                                 \"\"   \n",
              "3675  \"The latest release of containerd - 1.3.0 - is...   \n",
              "7907  \"Zoomify source always sets the TileGrid exten...   \n",
              "\n",
              "                                                 labels  \n",
              "794                                                 NaN  \n",
              "5134                                                NaN  \n",
              "2793  [{\"id\":1403508358,\"node_id\":\"MDU6TGFiZWwxNDAzN...  \n",
              "3675  [{\"id\":927511018,\"node_id\":\"MDU6TGFiZWw5Mjc1MT...  \n",
              "7907  [{\"id\":263341481,\"node_id\":\"MDU6TGFiZWwyNjMzND...  "
            ]
          },
          "metadata": {
            "tags": []
          },
          "execution_count": 12
        }
      ]
    },
    {
      "cell_type": "code",
      "metadata": {
        "colab_type": "code",
        "id": "l4BE0H3HIJBH",
        "colab": {}
      },
      "source": [
        "data.dropna(inplace=True)"
      ],
      "execution_count": 0,
      "outputs": []
    },
    {
      "cell_type": "code",
      "metadata": {
        "colab_type": "code",
        "id": "2Spnq92nMJyi",
        "outputId": "3c39c98e-c586-463f-90a1-26d6ac9a9635",
        "colab": {
          "base_uri": "https://localhost:8080/",
          "height": 272
        }
      },
      "source": [
        "data.head()"
      ],
      "execution_count": 0,
      "outputs": [
        {
          "output_type": "execute_result",
          "data": {
            "text/html": [
              "<div>\n",
              "<style scoped>\n",
              "    .dataframe tbody tr th:only-of-type {\n",
              "        vertical-align: middle;\n",
              "    }\n",
              "\n",
              "    .dataframe tbody tr th {\n",
              "        vertical-align: top;\n",
              "    }\n",
              "\n",
              "    .dataframe thead th {\n",
              "        text-align: right;\n",
              "    }\n",
              "</style>\n",
              "<table border=\"1\" class=\"dataframe\">\n",
              "  <thead>\n",
              "    <tr style=\"text-align: right;\">\n",
              "      <th></th>\n",
              "      <th>title</th>\n",
              "      <th>body</th>\n",
              "      <th>labels</th>\n",
              "    </tr>\n",
              "  </thead>\n",
              "  <tbody>\n",
              "    <tr>\n",
              "      <th>2793</th>\n",
              "      <td>\"test\"</td>\n",
              "      <td>\"\"</td>\n",
              "      <td>[{\"id\":1403508358,\"node_id\":\"MDU6TGFiZWwxNDAzN...</td>\n",
              "    </tr>\n",
              "    <tr>\n",
              "      <th>3675</th>\n",
              "      <td>\"Update containerd to 1.3.0\"</td>\n",
              "      <td>\"The latest release of containerd - 1.3.0 - is...</td>\n",
              "      <td>[{\"id\":927511018,\"node_id\":\"MDU6TGFiZWw5Mjc1MT...</td>\n",
              "    </tr>\n",
              "    <tr>\n",
              "      <th>7907</th>\n",
              "      <td>\"Zoomify source should support custom TileGrid...</td>\n",
              "      <td>\"Zoomify source always sets the TileGrid exten...</td>\n",
              "      <td>[{\"id\":263341481,\"node_id\":\"MDU6TGFiZWwyNjMzND...</td>\n",
              "    </tr>\n",
              "    <tr>\n",
              "      <th>6474</th>\n",
              "      <td>\"Implement Post Account Suspension Event\"</td>\n",
              "      <td>\"\"</td>\n",
              "      <td>[{\"id\":1334947983,\"node_id\":\"MDU6TGFiZWwxMzM0O...</td>\n",
              "    </tr>\n",
              "    <tr>\n",
              "      <th>51</th>\n",
              "      <td>\"Trying to build Windows binaries fails\"</td>\n",
              "      <td>\"Hi all,\\r\\n\\r\\nbeen following the [guide](htt...</td>\n",
              "      <td>[{\"id\":835367871,\"node_id\":\"MDU6TGFiZWw4MzUzNj...</td>\n",
              "    </tr>\n",
              "  </tbody>\n",
              "</table>\n",
              "</div>"
            ],
            "text/plain": [
              "                                                  title  \\\n",
              "2793                                             \"test\"   \n",
              "3675                       \"Update containerd to 1.3.0\"   \n",
              "7907  \"Zoomify source should support custom TileGrid...   \n",
              "6474          \"Implement Post Account Suspension Event\"   \n",
              "51             \"Trying to build Windows binaries fails\"   \n",
              "\n",
              "                                                   body  \\\n",
              "2793                                                 \"\"   \n",
              "3675  \"The latest release of containerd - 1.3.0 - is...   \n",
              "7907  \"Zoomify source always sets the TileGrid exten...   \n",
              "6474                                                 \"\"   \n",
              "51    \"Hi all,\\r\\n\\r\\nbeen following the [guide](htt...   \n",
              "\n",
              "                                                 labels  \n",
              "2793  [{\"id\":1403508358,\"node_id\":\"MDU6TGFiZWwxNDAzN...  \n",
              "3675  [{\"id\":927511018,\"node_id\":\"MDU6TGFiZWw5Mjc1MT...  \n",
              "7907  [{\"id\":263341481,\"node_id\":\"MDU6TGFiZWwyNjMzND...  \n",
              "6474  [{\"id\":1334947983,\"node_id\":\"MDU6TGFiZWwxMzM0O...  \n",
              "51    [{\"id\":835367871,\"node_id\":\"MDU6TGFiZWw4MzUzNj...  "
            ]
          },
          "metadata": {
            "tags": []
          },
          "execution_count": 14
        }
      ]
    },
    {
      "cell_type": "code",
      "metadata": {
        "colab_type": "code",
        "id": "K7LBFzMaOE9o",
        "outputId": "9a276faf-2335-41e0-d2ae-f1830d7e2c6b",
        "colab": {
          "base_uri": "https://localhost:8080/",
          "height": 34
        }
      },
      "source": [
        "print(\"No. of rows:\",data.shape[0])"
      ],
      "execution_count": 0,
      "outputs": [
        {
          "output_type": "stream",
          "text": [
            "No. of rows: 61957\n"
          ],
          "name": "stdout"
        }
      ]
    },
    {
      "cell_type": "code",
      "metadata": {
        "id": "vDzB7AXkGvcc",
        "colab_type": "code",
        "colab": {}
      },
      "source": [
        "data.reset_index(inplace=True,drop=True)"
      ],
      "execution_count": 0,
      "outputs": []
    },
    {
      "cell_type": "code",
      "metadata": {
        "colab_type": "code",
        "id": "FUK5Hl701hmN",
        "outputId": "d45a96c8-e0ad-4faa-ccce-84fee3a0e72c",
        "colab": {
          "base_uri": "https://localhost:8080/",
          "height": 119
        }
      },
      "source": [
        "# check format of labels\n",
        "data['labels'][:5]"
      ],
      "execution_count": 0,
      "outputs": [
        {
          "output_type": "execute_result",
          "data": {
            "text/plain": [
              "0    [{\"id\":1403508358,\"node_id\":\"MDU6TGFiZWwxNDAzN...\n",
              "1    [{\"id\":927511018,\"node_id\":\"MDU6TGFiZWw5Mjc1MT...\n",
              "2    [{\"id\":263341481,\"node_id\":\"MDU6TGFiZWwyNjMzND...\n",
              "3    [{\"id\":1334947983,\"node_id\":\"MDU6TGFiZWwxMzM0O...\n",
              "4    [{\"id\":835367871,\"node_id\":\"MDU6TGFiZWw4MzUzNj...\n",
              "Name: labels, dtype: object"
            ]
          },
          "metadata": {
            "tags": []
          },
          "execution_count": 17
        }
      ]
    },
    {
      "cell_type": "code",
      "metadata": {
        "id": "8MTpjGiKJJyQ",
        "colab_type": "code",
        "outputId": "f82b9b3c-f0f1-4a59-d3c2-d8ca2b4cf4ba",
        "colab": {
          "base_uri": "https://localhost:8080/",
          "height": 54
        }
      },
      "source": [
        "data['labels'][3]"
      ],
      "execution_count": 0,
      "outputs": [
        {
          "output_type": "execute_result",
          "data": {
            "text/plain": [
              "'[{\"id\":1334947983,\"node_id\":\"MDU6TGFiZWwxMzM0OTQ3OTgz\",\"url\":\"https://api.github.com/repos/wso2/product-is/labels/Component/Identity%20Governance\",\"name\":\"Component/Identity Governance\",\"color\":\"fef2c0\",\"default\":false},{\"id\":677888581,\"node_id\":\"MDU6TGFiZWw2Nzc4ODg1ODE=\",\"url\":\"https://api.github.com/repos/wso2/product-is/labels/Type/Improvement\",\"name\":\"Type/Improvement\",\"color\":\"1d76db\",\"default\":false}]'"
            ]
          },
          "metadata": {
            "tags": []
          },
          "execution_count": 18
        }
      ]
    },
    {
      "cell_type": "code",
      "metadata": {
        "colab_type": "code",
        "id": "wMF76vYc2_9m",
        "outputId": "d818dda4-6717-42a2-e7b1-c8f3c1ae65c0",
        "colab": {
          "base_uri": "https://localhost:8080/",
          "height": 221
        }
      },
      "source": [
        "#since labels are of string type, convert into list of dictionaries\n",
        "json.loads(data['labels'][3])"
      ],
      "execution_count": 0,
      "outputs": [
        {
          "output_type": "execute_result",
          "data": {
            "text/plain": [
              "[{'color': 'fef2c0',\n",
              "  'default': False,\n",
              "  'id': 1334947983,\n",
              "  'name': 'Component/Identity Governance',\n",
              "  'node_id': 'MDU6TGFiZWwxMzM0OTQ3OTgz',\n",
              "  'url': 'https://api.github.com/repos/wso2/product-is/labels/Component/Identity%20Governance'},\n",
              " {'color': '1d76db',\n",
              "  'default': False,\n",
              "  'id': 677888581,\n",
              "  'name': 'Type/Improvement',\n",
              "  'node_id': 'MDU6TGFiZWw2Nzc4ODg1ODE=',\n",
              "  'url': 'https://api.github.com/repos/wso2/product-is/labels/Type/Improvement'}]"
            ]
          },
          "metadata": {
            "tags": []
          },
          "execution_count": 19
        }
      ]
    },
    {
      "cell_type": "code",
      "metadata": {
        "colab_type": "code",
        "id": "UDrrdbud4TyN",
        "outputId": "043149a9-0c31-4313-fd33-045a3b8fcf23",
        "colab": {
          "base_uri": "https://localhost:8080/",
          "height": 34
        }
      },
      "source": [
        "#extract only name field from labels\n",
        "[x['name'] for x in json.loads(data['labels'][3])]"
      ],
      "execution_count": 0,
      "outputs": [
        {
          "output_type": "execute_result",
          "data": {
            "text/plain": [
              "['Component/Identity Governance', 'Type/Improvement']"
            ]
          },
          "metadata": {
            "tags": []
          },
          "execution_count": 20
        }
      ]
    },
    {
      "cell_type": "code",
      "metadata": {
        "colab_type": "code",
        "id": "t-Oifzq76loU",
        "outputId": "7b395f24-632b-4967-d01f-1705840cbb6c",
        "colab": {
          "base_uri": "https://localhost:8080/",
          "height": 102
        }
      },
      "source": [
        "#convert into list of lists\n",
        "labels=[]\n",
        "for i in data['labels']:\n",
        "    labels.append([x['name'] for x in json.loads(i)])\n",
        "labels[:5]"
      ],
      "execution_count": 0,
      "outputs": [
        {
          "output_type": "execute_result",
          "data": {
            "text/plain": [
              "[['question'],\n",
              " ['enhancement', 'good first issue', 'help wanted'],\n",
              " ['pull request accepted', 'stale'],\n",
              " ['Component/Identity Governance', 'Type/Improvement'],\n",
              " ['build/packaging', 'question']]"
            ]
          },
          "metadata": {
            "tags": []
          },
          "execution_count": 21
        }
      ]
    },
    {
      "cell_type": "code",
      "metadata": {
        "colab_type": "code",
        "id": "hctdulfs75el",
        "outputId": "b3e1b3df-459e-48df-931a-e4c435c4da1e",
        "colab": {
          "base_uri": "https://localhost:8080/",
          "height": 238
        }
      },
      "source": [
        "data['labels']=labels\n",
        "data.head()"
      ],
      "execution_count": 0,
      "outputs": [
        {
          "output_type": "execute_result",
          "data": {
            "text/html": [
              "<div>\n",
              "<style scoped>\n",
              "    .dataframe tbody tr th:only-of-type {\n",
              "        vertical-align: middle;\n",
              "    }\n",
              "\n",
              "    .dataframe tbody tr th {\n",
              "        vertical-align: top;\n",
              "    }\n",
              "\n",
              "    .dataframe thead th {\n",
              "        text-align: right;\n",
              "    }\n",
              "</style>\n",
              "<table border=\"1\" class=\"dataframe\">\n",
              "  <thead>\n",
              "    <tr style=\"text-align: right;\">\n",
              "      <th></th>\n",
              "      <th>title</th>\n",
              "      <th>body</th>\n",
              "      <th>labels</th>\n",
              "    </tr>\n",
              "  </thead>\n",
              "  <tbody>\n",
              "    <tr>\n",
              "      <th>0</th>\n",
              "      <td>\"test\"</td>\n",
              "      <td>\"\"</td>\n",
              "      <td>[question]</td>\n",
              "    </tr>\n",
              "    <tr>\n",
              "      <th>1</th>\n",
              "      <td>\"Update containerd to 1.3.0\"</td>\n",
              "      <td>\"The latest release of containerd - 1.3.0 - is...</td>\n",
              "      <td>[enhancement, good first issue, help wanted]</td>\n",
              "    </tr>\n",
              "    <tr>\n",
              "      <th>2</th>\n",
              "      <td>\"Zoomify source should support custom TileGrid...</td>\n",
              "      <td>\"Zoomify source always sets the TileGrid exten...</td>\n",
              "      <td>[pull request accepted, stale]</td>\n",
              "    </tr>\n",
              "    <tr>\n",
              "      <th>3</th>\n",
              "      <td>\"Implement Post Account Suspension Event\"</td>\n",
              "      <td>\"\"</td>\n",
              "      <td>[Component/Identity Governance, Type/Improvement]</td>\n",
              "    </tr>\n",
              "    <tr>\n",
              "      <th>4</th>\n",
              "      <td>\"Trying to build Windows binaries fails\"</td>\n",
              "      <td>\"Hi all,\\r\\n\\r\\nbeen following the [guide](htt...</td>\n",
              "      <td>[build/packaging, question]</td>\n",
              "    </tr>\n",
              "  </tbody>\n",
              "</table>\n",
              "</div>"
            ],
            "text/plain": [
              "                                               title  \\\n",
              "0                                             \"test\"   \n",
              "1                       \"Update containerd to 1.3.0\"   \n",
              "2  \"Zoomify source should support custom TileGrid...   \n",
              "3          \"Implement Post Account Suspension Event\"   \n",
              "4           \"Trying to build Windows binaries fails\"   \n",
              "\n",
              "                                                body  \\\n",
              "0                                                 \"\"   \n",
              "1  \"The latest release of containerd - 1.3.0 - is...   \n",
              "2  \"Zoomify source always sets the TileGrid exten...   \n",
              "3                                                 \"\"   \n",
              "4  \"Hi all,\\r\\n\\r\\nbeen following the [guide](htt...   \n",
              "\n",
              "                                              labels  \n",
              "0                                         [question]  \n",
              "1       [enhancement, good first issue, help wanted]  \n",
              "2                     [pull request accepted, stale]  \n",
              "3  [Component/Identity Governance, Type/Improvement]  \n",
              "4                        [build/packaging, question]  "
            ]
          },
          "metadata": {
            "tags": []
          },
          "execution_count": 22
        }
      ]
    },
    {
      "cell_type": "code",
      "metadata": {
        "id": "xG5944ugiDrN",
        "colab_type": "code",
        "colab": {}
      },
      "source": [
        "# function for text cleaning \n",
        "def clean_text(s):\n",
        "    s=re.sub('\\\\\\\\r',' ',s)  #remove \\r\n",
        "    s=re.sub('[^a-zA-Z]',' ',s) #remove everything but letters\n",
        "    s=''.join([char for char in s if char not in '!\"\\',?']) #remove all punctuations\n",
        "    s=' '.join(s.split()) # remove whitespaces \n",
        "    s=s.lower()# convert text to lowercase \n",
        "    return s"
      ],
      "execution_count": 0,
      "outputs": []
    },
    {
      "cell_type": "code",
      "metadata": {
        "colab_type": "code",
        "id": "jk_Ol5NSPJ09",
        "colab": {}
      },
      "source": [
        "# clean title and body fields\n",
        "data['title'] = data['title'].apply(lambda x: clean_text(x))\n",
        "data['body'] = data['body'].apply(lambda x: clean_text(x))"
      ],
      "execution_count": 0,
      "outputs": []
    },
    {
      "cell_type": "code",
      "metadata": {
        "colab_type": "code",
        "id": "io_vyqZ0PlWu",
        "outputId": "668d8227-a96d-4fa5-98ff-b04b55005e09",
        "colab": {
          "base_uri": "https://localhost:8080/",
          "height": 461
        }
      },
      "source": [
        "data.head(10)"
      ],
      "execution_count": 0,
      "outputs": [
        {
          "output_type": "execute_result",
          "data": {
            "text/html": [
              "<div>\n",
              "<style scoped>\n",
              "    .dataframe tbody tr th:only-of-type {\n",
              "        vertical-align: middle;\n",
              "    }\n",
              "\n",
              "    .dataframe tbody tr th {\n",
              "        vertical-align: top;\n",
              "    }\n",
              "\n",
              "    .dataframe thead th {\n",
              "        text-align: right;\n",
              "    }\n",
              "</style>\n",
              "<table border=\"1\" class=\"dataframe\">\n",
              "  <thead>\n",
              "    <tr style=\"text-align: right;\">\n",
              "      <th></th>\n",
              "      <th>title</th>\n",
              "      <th>body</th>\n",
              "      <th>labels</th>\n",
              "    </tr>\n",
              "  </thead>\n",
              "  <tbody>\n",
              "    <tr>\n",
              "      <th>0</th>\n",
              "      <td>test</td>\n",
              "      <td></td>\n",
              "      <td>[question]</td>\n",
              "    </tr>\n",
              "    <tr>\n",
              "      <th>1</th>\n",
              "      <td>update containerd to</td>\n",
              "      <td>the latest release of containerd is a major st...</td>\n",
              "      <td>[enhancement, good first issue, help wanted]</td>\n",
              "    </tr>\n",
              "    <tr>\n",
              "      <th>2</th>\n",
              "      <td>zoomify source should support custom tilegrid ...</td>\n",
              "      <td>zoomify source always sets the tilegrid extent...</td>\n",
              "      <td>[pull request accepted, stale]</td>\n",
              "    </tr>\n",
              "    <tr>\n",
              "      <th>3</th>\n",
              "      <td>implement post account suspension event</td>\n",
              "      <td></td>\n",
              "      <td>[Component/Identity Governance, Type/Improvement]</td>\n",
              "    </tr>\n",
              "    <tr>\n",
              "      <th>4</th>\n",
              "      <td>trying to build windows binaries fails</td>\n",
              "      <td>hi all n nbeen following the guide https githu...</td>\n",
              "      <td>[build/packaging, question]</td>\n",
              "    </tr>\n",
              "    <tr>\n",
              "      <th>5</th>\n",
              "      <td>stashed changes not discarding after clicking ...</td>\n",
              "      <td>n nstashed changes on the master branch nswitc...</td>\n",
              "      <td>[bug, priority-3]</td>\n",
              "    </tr>\n",
              "    <tr>\n",
              "      <th>6</th>\n",
              "      <td>initdb could not change permissions of directo...</td>\n",
              "      <td>window hyperv nuse minikube n n yml napiversio...</td>\n",
              "      <td>[question]</td>\n",
              "    </tr>\n",
              "    <tr>\n",
              "      <th>7</th>\n",
              "      <td>console throw error callback must be a functio...</td>\n",
              "      <td>version n n v https github com nuxt js release...</td>\n",
              "      <td>[cmty:bug-report]</td>\n",
              "    </tr>\n",
              "    <tr>\n",
              "      <th>8</th>\n",
              "      <td>unable to unzip the img xz file on a mac</td>\n",
              "      <td>preliminary docs n ni confirm that i have read...</td>\n",
              "      <td>[question]</td>\n",
              "    </tr>\n",
              "    <tr>\n",
              "      <th>9</th>\n",
              "      <td>upgrade systems</td>\n",
              "      <td>requested by brylee n priority n version n nwo...</td>\n",
              "      <td>[help wanted, type/question]</td>\n",
              "    </tr>\n",
              "  </tbody>\n",
              "</table>\n",
              "</div>"
            ],
            "text/plain": [
              "                                               title  \\\n",
              "0                                               test   \n",
              "1                               update containerd to   \n",
              "2  zoomify source should support custom tilegrid ...   \n",
              "3            implement post account suspension event   \n",
              "4             trying to build windows binaries fails   \n",
              "5  stashed changes not discarding after clicking ...   \n",
              "6  initdb could not change permissions of directo...   \n",
              "7  console throw error callback must be a functio...   \n",
              "8           unable to unzip the img xz file on a mac   \n",
              "9                                    upgrade systems   \n",
              "\n",
              "                                                body  \\\n",
              "0                                                      \n",
              "1  the latest release of containerd is a major st...   \n",
              "2  zoomify source always sets the tilegrid extent...   \n",
              "3                                                      \n",
              "4  hi all n nbeen following the guide https githu...   \n",
              "5  n nstashed changes on the master branch nswitc...   \n",
              "6  window hyperv nuse minikube n n yml napiversio...   \n",
              "7  version n n v https github com nuxt js release...   \n",
              "8  preliminary docs n ni confirm that i have read...   \n",
              "9  requested by brylee n priority n version n nwo...   \n",
              "\n",
              "                                              labels  \n",
              "0                                         [question]  \n",
              "1       [enhancement, good first issue, help wanted]  \n",
              "2                     [pull request accepted, stale]  \n",
              "3  [Component/Identity Governance, Type/Improvement]  \n",
              "4                        [build/packaging, question]  \n",
              "5                                  [bug, priority-3]  \n",
              "6                                         [question]  \n",
              "7                                  [cmty:bug-report]  \n",
              "8                                         [question]  \n",
              "9                       [help wanted, type/question]  "
            ]
          },
          "metadata": {
            "tags": []
          },
          "execution_count": 25
        }
      ]
    },
    {
      "cell_type": "code",
      "metadata": {
        "id": "PVUd2UeU3pDG",
        "colab_type": "code",
        "colab": {}
      },
      "source": [
        "data['merged']=data['title']+\" \"+data['body']"
      ],
      "execution_count": 0,
      "outputs": []
    },
    {
      "cell_type": "code",
      "metadata": {
        "id": "hY6840MbuYhx",
        "colab_type": "code",
        "outputId": "d25534ea-123b-48d1-ad11-7133db6c2c3a",
        "colab": {
          "base_uri": "https://localhost:8080/",
          "height": 419
        }
      },
      "source": [
        "data[['title','merged']]"
      ],
      "execution_count": 0,
      "outputs": [
        {
          "output_type": "execute_result",
          "data": {
            "text/html": [
              "<div>\n",
              "<style scoped>\n",
              "    .dataframe tbody tr th:only-of-type {\n",
              "        vertical-align: middle;\n",
              "    }\n",
              "\n",
              "    .dataframe tbody tr th {\n",
              "        vertical-align: top;\n",
              "    }\n",
              "\n",
              "    .dataframe thead th {\n",
              "        text-align: right;\n",
              "    }\n",
              "</style>\n",
              "<table border=\"1\" class=\"dataframe\">\n",
              "  <thead>\n",
              "    <tr style=\"text-align: right;\">\n",
              "      <th></th>\n",
              "      <th>title</th>\n",
              "      <th>merged</th>\n",
              "    </tr>\n",
              "  </thead>\n",
              "  <tbody>\n",
              "    <tr>\n",
              "      <th>0</th>\n",
              "      <td>test</td>\n",
              "      <td>test</td>\n",
              "    </tr>\n",
              "    <tr>\n",
              "      <th>1</th>\n",
              "      <td>update containerd to</td>\n",
              "      <td>update containerd to the latest release of con...</td>\n",
              "    </tr>\n",
              "    <tr>\n",
              "      <th>2</th>\n",
              "      <td>zoomify source should support custom tilegrid ...</td>\n",
              "      <td>zoomify source should support custom tilegrid ...</td>\n",
              "    </tr>\n",
              "    <tr>\n",
              "      <th>3</th>\n",
              "      <td>implement post account suspension event</td>\n",
              "      <td>implement post account suspension event</td>\n",
              "    </tr>\n",
              "    <tr>\n",
              "      <th>4</th>\n",
              "      <td>trying to build windows binaries fails</td>\n",
              "      <td>trying to build windows binaries fails hi all ...</td>\n",
              "    </tr>\n",
              "    <tr>\n",
              "      <th>...</th>\n",
              "      <td>...</td>\n",
              "      <td>...</td>\n",
              "    </tr>\n",
              "    <tr>\n",
              "      <th>61952</th>\n",
              "      <td>std iter rev breaks order or operation with st...</td>\n",
              "      <td>std iter rev breaks order or operation with st...</td>\n",
              "    </tr>\n",
              "    <tr>\n",
              "      <th>61953</th>\n",
              "      <td>draft does not save priorities if i exit in li...</td>\n",
              "      <td>draft does not save priorities if i exit in li...</td>\n",
              "    </tr>\n",
              "    <tr>\n",
              "      <th>61954</th>\n",
              "      <td>upgrade to babel</td>\n",
              "      <td>upgrade to babel</td>\n",
              "    </tr>\n",
              "    <tr>\n",
              "      <th>61955</th>\n",
              "      <td>fusionner psc afps</td>\n",
              "      <td>fusionner psc afps</td>\n",
              "    </tr>\n",
              "    <tr>\n",
              "      <th>61956</th>\n",
              "      <td>make bouncycastle a provided dependency for mo...</td>\n",
              "      <td>make bouncycastle a provided dependency for mo...</td>\n",
              "    </tr>\n",
              "  </tbody>\n",
              "</table>\n",
              "<p>61957 rows × 2 columns</p>\n",
              "</div>"
            ],
            "text/plain": [
              "                                                   title  \\\n",
              "0                                                   test   \n",
              "1                                   update containerd to   \n",
              "2      zoomify source should support custom tilegrid ...   \n",
              "3                implement post account suspension event   \n",
              "4                 trying to build windows binaries fails   \n",
              "...                                                  ...   \n",
              "61952  std iter rev breaks order or operation with st...   \n",
              "61953  draft does not save priorities if i exit in li...   \n",
              "61954                                   upgrade to babel   \n",
              "61955                                 fusionner psc afps   \n",
              "61956  make bouncycastle a provided dependency for mo...   \n",
              "\n",
              "                                                  merged  \n",
              "0                                                  test   \n",
              "1      update containerd to the latest release of con...  \n",
              "2      zoomify source should support custom tilegrid ...  \n",
              "3               implement post account suspension event   \n",
              "4      trying to build windows binaries fails hi all ...  \n",
              "...                                                  ...  \n",
              "61952  std iter rev breaks order or operation with st...  \n",
              "61953  draft does not save priorities if i exit in li...  \n",
              "61954                                  upgrade to babel   \n",
              "61955                                fusionner psc afps   \n",
              "61956  make bouncycastle a provided dependency for mo...  \n",
              "\n",
              "[61957 rows x 2 columns]"
            ]
          },
          "metadata": {
            "tags": []
          },
          "execution_count": 27
        }
      ]
    },
    {
      "cell_type": "code",
      "metadata": {
        "colab_type": "code",
        "id": "_tBgzPbmaEzq",
        "colab": {}
      },
      "source": [
        "#Labels of different issues are in different forms as they are created manually\n",
        "#Need to bring all in same shape to get proper count\n",
        "\n",
        "def clean_label(l):\n",
        "    s=','.join(l) # convert list to string\n",
        "    s=re.sub(r'\\[[^\\]]*\\]','',s) # remove everything within []\n",
        "    s=re.sub('[^a-zA-Z\\,]',' ',s) # remove everything but letters and comma\n",
        "    s=' '.join(s.split()) # remove extra spaces\n",
        "    s=s.lower() # to lowercase\n",
        "    lst=s.split(',')\n",
        "    return [lb.strip() for lb in lst] #strip spaces"
      ],
      "execution_count": 0,
      "outputs": []
    },
    {
      "cell_type": "code",
      "metadata": {
        "colab_type": "code",
        "id": "b7hoD_aSaSuI",
        "colab": {}
      },
      "source": [
        "data['clean_lbl']=data['labels'].apply(lambda x: clean_label(x))"
      ],
      "execution_count": 0,
      "outputs": []
    },
    {
      "cell_type": "code",
      "metadata": {
        "colab_type": "code",
        "id": "8aVtf_xwalQL",
        "outputId": "eddb94ad-bf13-4357-e385-0cd01b2eceea",
        "colab": {
          "base_uri": "https://localhost:8080/",
          "height": 289
        }
      },
      "source": [
        "data.head()"
      ],
      "execution_count": 0,
      "outputs": [
        {
          "output_type": "execute_result",
          "data": {
            "text/html": [
              "<div>\n",
              "<style scoped>\n",
              "    .dataframe tbody tr th:only-of-type {\n",
              "        vertical-align: middle;\n",
              "    }\n",
              "\n",
              "    .dataframe tbody tr th {\n",
              "        vertical-align: top;\n",
              "    }\n",
              "\n",
              "    .dataframe thead th {\n",
              "        text-align: right;\n",
              "    }\n",
              "</style>\n",
              "<table border=\"1\" class=\"dataframe\">\n",
              "  <thead>\n",
              "    <tr style=\"text-align: right;\">\n",
              "      <th></th>\n",
              "      <th>title</th>\n",
              "      <th>body</th>\n",
              "      <th>labels</th>\n",
              "      <th>merged</th>\n",
              "      <th>clean_lbl</th>\n",
              "    </tr>\n",
              "  </thead>\n",
              "  <tbody>\n",
              "    <tr>\n",
              "      <th>0</th>\n",
              "      <td>test</td>\n",
              "      <td></td>\n",
              "      <td>[question]</td>\n",
              "      <td>test</td>\n",
              "      <td>[question]</td>\n",
              "    </tr>\n",
              "    <tr>\n",
              "      <th>1</th>\n",
              "      <td>update containerd to</td>\n",
              "      <td>the latest release of containerd is a major st...</td>\n",
              "      <td>[enhancement, good first issue, help wanted]</td>\n",
              "      <td>update containerd to the latest release of con...</td>\n",
              "      <td>[enhancement, good first issue, help wanted]</td>\n",
              "    </tr>\n",
              "    <tr>\n",
              "      <th>2</th>\n",
              "      <td>zoomify source should support custom tilegrid ...</td>\n",
              "      <td>zoomify source always sets the tilegrid extent...</td>\n",
              "      <td>[pull request accepted, stale]</td>\n",
              "      <td>zoomify source should support custom tilegrid ...</td>\n",
              "      <td>[pull request accepted, stale]</td>\n",
              "    </tr>\n",
              "    <tr>\n",
              "      <th>3</th>\n",
              "      <td>implement post account suspension event</td>\n",
              "      <td></td>\n",
              "      <td>[Component/Identity Governance, Type/Improvement]</td>\n",
              "      <td>implement post account suspension event</td>\n",
              "      <td>[component identity governance, type improvement]</td>\n",
              "    </tr>\n",
              "    <tr>\n",
              "      <th>4</th>\n",
              "      <td>trying to build windows binaries fails</td>\n",
              "      <td>hi all n nbeen following the guide https githu...</td>\n",
              "      <td>[build/packaging, question]</td>\n",
              "      <td>trying to build windows binaries fails hi all ...</td>\n",
              "      <td>[build packaging, question]</td>\n",
              "    </tr>\n",
              "  </tbody>\n",
              "</table>\n",
              "</div>"
            ],
            "text/plain": [
              "                                               title  \\\n",
              "0                                               test   \n",
              "1                               update containerd to   \n",
              "2  zoomify source should support custom tilegrid ...   \n",
              "3            implement post account suspension event   \n",
              "4             trying to build windows binaries fails   \n",
              "\n",
              "                                                body  \\\n",
              "0                                                      \n",
              "1  the latest release of containerd is a major st...   \n",
              "2  zoomify source always sets the tilegrid extent...   \n",
              "3                                                      \n",
              "4  hi all n nbeen following the guide https githu...   \n",
              "\n",
              "                                              labels  \\\n",
              "0                                         [question]   \n",
              "1       [enhancement, good first issue, help wanted]   \n",
              "2                     [pull request accepted, stale]   \n",
              "3  [Component/Identity Governance, Type/Improvement]   \n",
              "4                        [build/packaging, question]   \n",
              "\n",
              "                                              merged  \\\n",
              "0                                              test    \n",
              "1  update containerd to the latest release of con...   \n",
              "2  zoomify source should support custom tilegrid ...   \n",
              "3           implement post account suspension event    \n",
              "4  trying to build windows binaries fails hi all ...   \n",
              "\n",
              "                                           clean_lbl  \n",
              "0                                         [question]  \n",
              "1       [enhancement, good first issue, help wanted]  \n",
              "2                     [pull request accepted, stale]  \n",
              "3  [component identity governance, type improvement]  \n",
              "4                        [build packaging, question]  "
            ]
          },
          "metadata": {
            "tags": []
          },
          "execution_count": 30
        }
      ]
    },
    {
      "cell_type": "code",
      "metadata": {
        "id": "-3BDvel1JJ0A",
        "colab_type": "code",
        "colab": {}
      },
      "source": [
        "#get all labels in a single list\n",
        "l=[]\n",
        "for i in data['clean_lbl']:\n",
        "    l.append(i)"
      ],
      "execution_count": 0,
      "outputs": []
    },
    {
      "cell_type": "code",
      "metadata": {
        "id": "2uX8VhGfJJ0H",
        "colab_type": "code",
        "outputId": "fbf28276-a9fb-4987-b89e-bb87a8b1b8d6",
        "colab": {
          "base_uri": "https://localhost:8080/",
          "height": 102
        }
      },
      "source": [
        "l[:5]"
      ],
      "execution_count": 0,
      "outputs": [
        {
          "output_type": "execute_result",
          "data": {
            "text/plain": [
              "[['question'],\n",
              " ['enhancement', 'good first issue', 'help wanted'],\n",
              " ['pull request accepted', 'stale'],\n",
              " ['component identity governance', 'type improvement'],\n",
              " ['build packaging', 'question']]"
            ]
          },
          "metadata": {
            "tags": []
          },
          "execution_count": 32
        }
      ]
    },
    {
      "cell_type": "code",
      "metadata": {
        "id": "qGnrjKmaJJ0M",
        "colab_type": "code",
        "colab": {}
      },
      "source": [
        "#Count frequency of labels\n",
        "count={}\n",
        "for y in l:  \n",
        "    for x in y:\n",
        "        if x not in count:\n",
        "            count[x]=1\n",
        "        else:\n",
        "            count[x]+=1\n",
        "d = collections.Counter(count)\n",
        "freq=[]\n",
        "for w,c in d.most_common(2502):\n",
        "    freq.append([w,c])"
      ],
      "execution_count": 0,
      "outputs": []
    },
    {
      "cell_type": "code",
      "metadata": {
        "id": "fBZOuopzJJ0Q",
        "colab_type": "code",
        "outputId": "e8941a25-c10f-4756-f5fa-025fc492652a",
        "colab": {
          "base_uri": "https://localhost:8080/",
          "height": 867
        }
      },
      "source": [
        "#top 50 frequent labels\n",
        "freq[:50]"
      ],
      "execution_count": 0,
      "outputs": [
        {
          "output_type": "execute_result",
          "data": {
            "text/plain": [
              "[['bug', 19221],\n",
              " ['enhancement', 15414],\n",
              " ['question', 11555],\n",
              " ['help wanted', 1812],\n",
              " ['severity', 1667],\n",
              " ['feature', 1550],\n",
              " ['type bug', 1267],\n",
              " ['good first issue', 1217],\n",
              " ['triaged', 923],\n",
              " ['kind bug', 883],\n",
              " ['feature request', 747],\n",
              " ['wontfix', 732],\n",
              " ['stale', 689],\n",
              " ['product question', 675],\n",
              " ['', 661],\n",
              " ['engine gecko', 595],\n",
              " ['cxp', 573],\n",
              " ['type question', 551],\n",
              " ['p', 533],\n",
              " ['in progress', 463],\n",
              " ['type enhancement', 458],\n",
              " ['documentation', 428],\n",
              " ['fixed', 331],\n",
              " ['assigned to author', 331],\n",
              " ['priority high', 330],\n",
              " ['duplicate', 326],\n",
              " ['type feature', 304],\n",
              " ['doc enhancement', 303],\n",
              " ['invalid', 291],\n",
              " ['pri', 268],\n",
              " ['lifecycle rotten', 259],\n",
              " ['priority p', 254],\n",
              " ['kind feature', 241],\n",
              " ['priority medium', 236],\n",
              " ['hacktoberfest', 230],\n",
              " ['new feature', 223],\n",
              " ['frontend', 221],\n",
              " ['doc bug', 216],\n",
              " ['high priority', 213],\n",
              " ['browser firefox', 209],\n",
              " ['kind question', 209],\n",
              " ['browser firefox mobile', 204],\n",
              " ['v', 202],\n",
              " ['priority critical', 198],\n",
              " ['ui', 198],\n",
              " ['kind enhancement', 197],\n",
              " ['priority', 170],\n",
              " ['priority normal', 158],\n",
              " ['priority low', 158],\n",
              " ['needs triage', 156]]"
            ]
          },
          "metadata": {
            "tags": []
          },
          "execution_count": 34
        }
      ]
    },
    {
      "cell_type": "code",
      "metadata": {
        "colab_type": "code",
        "id": "hOFm2ZqWc_tJ",
        "colab": {}
      },
      "source": [
        "#\"type bug\",\"kind bug\" & \"bug fix\" are same, need to make them all as \"bug\"\n",
        "#Same thing applies for other labels. Using multiple string replaces for the same purpose\n",
        "lbls=[]\n",
        "for i in l:\n",
        "    i=[w.replace('type bug','bug').replace('kind bug','bug').replace('bug fix','bug').replace('bug bug','bug').replace('t bug','bug').replace('c bug','bug')\n",
        "       .replace('c enhancement','enhancement').replace('doenhancement','enhancement').replace('type enhancement','enhancement')\n",
        "       .replace('kind enhancement','enhancement').replace('improvement','enhancement').replace('suggestion','enhancement')\n",
        "       .replace('t be enhancement','enhancement').replace('t fe enhancement','enhancement')\n",
        "       .replace('feature request','feature').replace('new feature','feature').replace('type feature','feature')\n",
        "       .replace('kind feature','feature').replace('feature refactoring','feature')\n",
        "       .replace('priority high','highpriority').replace('priority critical','highpriority').replace('priority p','highpriority')\n",
        "       .replace('high priority','highpriority').replace('p high','highpriority').replace('priority important','highpriority')\n",
        "       .replace('priority medium','mediumpriority').replace('medium priority','mediumpriority')\n",
        "       .replace('priority med','mediumpriority').replace('p medium','mediumpriority')\n",
        "       .replace('low priority','lowpriority').replace('priority low','lowpriority')\n",
        "       .replace('type question','question').replace('kind question','question').replace('product question','question')\n",
        "       .replace('type support','support').replace('help wanted','helpwanted')\n",
        "       .replace('docs','documentation').replace('documentation needed','documentation').replace('type documentation','documentation')\n",
        "       .replace('type task','task').replace('front end','frontend')\n",
        "       .replace('type helpwanted','helpwanted').replace('in review','review').replace('triaged','triage') for w in i]\n",
        "    lbls.append(i)"
      ],
      "execution_count": 0,
      "outputs": []
    },
    {
      "cell_type": "code",
      "metadata": {
        "colab_type": "code",
        "id": "7_Qj0BHw38vb",
        "colab": {}
      },
      "source": [
        "count={}\n",
        "for y in lbls:\n",
        "    for x in y:\n",
        "        if x not in count:\n",
        "            count[x]=1\n",
        "        else:\n",
        "            count[x]+=1\n",
        "d = collections.Counter(count)\n",
        "freq=[]\n",
        "for w,c in d.most_common():\n",
        "    freq.append([w,c])"
      ],
      "execution_count": 0,
      "outputs": []
    },
    {
      "cell_type": "code",
      "metadata": {
        "colab_type": "code",
        "id": "M3m0Zpz3ApX9",
        "outputId": "360e985a-dc36-4ce9-de3a-97126684797c",
        "colab": {
          "base_uri": "https://localhost:8080/",
          "height": 867
        }
      },
      "source": [
        "freq[:50]"
      ],
      "execution_count": 0,
      "outputs": [
        {
          "output_type": "execute_result",
          "data": {
            "text/plain": [
              "[['bug', 21798],\n",
              " ['enhancement', 16491],\n",
              " ['question', 12990],\n",
              " ['feature', 3239],\n",
              " ['helpwanted', 1821],\n",
              " ['severity', 1667],\n",
              " ['highpriority', 1228],\n",
              " ['good first issue', 1217],\n",
              " ['triage', 995],\n",
              " ['wontfix', 732],\n",
              " ['stale', 689],\n",
              " ['', 661],\n",
              " ['engine gecko', 595],\n",
              " ['documentation', 591],\n",
              " ['cxp', 573],\n",
              " ['p', 533],\n",
              " ['in progress', 463],\n",
              " ['mediumpriority', 452],\n",
              " ['fixed', 331],\n",
              " ['assigned to author', 331],\n",
              " ['duplicate', 326],\n",
              " ['lowpriority', 309],\n",
              " ['invalid', 291],\n",
              " ['frontend', 281],\n",
              " ['pri', 268],\n",
              " ['lifecycle rotten', 259],\n",
              " ['hacktoberfest', 230],\n",
              " ['dobug', 216],\n",
              " ['browser firefox', 209],\n",
              " ['browser firefox mobile', 204],\n",
              " ['v', 202],\n",
              " ['ui', 198],\n",
              " ['priority', 170],\n",
              " ['priority normal', 158],\n",
              " ['needs triage', 156],\n",
              " ['backend', 152],\n",
              " ['browser fenix', 140],\n",
              " ['task', 138],\n",
              " ['greenkeeper', 138],\n",
              " ['discussion', 132],\n",
              " ['api', 130],\n",
              " ['answered', 129],\n",
              " ['active directory svc', 123],\n",
              " ['done', 116],\n",
              " ['core', 114],\n",
              " ['needs more info', 114],\n",
              " ['review', 111],\n",
              " ['support', 110],\n",
              " ['design', 103],\n",
              " ['high', 99]]"
            ]
          },
          "metadata": {
            "tags": []
          },
          "execution_count": 37
        }
      ]
    },
    {
      "cell_type": "code",
      "metadata": {
        "id": "Fi3yCX7GQtdj",
        "colab_type": "code",
        "colab": {}
      },
      "source": [
        "#feature and enhancement are same hence using single word enhancement\n",
        "lbls1=[]\n",
        "for i in lbls:\n",
        "    i=[w.replace('feature','enhancement')\n",
        "        for w in i]\n",
        "    lbls1.append(i)"
      ],
      "execution_count": 0,
      "outputs": []
    },
    {
      "cell_type": "code",
      "metadata": {
        "id": "sx9iZu4dQtAA",
        "colab_type": "code",
        "colab": {}
      },
      "source": [
        "count={}\n",
        "for y in lbls1:\n",
        "    for x in y:\n",
        "        if x not in count:\n",
        "            count[x]=1\n",
        "        else:\n",
        "            count[x]+=1\n",
        "d = collections.Counter(count)\n",
        "freq=[]\n",
        "for w,c in d.most_common():\n",
        "    freq.append([w,c])"
      ],
      "execution_count": 0,
      "outputs": []
    },
    {
      "cell_type": "code",
      "metadata": {
        "id": "mSvVNEAzSGsa",
        "colab_type": "code",
        "outputId": "b28f0098-d314-476b-a198-fcb02724078d",
        "colab": {
          "base_uri": "https://localhost:8080/",
          "height": 867
        }
      },
      "source": [
        "freq[:50]"
      ],
      "execution_count": 0,
      "outputs": [
        {
          "output_type": "execute_result",
          "data": {
            "text/plain": [
              "[['bug', 21798],\n",
              " ['enhancement', 19730],\n",
              " ['question', 12990],\n",
              " ['helpwanted', 1821],\n",
              " ['severity', 1667],\n",
              " ['highpriority', 1228],\n",
              " ['good first issue', 1217],\n",
              " ['triage', 995],\n",
              " ['wontfix', 732],\n",
              " ['stale', 689],\n",
              " ['', 661],\n",
              " ['engine gecko', 595],\n",
              " ['documentation', 591],\n",
              " ['cxp', 573],\n",
              " ['p', 533],\n",
              " ['in progress', 463],\n",
              " ['mediumpriority', 452],\n",
              " ['fixed', 331],\n",
              " ['assigned to author', 331],\n",
              " ['duplicate', 326],\n",
              " ['lowpriority', 309],\n",
              " ['invalid', 291],\n",
              " ['frontend', 281],\n",
              " ['pri', 268],\n",
              " ['lifecycle rotten', 259],\n",
              " ['hacktoberfest', 230],\n",
              " ['dobug', 216],\n",
              " ['browser firefox', 209],\n",
              " ['browser firefox mobile', 204],\n",
              " ['v', 202],\n",
              " ['ui', 198],\n",
              " ['priority', 170],\n",
              " ['priority normal', 158],\n",
              " ['needs triage', 156],\n",
              " ['backend', 152],\n",
              " ['browser fenix', 140],\n",
              " ['task', 138],\n",
              " ['greenkeeper', 138],\n",
              " ['discussion', 132],\n",
              " ['api', 130],\n",
              " ['answered', 129],\n",
              " ['active directory svc', 123],\n",
              " ['done', 116],\n",
              " ['core', 114],\n",
              " ['needs more info', 114],\n",
              " ['review', 111],\n",
              " ['support', 110],\n",
              " ['design', 103],\n",
              " ['high', 99],\n",
              " ['highpriority soon', 96]]"
            ]
          },
          "metadata": {
            "tags": []
          },
          "execution_count": 40
        }
      ]
    },
    {
      "cell_type": "code",
      "metadata": {
        "colab_type": "code",
        "id": "BPe3L7oeI5fn",
        "outputId": "26f5e872-eb3a-4a2f-accc-ff4e9756a69b",
        "colab": {
          "base_uri": "https://localhost:8080/",
          "height": 340
        }
      },
      "source": [
        "#add cleaned labels to the dataset\n",
        "data['lbls_clean']=lbls1\n",
        "data.head()"
      ],
      "execution_count": 0,
      "outputs": [
        {
          "output_type": "execute_result",
          "data": {
            "text/html": [
              "<div>\n",
              "<style scoped>\n",
              "    .dataframe tbody tr th:only-of-type {\n",
              "        vertical-align: middle;\n",
              "    }\n",
              "\n",
              "    .dataframe tbody tr th {\n",
              "        vertical-align: top;\n",
              "    }\n",
              "\n",
              "    .dataframe thead th {\n",
              "        text-align: right;\n",
              "    }\n",
              "</style>\n",
              "<table border=\"1\" class=\"dataframe\">\n",
              "  <thead>\n",
              "    <tr style=\"text-align: right;\">\n",
              "      <th></th>\n",
              "      <th>title</th>\n",
              "      <th>body</th>\n",
              "      <th>labels</th>\n",
              "      <th>merged</th>\n",
              "      <th>clean_lbl</th>\n",
              "      <th>lbls_clean</th>\n",
              "    </tr>\n",
              "  </thead>\n",
              "  <tbody>\n",
              "    <tr>\n",
              "      <th>0</th>\n",
              "      <td>test</td>\n",
              "      <td></td>\n",
              "      <td>[question]</td>\n",
              "      <td>test</td>\n",
              "      <td>[question]</td>\n",
              "      <td>[question]</td>\n",
              "    </tr>\n",
              "    <tr>\n",
              "      <th>1</th>\n",
              "      <td>update containerd to</td>\n",
              "      <td>the latest release of containerd is a major st...</td>\n",
              "      <td>[enhancement, good first issue, help wanted]</td>\n",
              "      <td>update containerd to the latest release of con...</td>\n",
              "      <td>[enhancement, good first issue, help wanted]</td>\n",
              "      <td>[enhancement, good first issue, helpwanted]</td>\n",
              "    </tr>\n",
              "    <tr>\n",
              "      <th>2</th>\n",
              "      <td>zoomify source should support custom tilegrid ...</td>\n",
              "      <td>zoomify source always sets the tilegrid extent...</td>\n",
              "      <td>[pull request accepted, stale]</td>\n",
              "      <td>zoomify source should support custom tilegrid ...</td>\n",
              "      <td>[pull request accepted, stale]</td>\n",
              "      <td>[pull request accepted, stale]</td>\n",
              "    </tr>\n",
              "    <tr>\n",
              "      <th>3</th>\n",
              "      <td>implement post account suspension event</td>\n",
              "      <td></td>\n",
              "      <td>[Component/Identity Governance, Type/Improvement]</td>\n",
              "      <td>implement post account suspension event</td>\n",
              "      <td>[component identity governance, type improvement]</td>\n",
              "      <td>[component identity governance, type enhancement]</td>\n",
              "    </tr>\n",
              "    <tr>\n",
              "      <th>4</th>\n",
              "      <td>trying to build windows binaries fails</td>\n",
              "      <td>hi all n nbeen following the guide https githu...</td>\n",
              "      <td>[build/packaging, question]</td>\n",
              "      <td>trying to build windows binaries fails hi all ...</td>\n",
              "      <td>[build packaging, question]</td>\n",
              "      <td>[build packaging, question]</td>\n",
              "    </tr>\n",
              "  </tbody>\n",
              "</table>\n",
              "</div>"
            ],
            "text/plain": [
              "                                               title  \\\n",
              "0                                               test   \n",
              "1                               update containerd to   \n",
              "2  zoomify source should support custom tilegrid ...   \n",
              "3            implement post account suspension event   \n",
              "4             trying to build windows binaries fails   \n",
              "\n",
              "                                                body  \\\n",
              "0                                                      \n",
              "1  the latest release of containerd is a major st...   \n",
              "2  zoomify source always sets the tilegrid extent...   \n",
              "3                                                      \n",
              "4  hi all n nbeen following the guide https githu...   \n",
              "\n",
              "                                              labels  \\\n",
              "0                                         [question]   \n",
              "1       [enhancement, good first issue, help wanted]   \n",
              "2                     [pull request accepted, stale]   \n",
              "3  [Component/Identity Governance, Type/Improvement]   \n",
              "4                        [build/packaging, question]   \n",
              "\n",
              "                                              merged  \\\n",
              "0                                              test    \n",
              "1  update containerd to the latest release of con...   \n",
              "2  zoomify source should support custom tilegrid ...   \n",
              "3           implement post account suspension event    \n",
              "4  trying to build windows binaries fails hi all ...   \n",
              "\n",
              "                                           clean_lbl  \\\n",
              "0                                         [question]   \n",
              "1       [enhancement, good first issue, help wanted]   \n",
              "2                     [pull request accepted, stale]   \n",
              "3  [component identity governance, type improvement]   \n",
              "4                        [build packaging, question]   \n",
              "\n",
              "                                          lbls_clean  \n",
              "0                                         [question]  \n",
              "1        [enhancement, good first issue, helpwanted]  \n",
              "2                     [pull request accepted, stale]  \n",
              "3  [component identity governance, type enhancement]  \n",
              "4                        [build packaging, question]  "
            ]
          },
          "metadata": {
            "tags": []
          },
          "execution_count": 41
        }
      ]
    },
    {
      "cell_type": "code",
      "metadata": {
        "colab_type": "code",
        "id": "vmEk4c4YI4db",
        "colab": {}
      },
      "source": [
        "#Not all labels can be taken for model building hence selecting\n",
        "#Important and some common labels of almost every repository\n",
        "selected_labels=['bug','enhancement','question']\n",
        "#,'helpwanted','documentation','task','invalid','support','review','frontend'\n",
        "\n",
        "#Not all labels can be taken for model building\n",
        "#Selecting top 50 frequent labels\n",
        "#selected_labels=[]\n",
        "#for i in freq[:50]:\n",
        "#    selected_labels.append(i[0])"
      ],
      "execution_count": 0,
      "outputs": []
    },
    {
      "cell_type": "code",
      "metadata": {
        "id": "abWrZwyTJJ0s",
        "colab_type": "code",
        "colab": {}
      },
      "source": [
        "#selected_labels[:5]"
      ],
      "execution_count": 0,
      "outputs": []
    },
    {
      "cell_type": "code",
      "metadata": {
        "colab_type": "code",
        "id": "rV29NoprMXZy",
        "outputId": "33afcbb2-489d-40ad-9752-a1faa3908fea",
        "colab": {
          "base_uri": "https://localhost:8080/",
          "height": 204
        }
      },
      "source": [
        "dset=data[[\"merged\",\"lbls_clean\"]]\n",
        "dset.head()"
      ],
      "execution_count": 0,
      "outputs": [
        {
          "output_type": "execute_result",
          "data": {
            "text/html": [
              "<div>\n",
              "<style scoped>\n",
              "    .dataframe tbody tr th:only-of-type {\n",
              "        vertical-align: middle;\n",
              "    }\n",
              "\n",
              "    .dataframe tbody tr th {\n",
              "        vertical-align: top;\n",
              "    }\n",
              "\n",
              "    .dataframe thead th {\n",
              "        text-align: right;\n",
              "    }\n",
              "</style>\n",
              "<table border=\"1\" class=\"dataframe\">\n",
              "  <thead>\n",
              "    <tr style=\"text-align: right;\">\n",
              "      <th></th>\n",
              "      <th>merged</th>\n",
              "      <th>lbls_clean</th>\n",
              "    </tr>\n",
              "  </thead>\n",
              "  <tbody>\n",
              "    <tr>\n",
              "      <th>0</th>\n",
              "      <td>test</td>\n",
              "      <td>[question]</td>\n",
              "    </tr>\n",
              "    <tr>\n",
              "      <th>1</th>\n",
              "      <td>update containerd to the latest release of con...</td>\n",
              "      <td>[enhancement, good first issue, helpwanted]</td>\n",
              "    </tr>\n",
              "    <tr>\n",
              "      <th>2</th>\n",
              "      <td>zoomify source should support custom tilegrid ...</td>\n",
              "      <td>[pull request accepted, stale]</td>\n",
              "    </tr>\n",
              "    <tr>\n",
              "      <th>3</th>\n",
              "      <td>implement post account suspension event</td>\n",
              "      <td>[component identity governance, type enhancement]</td>\n",
              "    </tr>\n",
              "    <tr>\n",
              "      <th>4</th>\n",
              "      <td>trying to build windows binaries fails hi all ...</td>\n",
              "      <td>[build packaging, question]</td>\n",
              "    </tr>\n",
              "  </tbody>\n",
              "</table>\n",
              "</div>"
            ],
            "text/plain": [
              "                                              merged  \\\n",
              "0                                              test    \n",
              "1  update containerd to the latest release of con...   \n",
              "2  zoomify source should support custom tilegrid ...   \n",
              "3           implement post account suspension event    \n",
              "4  trying to build windows binaries fails hi all ...   \n",
              "\n",
              "                                          lbls_clean  \n",
              "0                                         [question]  \n",
              "1        [enhancement, good first issue, helpwanted]  \n",
              "2                     [pull request accepted, stale]  \n",
              "3  [component identity governance, type enhancement]  \n",
              "4                        [build packaging, question]  "
            ]
          },
          "metadata": {
            "tags": []
          },
          "execution_count": 44
        }
      ]
    },
    {
      "cell_type": "code",
      "metadata": {
        "colab_type": "code",
        "id": "du-x6jM8QCsa",
        "outputId": "cf352b32-a22f-4f25-d806-0407bbbdb636",
        "colab": {
          "base_uri": "https://localhost:8080/",
          "height": 481
        }
      },
      "source": [
        "#Keep only selected labels and remove others\n",
        "#each row is intersected with the selected_labels lists\n",
        "def intersection(lst1, lst2): \n",
        "    temp = set(lst2) \n",
        "    lst3 = [value for value in lst1 if value in temp] \n",
        "    return lst3\n",
        "\n",
        "dset['lbls_clean']=[intersection(selected_labels,i) for i in dset['lbls_clean']]\n",
        "dset.head(10)"
      ],
      "execution_count": 0,
      "outputs": [
        {
          "output_type": "stream",
          "text": [
            "/usr/local/lib/python3.6/dist-packages/ipykernel_launcher.py:8: SettingWithCopyWarning: \n",
            "A value is trying to be set on a copy of a slice from a DataFrame.\n",
            "Try using .loc[row_indexer,col_indexer] = value instead\n",
            "\n",
            "See the caveats in the documentation: https://pandas.pydata.org/pandas-docs/stable/user_guide/indexing.html#returning-a-view-versus-a-copy\n",
            "  \n"
          ],
          "name": "stderr"
        },
        {
          "output_type": "execute_result",
          "data": {
            "text/html": [
              "<div>\n",
              "<style scoped>\n",
              "    .dataframe tbody tr th:only-of-type {\n",
              "        vertical-align: middle;\n",
              "    }\n",
              "\n",
              "    .dataframe tbody tr th {\n",
              "        vertical-align: top;\n",
              "    }\n",
              "\n",
              "    .dataframe thead th {\n",
              "        text-align: right;\n",
              "    }\n",
              "</style>\n",
              "<table border=\"1\" class=\"dataframe\">\n",
              "  <thead>\n",
              "    <tr style=\"text-align: right;\">\n",
              "      <th></th>\n",
              "      <th>merged</th>\n",
              "      <th>lbls_clean</th>\n",
              "    </tr>\n",
              "  </thead>\n",
              "  <tbody>\n",
              "    <tr>\n",
              "      <th>0</th>\n",
              "      <td>test</td>\n",
              "      <td>[question]</td>\n",
              "    </tr>\n",
              "    <tr>\n",
              "      <th>1</th>\n",
              "      <td>update containerd to the latest release of con...</td>\n",
              "      <td>[enhancement]</td>\n",
              "    </tr>\n",
              "    <tr>\n",
              "      <th>2</th>\n",
              "      <td>zoomify source should support custom tilegrid ...</td>\n",
              "      <td>[]</td>\n",
              "    </tr>\n",
              "    <tr>\n",
              "      <th>3</th>\n",
              "      <td>implement post account suspension event</td>\n",
              "      <td>[]</td>\n",
              "    </tr>\n",
              "    <tr>\n",
              "      <th>4</th>\n",
              "      <td>trying to build windows binaries fails hi all ...</td>\n",
              "      <td>[question]</td>\n",
              "    </tr>\n",
              "    <tr>\n",
              "      <th>5</th>\n",
              "      <td>stashed changes not discarding after clicking ...</td>\n",
              "      <td>[bug]</td>\n",
              "    </tr>\n",
              "    <tr>\n",
              "      <th>6</th>\n",
              "      <td>initdb could not change permissions of directo...</td>\n",
              "      <td>[question]</td>\n",
              "    </tr>\n",
              "    <tr>\n",
              "      <th>7</th>\n",
              "      <td>console throw error callback must be a functio...</td>\n",
              "      <td>[]</td>\n",
              "    </tr>\n",
              "    <tr>\n",
              "      <th>8</th>\n",
              "      <td>unable to unzip the img xz file on a mac preli...</td>\n",
              "      <td>[question]</td>\n",
              "    </tr>\n",
              "    <tr>\n",
              "      <th>9</th>\n",
              "      <td>upgrade systems requested by brylee n priority...</td>\n",
              "      <td>[question]</td>\n",
              "    </tr>\n",
              "  </tbody>\n",
              "</table>\n",
              "</div>"
            ],
            "text/plain": [
              "                                              merged     lbls_clean\n",
              "0                                              test      [question]\n",
              "1  update containerd to the latest release of con...  [enhancement]\n",
              "2  zoomify source should support custom tilegrid ...             []\n",
              "3           implement post account suspension event              []\n",
              "4  trying to build windows binaries fails hi all ...     [question]\n",
              "5  stashed changes not discarding after clicking ...          [bug]\n",
              "6  initdb could not change permissions of directo...     [question]\n",
              "7  console throw error callback must be a functio...             []\n",
              "8  unable to unzip the img xz file on a mac preli...     [question]\n",
              "9  upgrade systems requested by brylee n priority...     [question]"
            ]
          },
          "metadata": {
            "tags": []
          },
          "execution_count": 45
        }
      ]
    },
    {
      "cell_type": "code",
      "metadata": {
        "colab_type": "code",
        "id": "mt2PBQniR_eR",
        "colab": {}
      },
      "source": [
        "#Selected labels resulted in some empty labels as many repositories do not have them\n",
        "def clean(s):\n",
        "    if len(s)==0:\n",
        "        s=np.nan\n",
        "    return s\n",
        "\n",
        "ldata=dset.copy(deep=True)   \n",
        "ldata['lbls_clean']=ldata['lbls_clean'].apply(lambda x: clean(x))\n",
        "ldata.dropna(inplace=True) #Removing empty-label rows"
      ],
      "execution_count": 0,
      "outputs": []
    },
    {
      "cell_type": "code",
      "metadata": {
        "colab_type": "code",
        "id": "irojrKu7YzaA",
        "outputId": "e4e2aac5-fb88-4165-eb10-1e4ecae6a816",
        "colab": {
          "base_uri": "https://localhost:8080/",
          "height": 34
        }
      },
      "source": [
        "ldata.shape"
      ],
      "execution_count": 0,
      "outputs": [
        {
          "output_type": "execute_result",
          "data": {
            "text/plain": [
              "(52363, 2)"
            ]
          },
          "metadata": {
            "tags": []
          },
          "execution_count": 47
        }
      ]
    },
    {
      "cell_type": "code",
      "metadata": {
        "colab_type": "code",
        "id": "KL3Oqf_RYg6p",
        "colab": {}
      },
      "source": [
        "#rows having merged body and title with empty values are removed\n",
        "#ldata=ldata[ldata['body']!=\"\"]\n",
        "#ldata=ldata[ldata['title']!=\"\"]\n",
        "ldata=ldata[ldata['merged']!=\"\"]"
      ],
      "execution_count": 0,
      "outputs": []
    },
    {
      "cell_type": "code",
      "metadata": {
        "colab_type": "code",
        "id": "sxl_rR8dZ7af",
        "outputId": "3fcf3bf3-8ff2-4263-e5d2-afd33d9137b7",
        "colab": {
          "base_uri": "https://localhost:8080/",
          "height": 34
        }
      },
      "source": [
        "#finally dataset is reduced to 52,363 rows after cleaning and pre-processing\n",
        "ldata.shape"
      ],
      "execution_count": 0,
      "outputs": [
        {
          "output_type": "execute_result",
          "data": {
            "text/plain": [
              "(52363, 2)"
            ]
          },
          "metadata": {
            "tags": []
          },
          "execution_count": 49
        }
      ]
    },
    {
      "cell_type": "code",
      "metadata": {
        "id": "TLG3zhK_JJ1S",
        "colab_type": "code",
        "colab": {}
      },
      "source": [
        "ldata.reset_index(inplace=True,drop=True)"
      ],
      "execution_count": 0,
      "outputs": []
    },
    {
      "cell_type": "code",
      "metadata": {
        "id": "JTEgH9AaJJ1i",
        "colab_type": "code",
        "outputId": "1615245c-a166-47e2-b7f0-7f39b8f821c5",
        "colab": {
          "base_uri": "https://localhost:8080/",
          "height": 204
        }
      },
      "source": [
        "ldata.head()"
      ],
      "execution_count": 0,
      "outputs": [
        {
          "output_type": "execute_result",
          "data": {
            "text/html": [
              "<div>\n",
              "<style scoped>\n",
              "    .dataframe tbody tr th:only-of-type {\n",
              "        vertical-align: middle;\n",
              "    }\n",
              "\n",
              "    .dataframe tbody tr th {\n",
              "        vertical-align: top;\n",
              "    }\n",
              "\n",
              "    .dataframe thead th {\n",
              "        text-align: right;\n",
              "    }\n",
              "</style>\n",
              "<table border=\"1\" class=\"dataframe\">\n",
              "  <thead>\n",
              "    <tr style=\"text-align: right;\">\n",
              "      <th></th>\n",
              "      <th>merged</th>\n",
              "      <th>lbls_clean</th>\n",
              "    </tr>\n",
              "  </thead>\n",
              "  <tbody>\n",
              "    <tr>\n",
              "      <th>0</th>\n",
              "      <td>test</td>\n",
              "      <td>[question]</td>\n",
              "    </tr>\n",
              "    <tr>\n",
              "      <th>1</th>\n",
              "      <td>update containerd to the latest release of con...</td>\n",
              "      <td>[enhancement]</td>\n",
              "    </tr>\n",
              "    <tr>\n",
              "      <th>2</th>\n",
              "      <td>trying to build windows binaries fails hi all ...</td>\n",
              "      <td>[question]</td>\n",
              "    </tr>\n",
              "    <tr>\n",
              "      <th>3</th>\n",
              "      <td>stashed changes not discarding after clicking ...</td>\n",
              "      <td>[bug]</td>\n",
              "    </tr>\n",
              "    <tr>\n",
              "      <th>4</th>\n",
              "      <td>initdb could not change permissions of directo...</td>\n",
              "      <td>[question]</td>\n",
              "    </tr>\n",
              "  </tbody>\n",
              "</table>\n",
              "</div>"
            ],
            "text/plain": [
              "                                              merged     lbls_clean\n",
              "0                                              test      [question]\n",
              "1  update containerd to the latest release of con...  [enhancement]\n",
              "2  trying to build windows binaries fails hi all ...     [question]\n",
              "3  stashed changes not discarding after clicking ...          [bug]\n",
              "4  initdb could not change permissions of directo...     [question]"
            ]
          },
          "metadata": {
            "tags": []
          },
          "execution_count": 51
        }
      ]
    },
    {
      "cell_type": "code",
      "metadata": {
        "id": "EJhgslC9p7E-",
        "colab_type": "code",
        "colab": {}
      },
      "source": [
        "#one_hot_encode the labels\n",
        "def one_hot_encode(data,label):\n",
        "  lb=[]\n",
        "  for row in data:\n",
        "    if label in row:\n",
        "      lb.append(1)\n",
        "    else:\n",
        "      lb.append(0)\n",
        "  return lb"
      ],
      "execution_count": 0,
      "outputs": []
    },
    {
      "cell_type": "code",
      "metadata": {
        "id": "kTtusMBWmrrj",
        "colab_type": "code",
        "colab": {}
      },
      "source": [
        "ldata['bug']=one_hot_encode(ldata['lbls_clean'], 'bug')"
      ],
      "execution_count": 0,
      "outputs": []
    },
    {
      "cell_type": "code",
      "metadata": {
        "id": "uGbr7NoLrEly",
        "colab_type": "code",
        "colab": {}
      },
      "source": [
        "ldata['enhancement']=one_hot_encode(ldata['lbls_clean'], 'enhancement')"
      ],
      "execution_count": 0,
      "outputs": []
    },
    {
      "cell_type": "code",
      "metadata": {
        "id": "SW6ZdsXDpphg",
        "colab_type": "code",
        "colab": {}
      },
      "source": [
        "ldata['question']=one_hot_encode(ldata['lbls_clean'], 'question')"
      ],
      "execution_count": 0,
      "outputs": []
    },
    {
      "cell_type": "code",
      "metadata": {
        "id": "YUvCwz3D5zrm",
        "colab_type": "code",
        "colab": {}
      },
      "source": [
        "ldata['id']=ldata.index"
      ],
      "execution_count": 0,
      "outputs": []
    },
    {
      "cell_type": "code",
      "metadata": {
        "id": "JQawe50fte3S",
        "colab_type": "code",
        "colab": {}
      },
      "source": [
        "ldata=ldata[[\"id\",\"merged\", \"bug\", \"enhancement\", \"question\"]]"
      ],
      "execution_count": 0,
      "outputs": []
    },
    {
      "cell_type": "code",
      "metadata": {
        "id": "dp30_wnSt6xm",
        "colab_type": "code",
        "outputId": "bd2ced5e-c74d-45d1-8806-b90302608004",
        "colab": {
          "base_uri": "https://localhost:8080/",
          "height": 419
        }
      },
      "source": [
        "ldata"
      ],
      "execution_count": 0,
      "outputs": [
        {
          "output_type": "execute_result",
          "data": {
            "text/html": [
              "<div>\n",
              "<style scoped>\n",
              "    .dataframe tbody tr th:only-of-type {\n",
              "        vertical-align: middle;\n",
              "    }\n",
              "\n",
              "    .dataframe tbody tr th {\n",
              "        vertical-align: top;\n",
              "    }\n",
              "\n",
              "    .dataframe thead th {\n",
              "        text-align: right;\n",
              "    }\n",
              "</style>\n",
              "<table border=\"1\" class=\"dataframe\">\n",
              "  <thead>\n",
              "    <tr style=\"text-align: right;\">\n",
              "      <th></th>\n",
              "      <th>id</th>\n",
              "      <th>merged</th>\n",
              "      <th>bug</th>\n",
              "      <th>enhancement</th>\n",
              "      <th>question</th>\n",
              "    </tr>\n",
              "  </thead>\n",
              "  <tbody>\n",
              "    <tr>\n",
              "      <th>0</th>\n",
              "      <td>0</td>\n",
              "      <td>test</td>\n",
              "      <td>0</td>\n",
              "      <td>0</td>\n",
              "      <td>1</td>\n",
              "    </tr>\n",
              "    <tr>\n",
              "      <th>1</th>\n",
              "      <td>1</td>\n",
              "      <td>update containerd to the latest release of con...</td>\n",
              "      <td>0</td>\n",
              "      <td>1</td>\n",
              "      <td>0</td>\n",
              "    </tr>\n",
              "    <tr>\n",
              "      <th>2</th>\n",
              "      <td>2</td>\n",
              "      <td>trying to build windows binaries fails hi all ...</td>\n",
              "      <td>0</td>\n",
              "      <td>0</td>\n",
              "      <td>1</td>\n",
              "    </tr>\n",
              "    <tr>\n",
              "      <th>3</th>\n",
              "      <td>3</td>\n",
              "      <td>stashed changes not discarding after clicking ...</td>\n",
              "      <td>1</td>\n",
              "      <td>0</td>\n",
              "      <td>0</td>\n",
              "    </tr>\n",
              "    <tr>\n",
              "      <th>4</th>\n",
              "      <td>4</td>\n",
              "      <td>initdb could not change permissions of directo...</td>\n",
              "      <td>0</td>\n",
              "      <td>0</td>\n",
              "      <td>1</td>\n",
              "    </tr>\n",
              "    <tr>\n",
              "      <th>...</th>\n",
              "      <td>...</td>\n",
              "      <td>...</td>\n",
              "      <td>...</td>\n",
              "      <td>...</td>\n",
              "      <td>...</td>\n",
              "    </tr>\n",
              "    <tr>\n",
              "      <th>52358</th>\n",
              "      <td>52358</td>\n",
              "      <td>std iter rev breaks order or operation with st...</td>\n",
              "      <td>1</td>\n",
              "      <td>0</td>\n",
              "      <td>0</td>\n",
              "    </tr>\n",
              "    <tr>\n",
              "      <th>52359</th>\n",
              "      <td>52359</td>\n",
              "      <td>draft does not save priorities if i exit in li...</td>\n",
              "      <td>1</td>\n",
              "      <td>0</td>\n",
              "      <td>0</td>\n",
              "    </tr>\n",
              "    <tr>\n",
              "      <th>52360</th>\n",
              "      <td>52360</td>\n",
              "      <td>upgrade to babel</td>\n",
              "      <td>0</td>\n",
              "      <td>1</td>\n",
              "      <td>0</td>\n",
              "    </tr>\n",
              "    <tr>\n",
              "      <th>52361</th>\n",
              "      <td>52361</td>\n",
              "      <td>fusionner psc afps</td>\n",
              "      <td>0</td>\n",
              "      <td>1</td>\n",
              "      <td>0</td>\n",
              "    </tr>\n",
              "    <tr>\n",
              "      <th>52362</th>\n",
              "      <td>52362</td>\n",
              "      <td>make bouncycastle a provided dependency for mo...</td>\n",
              "      <td>1</td>\n",
              "      <td>0</td>\n",
              "      <td>0</td>\n",
              "    </tr>\n",
              "  </tbody>\n",
              "</table>\n",
              "<p>52363 rows × 5 columns</p>\n",
              "</div>"
            ],
            "text/plain": [
              "          id                                             merged  bug  \\\n",
              "0          0                                              test     0   \n",
              "1          1  update containerd to the latest release of con...    0   \n",
              "2          2  trying to build windows binaries fails hi all ...    0   \n",
              "3          3  stashed changes not discarding after clicking ...    1   \n",
              "4          4  initdb could not change permissions of directo...    0   \n",
              "...      ...                                                ...  ...   \n",
              "52358  52358  std iter rev breaks order or operation with st...    1   \n",
              "52359  52359  draft does not save priorities if i exit in li...    1   \n",
              "52360  52360                                  upgrade to babel     0   \n",
              "52361  52361                                fusionner psc afps     0   \n",
              "52362  52362  make bouncycastle a provided dependency for mo...    1   \n",
              "\n",
              "       enhancement  question  \n",
              "0                0         1  \n",
              "1                1         0  \n",
              "2                0         1  \n",
              "3                0         0  \n",
              "4                0         1  \n",
              "...            ...       ...  \n",
              "52358            0         0  \n",
              "52359            0         0  \n",
              "52360            1         0  \n",
              "52361            1         0  \n",
              "52362            0         0  \n",
              "\n",
              "[52363 rows x 5 columns]"
            ]
          },
          "metadata": {
            "tags": []
          },
          "execution_count": 58
        }
      ]
    },
    {
      "cell_type": "markdown",
      "metadata": {
        "id": "_VsOO_bjZ8Vs",
        "colab_type": "text"
      },
      "source": [
        "# Preparing for BERT"
      ]
    },
    {
      "cell_type": "code",
      "metadata": {
        "id": "MoewHVEPZM3y",
        "colab_type": "code",
        "colab": {}
      },
      "source": [
        "import tensorflow_hub as hub"
      ],
      "execution_count": 0,
      "outputs": []
    },
    {
      "cell_type": "code",
      "metadata": {
        "id": "SI0CM6W-aHTY",
        "colab_type": "code",
        "outputId": "d82ab094-faf6-44fb-b705-0dbe556e7d76",
        "colab": {
          "base_uri": "https://localhost:8080/",
          "height": 139
        }
      },
      "source": [
        "##install bert if not already done\n",
        "!pip install bert-tensorflow"
      ],
      "execution_count": 0,
      "outputs": [
        {
          "output_type": "stream",
          "text": [
            "Collecting bert-tensorflow\n",
            "\u001b[?25l  Downloading https://files.pythonhosted.org/packages/a6/66/7eb4e8b6ea35b7cc54c322c816f976167a43019750279a8473d355800a93/bert_tensorflow-1.0.1-py2.py3-none-any.whl (67kB)\n",
            "\r\u001b[K     |████▉                           | 10kB 22.9MB/s eta 0:00:01\r\u001b[K     |█████████▊                      | 20kB 1.7MB/s eta 0:00:01\r\u001b[K     |██████████████▋                 | 30kB 2.3MB/s eta 0:00:01\r\u001b[K     |███████████████████▍            | 40kB 2.6MB/s eta 0:00:01\r\u001b[K     |████████████████████████▎       | 51kB 2.0MB/s eta 0:00:01\r\u001b[K     |█████████████████████████████▏  | 61kB 2.3MB/s eta 0:00:01\r\u001b[K     |████████████████████████████████| 71kB 2.1MB/s \n",
            "\u001b[?25hRequirement already satisfied: six in /usr/local/lib/python3.6/dist-packages (from bert-tensorflow) (1.12.0)\n",
            "Installing collected packages: bert-tensorflow\n",
            "Successfully installed bert-tensorflow-1.0.1\n"
          ],
          "name": "stdout"
        }
      ]
    },
    {
      "cell_type": "code",
      "metadata": {
        "id": "W-2609KcaQZn",
        "colab_type": "code",
        "outputId": "3e9351e9-e367-41ea-d4c9-bf3e72973048",
        "colab": {
          "base_uri": "https://localhost:8080/",
          "height": 71
        }
      },
      "source": [
        "import bert\n",
        "from bert import run_classifier\n",
        "from bert import optimization\n",
        "from bert import tokenization\n",
        "from bert import modeling"
      ],
      "execution_count": 0,
      "outputs": [
        {
          "output_type": "stream",
          "text": [
            "WARNING:tensorflow:From /usr/local/lib/python3.6/dist-packages/bert/optimization.py:87: The name tf.train.Optimizer is deprecated. Please use tf.compat.v1.train.Optimizer instead.\n",
            "\n"
          ],
          "name": "stdout"
        }
      ]
    },
    {
      "cell_type": "code",
      "metadata": {
        "id": "J3lXX3T2aT6N",
        "colab_type": "code",
        "colab": {}
      },
      "source": [
        "##use downloaded model, change path accordingly\n",
        "BERT_VOCAB= '/content/drive/My Drive/FY_project/BERT_models/uncased_L-12_H-768_A-12/vocab.txt'\n",
        "BERT_INIT_CHKPNT = '/content/drive/My Drive/FY_project/BERT_models/uncased_L-12_H-768_A-12/bert_model.ckpt'\n",
        "BERT_CONFIG = '/content/drive/My Drive/FY_project/BERT_models/uncased_L-12_H-768_A-12/bert_config.json'"
      ],
      "execution_count": 0,
      "outputs": []
    },
    {
      "cell_type": "code",
      "metadata": {
        "id": "0fCByX6naWSl",
        "colab_type": "code",
        "outputId": "8cb7ac05-69aa-410d-eee3-d530a5471578",
        "colab": {
          "base_uri": "https://localhost:8080/",
          "height": 71
        }
      },
      "source": [
        "tokenization.validate_case_matches_checkpoint(True,BERT_INIT_CHKPNT)\n",
        "tokenizer = tokenization.FullTokenizer(\n",
        "      vocab_file=BERT_VOCAB, do_lower_case=True)"
      ],
      "execution_count": 0,
      "outputs": [
        {
          "output_type": "stream",
          "text": [
            "WARNING:tensorflow:From /usr/local/lib/python3.6/dist-packages/bert/tokenization.py:125: The name tf.gfile.GFile is deprecated. Please use tf.io.gfile.GFile instead.\n",
            "\n"
          ],
          "name": "stdout"
        }
      ]
    },
    {
      "cell_type": "code",
      "metadata": {
        "id": "NN6jx90Tab_h",
        "colab_type": "code",
        "outputId": "bee5076b-4502-40e1-8c44-6c66fb1bc0de",
        "colab": {
          "base_uri": "https://localhost:8080/",
          "height": 221
        }
      },
      "source": [
        "tokenizer.tokenize(\"This here's an example of using the BERT tokenizer\")"
      ],
      "execution_count": 0,
      "outputs": [
        {
          "output_type": "execute_result",
          "data": {
            "text/plain": [
              "['this',\n",
              " 'here',\n",
              " \"'\",\n",
              " 's',\n",
              " 'an',\n",
              " 'example',\n",
              " 'of',\n",
              " 'using',\n",
              " 'the',\n",
              " 'bert',\n",
              " 'token',\n",
              " '##izer']"
            ]
          },
          "metadata": {
            "tags": []
          },
          "execution_count": 64
        }
      ]
    },
    {
      "cell_type": "code",
      "metadata": {
        "id": "cuxXP7f78j31",
        "colab_type": "code",
        "colab": {}
      },
      "source": [
        "x_train=ldata[:41890]\n",
        "x_val=ldata[41890:]"
      ],
      "execution_count": 0,
      "outputs": []
    },
    {
      "cell_type": "code",
      "metadata": {
        "id": "cRFmY1wu9d-a",
        "colab_type": "code",
        "outputId": "b94ece80-0921-4b7a-fee9-ecb560211640",
        "colab": {
          "base_uri": "https://localhost:8080/",
          "height": 419
        }
      },
      "source": [
        "x_train"
      ],
      "execution_count": 0,
      "outputs": [
        {
          "output_type": "execute_result",
          "data": {
            "text/html": [
              "<div>\n",
              "<style scoped>\n",
              "    .dataframe tbody tr th:only-of-type {\n",
              "        vertical-align: middle;\n",
              "    }\n",
              "\n",
              "    .dataframe tbody tr th {\n",
              "        vertical-align: top;\n",
              "    }\n",
              "\n",
              "    .dataframe thead th {\n",
              "        text-align: right;\n",
              "    }\n",
              "</style>\n",
              "<table border=\"1\" class=\"dataframe\">\n",
              "  <thead>\n",
              "    <tr style=\"text-align: right;\">\n",
              "      <th></th>\n",
              "      <th>id</th>\n",
              "      <th>merged</th>\n",
              "      <th>bug</th>\n",
              "      <th>enhancement</th>\n",
              "      <th>question</th>\n",
              "    </tr>\n",
              "  </thead>\n",
              "  <tbody>\n",
              "    <tr>\n",
              "      <th>0</th>\n",
              "      <td>0</td>\n",
              "      <td>test</td>\n",
              "      <td>0</td>\n",
              "      <td>0</td>\n",
              "      <td>1</td>\n",
              "    </tr>\n",
              "    <tr>\n",
              "      <th>1</th>\n",
              "      <td>1</td>\n",
              "      <td>update containerd to the latest release of con...</td>\n",
              "      <td>0</td>\n",
              "      <td>1</td>\n",
              "      <td>0</td>\n",
              "    </tr>\n",
              "    <tr>\n",
              "      <th>2</th>\n",
              "      <td>2</td>\n",
              "      <td>trying to build windows binaries fails hi all ...</td>\n",
              "      <td>0</td>\n",
              "      <td>0</td>\n",
              "      <td>1</td>\n",
              "    </tr>\n",
              "    <tr>\n",
              "      <th>3</th>\n",
              "      <td>3</td>\n",
              "      <td>stashed changes not discarding after clicking ...</td>\n",
              "      <td>1</td>\n",
              "      <td>0</td>\n",
              "      <td>0</td>\n",
              "    </tr>\n",
              "    <tr>\n",
              "      <th>4</th>\n",
              "      <td>4</td>\n",
              "      <td>initdb could not change permissions of directo...</td>\n",
              "      <td>0</td>\n",
              "      <td>0</td>\n",
              "      <td>1</td>\n",
              "    </tr>\n",
              "    <tr>\n",
              "      <th>...</th>\n",
              "      <td>...</td>\n",
              "      <td>...</td>\n",
              "      <td>...</td>\n",
              "      <td>...</td>\n",
              "      <td>...</td>\n",
              "    </tr>\n",
              "    <tr>\n",
              "      <th>41885</th>\n",
              "      <td>41885</td>\n",
              "      <td>fit the navigation bar items into a single row...</td>\n",
              "      <td>0</td>\n",
              "      <td>1</td>\n",
              "      <td>1</td>\n",
              "    </tr>\n",
              "    <tr>\n",
              "      <th>41886</th>\n",
              "      <td>41886</td>\n",
              "      <td>observing all readers failed in longevity run ...</td>\n",
              "      <td>1</td>\n",
              "      <td>0</td>\n",
              "      <td>0</td>\n",
              "    </tr>\n",
              "    <tr>\n",
              "      <th>41887</th>\n",
              "      <td>41887</td>\n",
              "      <td>msauthtokencontext authtokenhistory failed to ...</td>\n",
              "      <td>0</td>\n",
              "      <td>1</td>\n",
              "      <td>0</td>\n",
              "    </tr>\n",
              "    <tr>\n",
              "      <th>41888</th>\n",
              "      <td>41888</td>\n",
              "      <td>add handle to modify capsule end caps currentl...</td>\n",
              "      <td>0</td>\n",
              "      <td>1</td>\n",
              "      <td>0</td>\n",
              "    </tr>\n",
              "    <tr>\n",
              "      <th>41889</th>\n",
              "      <td>41889</td>\n",
              "      <td>support clip path for is visible desired behav...</td>\n",
              "      <td>1</td>\n",
              "      <td>0</td>\n",
              "      <td>0</td>\n",
              "    </tr>\n",
              "  </tbody>\n",
              "</table>\n",
              "<p>41890 rows × 5 columns</p>\n",
              "</div>"
            ],
            "text/plain": [
              "          id                                             merged  bug  \\\n",
              "0          0                                              test     0   \n",
              "1          1  update containerd to the latest release of con...    0   \n",
              "2          2  trying to build windows binaries fails hi all ...    0   \n",
              "3          3  stashed changes not discarding after clicking ...    1   \n",
              "4          4  initdb could not change permissions of directo...    0   \n",
              "...      ...                                                ...  ...   \n",
              "41885  41885  fit the navigation bar items into a single row...    0   \n",
              "41886  41886  observing all readers failed in longevity run ...    1   \n",
              "41887  41887  msauthtokencontext authtokenhistory failed to ...    0   \n",
              "41888  41888  add handle to modify capsule end caps currentl...    0   \n",
              "41889  41889  support clip path for is visible desired behav...    1   \n",
              "\n",
              "       enhancement  question  \n",
              "0                0         1  \n",
              "1                1         0  \n",
              "2                0         1  \n",
              "3                0         0  \n",
              "4                0         1  \n",
              "...            ...       ...  \n",
              "41885            1         1  \n",
              "41886            0         0  \n",
              "41887            1         0  \n",
              "41888            1         0  \n",
              "41889            0         0  \n",
              "\n",
              "[41890 rows x 5 columns]"
            ]
          },
          "metadata": {
            "tags": []
          },
          "execution_count": 66
        }
      ]
    },
    {
      "cell_type": "code",
      "metadata": {
        "id": "6x17NsOlfvB3",
        "colab_type": "code",
        "colab": {}
      },
      "source": [
        "ID = 'id'\n",
        "DATA_COLUMN = 'merged'\n",
        "LABEL_COLUMNS = ['bug','enhancement','question']"
      ],
      "execution_count": 0,
      "outputs": []
    },
    {
      "cell_type": "markdown",
      "metadata": {
        "id": "BubEwzJh9_LA",
        "colab_type": "text"
      },
      "source": [
        "# Model Architecture"
      ]
    },
    {
      "cell_type": "code",
      "metadata": {
        "id": "jutbD0Hp98Mu",
        "colab_type": "code",
        "colab": {}
      },
      "source": [
        "class InputExample(object):\n",
        "    \"\"\"A single training/test example for simple sequence classification.\"\"\"\n",
        "\n",
        "    def __init__(self, guid, text_a, text_b=None, labels=None):\n",
        "        \"\"\"Constructs a InputExample.\n",
        "\n",
        "        Args:\n",
        "            guid: Unique id for the example.\n",
        "            text_a: string. The untokenized text of the first sequence. For single\n",
        "            sequence tasks, only this sequence must be specified.\n",
        "            text_b: (Optional) string. The untokenized text of the second sequence.\n",
        "            Only must be specified for sequence pair tasks.\n",
        "            labels: (Optional) [string]. The label of the example. This should be\n",
        "            specified for train and dev examples, but not for test examples.\n",
        "        \"\"\"\n",
        "        self.guid = guid\n",
        "        self.text_a = text_a\n",
        "        self.text_b = text_b\n",
        "        self.labels = labels\n",
        "\n",
        "\n",
        "class InputFeatures(object):\n",
        "    \"\"\"A single set of features of data.\"\"\"\n",
        "\n",
        "    def __init__(self, input_ids, input_mask, segment_ids, label_ids, is_real_example=True):\n",
        "        self.input_ids = input_ids\n",
        "        self.input_mask = input_mask\n",
        "        self.segment_ids = segment_ids\n",
        "        self.label_ids = label_ids,\n",
        "        self.is_real_example=is_real_example"
      ],
      "execution_count": 0,
      "outputs": []
    },
    {
      "cell_type": "code",
      "metadata": {
        "id": "v0HCEWun-A87",
        "colab_type": "code",
        "colab": {}
      },
      "source": [
        "def create_examples(df, labels_available=True):\n",
        "    \"\"\"Creates examples for the training and dev sets.\"\"\"\n",
        "    examples = []\n",
        "    for (i, row) in enumerate(df.values):\n",
        "        guid = row[0]\n",
        "        text_a = row[1]\n",
        "        if labels_available:\n",
        "            labels = row[2:]\n",
        "        else:\n",
        "            labels = [0,0,0]\n",
        "        examples.append(\n",
        "            InputExample(guid=guid, text_a=text_a, labels=labels))\n",
        "    return examples"
      ],
      "execution_count": 0,
      "outputs": []
    },
    {
      "cell_type": "code",
      "metadata": {
        "id": "IkyctObd-DVF",
        "colab_type": "code",
        "colab": {}
      },
      "source": [
        "train_examples = create_examples(x_train)"
      ],
      "execution_count": 0,
      "outputs": []
    },
    {
      "cell_type": "code",
      "metadata": {
        "id": "wm0yMV8AC45R",
        "colab_type": "code",
        "colab": {}
      },
      "source": [
        "def convert_examples_to_features(examples,  max_seq_length, tokenizer):\n",
        "    \"\"\"Loads a data file into a list of `InputBatch`s.\"\"\"\n",
        "\n",
        "    features = []\n",
        "    for (ex_index, example) in enumerate(examples):\n",
        "        print(example.text_a)\n",
        "        tokens_a = tokenizer.tokenize(example.text_a)\n",
        "\n",
        "        tokens_b = None\n",
        "        if example.text_b:\n",
        "            tokens_b = tokenizer.tokenize(example.text_b)\n",
        "            # Modifies `tokens_a` and `tokens_b` in place so that the total\n",
        "            # length is less than the specified length.\n",
        "            # Account for [CLS], [SEP], [SEP] with \"- 3\"\n",
        "            _truncate_seq_pair(tokens_a, tokens_b, max_seq_length - 3)\n",
        "        else:\n",
        "            # Account for [CLS] and [SEP] with \"- 2\"\n",
        "            if len(tokens_a) > max_seq_length - 2:\n",
        "                tokens_a = tokens_a[:(max_seq_length - 2)]\n",
        "\n",
        "        # The convention in BERT is:\n",
        "        # (a) For sequence pairs:\n",
        "        #  tokens:   [CLS] is this jack ##son ##ville ? [SEP] no it is not . [SEP]\n",
        "        #  type_ids: 0   0  0    0    0     0       0 0    1  1  1  1   1 1\n",
        "        # (b) For single sequences:\n",
        "        #  tokens:   [CLS] the dog is hairy . [SEP]\n",
        "        #  type_ids: 0   0   0   0  0     0 0\n",
        "        #\n",
        "        # Where \"type_ids\" are used to indicate whether this is the first\n",
        "        # sequence or the second sequence. The embedding vectors for `type=0` and\n",
        "        # `type=1` were learned during pre-training and are added to the wordpiece\n",
        "        # embedding vector (and position vector). This is not *strictly* necessary\n",
        "        # since the [SEP] token unambigiously separates the sequences, but it makes\n",
        "        # it easier for the model to learn the concept of sequences.\n",
        "        #\n",
        "        # For classification tasks, the first vector (corresponding to [CLS]) is\n",
        "        # used as as the \"sentence vector\". Note that this only makes sense because\n",
        "        # the entire model is fine-tuned.\n",
        "        tokens = [\"[CLS]\"] + tokens_a + [\"[SEP]\"]\n",
        "        segment_ids = [0] * len(tokens)\n",
        "\n",
        "        if tokens_b:\n",
        "            tokens += tokens_b + [\"[SEP]\"]\n",
        "            segment_ids += [1] * (len(tokens_b) + 1)\n",
        "\n",
        "        input_ids = tokenizer.convert_tokens_to_ids(tokens)\n",
        "\n",
        "        # The mask has 1 for real tokens and 0 for padding tokens. Only real\n",
        "        # tokens are attended to.\n",
        "        input_mask = [1] * len(input_ids)\n",
        "\n",
        "        # Zero-pad up to the sequence length.\n",
        "        padding = [0] * (max_seq_length - len(input_ids))\n",
        "        input_ids += padding\n",
        "        input_mask += padding\n",
        "        segment_ids += padding\n",
        "\n",
        "        assert len(input_ids) == max_seq_length\n",
        "        assert len(input_mask) == max_seq_length\n",
        "        assert len(segment_ids) == max_seq_length\n",
        "        \n",
        "        labels_ids = []\n",
        "        for label in example.labels:\n",
        "            labels_ids.append(int(label))\n",
        "\n",
        "        if ex_index < 0:\n",
        "            logger.info(\"*** Example ***\")\n",
        "            logger.info(\"guid: %s\" % (example.guid))\n",
        "            logger.info(\"tokens: %s\" % \" \".join(\n",
        "                    [str(x) for x in tokens]))\n",
        "            logger.info(\"input_ids: %s\" % \" \".join([str(x) for x in input_ids]))\n",
        "            logger.info(\"input_mask: %s\" % \" \".join([str(x) for x in input_mask]))\n",
        "            logger.info(\n",
        "                    \"segment_ids: %s\" % \" \".join([str(x) for x in segment_ids]))\n",
        "            logger.info(\"label: %s (id = %s)\" % (example.labels, labels_ids))\n",
        "\n",
        "        features.append(\n",
        "                InputFeatures(input_ids=input_ids,\n",
        "                              input_mask=input_mask,\n",
        "                              segment_ids=segment_ids,\n",
        "                              label_ids=labels_ids))\n",
        "    return features"
      ],
      "execution_count": 0,
      "outputs": []
    },
    {
      "cell_type": "code",
      "metadata": {
        "id": "YhsOs4oUDBlV",
        "colab_type": "code",
        "colab": {}
      },
      "source": [
        "# We'll set sequences to be at most 128 tokens long.\n",
        "MAX_SEQ_LENGTH = 128"
      ],
      "execution_count": 0,
      "outputs": []
    },
    {
      "cell_type": "code",
      "metadata": {
        "id": "Q-NREeL3DGAN",
        "colab_type": "code",
        "colab": {}
      },
      "source": [
        "# Compute train and warmup steps from batch size\n",
        "# These hyperparameters are copied from this colab notebook (https://colab.sandbox.google.com/github/tensorflow/tpu/blob/master/tools/colab/bert_finetuning_with_cloud_tpus.ipynb)\n",
        "BATCH_SIZE = 32\n",
        "LEARNING_RATE = 2e-5\n",
        "NUM_TRAIN_EPOCHS = 1.0\n",
        "# Warmup is a period of time where hte learning rate \n",
        "# is small and gradually increases--usually helps training.\n",
        "WARMUP_PROPORTION = 0.1\n",
        "# Model configs\n",
        "SAVE_CHECKPOINTS_STEPS = 1000\n",
        "SAVE_SUMMARY_STEPS = 500"
      ],
      "execution_count": 0,
      "outputs": []
    },
    {
      "cell_type": "code",
      "metadata": {
        "id": "c1rP48ajDShd",
        "colab_type": "code",
        "colab": {}
      },
      "source": [
        "class PaddingInputExample(object):\n",
        "    \"\"\"Fake example so the num input examples is a multiple of the batch size.\n",
        "    When running eval/predict on the TPU, we need to pad the number of examples\n",
        "    to be a multiple of the batch size, because the TPU requires a fixed batch\n",
        "    size. The alternative is to drop the last batch, which is bad because it means\n",
        "    the entire output data won't be generated.\n",
        "    We use this class instead of `None` because treating `None` as padding\n",
        "    battches could cause silent errors.\n",
        "    \"\"\"\n",
        "    \n",
        "    \n",
        "def convert_single_example(ex_index, example, max_seq_length,\n",
        "                           tokenizer):\n",
        "    \"\"\"Converts a single `InputExample` into a single `InputFeatures`.\"\"\"\n",
        "\n",
        "    if isinstance(example, PaddingInputExample):\n",
        "        return InputFeatures(\n",
        "            input_ids=[0] * max_seq_length,\n",
        "            input_mask=[0] * max_seq_length,\n",
        "            segment_ids=[0] * max_seq_length,\n",
        "            label_ids=0,\n",
        "            is_real_example=False)\n",
        "\n",
        "    tokens_a = tokenizer.tokenize(example.text_a)\n",
        "    tokens_b = None\n",
        "    if example.text_b:\n",
        "        tokens_b = tokenizer.tokenize(example.text_b)\n",
        "\n",
        "    if tokens_b:\n",
        "        # Modifies `tokens_a` and `tokens_b` in place so that the total\n",
        "        # length is less than the specified length.\n",
        "        # Account for [CLS], [SEP], [SEP] with \"- 3\"\n",
        "        _truncate_seq_pair(tokens_a, tokens_b, max_seq_length - 3)\n",
        "    else:\n",
        "        # Account for [CLS] and [SEP] with \"- 2\"\n",
        "        if len(tokens_a) > max_seq_length - 2:\n",
        "            tokens_a = tokens_a[0:(max_seq_length - 2)]\n",
        "\n",
        "    # The convention in BERT is:\n",
        "    # (a) For sequence pairs:\n",
        "    #  tokens:   [CLS] is this jack ##son ##ville ? [SEP] no it is not . [SEP]\n",
        "    #  type_ids: 0     0  0    0    0     0       0 0     1  1  1  1   1 1\n",
        "    # (b) For single sequences:\n",
        "    #  tokens:   [CLS] the dog is hairy . [SEP]\n",
        "    #  type_ids: 0     0   0   0  0     0 0\n",
        "    #\n",
        "    # Where \"type_ids\" are used to indicate whether this is the first\n",
        "    # sequence or the second sequence. The embedding vectors for `type=0` and\n",
        "    # `type=1` were learned during pre-training and are added to the wordpiece\n",
        "    # embedding vector (and position vector). This is not *strictly* necessary\n",
        "    # since the [SEP] token unambiguously separates the sequences, but it makes\n",
        "    # it easier for the model to learn the concept of sequences.\n",
        "    #\n",
        "    # For classification tasks, the first vector (corresponding to [CLS]) is\n",
        "    # used as the \"sentence vector\". Note that this only makes sense because\n",
        "    # the entire model is fine-tuned.\n",
        "    tokens = []\n",
        "    segment_ids = []\n",
        "    tokens.append(\"[CLS]\")\n",
        "    segment_ids.append(0)\n",
        "    for token in tokens_a:\n",
        "        tokens.append(token)\n",
        "        segment_ids.append(0)\n",
        "    tokens.append(\"[SEP]\")\n",
        "    segment_ids.append(0)\n",
        "\n",
        "    if tokens_b:\n",
        "        for token in tokens_b:\n",
        "            tokens.append(token)\n",
        "            segment_ids.append(1)\n",
        "        tokens.append(\"[SEP]\")\n",
        "        segment_ids.append(1)\n",
        "\n",
        "    input_ids = tokenizer.convert_tokens_to_ids(tokens)\n",
        "\n",
        "    # The mask has 1 for real tokens and 0 for padding tokens. Only real\n",
        "    # tokens are attended to.\n",
        "    input_mask = [1] * len(input_ids)\n",
        "\n",
        "    # Zero-pad up to the sequence length.\n",
        "    while len(input_ids) < max_seq_length:\n",
        "        input_ids.append(0)\n",
        "        input_mask.append(0)\n",
        "        segment_ids.append(0)\n",
        "\n",
        "    assert len(input_ids) == max_seq_length\n",
        "    assert len(input_mask) == max_seq_length\n",
        "    assert len(segment_ids) == max_seq_length\n",
        "\n",
        "    labels_ids = []\n",
        "    for label in example.labels:\n",
        "        labels_ids.append(int(label))\n",
        "\n",
        "\n",
        "    feature = InputFeatures(\n",
        "        input_ids=input_ids,\n",
        "        input_mask=input_mask,\n",
        "        segment_ids=segment_ids,\n",
        "        label_ids=labels_ids,\n",
        "        is_real_example=True)\n",
        "    return feature\n",
        "\n",
        "\n",
        "def file_based_convert_examples_to_features(\n",
        "        examples, max_seq_length, tokenizer, output_file):\n",
        "    \"\"\"Convert a set of `InputExample`s to a TFRecord file.\"\"\"\n",
        "\n",
        "    writer = tf.python_io.TFRecordWriter(output_file)\n",
        "\n",
        "    for (ex_index, example) in enumerate(examples):\n",
        "        #if ex_index % 10000 == 0:\n",
        "            #tf.logging.info(\"Writing example %d of %d\" % (ex_index, len(examples)))\n",
        "\n",
        "        feature = convert_single_example(ex_index, example,\n",
        "                                         max_seq_length, tokenizer)\n",
        "\n",
        "        def create_int_feature(values):\n",
        "            f = tf.train.Feature(int64_list=tf.train.Int64List(value=list(values)))\n",
        "            return f\n",
        "\n",
        "        features = collections.OrderedDict()\n",
        "        features[\"input_ids\"] = create_int_feature(feature.input_ids)\n",
        "        features[\"input_mask\"] = create_int_feature(feature.input_mask)\n",
        "        features[\"segment_ids\"] = create_int_feature(feature.segment_ids)\n",
        "        features[\"is_real_example\"] = create_int_feature(\n",
        "            [int(feature.is_real_example)])\n",
        "        if isinstance(feature.label_ids, list):\n",
        "            label_ids = feature.label_ids\n",
        "        else:\n",
        "            label_ids = feature.label_ids[0]\n",
        "        features[\"label_ids\"] = create_int_feature(label_ids)\n",
        "\n",
        "        tf_example = tf.train.Example(features=tf.train.Features(feature=features))\n",
        "        writer.write(tf_example.SerializeToString())\n",
        "    writer.close()\n",
        "\n",
        "\n",
        "def file_based_input_fn_builder(input_file, seq_length, is_training,\n",
        "                                drop_remainder):\n",
        "    \"\"\"Creates an `input_fn` closure to be passed to TPUEstimator.\"\"\"\n",
        "\n",
        "    name_to_features = {\n",
        "        \"input_ids\": tf.FixedLenFeature([seq_length], tf.int64),\n",
        "        \"input_mask\": tf.FixedLenFeature([seq_length], tf.int64),\n",
        "        \"segment_ids\": tf.FixedLenFeature([seq_length], tf.int64),\n",
        "        \"label_ids\": tf.FixedLenFeature([3], tf.int64),\n",
        "        \"is_real_example\": tf.FixedLenFeature([], tf.int64),\n",
        "    }\n",
        "\n",
        "    def _decode_record(record, name_to_features):\n",
        "        \"\"\"Decodes a record to a TensorFlow example.\"\"\"\n",
        "        example = tf.parse_single_example(record, name_to_features)\n",
        "\n",
        "        # tf.Example only supports tf.int64, but the TPU only supports tf.int32.\n",
        "        # So cast all int64 to int32.\n",
        "        for name in list(example.keys()):\n",
        "            t = example[name]\n",
        "            if t.dtype == tf.int64:\n",
        "                t = tf.to_int32(t)\n",
        "            example[name] = t\n",
        "\n",
        "        return example\n",
        "\n",
        "    def input_fn(params):\n",
        "        \"\"\"The actual input function.\"\"\"\n",
        "        batch_size = params[\"batch_size\"]\n",
        "\n",
        "        # For training, we want a lot of parallel reading and shuffling.\n",
        "        # For eval, we want no shuffling and parallel reading doesn't matter.\n",
        "        d = tf.data.TFRecordDataset(input_file)\n",
        "        if is_training:\n",
        "            d = d.repeat()\n",
        "            d = d.shuffle(buffer_size=100)\n",
        "\n",
        "        d = d.apply(\n",
        "            tf.contrib.data.map_and_batch(\n",
        "                lambda record: _decode_record(record, name_to_features),\n",
        "                batch_size=batch_size,\n",
        "                drop_remainder=drop_remainder))\n",
        "\n",
        "        return d\n",
        "\n",
        "    return input_fn\n",
        "\n",
        "\n",
        "def _truncate_seq_pair(tokens_a, tokens_b, max_length):\n",
        "    \"\"\"Truncates a sequence pair in place to the maximum length.\"\"\"\n",
        "\n",
        "    # This is a simple heuristic which will always truncate the longer sequence\n",
        "    # one token at a time. This makes more sense than truncating an equal percent\n",
        "    # of tokens from each, since if one sequence is very short then each token\n",
        "    # that's truncated likely contains more information than a longer sequence.\n",
        "    while True:\n",
        "        total_length = len(tokens_a) + len(tokens_b)\n",
        "        if total_length <= max_length:\n",
        "            break\n",
        "        if len(tokens_a) > len(tokens_b):\n",
        "            tokens_a.pop()\n",
        "        else:\n",
        "            tokens_b.pop()"
      ],
      "execution_count": 0,
      "outputs": []
    },
    {
      "cell_type": "code",
      "metadata": {
        "id": "xZr6GximD_v8",
        "colab_type": "code",
        "colab": {}
      },
      "source": [
        "# Compute # train and warmup steps from batch size\n",
        "num_train_steps = int(len(train_examples) / BATCH_SIZE * NUM_TRAIN_EPOCHS)\n",
        "num_warmup_steps = int(num_train_steps * WARMUP_PROPORTION)"
      ],
      "execution_count": 0,
      "outputs": []
    },
    {
      "cell_type": "markdown",
      "metadata": {
        "id": "twdyQQYR-I8t",
        "colab_type": "text"
      },
      "source": [
        "# Training"
      ]
    },
    {
      "cell_type": "code",
      "metadata": {
        "id": "dJlc_JRBEZII",
        "colab_type": "code",
        "colab": {}
      },
      "source": [
        "import os\n",
        "train_file = os.path.join('/content/drive/My Drive/FY_project/working', \"train.tf_record\")\n",
        "#filename = Path(train_file)\n",
        "if not os.path.exists(train_file):\n",
        "    open(train_file, 'w').close()"
      ],
      "execution_count": 0,
      "outputs": []
    },
    {
      "cell_type": "code",
      "metadata": {
        "id": "k0DRuetTHKWH",
        "colab_type": "code",
        "outputId": "129204ff-0995-4a3c-be8d-32fe287b865a",
        "colab": {
          "base_uri": "https://localhost:8080/",
          "height": 119
        }
      },
      "source": [
        "%%time\n",
        "file_based_convert_examples_to_features(\n",
        "            train_examples, MAX_SEQ_LENGTH, tokenizer, train_file)\n",
        "tf.logging.info(\"***** Running training *****\")\n",
        "tf.logging.info(\"  Num examples = %d\", len(train_examples))\n",
        "tf.logging.info(\"  Batch size = %d\", BATCH_SIZE)\n",
        "tf.logging.info(\"  Num steps = %d\", num_train_steps)"
      ],
      "execution_count": 0,
      "outputs": [
        {
          "output_type": "stream",
          "text": [
            "INFO:tensorflow:***** Running training *****\n",
            "INFO:tensorflow:  Num examples = 41890\n",
            "INFO:tensorflow:  Batch size = 32\n",
            "INFO:tensorflow:  Num steps = 1309\n",
            "CPU times: user 1min 24s, sys: 149 ms, total: 1min 24s\n",
            "Wall time: 1min 25s\n"
          ],
          "name": "stdout"
        }
      ]
    },
    {
      "cell_type": "code",
      "metadata": {
        "id": "7y_xzSdcHM3B",
        "colab_type": "code",
        "colab": {}
      },
      "source": [
        "train_input_fn = file_based_input_fn_builder(\n",
        "    input_file=train_file,\n",
        "    seq_length=MAX_SEQ_LENGTH,\n",
        "    is_training=True,\n",
        "    drop_remainder=True)"
      ],
      "execution_count": 0,
      "outputs": []
    },
    {
      "cell_type": "code",
      "metadata": {
        "id": "P0UuxDGYHaRX",
        "colab_type": "code",
        "colab": {}
      },
      "source": [
        "def create_model(bert_config, is_training, input_ids, input_mask, segment_ids,\n",
        "                 labels, num_labels, use_one_hot_embeddings):\n",
        "    \"\"\"Creates a classification model.\"\"\"\n",
        "    model = modeling.BertModel(\n",
        "        config=bert_config,\n",
        "        is_training=is_training,\n",
        "        input_ids=input_ids,\n",
        "        input_mask=input_mask,\n",
        "        token_type_ids=segment_ids,\n",
        "        use_one_hot_embeddings=use_one_hot_embeddings)\n",
        "\n",
        "    # In the demo, we are doing a simple classification task on the entire\n",
        "    # segment.\n",
        "    #\n",
        "    # If you want to use the token-level output, use model.get_sequence_output()\n",
        "    # instead.\n",
        "    output_layer = model.get_pooled_output()\n",
        "\n",
        "    hidden_size = output_layer.shape[-1].value\n",
        "\n",
        "    output_weights = tf.get_variable(\n",
        "        \"output_weights\", [num_labels, hidden_size],\n",
        "        initializer=tf.truncated_normal_initializer(stddev=0.02))\n",
        "\n",
        "    output_bias = tf.get_variable(\n",
        "        \"output_bias\", [num_labels], initializer=tf.zeros_initializer())\n",
        "\n",
        "    with tf.variable_scope(\"loss\"):\n",
        "        if is_training:\n",
        "            # I.e., 0.1 dropout\n",
        "            output_layer = tf.nn.dropout(output_layer, keep_prob=0.9)\n",
        "\n",
        "        logits = tf.matmul(output_layer, output_weights, transpose_b=True)\n",
        "        logits = tf.nn.bias_add(logits, output_bias)\n",
        "        \n",
        "        # probabilities = tf.nn.softmax(logits, axis=-1) ### multiclass case\n",
        "        probabilities = tf.nn.sigmoid(logits)#### multi-label case\n",
        "        \n",
        "        labels = tf.cast(labels, tf.float32)\n",
        "        tf.logging.info(\"num_labels:{};logits:{};labels:{}\".format(num_labels, logits, labels))\n",
        "        per_example_loss = tf.nn.sigmoid_cross_entropy_with_logits(labels=labels, logits=logits)\n",
        "        loss = tf.reduce_mean(per_example_loss)\n",
        "\n",
        "        # probabilities = tf.nn.softmax(logits, axis=-1)\n",
        "        # log_probs = tf.nn.log_softmax(logits, axis=-1)\n",
        "        #\n",
        "        # one_hot_labels = tf.one_hot(labels, depth=num_labels, dtype=tf.float32)\n",
        "        #\n",
        "        # per_example_loss = -tf.reduce_sum(one_hot_labels * log_probs, axis=-1)\n",
        "        # loss = tf.reduce_mean(per_example_loss)\n",
        "\n",
        "        return (loss, per_example_loss, logits, probabilities)\n",
        "\n",
        "\n",
        "def model_fn_builder(bert_config, num_labels, init_checkpoint, learning_rate,\n",
        "                     num_train_steps, num_warmup_steps, use_tpu,\n",
        "                     use_one_hot_embeddings):\n",
        "    \"\"\"Returns `model_fn` closure for TPUEstimator.\"\"\"\n",
        "\n",
        "    def model_fn(features, labels, mode, params):  # pylint: disable=unused-argument\n",
        "        \"\"\"The `model_fn` for TPUEstimator.\"\"\"\n",
        "\n",
        "        #tf.logging.info(\"*** Features ***\")\n",
        "        #for name in sorted(features.keys()):\n",
        "        #    tf.logging.info(\"  name = %s, shape = %s\" % (name, features[name].shape))\n",
        "\n",
        "        input_ids = features[\"input_ids\"]\n",
        "        input_mask = features[\"input_mask\"]\n",
        "        segment_ids = features[\"segment_ids\"]\n",
        "        label_ids = features[\"label_ids\"]\n",
        "        is_real_example = None\n",
        "        if \"is_real_example\" in features:\n",
        "             is_real_example = tf.cast(features[\"is_real_example\"], dtype=tf.float32)\n",
        "        else:\n",
        "             is_real_example = tf.ones(tf.shape(label_ids), dtype=tf.float32)\n",
        "\n",
        "        is_training = (mode == tf.estimator.ModeKeys.TRAIN)\n",
        "\n",
        "        (total_loss, per_example_loss, logits, probabilities) = create_model(\n",
        "            bert_config, is_training, input_ids, input_mask, segment_ids, label_ids,\n",
        "            num_labels, use_one_hot_embeddings)\n",
        "\n",
        "        tvars = tf.trainable_variables()\n",
        "        initialized_variable_names = {}\n",
        "        scaffold_fn = None\n",
        "        if init_checkpoint:\n",
        "            (assignment_map, initialized_variable_names\n",
        "             ) = modeling.get_assignment_map_from_checkpoint(tvars, init_checkpoint)\n",
        "            if use_tpu:\n",
        "\n",
        "                def tpu_scaffold():\n",
        "                    tf.train.init_from_checkpoint(init_checkpoint, assignment_map)\n",
        "                    return tf.train.Scaffold()\n",
        "\n",
        "                scaffold_fn = tpu_scaffold\n",
        "            else:\n",
        "                tf.train.init_from_checkpoint(init_checkpoint, assignment_map)\n",
        "\n",
        "        tf.logging.info(\"**** Trainable Variables ****\")\n",
        "        for var in tvars:\n",
        "            init_string = \"\"\n",
        "            if var.name in initialized_variable_names:\n",
        "                init_string = \", *INIT_FROM_CKPT*\"\n",
        "            #tf.logging.info(\"  name = %s, shape = %s%s\", var.name, var.shape,init_string)\n",
        "\n",
        "        output_spec = None\n",
        "        if mode == tf.estimator.ModeKeys.TRAIN:\n",
        "\n",
        "            train_op = optimization.create_optimizer(\n",
        "                total_loss, learning_rate, num_train_steps, num_warmup_steps, use_tpu)\n",
        "\n",
        "            output_spec = tf.estimator.EstimatorSpec(\n",
        "                mode=mode,\n",
        "                loss=total_loss,\n",
        "                train_op=train_op,\n",
        "                scaffold=scaffold_fn)\n",
        "        elif mode == tf.estimator.ModeKeys.EVAL:\n",
        "\n",
        "            def metric_fn(per_example_loss, label_ids, probabilities, is_real_example):\n",
        "\n",
        "                logits_split = tf.split(probabilities, num_labels, axis=-1)\n",
        "                label_ids_split = tf.split(label_ids, num_labels, axis=-1)\n",
        "                # metrics change to auc of every class\n",
        "                eval_dict = {}\n",
        "                for j, logits in enumerate(logits_split):\n",
        "                    label_id_ = tf.cast(label_ids_split[j], dtype=tf.int32)\n",
        "                    current_auc, update_op_auc = tf.metrics.auc(label_id_, logits)\n",
        "                    eval_dict[str(j)] = (current_auc, update_op_auc)\n",
        "                eval_dict['eval_loss'] = tf.metrics.mean(values=per_example_loss)\n",
        "                return eval_dict\n",
        "\n",
        "                ## original eval metrics\n",
        "                # predictions = tf.argmax(logits, axis=-1, output_type=tf.int32)\n",
        "                # accuracy = tf.metrics.accuracy(\n",
        "                #     labels=label_ids, predictions=predictions, weights=is_real_example)\n",
        "                # loss = tf.metrics.mean(values=per_example_loss, weights=is_real_example)\n",
        "                # return {\n",
        "                #     \"eval_accuracy\": accuracy,\n",
        "                #     \"eval_loss\": loss,\n",
        "                # }\n",
        "\n",
        "            eval_metrics = metric_fn(per_example_loss, label_ids, probabilities, is_real_example)\n",
        "            output_spec = tf.estimator.EstimatorSpec(\n",
        "                mode=mode,\n",
        "                loss=total_loss,\n",
        "                eval_metric_ops=eval_metrics,\n",
        "                scaffold=scaffold_fn)\n",
        "        else:\n",
        "            print(\"mode:\", mode,\"probabilities:\", probabilities)\n",
        "            output_spec = tf.estimator.EstimatorSpec(\n",
        "                mode=mode,\n",
        "                predictions={\"probabilities\": probabilities},\n",
        "                scaffold=scaffold_fn)\n",
        "        return output_spec\n",
        "\n",
        "    return model_fn"
      ],
      "execution_count": 0,
      "outputs": []
    },
    {
      "cell_type": "code",
      "metadata": {
        "id": "HBzXjL6WHbnH",
        "colab_type": "code",
        "colab": {}
      },
      "source": [
        "OUTPUT_DIR = \"/content/drive/My Drive/FY_project/working/output\"\n",
        "# Specify outpit directory and number of checkpoint steps to save\n",
        "run_config = tf.estimator.RunConfig(\n",
        "    model_dir=OUTPUT_DIR,\n",
        "    save_summary_steps=SAVE_SUMMARY_STEPS,\n",
        "    keep_checkpoint_max=1,\n",
        "    save_checkpoints_steps=SAVE_CHECKPOINTS_STEPS)"
      ],
      "execution_count": 0,
      "outputs": []
    },
    {
      "cell_type": "code",
      "metadata": {
        "id": "BzxwZ1La_vq-",
        "colab_type": "code",
        "outputId": "27a84f7e-d8d7-42ce-cbf9-b4ea3ecc6b83",
        "colab": {
          "base_uri": "https://localhost:8080/",
          "height": 156
        }
      },
      "source": [
        "bert_config = modeling.BertConfig.from_json_file(BERT_CONFIG)\n",
        "model_fn = model_fn_builder(\n",
        "  bert_config=bert_config,\n",
        "  num_labels= len(LABEL_COLUMNS),\n",
        "  init_checkpoint=BERT_INIT_CHKPNT,\n",
        "  learning_rate=LEARNING_RATE,\n",
        "  num_train_steps=num_train_steps,\n",
        "  num_warmup_steps=num_warmup_steps,\n",
        "  use_tpu=False,\n",
        "  use_one_hot_embeddings=False)\n",
        "\n",
        "estimator = tf.estimator.Estimator(\n",
        "  model_fn=model_fn,\n",
        "  config=run_config,\n",
        "  params={\"batch_size\": BATCH_SIZE})"
      ],
      "execution_count": 0,
      "outputs": [
        {
          "output_type": "stream",
          "text": [
            "INFO:tensorflow:Using config: {'_model_dir': '/content/drive/My Drive/FY_project/working/output', '_tf_random_seed': None, '_save_summary_steps': 500, '_save_checkpoints_steps': 1000, '_save_checkpoints_secs': None, '_session_config': allow_soft_placement: true\n",
            "graph_options {\n",
            "  rewrite_options {\n",
            "    meta_optimizer_iterations: ONE\n",
            "  }\n",
            "}\n",
            ", '_keep_checkpoint_max': 1, '_keep_checkpoint_every_n_hours': 10000, '_log_step_count_steps': 100, '_train_distribute': None, '_device_fn': None, '_protocol': None, '_eval_distribute': None, '_experimental_distribute': None, '_experimental_max_worker_delay_secs': None, '_session_creation_timeout_secs': 7200, '_service': None, '_cluster_spec': <tensorflow.python.training.server_lib.ClusterSpec object at 0x7f6557c6ceb8>, '_task_type': 'worker', '_task_id': 0, '_global_id_in_cluster': 0, '_master': '', '_evaluation_master': '', '_is_chief': True, '_num_ps_replicas': 0, '_num_worker_replicas': 1}\n"
          ],
          "name": "stdout"
        }
      ]
    },
    {
      "cell_type": "code",
      "metadata": {
        "id": "iuRHEPdA_0Bu",
        "colab_type": "code",
        "outputId": "89baf61a-fbb9-45cb-d530-7610b2ad0e34",
        "colab": {
          "base_uri": "https://localhost:8080/",
          "height": 85
        }
      },
      "source": [
        "%%time\n",
        "print(f'Beginning Training!')\n",
        "estimator.train(input_fn=train_input_fn, max_steps=num_train_steps)"
      ],
      "execution_count": 0,
      "outputs": [
        {
          "output_type": "stream",
          "text": [
            "Beginning Training!\n",
            "INFO:tensorflow:Skipping training since max_steps has already saved.\n",
            "CPU times: user 8.68 ms, sys: 3.01 ms, total: 11.7 ms\n",
            "Wall time: 2.99 s\n"
          ],
          "name": "stdout"
        }
      ]
    },
    {
      "cell_type": "code",
      "metadata": {
        "id": "bWoi-jYZmmeY",
        "colab_type": "code",
        "colab": {}
      },
      "source": [
        "#save model\n",
        "#from sklearn.externals import joblib\n",
        "#joblib.dump(estimator, 'bert_estimator.pkl') "
      ],
      "execution_count": 0,
      "outputs": []
    },
    {
      "cell_type": "markdown",
      "metadata": {
        "id": "dtRqNAyA-Q4c",
        "colab_type": "text"
      },
      "source": [
        "# Validation"
      ]
    },
    {
      "cell_type": "code",
      "metadata": {
        "id": "6jpagNQR_0uK",
        "colab_type": "code",
        "colab": {}
      },
      "source": [
        "eval_file = os.path.join('/content/drive/My Drive/FY_project/working', \"eval.tf_record\")\n",
        "#filename = Path(train_file)\n",
        "if not os.path.exists(eval_file):\n",
        "    open(eval_file, 'w').close()\n",
        "\n",
        "eval_examples = create_examples(x_val)\n",
        "file_based_convert_examples_to_features(\n",
        "    eval_examples, MAX_SEQ_LENGTH, tokenizer, eval_file)"
      ],
      "execution_count": 0,
      "outputs": []
    },
    {
      "cell_type": "code",
      "metadata": {
        "id": "7Zooc8si_4kX",
        "colab_type": "code",
        "outputId": "f6adee03-890c-4720-9efb-018f15346447",
        "colab": {
          "base_uri": "https://localhost:8080/",
          "height": 904
        }
      },
      "source": [
        "# This tells the estimator to run through the entire set.\n",
        "%%time\n",
        "eval_steps = None\n",
        "\n",
        "eval_drop_remainder = False\n",
        "eval_input_fn = file_based_input_fn_builder(\n",
        "    input_file=eval_file,\n",
        "    seq_length=MAX_SEQ_LENGTH,\n",
        "    is_training=False,\n",
        "    drop_remainder=False)\n",
        "\n",
        "result = estimator.evaluate(input_fn=eval_input_fn, steps=eval_steps)"
      ],
      "execution_count": 0,
      "outputs": [
        {
          "output_type": "stream",
          "text": [
            "WARNING:tensorflow:\n",
            "The TensorFlow contrib module will not be included in TensorFlow 2.0.\n",
            "For more information, please see:\n",
            "  * https://github.com/tensorflow/community/blob/master/rfcs/20180907-contrib-sunset.md\n",
            "  * https://github.com/tensorflow/addons\n",
            "  * https://github.com/tensorflow/io (for I/O related ops)\n",
            "If you depend on functionality not listed there, please file an issue.\n",
            "\n",
            "WARNING:tensorflow:From <ipython-input-74-5c3fecad0ee8>:179: map_and_batch (from tensorflow.contrib.data.python.ops.batching) is deprecated and will be removed in a future version.\n",
            "Instructions for updating:\n",
            "Use `tf.data.experimental.map_and_batch(...)`.\n",
            "WARNING:tensorflow:From /tensorflow-1.15.2/python3.6/tensorflow_core/contrib/data/python/ops/batching.py:276: map_and_batch (from tensorflow.python.data.experimental.ops.batching) is deprecated and will be removed in a future version.\n",
            "Instructions for updating:\n",
            "Use `tf.data.Dataset.map(map_func, num_parallel_calls)` followed by `tf.data.Dataset.batch(batch_size, drop_remainder)`. Static tf.data optimizations will take care of using the fused implementation.\n",
            "WARNING:tensorflow:Entity <function file_based_input_fn_builder.<locals>.input_fn.<locals>.<lambda> at 0x7f655b8be488> could not be transformed and will be executed as-is. Please report this to the AutoGraph team. When filing the bug, set the verbosity to 10 (on Linux, `export AUTOGRAPH_VERBOSITY=10`) and attach the full output. Cause: module 'gast' has no attribute 'Str'\n",
            "WARNING: Entity <function file_based_input_fn_builder.<locals>.input_fn.<locals>.<lambda> at 0x7f655b8be488> could not be transformed and will be executed as-is. Please report this to the AutoGraph team. When filing the bug, set the verbosity to 10 (on Linux, `export AUTOGRAPH_VERBOSITY=10`) and attach the full output. Cause: module 'gast' has no attribute 'Str'\n",
            "WARNING:tensorflow:From <ipython-input-74-5c3fecad0ee8>:159: to_int32 (from tensorflow.python.ops.math_ops) is deprecated and will be removed in a future version.\n",
            "Instructions for updating:\n",
            "Use `tf.cast` instead.\n",
            "INFO:tensorflow:Calling model_fn.\n",
            "WARNING:tensorflow:From /usr/local/lib/python3.6/dist-packages/bert/modeling.py:171: The name tf.variable_scope is deprecated. Please use tf.compat.v1.variable_scope instead.\n",
            "\n",
            "WARNING:tensorflow:From /usr/local/lib/python3.6/dist-packages/bert/modeling.py:409: The name tf.get_variable is deprecated. Please use tf.compat.v1.get_variable instead.\n",
            "\n",
            "WARNING:tensorflow:From /usr/local/lib/python3.6/dist-packages/bert/modeling.py:490: The name tf.assert_less_equal is deprecated. Please use tf.compat.v1.assert_less_equal instead.\n",
            "\n",
            "WARNING:tensorflow:From /usr/local/lib/python3.6/dist-packages/bert/modeling.py:671: dense (from tensorflow.python.layers.core) is deprecated and will be removed in a future version.\n",
            "Instructions for updating:\n",
            "Use keras.layers.Dense instead.\n",
            "WARNING:tensorflow:From /tensorflow-1.15.2/python3.6/tensorflow_core/python/layers/core.py:187: Layer.apply (from tensorflow.python.keras.engine.base_layer) is deprecated and will be removed in a future version.\n",
            "Instructions for updating:\n",
            "Please use `layer.__call__` method instead.\n",
            "INFO:tensorflow:num_labels:3;logits:Tensor(\"loss/BiasAdd:0\", shape=(?, 3), dtype=float32);labels:Tensor(\"loss/Cast:0\", shape=(?, 3), dtype=float32)\n",
            "WARNING:tensorflow:From /tensorflow-1.15.2/python3.6/tensorflow_core/python/ops/nn_impl.py:183: where (from tensorflow.python.ops.array_ops) is deprecated and will be removed in a future version.\n",
            "Instructions for updating:\n",
            "Use tf.where in 2.0, which has the same broadcast rule as np.where\n",
            "INFO:tensorflow:**** Trainable Variables ****\n",
            "WARNING:tensorflow:From /tensorflow-1.15.2/python3.6/tensorflow_core/python/ops/metrics_impl.py:808: div (from tensorflow.python.ops.math_ops) is deprecated and will be removed in a future version.\n",
            "Instructions for updating:\n",
            "Deprecated in favor of operator or tf.math.divide.\n",
            "INFO:tensorflow:Done calling model_fn.\n",
            "INFO:tensorflow:Starting evaluation at 2020-06-15T09:14:58Z\n",
            "INFO:tensorflow:Graph was finalized.\n",
            "INFO:tensorflow:Restoring parameters from /content/drive/My Drive/FY_project/working/output/model.ckpt-1309\n",
            "INFO:tensorflow:Running local_init_op.\n",
            "INFO:tensorflow:Done running local_init_op.\n",
            "INFO:tensorflow:Finished evaluation at 2020-06-15-09:16:04\n",
            "INFO:tensorflow:Saving dict for global step 1309: 0 = 0.9374102, 1 = 0.9347589, 2 = 0.9043622, eval_loss = 0.31477484, global_step = 1309, loss = 0.31469414\n",
            "INFO:tensorflow:Saving 'checkpoint_path' summary for global step 1309: /content/drive/My Drive/FY_project/working/output/model.ckpt-1309\n",
            "CPU times: user 13.7 s, sys: 2.56 s, total: 16.3 s\n",
            "Wall time: 1min 11s\n"
          ],
          "name": "stdout"
        }
      ]
    },
    {
      "cell_type": "code",
      "metadata": {
        "id": "YmbHr92q_7x7",
        "colab_type": "code",
        "outputId": "013f2784-412d-4f7e-a8c2-ed906ebf7659",
        "colab": {
          "base_uri": "https://localhost:8080/",
          "height": 136
        }
      },
      "source": [
        "output_eval_file = os.path.join(\"/content/drive/My Drive/FY_project/working\", \"eval_results.txt\")\n",
        "with tf.gfile.GFile(output_eval_file, \"w\") as writer:\n",
        "    tf.logging.info(\"***** Eval results *****\")\n",
        "    for key in sorted(result.keys()):\n",
        "        tf.logging.info(\"  %s = %s\", key, str(result[key]))\n",
        "        writer.write(\"%s = %s\\n\" % (key, str(result[key])))"
      ],
      "execution_count": 0,
      "outputs": [
        {
          "output_type": "stream",
          "text": [
            "INFO:tensorflow:***** Eval results *****\n",
            "INFO:tensorflow:  0 = 0.9374102\n",
            "INFO:tensorflow:  1 = 0.9347589\n",
            "INFO:tensorflow:  2 = 0.9043622\n",
            "INFO:tensorflow:  eval_loss = 0.31477484\n",
            "INFO:tensorflow:  global_step = 1309\n",
            "INFO:tensorflow:  loss = 0.31469414\n"
          ],
          "name": "stdout"
        }
      ]
    },
    {
      "cell_type": "markdown",
      "metadata": {
        "id": "_KQo7gJu-WkE",
        "colab_type": "text"
      },
      "source": [
        "# Testing"
      ]
    },
    {
      "cell_type": "code",
      "metadata": {
        "id": "6QT-zhln9wuq",
        "colab_type": "code",
        "outputId": "e4b921b6-322d-4141-c478-d913238add37",
        "colab": {
          "base_uri": "https://localhost:8080/",
          "height": 419
        }
      },
      "source": [
        "x_test=x_val.drop(['bug','enhancement','question'], axis=1)\n",
        "#x_test=pd.read_csv('/content/drive/My Drive/FY_project/dataset/bert_test.csv')\n",
        "x_test"
      ],
      "execution_count": 0,
      "outputs": [
        {
          "output_type": "execute_result",
          "data": {
            "text/html": [
              "<div>\n",
              "<style scoped>\n",
              "    .dataframe tbody tr th:only-of-type {\n",
              "        vertical-align: middle;\n",
              "    }\n",
              "\n",
              "    .dataframe tbody tr th {\n",
              "        vertical-align: top;\n",
              "    }\n",
              "\n",
              "    .dataframe thead th {\n",
              "        text-align: right;\n",
              "    }\n",
              "</style>\n",
              "<table border=\"1\" class=\"dataframe\">\n",
              "  <thead>\n",
              "    <tr style=\"text-align: right;\">\n",
              "      <th></th>\n",
              "      <th>id</th>\n",
              "      <th>merged</th>\n",
              "    </tr>\n",
              "  </thead>\n",
              "  <tbody>\n",
              "    <tr>\n",
              "      <th>41890</th>\n",
              "      <td>41890</td>\n",
              "      <td>bug shield agent can t trust system cert pool ...</td>\n",
              "    </tr>\n",
              "    <tr>\n",
              "      <th>41891</th>\n",
              "      <td>41891</td>\n",
              "      <td>don t show empty lines in com ports list with ...</td>\n",
              "    </tr>\n",
              "    <tr>\n",
              "      <th>41892</th>\n",
              "      <td>41892</td>\n",
              "      <td>internal visit transaction does not work with ...</td>\n",
              "    </tr>\n",
              "    <tr>\n",
              "      <th>41893</th>\n",
              "      <td>41893</td>\n",
              "      <td>split psikit sapt class into two files i belie...</td>\n",
              "    </tr>\n",
              "    <tr>\n",
              "      <th>41894</th>\n",
              "      <td>41894</td>\n",
              "      <td>websocket</td>\n",
              "    </tr>\n",
              "    <tr>\n",
              "      <th>...</th>\n",
              "      <td>...</td>\n",
              "      <td>...</td>\n",
              "    </tr>\n",
              "    <tr>\n",
              "      <th>52358</th>\n",
              "      <td>52358</td>\n",
              "      <td>std iter rev breaks order or operation with st...</td>\n",
              "    </tr>\n",
              "    <tr>\n",
              "      <th>52359</th>\n",
              "      <td>52359</td>\n",
              "      <td>draft does not save priorities if i exit in li...</td>\n",
              "    </tr>\n",
              "    <tr>\n",
              "      <th>52360</th>\n",
              "      <td>52360</td>\n",
              "      <td>upgrade to babel</td>\n",
              "    </tr>\n",
              "    <tr>\n",
              "      <th>52361</th>\n",
              "      <td>52361</td>\n",
              "      <td>fusionner psc afps</td>\n",
              "    </tr>\n",
              "    <tr>\n",
              "      <th>52362</th>\n",
              "      <td>52362</td>\n",
              "      <td>make bouncycastle a provided dependency for mo...</td>\n",
              "    </tr>\n",
              "  </tbody>\n",
              "</table>\n",
              "<p>10473 rows × 2 columns</p>\n",
              "</div>"
            ],
            "text/plain": [
              "          id                                             merged\n",
              "41890  41890  bug shield agent can t trust system cert pool ...\n",
              "41891  41891  don t show empty lines in com ports list with ...\n",
              "41892  41892  internal visit transaction does not work with ...\n",
              "41893  41893  split psikit sapt class into two files i belie...\n",
              "41894  41894                                         websocket \n",
              "...      ...                                                ...\n",
              "52358  52358  std iter rev breaks order or operation with st...\n",
              "52359  52359  draft does not save priorities if i exit in li...\n",
              "52360  52360                                  upgrade to babel \n",
              "52361  52361                                fusionner psc afps \n",
              "52362  52362  make bouncycastle a provided dependency for mo...\n",
              "\n",
              "[10473 rows x 2 columns]"
            ]
          },
          "metadata": {
            "tags": []
          },
          "execution_count": 105
        }
      ]
    },
    {
      "cell_type": "code",
      "metadata": {
        "id": "0ZH2TIix_-g0",
        "colab_type": "code",
        "colab": {}
      },
      "source": [
        "#x_test = test[:10000] #testing a small sample\n",
        "x_test = x_test.reset_index(drop=True)\n",
        "test_file = os.path.join('/content/drive/My Drive/FY_project/working', \"test.tf_record\")\n",
        "#filename = Path(train_file)\n",
        "if not os.path.exists(test_file):\n",
        "    open(test_file, 'w').close()\n",
        "\n",
        "test_examples = create_examples(x_test, False)"
      ],
      "execution_count": 0,
      "outputs": []
    },
    {
      "cell_type": "code",
      "metadata": {
        "id": "0yTfZUALABJl",
        "colab_type": "code",
        "outputId": "6fd6364b-dee5-4c44-e7c0-06764b028c24",
        "colab": {
          "base_uri": "https://localhost:8080/",
          "height": 51
        }
      },
      "source": [
        "%%time\n",
        "file_based_convert_examples_to_features(\n",
        "    test_examples, MAX_SEQ_LENGTH, tokenizer, test_file)"
      ],
      "execution_count": 0,
      "outputs": [
        {
          "output_type": "stream",
          "text": [
            "CPU times: user 21.7 s, sys: 0 ns, total: 21.7 s\n",
            "Wall time: 21.9 s\n"
          ],
          "name": "stdout"
        }
      ]
    },
    {
      "cell_type": "markdown",
      "metadata": {
        "id": "FOshM-iGADpx",
        "colab_type": "text"
      },
      "source": [
        "def input_fn_builder(features, seq_length, is_training, drop_remainder):\n",
        "  \"\"\"Creates an `input_fn` closure to be passed to TPUEstimator.\"\"\"\n",
        "\n",
        "  all_input_ids = []\n",
        "  all_input_mask = []\n",
        "  all_segment_ids = []\n",
        "  all_label_ids = []\n",
        "\n",
        "  for feature in features:\n",
        "    all_input_ids.append(feature.input_ids)\n",
        "    all_input_mask.append(feature.input_mask)\n",
        "    all_segment_ids.append(feature.segment_ids)\n",
        "    all_label_ids.append(feature.label_ids)\n",
        "\n",
        "  def input_fn(params):\n",
        "    \"\"\"The actual input function.\"\"\"\n",
        "    batch_size = params[\"batch_size\"]\n",
        "\n",
        "    num_examples = len(features)\n",
        "\n",
        "    # This is for demo purposes and does NOT scale to large data sets. We do\n",
        "    # not use Dataset.from_generator() because that uses tf.py_func which is\n",
        "    # not TPU compatible. The right way to load data is with TFRecordReader.\n",
        "    d = tf.data.Dataset.from_tensor_slices({\n",
        "        \"input_ids\":\n",
        "            tf.constant(\n",
        "                all_input_ids, shape=[num_examples, seq_length],\n",
        "                dtype=tf.int32),\n",
        "        \"input_mask\":\n",
        "            tf.constant(\n",
        "                all_input_mask,\n",
        "                shape=[num_examples, seq_length],\n",
        "                dtype=tf.int32),\n",
        "        \"segment_ids\":\n",
        "            tf.constant(\n",
        "                all_segment_ids,\n",
        "                shape=[num_examples, seq_length],\n",
        "                dtype=tf.int32),\n",
        "        \"label_ids\":\n",
        "            tf.constant(all_label_ids, shape=[num_examples, len(LABEL_COLUMNS)], dtype=tf.int32),\n",
        "    })\n",
        "\n",
        "    if is_training:\n",
        "      d = d.repeat()\n",
        "      d = d.shuffle(buffer_size=100)\n",
        "\n",
        "    d = d.batch(batch_size=batch_size, drop_remainder=drop_remainder)\n",
        "    return d\n",
        "\n",
        "  return input_fn"
      ]
    },
    {
      "cell_type": "code",
      "metadata": {
        "id": "VRfXxoJR8gtL",
        "colab_type": "code",
        "colab": {}
      },
      "source": [
        "predict_input_fn = file_based_input_fn_builder(\n",
        "    input_file=test_file,\n",
        "    seq_length=MAX_SEQ_LENGTH,\n",
        "    is_training=False,\n",
        "    drop_remainder=False)"
      ],
      "execution_count": 0,
      "outputs": []
    },
    {
      "cell_type": "code",
      "metadata": {
        "id": "R3uFrj2MAc59",
        "colab_type": "code",
        "outputId": "c8c879c4-e643-4bc1-9bd3-363316d9bf4a",
        "colab": {
          "base_uri": "https://localhost:8080/",
          "height": 68
        }
      },
      "source": [
        "%%time\n",
        "print('Begin predictions!')\n",
        "predictions = estimator.predict(predict_input_fn)"
      ],
      "execution_count": 0,
      "outputs": [
        {
          "output_type": "stream",
          "text": [
            "Begin predictions!\n",
            "CPU times: user 116 µs, sys: 0 ns, total: 116 µs\n",
            "Wall time: 83.9 µs\n"
          ],
          "name": "stdout"
        }
      ]
    },
    {
      "cell_type": "code",
      "metadata": {
        "id": "dHxO89O8Ae_A",
        "colab_type": "code",
        "colab": {}
      },
      "source": [
        "def create_output(predictions):\n",
        "    probabilities = []\n",
        "    for (i, prediction) in enumerate(predictions):\n",
        "        preds = prediction[\"probabilities\"]\n",
        "        probabilities.append(preds)\n",
        "    dff = pd.DataFrame(probabilities)\n",
        "    dff.columns = LABEL_COLUMNS\n",
        "    \n",
        "    return dff"
      ],
      "execution_count": 0,
      "outputs": []
    },
    {
      "cell_type": "code",
      "metadata": {
        "id": "8MA5szQmAlBi",
        "colab_type": "code",
        "outputId": "aa4c3aa8-80a6-436d-b7c4-9759fcb8ab06",
        "colab": {
          "base_uri": "https://localhost:8080/",
          "height": 224
        }
      },
      "source": [
        "output_df = create_output(predictions)\n",
        "merged_df =  pd.concat([x_test, output_df], axis=1)"
      ],
      "execution_count": 0,
      "outputs": [
        {
          "output_type": "stream",
          "text": [
            "WARNING:tensorflow:Entity <function file_based_input_fn_builder.<locals>.input_fn.<locals>.<lambda> at 0x7f654ca51d08> could not be transformed and will be executed as-is. Please report this to the AutoGraph team. When filing the bug, set the verbosity to 10 (on Linux, `export AUTOGRAPH_VERBOSITY=10`) and attach the full output. Cause: module 'gast' has no attribute 'Str'\n",
            "WARNING: Entity <function file_based_input_fn_builder.<locals>.input_fn.<locals>.<lambda> at 0x7f654ca51d08> could not be transformed and will be executed as-is. Please report this to the AutoGraph team. When filing the bug, set the verbosity to 10 (on Linux, `export AUTOGRAPH_VERBOSITY=10`) and attach the full output. Cause: module 'gast' has no attribute 'Str'\n",
            "INFO:tensorflow:Calling model_fn.\n",
            "INFO:tensorflow:num_labels:3;logits:Tensor(\"loss/BiasAdd:0\", shape=(?, 3), dtype=float32);labels:Tensor(\"loss/Cast:0\", shape=(?, 3), dtype=float32)\n",
            "INFO:tensorflow:**** Trainable Variables ****\n",
            "mode: infer probabilities: Tensor(\"loss/Sigmoid:0\", shape=(?, 3), dtype=float32)\n",
            "INFO:tensorflow:Done calling model_fn.\n",
            "INFO:tensorflow:Graph was finalized.\n",
            "INFO:tensorflow:Restoring parameters from /content/drive/My Drive/FY_project/working/output/model.ckpt-1309\n",
            "INFO:tensorflow:Running local_init_op.\n",
            "INFO:tensorflow:Done running local_init_op.\n"
          ],
          "name": "stdout"
        }
      ]
    },
    {
      "cell_type": "code",
      "metadata": {
        "id": "YXHQvcFItyvG",
        "colab_type": "code",
        "outputId": "97bb5313-ead5-4dd8-c8b2-43f9e9622dda",
        "colab": {
          "base_uri": "https://localhost:8080/",
          "height": 669
        }
      },
      "source": [
        "merged_df.head(20)"
      ],
      "execution_count": 0,
      "outputs": [
        {
          "output_type": "execute_result",
          "data": {
            "text/html": [
              "<div>\n",
              "<style scoped>\n",
              "    .dataframe tbody tr th:only-of-type {\n",
              "        vertical-align: middle;\n",
              "    }\n",
              "\n",
              "    .dataframe tbody tr th {\n",
              "        vertical-align: top;\n",
              "    }\n",
              "\n",
              "    .dataframe thead th {\n",
              "        text-align: right;\n",
              "    }\n",
              "</style>\n",
              "<table border=\"1\" class=\"dataframe\">\n",
              "  <thead>\n",
              "    <tr style=\"text-align: right;\">\n",
              "      <th></th>\n",
              "      <th>id</th>\n",
              "      <th>merged</th>\n",
              "      <th>bug</th>\n",
              "      <th>enhancement</th>\n",
              "      <th>question</th>\n",
              "    </tr>\n",
              "  </thead>\n",
              "  <tbody>\n",
              "    <tr>\n",
              "      <th>0</th>\n",
              "      <td>41890</td>\n",
              "      <td>bug shield agent can t trust system cert pool ...</td>\n",
              "      <td>0.932601</td>\n",
              "      <td>0.049512</td>\n",
              "      <td>0.039613</td>\n",
              "    </tr>\n",
              "    <tr>\n",
              "      <th>1</th>\n",
              "      <td>41891</td>\n",
              "      <td>don t show empty lines in com ports list with ...</td>\n",
              "      <td>0.599995</td>\n",
              "      <td>0.530055</td>\n",
              "      <td>0.026460</td>\n",
              "    </tr>\n",
              "    <tr>\n",
              "      <th>2</th>\n",
              "      <td>41892</td>\n",
              "      <td>internal visit transaction does not work with ...</td>\n",
              "      <td>0.922570</td>\n",
              "      <td>0.040936</td>\n",
              "      <td>0.072367</td>\n",
              "    </tr>\n",
              "    <tr>\n",
              "      <th>3</th>\n",
              "      <td>41893</td>\n",
              "      <td>split psikit sapt class into two files i belie...</td>\n",
              "      <td>0.038733</td>\n",
              "      <td>0.862259</td>\n",
              "      <td>0.146120</td>\n",
              "    </tr>\n",
              "    <tr>\n",
              "      <th>4</th>\n",
              "      <td>41894</td>\n",
              "      <td>websocket</td>\n",
              "      <td>0.110324</td>\n",
              "      <td>0.833688</td>\n",
              "      <td>0.094167</td>\n",
              "    </tr>\n",
              "    <tr>\n",
              "      <th>5</th>\n",
              "      <td>41895</td>\n",
              "      <td>inline in application help right now the build...</td>\n",
              "      <td>0.025717</td>\n",
              "      <td>0.932018</td>\n",
              "      <td>0.074329</td>\n",
              "    </tr>\n",
              "    <tr>\n",
              "      <th>6</th>\n",
              "      <td>41896</td>\n",
              "      <td>gossip update neighbor structure some fields a...</td>\n",
              "      <td>0.633699</td>\n",
              "      <td>0.539619</td>\n",
              "      <td>0.026302</td>\n",
              "    </tr>\n",
              "    <tr>\n",
              "      <th>7</th>\n",
              "      <td>41897</td>\n",
              "      <td>error when i open integrated terminal in liunx...</td>\n",
              "      <td>0.298825</td>\n",
              "      <td>0.038259</td>\n",
              "      <td>0.714678</td>\n",
              "    </tr>\n",
              "    <tr>\n",
              "      <th>8</th>\n",
              "      <td>41898</td>\n",
              "      <td>is it possible to cache images on host i m tes...</td>\n",
              "      <td>0.028838</td>\n",
              "      <td>0.080696</td>\n",
              "      <td>0.931712</td>\n",
              "    </tr>\n",
              "    <tr>\n",
              "      <th>9</th>\n",
              "      <td>41899</td>\n",
              "      <td>add updates section to homepage disc app homep...</td>\n",
              "      <td>0.031592</td>\n",
              "      <td>0.963819</td>\n",
              "      <td>0.029980</td>\n",
              "    </tr>\n",
              "    <tr>\n",
              "      <th>10</th>\n",
              "      <td>41900</td>\n",
              "      <td>add bibtex tidy support to format and sort bib...</td>\n",
              "      <td>0.013359</td>\n",
              "      <td>0.956722</td>\n",
              "      <td>0.068266</td>\n",
              "    </tr>\n",
              "    <tr>\n",
              "      <th>11</th>\n",
              "      <td>41901</td>\n",
              "      <td>implement checksum generation verification we ...</td>\n",
              "      <td>0.027461</td>\n",
              "      <td>0.961633</td>\n",
              "      <td>0.036039</td>\n",
              "    </tr>\n",
              "    <tr>\n",
              "      <th>12</th>\n",
              "      <td>41902</td>\n",
              "      <td>level something create a level in unity with a...</td>\n",
              "      <td>0.026652</td>\n",
              "      <td>0.935206</td>\n",
              "      <td>0.052549</td>\n",
              "    </tr>\n",
              "    <tr>\n",
              "      <th>13</th>\n",
              "      <td>41903</td>\n",
              "      <td>how to use pagedown html feature to print tabl...</td>\n",
              "      <td>0.008863</td>\n",
              "      <td>0.517229</td>\n",
              "      <td>0.662421</td>\n",
              "    </tr>\n",
              "    <tr>\n",
              "      <th>14</th>\n",
              "      <td>41904</td>\n",
              "      <td>profil link zeigt auf falsche seite wenn ich m...</td>\n",
              "      <td>0.444419</td>\n",
              "      <td>0.330647</td>\n",
              "      <td>0.273077</td>\n",
              "    </tr>\n",
              "    <tr>\n",
              "      <th>15</th>\n",
              "      <td>41905</td>\n",
              "      <td>taken to unknown thread after joining after ac...</td>\n",
              "      <td>0.915095</td>\n",
              "      <td>0.036459</td>\n",
              "      <td>0.062933</td>\n",
              "    </tr>\n",
              "    <tr>\n",
              "      <th>16</th>\n",
              "      <td>41906</td>\n",
              "      <td>log in</td>\n",
              "      <td>0.184482</td>\n",
              "      <td>0.779154</td>\n",
              "      <td>0.101683</td>\n",
              "    </tr>\n",
              "    <tr>\n",
              "      <th>17</th>\n",
              "      <td>41907</td>\n",
              "      <td>getattribute crashes for double types if attri...</td>\n",
              "      <td>0.965779</td>\n",
              "      <td>0.048506</td>\n",
              "      <td>0.018644</td>\n",
              "    </tr>\n",
              "    <tr>\n",
              "      <th>18</th>\n",
              "      <td>41908</td>\n",
              "      <td>getclientboundingrect method should return a s...</td>\n",
              "      <td>0.476769</td>\n",
              "      <td>0.655581</td>\n",
              "      <td>0.040718</td>\n",
              "    </tr>\n",
              "    <tr>\n",
              "      <th>19</th>\n",
              "      <td>41909</td>\n",
              "      <td>new players spawning for the first time on the...</td>\n",
              "      <td>0.792760</td>\n",
              "      <td>0.049402</td>\n",
              "      <td>0.184620</td>\n",
              "    </tr>\n",
              "  </tbody>\n",
              "</table>\n",
              "</div>"
            ],
            "text/plain": [
              "       id                                             merged       bug  \\\n",
              "0   41890  bug shield agent can t trust system cert pool ...  0.932601   \n",
              "1   41891  don t show empty lines in com ports list with ...  0.599995   \n",
              "2   41892  internal visit transaction does not work with ...  0.922570   \n",
              "3   41893  split psikit sapt class into two files i belie...  0.038733   \n",
              "4   41894                                         websocket   0.110324   \n",
              "5   41895  inline in application help right now the build...  0.025717   \n",
              "6   41896  gossip update neighbor structure some fields a...  0.633699   \n",
              "7   41897  error when i open integrated terminal in liunx...  0.298825   \n",
              "8   41898  is it possible to cache images on host i m tes...  0.028838   \n",
              "9   41899  add updates section to homepage disc app homep...  0.031592   \n",
              "10  41900  add bibtex tidy support to format and sort bib...  0.013359   \n",
              "11  41901  implement checksum generation verification we ...  0.027461   \n",
              "12  41902  level something create a level in unity with a...  0.026652   \n",
              "13  41903  how to use pagedown html feature to print tabl...  0.008863   \n",
              "14  41904  profil link zeigt auf falsche seite wenn ich m...  0.444419   \n",
              "15  41905  taken to unknown thread after joining after ac...  0.915095   \n",
              "16  41906                                            log in   0.184482   \n",
              "17  41907  getattribute crashes for double types if attri...  0.965779   \n",
              "18  41908  getclientboundingrect method should return a s...  0.476769   \n",
              "19  41909  new players spawning for the first time on the...  0.792760   \n",
              "\n",
              "    enhancement  question  \n",
              "0      0.049512  0.039613  \n",
              "1      0.530055  0.026460  \n",
              "2      0.040936  0.072367  \n",
              "3      0.862259  0.146120  \n",
              "4      0.833688  0.094167  \n",
              "5      0.932018  0.074329  \n",
              "6      0.539619  0.026302  \n",
              "7      0.038259  0.714678  \n",
              "8      0.080696  0.931712  \n",
              "9      0.963819  0.029980  \n",
              "10     0.956722  0.068266  \n",
              "11     0.961633  0.036039  \n",
              "12     0.935206  0.052549  \n",
              "13     0.517229  0.662421  \n",
              "14     0.330647  0.273077  \n",
              "15     0.036459  0.062933  \n",
              "16     0.779154  0.101683  \n",
              "17     0.048506  0.018644  \n",
              "18     0.655581  0.040718  \n",
              "19     0.049402  0.184620  "
            ]
          },
          "metadata": {
            "tags": []
          },
          "execution_count": 112
        }
      ]
    },
    {
      "cell_type": "code",
      "metadata": {
        "id": "lVvizRfyU-XI",
        "colab_type": "code",
        "outputId": "84c113d9-b781-406a-83ae-19bda6ae6285",
        "colab": {
          "base_uri": "https://localhost:8080/",
          "height": 669
        }
      },
      "source": [
        "x_test.head(20)"
      ],
      "execution_count": 0,
      "outputs": [
        {
          "output_type": "execute_result",
          "data": {
            "text/html": [
              "<div>\n",
              "<style scoped>\n",
              "    .dataframe tbody tr th:only-of-type {\n",
              "        vertical-align: middle;\n",
              "    }\n",
              "\n",
              "    .dataframe tbody tr th {\n",
              "        vertical-align: top;\n",
              "    }\n",
              "\n",
              "    .dataframe thead th {\n",
              "        text-align: right;\n",
              "    }\n",
              "</style>\n",
              "<table border=\"1\" class=\"dataframe\">\n",
              "  <thead>\n",
              "    <tr style=\"text-align: right;\">\n",
              "      <th></th>\n",
              "      <th>id</th>\n",
              "      <th>merged</th>\n",
              "    </tr>\n",
              "  </thead>\n",
              "  <tbody>\n",
              "    <tr>\n",
              "      <th>0</th>\n",
              "      <td>41890</td>\n",
              "      <td>bug shield agent can t trust system cert pool ...</td>\n",
              "    </tr>\n",
              "    <tr>\n",
              "      <th>1</th>\n",
              "      <td>41891</td>\n",
              "      <td>don t show empty lines in com ports list with ...</td>\n",
              "    </tr>\n",
              "    <tr>\n",
              "      <th>2</th>\n",
              "      <td>41892</td>\n",
              "      <td>internal visit transaction does not work with ...</td>\n",
              "    </tr>\n",
              "    <tr>\n",
              "      <th>3</th>\n",
              "      <td>41893</td>\n",
              "      <td>split psikit sapt class into two files i belie...</td>\n",
              "    </tr>\n",
              "    <tr>\n",
              "      <th>4</th>\n",
              "      <td>41894</td>\n",
              "      <td>websocket</td>\n",
              "    </tr>\n",
              "    <tr>\n",
              "      <th>5</th>\n",
              "      <td>41895</td>\n",
              "      <td>inline in application help right now the build...</td>\n",
              "    </tr>\n",
              "    <tr>\n",
              "      <th>6</th>\n",
              "      <td>41896</td>\n",
              "      <td>gossip update neighbor structure some fields a...</td>\n",
              "    </tr>\n",
              "    <tr>\n",
              "      <th>7</th>\n",
              "      <td>41897</td>\n",
              "      <td>error when i open integrated terminal in liunx...</td>\n",
              "    </tr>\n",
              "    <tr>\n",
              "      <th>8</th>\n",
              "      <td>41898</td>\n",
              "      <td>is it possible to cache images on host i m tes...</td>\n",
              "    </tr>\n",
              "    <tr>\n",
              "      <th>9</th>\n",
              "      <td>41899</td>\n",
              "      <td>add updates section to homepage disc app homep...</td>\n",
              "    </tr>\n",
              "    <tr>\n",
              "      <th>10</th>\n",
              "      <td>41900</td>\n",
              "      <td>add bibtex tidy support to format and sort bib...</td>\n",
              "    </tr>\n",
              "    <tr>\n",
              "      <th>11</th>\n",
              "      <td>41901</td>\n",
              "      <td>implement checksum generation verification we ...</td>\n",
              "    </tr>\n",
              "    <tr>\n",
              "      <th>12</th>\n",
              "      <td>41902</td>\n",
              "      <td>level something create a level in unity with a...</td>\n",
              "    </tr>\n",
              "    <tr>\n",
              "      <th>13</th>\n",
              "      <td>41903</td>\n",
              "      <td>how to use pagedown html feature to print tabl...</td>\n",
              "    </tr>\n",
              "    <tr>\n",
              "      <th>14</th>\n",
              "      <td>41904</td>\n",
              "      <td>profil link zeigt auf falsche seite wenn ich m...</td>\n",
              "    </tr>\n",
              "    <tr>\n",
              "      <th>15</th>\n",
              "      <td>41905</td>\n",
              "      <td>taken to unknown thread after joining after ac...</td>\n",
              "    </tr>\n",
              "    <tr>\n",
              "      <th>16</th>\n",
              "      <td>41906</td>\n",
              "      <td>log in</td>\n",
              "    </tr>\n",
              "    <tr>\n",
              "      <th>17</th>\n",
              "      <td>41907</td>\n",
              "      <td>getattribute crashes for double types if attri...</td>\n",
              "    </tr>\n",
              "    <tr>\n",
              "      <th>18</th>\n",
              "      <td>41908</td>\n",
              "      <td>getclientboundingrect method should return a s...</td>\n",
              "    </tr>\n",
              "    <tr>\n",
              "      <th>19</th>\n",
              "      <td>41909</td>\n",
              "      <td>new players spawning for the first time on the...</td>\n",
              "    </tr>\n",
              "  </tbody>\n",
              "</table>\n",
              "</div>"
            ],
            "text/plain": [
              "       id                                             merged\n",
              "0   41890  bug shield agent can t trust system cert pool ...\n",
              "1   41891  don t show empty lines in com ports list with ...\n",
              "2   41892  internal visit transaction does not work with ...\n",
              "3   41893  split psikit sapt class into two files i belie...\n",
              "4   41894                                         websocket \n",
              "5   41895  inline in application help right now the build...\n",
              "6   41896  gossip update neighbor structure some fields a...\n",
              "7   41897  error when i open integrated terminal in liunx...\n",
              "8   41898  is it possible to cache images on host i m tes...\n",
              "9   41899  add updates section to homepage disc app homep...\n",
              "10  41900  add bibtex tidy support to format and sort bib...\n",
              "11  41901  implement checksum generation verification we ...\n",
              "12  41902  level something create a level in unity with a...\n",
              "13  41903  how to use pagedown html feature to print tabl...\n",
              "14  41904  profil link zeigt auf falsche seite wenn ich m...\n",
              "15  41905  taken to unknown thread after joining after ac...\n",
              "16  41906                                            log in \n",
              "17  41907  getattribute crashes for double types if attri...\n",
              "18  41908  getclientboundingrect method should return a s...\n",
              "19  41909  new players spawning for the first time on the..."
            ]
          },
          "metadata": {
            "tags": []
          },
          "execution_count": 113
        }
      ]
    },
    {
      "cell_type": "code",
      "metadata": {
        "id": "I5pK9lJ4WSNq",
        "colab_type": "code",
        "colab": {}
      },
      "source": [
        "merged_df.to_csv('/content/drive/My Drive/FY_project/dataset/bert_predicted2.csv', index=False)"
      ],
      "execution_count": 0,
      "outputs": []
    },
    {
      "cell_type": "code",
      "metadata": {
        "id": "N5IoLUmFbyaI",
        "colab_type": "code",
        "colab": {}
      },
      "source": [
        "x_val.to_csv('/content/drive/My Drive/FY_project/dataset/bert_check2.csv', index=False)"
      ],
      "execution_count": 0,
      "outputs": []
    }
  ]
}