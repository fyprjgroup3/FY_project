{
  "nbformat": 4,
  "nbformat_minor": 0,
  "metadata": {
    "kernelspec": {
      "display_name": "Python 3",
      "language": "python",
      "name": "python3"
    },
    "language_info": {
      "codemirror_mode": {
        "name": "ipython",
        "version": 3
      },
      "file_extension": ".py",
      "mimetype": "text/x-python",
      "name": "python",
      "nbconvert_exporter": "python",
      "pygments_lexer": "ipython3",
      "version": "3.6.5"
    },
    "colab": {
      "name": "fyproject.ipynb",
      "provenance": []
    }
  },
  "cells": [
    {
      "cell_type": "markdown",
      "metadata": {
        "id": "avSo2o1uxh1N",
        "colab_type": "text"
      },
      "source": [
        "### <a id='Getting Data Ready2'>1. Getting Data Ready</a>"
      ]
    },
    {
      "cell_type": "code",
      "metadata": {
        "id": "YRqINTgvxh1Q",
        "colab_type": "code",
        "colab": {}
      },
      "source": [
        "import pandas as pd\n",
        "import json\n",
        "import re"
      ],
      "execution_count": 0,
      "outputs": []
    },
    {
      "cell_type": "code",
      "metadata": {
        "id": "szt3OFj7xh1T",
        "colab_type": "code",
        "colab": {},
        "outputId": "50ff4a2a-a72d-4a7c-9035-65340603305f"
      },
      "source": [
        "try:\n",
        "    data = pd.read_csv('E:\\yearproject.csv')\n",
        "    print('File successfully loaded into the DataFrame..')\n",
        "except:\n",
        "    print(\"File not found...\")"
      ],
      "execution_count": 0,
      "outputs": [
        {
          "output_type": "stream",
          "text": [
            "File successfully loaded into the DataFrame..\n"
          ],
          "name": "stdout"
        }
      ]
    },
    {
      "cell_type": "code",
      "metadata": {
        "id": "xFrwvpc9xh1W",
        "colab_type": "code",
        "colab": {},
        "outputId": "20aeb1e7-9e35-44b3-9562-16ebbc06e098"
      },
      "source": [
        "data.columns"
      ],
      "execution_count": 0,
      "outputs": [
        {
          "output_type": "execute_result",
          "data": {
            "text/plain": [
              "Index(['action', 'url', 'title', 'body', 'labels'], dtype='object')"
            ]
          },
          "metadata": {
            "tags": []
          },
          "execution_count": 3
        }
      ]
    },
    {
      "cell_type": "code",
      "metadata": {
        "id": "6RqzGwP2xh1Z",
        "colab_type": "code",
        "colab": {},
        "outputId": "1f440214-8456-4f05-bcf6-3f47466c8c57"
      },
      "source": [
        "data.count()"
      ],
      "execution_count": 0,
      "outputs": [
        {
          "output_type": "execute_result",
          "data": {
            "text/plain": [
              "action    7964\n",
              "url       7964\n",
              "title     7964\n",
              "body      7920\n",
              "labels    7964\n",
              "dtype: int64"
            ]
          },
          "metadata": {
            "tags": []
          },
          "execution_count": 4
        }
      ]
    },
    {
      "cell_type": "code",
      "metadata": {
        "id": "SWXDpHgkxh1b",
        "colab_type": "code",
        "colab": {},
        "outputId": "a2e07031-bb56-4e5c-cf3c-1b0aeba3520a"
      },
      "source": [
        "data.head(3)"
      ],
      "execution_count": 0,
      "outputs": [
        {
          "output_type": "execute_result",
          "data": {
            "text/html": [
              "<div>\n",
              "<style scoped>\n",
              "    .dataframe tbody tr th:only-of-type {\n",
              "        vertical-align: middle;\n",
              "    }\n",
              "\n",
              "    .dataframe tbody tr th {\n",
              "        vertical-align: top;\n",
              "    }\n",
              "\n",
              "    .dataframe thead th {\n",
              "        text-align: right;\n",
              "    }\n",
              "</style>\n",
              "<table border=\"1\" class=\"dataframe\">\n",
              "  <thead>\n",
              "    <tr style=\"text-align: right;\">\n",
              "      <th></th>\n",
              "      <th>action</th>\n",
              "      <th>url</th>\n",
              "      <th>title</th>\n",
              "      <th>body</th>\n",
              "      <th>labels</th>\n",
              "    </tr>\n",
              "  </thead>\n",
              "  <tbody>\n",
              "    <tr>\n",
              "      <th>0</th>\n",
              "      <td>\"closed\"</td>\n",
              "      <td>\"https://github.com/Microsoft/vcpkg/issues/4548\"</td>\n",
              "      <td>\"Error: Building package zlib:x64-windows-stat...</td>\n",
              "      <td>\"\\r\\nPackage: zlib:x64-windows-static\\r\\nVcpkg...</td>\n",
              "      <td>[{\"id\":455857191,\"node_id\":\"MDU6TGFiZWw0NTU4NT...</td>\n",
              "    </tr>\n",
              "    <tr>\n",
              "      <th>1</th>\n",
              "      <td>\"closed\"</td>\n",
              "      <td>\"https://github.com/primefaces/primeng/issues/...</td>\n",
              "      <td>\"Pagination bug when removing an item\"</td>\n",
              "      <td>\"Reported by a PRO user;\\r\\n\\r\\n&gt; If for exemp...</td>\n",
              "      <td>[{\"id\":312160661,\"node_id\":\"MDU6TGFiZWwzMTIxNj...</td>\n",
              "    </tr>\n",
              "    <tr>\n",
              "      <th>2</th>\n",
              "      <td>\"closed\"</td>\n",
              "      <td>\"https://github.com/zen-kernel/zen-kernel/issu...</td>\n",
              "      <td>\"bfq error\"</td>\n",
              "      <td>\"Hi, Steven/\\r\\nAfter last update today &gt;git f...</td>\n",
              "      <td>[]</td>\n",
              "    </tr>\n",
              "  </tbody>\n",
              "</table>\n",
              "</div>"
            ],
            "text/plain": [
              "     action                                                url  \\\n",
              "0  \"closed\"   \"https://github.com/Microsoft/vcpkg/issues/4548\"   \n",
              "1  \"closed\"  \"https://github.com/primefaces/primeng/issues/...   \n",
              "2  \"closed\"  \"https://github.com/zen-kernel/zen-kernel/issu...   \n",
              "\n",
              "                                               title  \\\n",
              "0  \"Error: Building package zlib:x64-windows-stat...   \n",
              "1             \"Pagination bug when removing an item\"   \n",
              "2                                        \"bfq error\"   \n",
              "\n",
              "                                                body  \\\n",
              "0  \"\\r\\nPackage: zlib:x64-windows-static\\r\\nVcpkg...   \n",
              "1  \"Reported by a PRO user;\\r\\n\\r\\n> If for exemp...   \n",
              "2  \"Hi, Steven/\\r\\nAfter last update today >git f...   \n",
              "\n",
              "                                              labels  \n",
              "0  [{\"id\":455857191,\"node_id\":\"MDU6TGFiZWw0NTU4NT...  \n",
              "1  [{\"id\":312160661,\"node_id\":\"MDU6TGFiZWwzMTIxNj...  \n",
              "2                                                 []  "
            ]
          },
          "metadata": {
            "tags": []
          },
          "execution_count": 5
        }
      ]
    },
    {
      "cell_type": "code",
      "metadata": {
        "id": "4F3Hfg6mxh1d",
        "colab_type": "code",
        "colab": {},
        "outputId": "e4a15a89-bb3a-433f-ac88-a4a1b0060fcb"
      },
      "source": [
        "data.shape"
      ],
      "execution_count": 0,
      "outputs": [
        {
          "output_type": "execute_result",
          "data": {
            "text/plain": [
              "(7964, 5)"
            ]
          },
          "metadata": {
            "tags": []
          },
          "execution_count": 6
        }
      ]
    },
    {
      "cell_type": "markdown",
      "metadata": {
        "id": "VFZO8coIxh1f",
        "colab_type": "text"
      },
      "source": [
        "### <a id='Data Cleaning and Munging'>2. Data Cleaning and Munging</a>"
      ]
    },
    {
      "cell_type": "code",
      "metadata": {
        "id": "2IPi3paDxh1g",
        "colab_type": "code",
        "colab": {},
        "outputId": "7936d692-6583-42eb-8550-23fa44b63906"
      },
      "source": [
        "print(\"Null values in:\")\n",
        "data.isnull().sum()"
      ],
      "execution_count": 0,
      "outputs": [
        {
          "output_type": "stream",
          "text": [
            "Null values in:\n"
          ],
          "name": "stdout"
        },
        {
          "output_type": "execute_result",
          "data": {
            "text/plain": [
              "action     0\n",
              "url        0\n",
              "title      0\n",
              "body      44\n",
              "labels     0\n",
              "dtype: int64"
            ]
          },
          "metadata": {
            "tags": []
          },
          "execution_count": 7
        }
      ]
    },
    {
      "cell_type": "code",
      "metadata": {
        "id": "x7FWNlh2xh1j",
        "colab_type": "code",
        "colab": {}
      },
      "source": [
        "data.dropna(inplace=True)"
      ],
      "execution_count": 0,
      "outputs": []
    },
    {
      "cell_type": "code",
      "metadata": {
        "id": "34u3mC_Cxh19",
        "colab_type": "code",
        "colab": {},
        "outputId": "48f01373-5fbb-431d-fb7f-be26027633d6"
      },
      "source": [
        "data.shape"
      ],
      "execution_count": 0,
      "outputs": [
        {
          "output_type": "execute_result",
          "data": {
            "text/plain": [
              "(7920, 5)"
            ]
          },
          "metadata": {
            "tags": []
          },
          "execution_count": 9
        }
      ]
    },
    {
      "cell_type": "markdown",
      "metadata": {
        "id": "zmzInzEPxh1_",
        "colab_type": "text"
      },
      "source": [
        "### 3.2 Dealing with duplicates in the data set"
      ]
    },
    {
      "cell_type": "code",
      "metadata": {
        "scrolled": true,
        "id": "2MSqPJVExh2A",
        "colab_type": "code",
        "colab": {},
        "outputId": "7705704b-1ea5-4ecf-f139-e453606e818f"
      },
      "source": [
        "print('The no. of duplicates in the data are',data.duplicated().sum())"
      ],
      "execution_count": 0,
      "outputs": [
        {
          "output_type": "stream",
          "text": [
            "The no. of duplicates in the data are 3\n"
          ],
          "name": "stdout"
        }
      ]
    },
    {
      "cell_type": "code",
      "metadata": {
        "id": "IOB6jpo0xh2D",
        "colab_type": "code",
        "colab": {}
      },
      "source": [
        "data.drop_duplicates(inplace=True)"
      ],
      "execution_count": 0,
      "outputs": []
    },
    {
      "cell_type": "code",
      "metadata": {
        "id": "GiKqOZjVxh2F",
        "colab_type": "code",
        "colab": {},
        "outputId": "c3f12a7e-67dd-4774-beff-5e7af9b5c689"
      },
      "source": [
        "data.isnull().sum()"
      ],
      "execution_count": 0,
      "outputs": [
        {
          "output_type": "execute_result",
          "data": {
            "text/plain": [
              "action    0\n",
              "url       0\n",
              "title     0\n",
              "body      0\n",
              "labels    0\n",
              "dtype: int64"
            ]
          },
          "metadata": {
            "tags": []
          },
          "execution_count": 12
        }
      ]
    },
    {
      "cell_type": "code",
      "metadata": {
        "id": "sDwPMKUaxh2H",
        "colab_type": "code",
        "colab": {},
        "outputId": "1bd0cb4e-cd02-47ef-bdbe-98e7771a42e9"
      },
      "source": [
        "data.shape"
      ],
      "execution_count": 0,
      "outputs": [
        {
          "output_type": "execute_result",
          "data": {
            "text/plain": [
              "(7917, 5)"
            ]
          },
          "metadata": {
            "tags": []
          },
          "execution_count": 13
        }
      ]
    },
    {
      "cell_type": "markdown",
      "metadata": {
        "id": "nQDPi7ohxh2L",
        "colab_type": "text"
      },
      "source": [
        "### <a id='Data Analysis'>2. Data Analysis</a>"
      ]
    },
    {
      "cell_type": "code",
      "metadata": {
        "id": "ZQ4UmEk_xh2M",
        "colab_type": "code",
        "colab": {},
        "outputId": "3eec94f0-2038-439f-f5ac-1eee4c934e04"
      },
      "source": [
        "closed=data[data['action']==\"\\\"closed\\\"\"]\n",
        "len(closed)"
      ],
      "execution_count": 0,
      "outputs": [
        {
          "output_type": "execute_result",
          "data": {
            "text/plain": [
              "7917"
            ]
          },
          "metadata": {
            "tags": []
          },
          "execution_count": 14
        }
      ]
    },
    {
      "cell_type": "markdown",
      "metadata": {
        "id": "hPBtIZH1xh2O",
        "colab_type": "text"
      },
      "source": [
        "**ALL CLOSED ISSUES**"
      ]
    },
    {
      "cell_type": "code",
      "metadata": {
        "id": "JIB3LJEJxh2P",
        "colab_type": "code",
        "colab": {}
      },
      "source": [
        "#Removing url and action columns\n",
        "data=data[[\"title\",\"body\",\"labels\"]]"
      ],
      "execution_count": 0,
      "outputs": []
    },
    {
      "cell_type": "code",
      "metadata": {
        "id": "NAvyL3qQxh2T",
        "colab_type": "code",
        "colab": {}
      },
      "source": [
        "labeled=data[data['labels']!='[]']\n",
        "unlabeled=data[data['labels']=='[]']"
      ],
      "execution_count": 0,
      "outputs": []
    },
    {
      "cell_type": "code",
      "metadata": {
        "id": "gJ6MYQp4xh2V",
        "colab_type": "code",
        "colab": {},
        "outputId": "0beffc89-362f-40d6-e07b-d7e7483c6ed4"
      },
      "source": [
        "labeled.shape"
      ],
      "execution_count": 0,
      "outputs": [
        {
          "output_type": "execute_result",
          "data": {
            "text/plain": [
              "(4063, 3)"
            ]
          },
          "metadata": {
            "tags": []
          },
          "execution_count": 17
        }
      ]
    },
    {
      "cell_type": "code",
      "metadata": {
        "id": "HV8PB9Caxh2X",
        "colab_type": "code",
        "colab": {},
        "outputId": "1bff21e6-16aa-4b4c-98ae-cc99b3acdf69"
      },
      "source": [
        "unlabeled.shape"
      ],
      "execution_count": 0,
      "outputs": [
        {
          "output_type": "execute_result",
          "data": {
            "text/plain": [
              "(3854, 3)"
            ]
          },
          "metadata": {
            "tags": []
          },
          "execution_count": 18
        }
      ]
    },
    {
      "cell_type": "code",
      "metadata": {
        "id": "qG3XDrx-xh2b",
        "colab_type": "code",
        "colab": {},
        "outputId": "15d31515-8f5f-4930-e3e2-44ba34f42c80"
      },
      "source": [
        "labeled.head()"
      ],
      "execution_count": 0,
      "outputs": [
        {
          "output_type": "execute_result",
          "data": {
            "text/html": [
              "<div>\n",
              "<style scoped>\n",
              "    .dataframe tbody tr th:only-of-type {\n",
              "        vertical-align: middle;\n",
              "    }\n",
              "\n",
              "    .dataframe tbody tr th {\n",
              "        vertical-align: top;\n",
              "    }\n",
              "\n",
              "    .dataframe thead th {\n",
              "        text-align: right;\n",
              "    }\n",
              "</style>\n",
              "<table border=\"1\" class=\"dataframe\">\n",
              "  <thead>\n",
              "    <tr style=\"text-align: right;\">\n",
              "      <th></th>\n",
              "      <th>title</th>\n",
              "      <th>body</th>\n",
              "      <th>labels</th>\n",
              "    </tr>\n",
              "  </thead>\n",
              "  <tbody>\n",
              "    <tr>\n",
              "      <th>0</th>\n",
              "      <td>\"Error: Building package zlib:x64-windows-stat...</td>\n",
              "      <td>\"\\r\\nPackage: zlib:x64-windows-static\\r\\nVcpkg...</td>\n",
              "      <td>[{\"id\":455857191,\"node_id\":\"MDU6TGFiZWw0NTU4NT...</td>\n",
              "    </tr>\n",
              "    <tr>\n",
              "      <th>1</th>\n",
              "      <td>\"Pagination bug when removing an item\"</td>\n",
              "      <td>\"Reported by a PRO user;\\r\\n\\r\\n&gt; If for exemp...</td>\n",
              "      <td>[{\"id\":312160661,\"node_id\":\"MDU6TGFiZWwzMTIxNj...</td>\n",
              "    </tr>\n",
              "    <tr>\n",
              "      <th>4</th>\n",
              "      <td>\"Helm podAntiAffinity templating error\"</td>\n",
              "      <td>\"**Describe the bug**\\r\\n\\r\\nHelm charts fail ...</td>\n",
              "      <td>[{\"id\":670442116,\"node_id\":\"MDU6TGFiZWw2NzA0ND...</td>\n",
              "    </tr>\n",
              "    <tr>\n",
              "      <th>5</th>\n",
              "      <td>\"[0.5][Tradingview] Quick Chart resize does no...</td>\n",
              "      <td>\"**Describe the bug**\\r\\nThe up and down arrow...</td>\n",
              "      <td>[{\"id\":1089646255,\"node_id\":\"MDU6TGFiZWwxMDg5N...</td>\n",
              "    </tr>\n",
              "    <tr>\n",
              "      <th>6</th>\n",
              "      <td>\"Upgrade isort\"</td>\n",
              "      <td>\"We are using 4.3.4 but [isort[(https://pypi.o...</td>\n",
              "      <td>[{\"id\":717069763,\"node_id\":\"MDU6TGFiZWw3MTcwNj...</td>\n",
              "    </tr>\n",
              "  </tbody>\n",
              "</table>\n",
              "</div>"
            ],
            "text/plain": [
              "                                               title  \\\n",
              "0  \"Error: Building package zlib:x64-windows-stat...   \n",
              "1             \"Pagination bug when removing an item\"   \n",
              "4            \"Helm podAntiAffinity templating error\"   \n",
              "5  \"[0.5][Tradingview] Quick Chart resize does no...   \n",
              "6                                    \"Upgrade isort\"   \n",
              "\n",
              "                                                body  \\\n",
              "0  \"\\r\\nPackage: zlib:x64-windows-static\\r\\nVcpkg...   \n",
              "1  \"Reported by a PRO user;\\r\\n\\r\\n> If for exemp...   \n",
              "4  \"**Describe the bug**\\r\\n\\r\\nHelm charts fail ...   \n",
              "5  \"**Describe the bug**\\r\\nThe up and down arrow...   \n",
              "6  \"We are using 4.3.4 but [isort[(https://pypi.o...   \n",
              "\n",
              "                                              labels  \n",
              "0  [{\"id\":455857191,\"node_id\":\"MDU6TGFiZWw0NTU4NT...  \n",
              "1  [{\"id\":312160661,\"node_id\":\"MDU6TGFiZWwzMTIxNj...  \n",
              "4  [{\"id\":670442116,\"node_id\":\"MDU6TGFiZWw2NzA0ND...  \n",
              "5  [{\"id\":1089646255,\"node_id\":\"MDU6TGFiZWwxMDg5N...  \n",
              "6  [{\"id\":717069763,\"node_id\":\"MDU6TGFiZWw3MTcwNj...  "
            ]
          },
          "metadata": {
            "tags": []
          },
          "execution_count": 19
        }
      ]
    },
    {
      "cell_type": "code",
      "metadata": {
        "id": "S50Gcz20xh2l",
        "colab_type": "code",
        "colab": {},
        "outputId": "45bcac72-ba1c-40d3-bd66-f8dd5008e15a"
      },
      "source": [
        "json.loads(labeled['labels'][5])"
      ],
      "execution_count": 0,
      "outputs": [
        {
          "output_type": "execute_result",
          "data": {
            "text/plain": [
              "[{'id': 1089646255,\n",
              "  'node_id': 'MDU6TGFiZWwxMDg5NjQ2MjU1',\n",
              "  'url': 'https://api.github.com/repos/bitshares/bitshares-ui/labels/[1b]%20User%20Story',\n",
              "  'name': '[1b] User Story',\n",
              "  'color': 'b8e4fc',\n",
              "  'default': False},\n",
              " {'id': 272058720,\n",
              "  'node_id': 'MDU6TGFiZWwyNzIwNTg3MjA=',\n",
              "  'url': 'https://api.github.com/repos/bitshares/bitshares-ui/labels/[3]%20Bug',\n",
              "  'name': '[3] Bug',\n",
              "  'color': 'b60205',\n",
              "  'default': False},\n",
              " {'id': 522016380,\n",
              "  'node_id': 'MDU6TGFiZWw1MjIwMTYzODA=',\n",
              "  'url': 'https://api.github.com/repos/bitshares/bitshares-ui/labels/[4c]%20High%20Priority',\n",
              "  'name': '[4c] High Priority',\n",
              "  'color': 'fbca04',\n",
              "  'default': False},\n",
              " {'id': 1089668332,\n",
              "  'node_id': 'MDU6TGFiZWwxMDg5NjY4MzMy',\n",
              "  'url': 'https://api.github.com/repos/bitshares/bitshares-ui/labels/[5a]%20Tiny',\n",
              "  'name': '[5a] Tiny',\n",
              "  'color': 'f9aed0',\n",
              "  'default': False},\n",
              " {'id': 1133046734,\n",
              "  'node_id': 'MDU6TGFiZWwxMTMzMDQ2NzM0',\n",
              "  'url': 'https://api.github.com/repos/bitshares/bitshares-ui/labels/[6]%20RC%20Blockage',\n",
              "  'name': '[6] RC Blockage',\n",
              "  'color': '0052cc',\n",
              "  'default': False},\n",
              " {'id': 1134524965,\n",
              "  'node_id': 'MDU6TGFiZWwxMTM0NTI0OTY1',\n",
              "  'url': 'https://api.github.com/repos/bitshares/bitshares-ui/labels/[7]%20Estimated',\n",
              "  'name': '[7] Estimated',\n",
              "  'color': '994d00',\n",
              "  'default': False}]"
            ]
          },
          "metadata": {
            "tags": []
          },
          "execution_count": 20
        }
      ]
    },
    {
      "cell_type": "code",
      "metadata": {
        "id": "ymwu9zadxh3A",
        "colab_type": "code",
        "colab": {},
        "outputId": "7330cb9a-d74c-4224-e621-c726c837f00b"
      },
      "source": [
        "#converting string to dict\n",
        "[x['name'] for x in json.loads(labeled['labels'][5])]"
      ],
      "execution_count": 0,
      "outputs": [
        {
          "output_type": "execute_result",
          "data": {
            "text/plain": [
              "['[1b] User Story',\n",
              " '[3] Bug',\n",
              " '[4c] High Priority',\n",
              " '[5a] Tiny',\n",
              " '[6] RC Blockage',\n",
              " '[7] Estimated']"
            ]
          },
          "metadata": {
            "tags": []
          },
          "execution_count": 21
        }
      ]
    },
    {
      "cell_type": "code",
      "metadata": {
        "id": "PfS33wlPxh3C",
        "colab_type": "code",
        "colab": {},
        "outputId": "72821af8-86a7-4ff5-8806-d78b21158b5e"
      },
      "source": [
        "labels=[]\n",
        "for i in labeled['labels']:\n",
        "    labels.append([x['name'] for x in json.loads(i)])\n",
        "labeled['labels']=labels"
      ],
      "execution_count": 0,
      "outputs": [
        {
          "output_type": "stream",
          "text": [
            "C:\\Users\\Dhriti Dhruve\\Anaconda3\\lib\\site-packages\\ipykernel_launcher.py:4: SettingWithCopyWarning: \n",
            "A value is trying to be set on a copy of a slice from a DataFrame.\n",
            "Try using .loc[row_indexer,col_indexer] = value instead\n",
            "\n",
            "See the caveats in the documentation: http://pandas.pydata.org/pandas-docs/stable/indexing.html#indexing-view-versus-copy\n",
            "  after removing the cwd from sys.path.\n"
          ],
          "name": "stderr"
        }
      ]
    },
    {
      "cell_type": "code",
      "metadata": {
        "id": "5FM6I81gxh3E",
        "colab_type": "code",
        "colab": {}
      },
      "source": [
        "import string\n",
        "from nltk.corpus import stopwords  # corpus means collection of writings"
      ],
      "execution_count": 0,
      "outputs": []
    },
    {
      "cell_type": "code",
      "metadata": {
        "id": "h2qVklfJxh3G",
        "colab_type": "code",
        "colab": {},
        "outputId": "51a5a379-943b-44f7-da55-8e1a48141043"
      },
      "source": [
        "string.punctuation"
      ],
      "execution_count": 0,
      "outputs": [
        {
          "output_type": "execute_result",
          "data": {
            "text/plain": [
              "'!\"#$%&\\'()*+,-./:;<=>?@[\\\\]^_`{|}~'"
            ]
          },
          "metadata": {
            "tags": []
          },
          "execution_count": 24
        }
      ]
    },
    {
      "cell_type": "code",
      "metadata": {
        "id": "DEq-iAnOxh3K",
        "colab_type": "code",
        "colab": {},
        "outputId": "195955e3-8ae8-494f-c240-7b67d2903f0b"
      },
      "source": [
        "print(len(stopwords.words('english')))"
      ],
      "execution_count": 0,
      "outputs": [
        {
          "output_type": "stream",
          "text": [
            "179\n"
          ],
          "name": "stdout"
        }
      ]
    },
    {
      "cell_type": "code",
      "metadata": {
        "id": "N2MnxTZfxh3N",
        "colab_type": "code",
        "colab": {},
        "outputId": "e69890b4-bc48-4e91-b041-dc3b780ae55e"
      },
      "source": [
        "stopword=stopwords.words('english')\n",
        "stopword[:5]"
      ],
      "execution_count": 0,
      "outputs": [
        {
          "output_type": "execute_result",
          "data": {
            "text/plain": [
              "['i', 'me', 'my', 'myself', 'we']"
            ]
          },
          "metadata": {
            "tags": []
          },
          "execution_count": 26
        }
      ]
    },
    {
      "cell_type": "code",
      "metadata": {
        "id": "5d0fYzrQxh3P",
        "colab_type": "code",
        "colab": {}
      },
      "source": [
        "newStopWords = ['www','com','r','n','c','e','f','b','g','h','l','http','https','u','v','x','z','de','non','rb','ef']\n",
        "stopword.extend(newStopWords)"
      ],
      "execution_count": 0,
      "outputs": []
    },
    {
      "cell_type": "code",
      "metadata": {
        "id": "v9tBREEuxh3S",
        "colab_type": "code",
        "colab": {}
      },
      "source": [
        "def clean_text(s):\n",
        "    s=re.sub(\"[\\'\\\"]\",\"\",s) #remove '' and \"\"\n",
        "    s=re.sub(\"\\\\\\\\r\",\"\",s)  #remove \\r\n",
        "    s=re.sub(\"\\\\\\\\n\",\"\",s)  #remove \\n\n",
        "    s=re.sub(\"[^a-zA-Z]\",\" \",s) #remove everything but letters\n",
        "    s=''.join([char for char in s if char not in string.punctuation]) #remove all punctuations\n",
        "    l=[word.lower() for word in s.split() if not word.lower() in stopword]  #remove stopwords\n",
        "    return ' '.join(l)"
      ],
      "execution_count": 0,
      "outputs": []
    },
    {
      "cell_type": "code",
      "metadata": {
        "id": "ZOjY0IZqxh3U",
        "colab_type": "code",
        "colab": {},
        "outputId": "805ae7fa-3462-4af9-c265-6fd78fd7b9df"
      },
      "source": [
        "labeled['title'] = labeled['title'].apply(lambda x: clean_text(x))\n",
        "labeled['body'] = labeled['body'].apply(lambda x: clean_text(x))"
      ],
      "execution_count": 0,
      "outputs": [
        {
          "output_type": "stream",
          "text": [
            "C:\\Users\\Dhriti Dhruve\\Anaconda3\\lib\\site-packages\\ipykernel_launcher.py:1: SettingWithCopyWarning: \n",
            "A value is trying to be set on a copy of a slice from a DataFrame.\n",
            "Try using .loc[row_indexer,col_indexer] = value instead\n",
            "\n",
            "See the caveats in the documentation: http://pandas.pydata.org/pandas-docs/stable/indexing.html#indexing-view-versus-copy\n",
            "  \"\"\"Entry point for launching an IPython kernel.\n",
            "C:\\Users\\Dhriti Dhruve\\Anaconda3\\lib\\site-packages\\ipykernel_launcher.py:2: SettingWithCopyWarning: \n",
            "A value is trying to be set on a copy of a slice from a DataFrame.\n",
            "Try using .loc[row_indexer,col_indexer] = value instead\n",
            "\n",
            "See the caveats in the documentation: http://pandas.pydata.org/pandas-docs/stable/indexing.html#indexing-view-versus-copy\n",
            "  \n"
          ],
          "name": "stderr"
        }
      ]
    },
    {
      "cell_type": "code",
      "metadata": {
        "id": "HHnTd1YBxh3Z",
        "colab_type": "code",
        "colab": {},
        "outputId": "4e822a92-ee8a-488a-afac-250cf3de2908"
      },
      "source": [
        "labeled.head()"
      ],
      "execution_count": 0,
      "outputs": [
        {
          "output_type": "execute_result",
          "data": {
            "text/html": [
              "<div>\n",
              "<style scoped>\n",
              "    .dataframe tbody tr th:only-of-type {\n",
              "        vertical-align: middle;\n",
              "    }\n",
              "\n",
              "    .dataframe tbody tr th {\n",
              "        vertical-align: top;\n",
              "    }\n",
              "\n",
              "    .dataframe thead th {\n",
              "        text-align: right;\n",
              "    }\n",
              "</style>\n",
              "<table border=\"1\" class=\"dataframe\">\n",
              "  <thead>\n",
              "    <tr style=\"text-align: right;\">\n",
              "      <th></th>\n",
              "      <th>title</th>\n",
              "      <th>body</th>\n",
              "      <th>labels</th>\n",
              "    </tr>\n",
              "  </thead>\n",
              "  <tbody>\n",
              "    <tr>\n",
              "      <th>0</th>\n",
              "      <td>error building package zlib windows static fai...</td>\n",
              "      <td>package zlib windows staticvcpkg version debug</td>\n",
              "      <td>[needs-repro]</td>\n",
              "    </tr>\n",
              "    <tr>\n",
              "      <th>1</th>\n",
              "      <td>pagination bug removing item</td>\n",
              "      <td>reported pro user exemple table items per page...</td>\n",
              "      <td>[enhancement]</td>\n",
              "    </tr>\n",
              "    <tr>\n",
              "      <th>4</th>\n",
              "      <td>helm podantiaffinity templating error</td>\n",
              "      <td>describe bug helm charts fail generate proper ...</td>\n",
              "      <td>[area/environments]</td>\n",
              "    </tr>\n",
              "    <tr>\n",
              "      <th>5</th>\n",
              "      <td>tradingview quick chart resize honor limit values</td>\n",
              "      <td>describe bug arrows tradingview chart size don...</td>\n",
              "      <td>[[1b] User Story, [3] Bug, [4c] High Priority,...</td>\n",
              "    </tr>\n",
              "    <tr>\n",
              "      <th>6</th>\n",
              "      <td>upgrade isort</td>\n",
              "      <td>using isort pypi org project isort latest migh...</td>\n",
              "      <td>[feature-refactoring, good first issue, needs ...</td>\n",
              "    </tr>\n",
              "  </tbody>\n",
              "</table>\n",
              "</div>"
            ],
            "text/plain": [
              "                                               title  \\\n",
              "0  error building package zlib windows static fai...   \n",
              "1                       pagination bug removing item   \n",
              "4              helm podantiaffinity templating error   \n",
              "5  tradingview quick chart resize honor limit values   \n",
              "6                                      upgrade isort   \n",
              "\n",
              "                                                body  \\\n",
              "0     package zlib windows staticvcpkg version debug   \n",
              "1  reported pro user exemple table items per page...   \n",
              "4  describe bug helm charts fail generate proper ...   \n",
              "5  describe bug arrows tradingview chart size don...   \n",
              "6  using isort pypi org project isort latest migh...   \n",
              "\n",
              "                                              labels  \n",
              "0                                      [needs-repro]  \n",
              "1                                      [enhancement]  \n",
              "4                                [area/environments]  \n",
              "5  [[1b] User Story, [3] Bug, [4c] High Priority,...  \n",
              "6  [feature-refactoring, good first issue, needs ...  "
            ]
          },
          "metadata": {
            "tags": []
          },
          "execution_count": 30
        }
      ]
    },
    {
      "cell_type": "code",
      "metadata": {
        "id": "PE8r_bwqxh3g",
        "colab_type": "code",
        "colab": {}
      },
      "source": [
        "labels=[]\n",
        "for i in labeled['labels']:\n",
        "    labels.append(' '.join(i))"
      ],
      "execution_count": 0,
      "outputs": []
    },
    {
      "cell_type": "code",
      "metadata": {
        "id": "Az5a3ArIxh3l",
        "colab_type": "code",
        "colab": {},
        "outputId": "ea3ad649-83ed-493b-aafb-500d8abcba4d"
      },
      "source": [
        "labels[:10]"
      ],
      "execution_count": 0,
      "outputs": [
        {
          "output_type": "execute_result",
          "data": {
            "text/plain": [
              "['needs-repro',\n",
              " 'enhancement',\n",
              " 'area/environments',\n",
              " '[1b] User Story [3] Bug [4c] High Priority [5a] Tiny [6] RC Blockage [7] Estimated',\n",
              " 'feature-refactoring good first issue needs PR type-code health',\n",
              " 'feature',\n",
              " 'Feature:Search Feature:Telemetry P1 a-c',\n",
              " 'A-partitioning A-sql-syntax C-enhancement',\n",
              " 'enhancement priority:low',\n",
              " 'ApiTestUat']"
            ]
          },
          "metadata": {
            "tags": []
          },
          "execution_count": 32
        }
      ]
    },
    {
      "cell_type": "code",
      "metadata": {
        "id": "wdyaiz3Ixh4B",
        "colab_type": "code",
        "colab": {}
      },
      "source": [
        "import collections\n",
        "count={}\n",
        "for x in labels:\n",
        "    if x not in count:\n",
        "        count[x]=1\n",
        "    else:\n",
        "        count[x]+=1\n",
        "d = collections.Counter(count)\n",
        "freq=[]\n",
        "i=0\n",
        "for w,c in d.most_common(2502):\n",
        "    freq.append([w,c])"
      ],
      "execution_count": 0,
      "outputs": []
    },
    {
      "cell_type": "code",
      "metadata": {
        "id": "LxoPLnbCxh4D",
        "colab_type": "code",
        "colab": {},
        "outputId": "05cdff08-7072-408b-fec8-c0a895709370"
      },
      "source": [
        "freq[:10]"
      ],
      "execution_count": 0,
      "outputs": [
        {
          "output_type": "execute_result",
          "data": {
            "text/plain": [
              "[['bug', 356],\n",
              " ['enhancement', 353],\n",
              " ['question', 97],\n",
              " ['greenkeeper', 45],\n",
              " ['wontfix', 37],\n",
              " ['feature', 32],\n",
              " ['help wanted', 25],\n",
              " ['duplicate', 21],\n",
              " ['good first issue', 20],\n",
              " ['task', 18]]"
            ]
          },
          "metadata": {
            "tags": []
          },
          "execution_count": 34
        }
      ]
    },
    {
      "cell_type": "code",
      "metadata": {
        "id": "hge-lnmkxh4E",
        "colab_type": "code",
        "colab": {}
      },
      "source": [
        ""
      ],
      "execution_count": 0,
      "outputs": []
    }
  ]
}