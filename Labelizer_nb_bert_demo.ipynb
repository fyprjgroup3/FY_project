{
  "nbformat": 4,
  "nbformat_minor": 0,
  "metadata": {
    "colab": {
      "name": "Labelizer_nb_bert_demo.ipynb",
      "provenance": [],
      "collapsed_sections": [],
      "toc_visible": true,
      "include_colab_link": true
    },
    "kernelspec": {
      "name": "python3",
      "display_name": "Python 3"
    },
    "accelerator": "GPU"
  },
  "cells": [
    {
      "cell_type": "markdown",
      "metadata": {
        "id": "view-in-github",
        "colab_type": "text"
      },
      "source": [
        "<a href=\"https://colab.research.google.com/github/fyprjgroup3/FY_project/blob/master/Labelizer_nb_bert_demo.ipynb\" target=\"_parent\"><img src=\"https://colab.research.google.com/assets/colab-badge.svg\" alt=\"Open In Colab\"/></a>"
      ]
    },
    {
      "cell_type": "markdown",
      "metadata": {
        "id": "bQ417S4tZuXs",
        "colab_type": "text"
      },
      "source": [
        "# Checking GPU"
      ]
    },
    {
      "cell_type": "code",
      "metadata": {
        "id": "rcT3N-NxZtu4",
        "colab_type": "code",
        "colab": {}
      },
      "source": [
        "%tensorflow_version 1.x"
      ],
      "execution_count": 99,
      "outputs": []
    },
    {
      "cell_type": "code",
      "metadata": {
        "id": "FsBYEQ3Lu-bo",
        "colab_type": "code",
        "colab": {
          "base_uri": "https://localhost:8080/",
          "height": 35
        },
        "outputId": "833288eb-902d-41f3-d8e4-76047f0b01d2"
      },
      "source": [
        "import tensorflow as tf\n",
        "tf.test.gpu_device_name()"
      ],
      "execution_count": 100,
      "outputs": [
        {
          "output_type": "execute_result",
          "data": {
            "application/vnd.google.colaboratory.intrinsic": {
              "type": "string"
            },
            "text/plain": [
              "'/device:GPU:0'"
            ]
          },
          "metadata": {
            "tags": []
          },
          "execution_count": 100
        }
      ]
    },
    {
      "cell_type": "code",
      "metadata": {
        "id": "M-HXW3_fvMxJ",
        "colab_type": "code",
        "colab": {
          "base_uri": "https://localhost:8080/",
          "height": 476
        },
        "outputId": "c9b2c657-671d-48af-8fa3-ad8dec51f58d"
      },
      "source": [
        "from tensorflow.python.client import device_lib\n",
        "device_lib.list_local_devices()"
      ],
      "execution_count": 101,
      "outputs": [
        {
          "output_type": "execute_result",
          "data": {
            "text/plain": [
              "[name: \"/device:CPU:0\"\n",
              " device_type: \"CPU\"\n",
              " memory_limit: 268435456\n",
              " locality {\n",
              " }\n",
              " incarnation: 1564726376498705475, name: \"/device:XLA_CPU:0\"\n",
              " device_type: \"XLA_CPU\"\n",
              " memory_limit: 17179869184\n",
              " locality {\n",
              " }\n",
              " incarnation: 16105193627660740200\n",
              " physical_device_desc: \"device: XLA_CPU device\", name: \"/device:XLA_GPU:0\"\n",
              " device_type: \"XLA_GPU\"\n",
              " memory_limit: 17179869184\n",
              " locality {\n",
              " }\n",
              " incarnation: 81515994219094897\n",
              " physical_device_desc: \"device: XLA_GPU device\", name: \"/device:GPU:0\"\n",
              " device_type: \"GPU\"\n",
              " memory_limit: 11330115994\n",
              " locality {\n",
              "   bus_id: 1\n",
              "   links {\n",
              "   }\n",
              " }\n",
              " incarnation: 8712143412745552136\n",
              " physical_device_desc: \"device: 0, name: Tesla K80, pci bus id: 0000:00:04.0, compute capability: 3.7\"]"
            ]
          },
          "metadata": {
            "tags": []
          },
          "execution_count": 101
        }
      ]
    },
    {
      "cell_type": "markdown",
      "metadata": {
        "id": "Ahx6odvjZiyE",
        "colab_type": "text"
      },
      "source": [
        "# Getting Dataset & Required Libraries"
      ]
    },
    {
      "cell_type": "code",
      "metadata": {
        "id": "a7dTNqZde9g5",
        "colab_type": "code",
        "colab": {
          "base_uri": "https://localhost:8080/",
          "height": 54
        },
        "outputId": "9f51b665-50c0-4f8f-bdf4-b39c398a934b"
      },
      "source": [
        "import pandas as pd\n",
        "import numpy as np\n",
        "import re\n",
        "import json\n",
        "import nltk\n",
        "import matplotlib.pyplot as plt\n",
        "import seaborn as sns\n",
        "import string\n",
        "import collections\n",
        "#nltk.download('stopwords')\n",
        "\n",
        "from google.colab import drive\n",
        "from google.colab import files\n",
        "#import io\n",
        "#uploaded = files.upload()\n",
        "\n",
        "drive.mount('/content/drive') # mounting drive in each runtime\n",
        "\n",
        "pd.set_option(\"display.max_columns\",2500)\n",
        "pd.set_option(\"display.max_rows\",2500)"
      ],
      "execution_count": 102,
      "outputs": [
        {
          "output_type": "stream",
          "text": [
            "Drive already mounted at /content/drive; to attempt to forcibly remount, call drive.mount(\"/content/drive\", force_remount=True).\n"
          ],
          "name": "stdout"
        }
      ]
    },
    {
      "cell_type": "code",
      "metadata": {
        "id": "VBdtBpNAg11s",
        "colab_type": "code",
        "colab": {
          "base_uri": "https://localhost:8080/",
          "height": 564
        },
        "outputId": "55b4487c-1390-4a85-9db9-fa6dc9901c63"
      },
      "source": [
        "#import the data\n",
        "data=pd.concat([pd.read_csv('/content/drive/My Drive/FY_project/dataset/results-20190513-ofapr19.csv'), \n",
        "                pd.read_csv('/content/drive/My Drive/FY_project/dataset/results-20190613-ofmay19.csv'), \n",
        "                pd.read_csv('/content/drive/My Drive/FY_project/dataset/results-20200415-ofjun19.csv'),\n",
        "                pd.read_csv('/content/drive/My Drive/FY_project/dataset/results-apr-questions.csv'),\n",
        "                pd.read_csv('/content/drive/My Drive/FY_project/dataset/results-jul-questions.csv'),\n",
        "                pd.read_csv('/content/drive/My Drive/FY_project/dataset/results-bug_20k.csv'),\n",
        "                pd.read_csv('/content/drive/My Drive/FY_project/dataset/results-enhancement_17k.csv')])\n",
        "#data=pd.read_csv('E:\\yearproject.csv')\n",
        "data.tail()"
      ],
      "execution_count": 103,
      "outputs": [
        {
          "output_type": "execute_result",
          "data": {
            "text/html": [
              "<div>\n",
              "<style scoped>\n",
              "    .dataframe tbody tr th:only-of-type {\n",
              "        vertical-align: middle;\n",
              "    }\n",
              "\n",
              "    .dataframe tbody tr th {\n",
              "        vertical-align: top;\n",
              "    }\n",
              "\n",
              "    .dataframe thead th {\n",
              "        text-align: right;\n",
              "    }\n",
              "</style>\n",
              "<table border=\"1\" class=\"dataframe\">\n",
              "  <thead>\n",
              "    <tr style=\"text-align: right;\">\n",
              "      <th></th>\n",
              "      <th>action</th>\n",
              "      <th>url</th>\n",
              "      <th>title</th>\n",
              "      <th>body</th>\n",
              "      <th>labels</th>\n",
              "    </tr>\n",
              "  </thead>\n",
              "  <tbody>\n",
              "    <tr>\n",
              "      <th>16995</th>\n",
              "      <td>\"closed\"</td>\n",
              "      <td>\"https://github.com/RagtagOpen/freefrom-compen...</td>\n",
              "      <td>\"Footer should match prototype\"</td>\n",
              "      <td>\"Footer should match prototype (see [here](htt...</td>\n",
              "      <td>[{\"id\":1446836041,\"node_id\":\"MDU6TGFiZWwxNDQ2O...</td>\n",
              "    </tr>\n",
              "    <tr>\n",
              "      <th>16996</th>\n",
              "      <td>\"closed\"</td>\n",
              "      <td>\"https://github.com/frc5587/TitanBot/issues/7\"</td>\n",
              "      <td>\"\\\"Getting Started\\\" documentation\"</td>\n",
              "      <td>\"In accordance with #6, all sensitive informat...</td>\n",
              "      <td>[{\"id\":1515855500,\"node_id\":\"MDU6TGFiZWwxNTE1O...</td>\n",
              "    </tr>\n",
              "    <tr>\n",
              "      <th>16997</th>\n",
              "      <td>\"closed\"</td>\n",
              "      <td>\"https://github.com/Jaspero/jms/issues/108\"</td>\n",
              "      <td>\"Advanced options for Table\"</td>\n",
              "      <td>\"- [ ] Search\\r\\n- [x] Filter\\r\\n- [x] Hiding ...</td>\n",
              "      <td>[{\"id\":1366968101,\"node_id\":\"MDU6TGFiZWwxMzY2O...</td>\n",
              "    </tr>\n",
              "    <tr>\n",
              "      <th>16998</th>\n",
              "      <td>\"closed\"</td>\n",
              "      <td>\"https://github.com/WeBankPartners/wecube-plug...</td>\n",
              "      <td>\"视图配置-列表选择指标后，改变指标表达式造成删除指标项无法与选择框选项联动\"</td>\n",
              "      <td>\"**描述您的需求**  \\r\\n如题\\r\\n\\r\\n\\r\\n**预期行为**  \\r\\n上...</td>\n",
              "      <td>[{\"id\":1503246165,\"node_id\":\"MDU6TGFiZWwxNTAzM...</td>\n",
              "    </tr>\n",
              "    <tr>\n",
              "      <th>16999</th>\n",
              "      <td>\"closed\"</td>\n",
              "      <td>\"https://github.com/ICIJ/datashare/issues/287\"</td>\n",
              "      <td>\"Create a staging\"</td>\n",
              "      <td>\"\"</td>\n",
              "      <td>[{\"id\":361147909,\"node_id\":\"MDU6TGFiZWwzNjExND...</td>\n",
              "    </tr>\n",
              "  </tbody>\n",
              "</table>\n",
              "</div>"
            ],
            "text/plain": [
              "         action                                                url  \\\n",
              "16995  \"closed\"  \"https://github.com/RagtagOpen/freefrom-compen...   \n",
              "16996  \"closed\"     \"https://github.com/frc5587/TitanBot/issues/7\"   \n",
              "16997  \"closed\"        \"https://github.com/Jaspero/jms/issues/108\"   \n",
              "16998  \"closed\"  \"https://github.com/WeBankPartners/wecube-plug...   \n",
              "16999  \"closed\"     \"https://github.com/ICIJ/datashare/issues/287\"   \n",
              "\n",
              "                                         title  \\\n",
              "16995          \"Footer should match prototype\"   \n",
              "16996      \"\\\"Getting Started\\\" documentation\"   \n",
              "16997             \"Advanced options for Table\"   \n",
              "16998  \"视图配置-列表选择指标后，改变指标表达式造成删除指标项无法与选择框选项联动\"   \n",
              "16999                       \"Create a staging\"   \n",
              "\n",
              "                                                    body  \\\n",
              "16995  \"Footer should match prototype (see [here](htt...   \n",
              "16996  \"In accordance with #6, all sensitive informat...   \n",
              "16997  \"- [ ] Search\\r\\n- [x] Filter\\r\\n- [x] Hiding ...   \n",
              "16998  \"**描述您的需求**  \\r\\n如题\\r\\n\\r\\n\\r\\n**预期行为**  \\r\\n上...   \n",
              "16999                                                 \"\"   \n",
              "\n",
              "                                                  labels  \n",
              "16995  [{\"id\":1446836041,\"node_id\":\"MDU6TGFiZWwxNDQ2O...  \n",
              "16996  [{\"id\":1515855500,\"node_id\":\"MDU6TGFiZWwxNTE1O...  \n",
              "16997  [{\"id\":1366968101,\"node_id\":\"MDU6TGFiZWwxMzY2O...  \n",
              "16998  [{\"id\":1503246165,\"node_id\":\"MDU6TGFiZWwxNTAzM...  \n",
              "16999  [{\"id\":361147909,\"node_id\":\"MDU6TGFiZWwzNjExND...  "
            ]
          },
          "metadata": {
            "tags": []
          },
          "execution_count": 103
        }
      ]
    },
    {
      "cell_type": "code",
      "metadata": {
        "id": "ZcTmze_Rg5ER",
        "colab_type": "code",
        "colab": {}
      },
      "source": [
        "from sklearn.utils import shuffle\n",
        "data=shuffle(data)"
      ],
      "execution_count": 104,
      "outputs": []
    },
    {
      "cell_type": "code",
      "metadata": {
        "id": "tORC2I4ghA0S",
        "colab_type": "code",
        "colab": {
          "base_uri": "https://localhost:8080/",
          "height": 34
        },
        "outputId": "80584d50-2246-4b37-d03d-5fac98483b80"
      },
      "source": [
        "print(\"No. of rows:\",data.shape[0])"
      ],
      "execution_count": 105,
      "outputs": [
        {
          "output_type": "stream",
          "text": [
            "No. of rows: 74620\n"
          ],
          "name": "stdout"
        }
      ]
    },
    {
      "cell_type": "markdown",
      "metadata": {
        "id": "nFLSC7bdJJxR",
        "colab_type": "text"
      },
      "source": [
        "# Data Cleaning"
      ]
    },
    {
      "cell_type": "code",
      "metadata": {
        "colab_type": "code",
        "id": "RcaCbq1AVwLg",
        "colab": {
          "base_uri": "https://localhost:8080/",
          "height": 34
        },
        "outputId": "37935a92-f895-4f03-909f-bb00f82f9714"
      },
      "source": [
        "print('No. of duplicate rows: ',data.duplicated().sum())"
      ],
      "execution_count": 106,
      "outputs": [
        {
          "output_type": "stream",
          "text": [
            "No. of duplicate rows:  657\n"
          ],
          "name": "stdout"
        }
      ]
    },
    {
      "cell_type": "code",
      "metadata": {
        "colab_type": "code",
        "id": "dhtfKNalWfyS",
        "colab": {}
      },
      "source": [
        "data.drop_duplicates(inplace=True)"
      ],
      "execution_count": 107,
      "outputs": []
    },
    {
      "cell_type": "code",
      "metadata": {
        "colab_type": "code",
        "id": "JPgfNluzWnMx",
        "colab": {
          "base_uri": "https://localhost:8080/",
          "height": 34
        },
        "outputId": "75023e41-ea9d-46ff-d675-e72bb6eba6f8"
      },
      "source": [
        "data.shape"
      ],
      "execution_count": 108,
      "outputs": [
        {
          "output_type": "execute_result",
          "data": {
            "text/plain": [
              "(73963, 5)"
            ]
          },
          "metadata": {
            "tags": []
          },
          "execution_count": 108
        }
      ]
    },
    {
      "cell_type": "code",
      "metadata": {
        "colab_type": "code",
        "id": "wk4JasqL1qje",
        "colab": {
          "base_uri": "https://localhost:8080/",
          "height": 272
        },
        "outputId": "0b46f24f-f28e-4de3-9bf4-3052b1d8427d"
      },
      "source": [
        "# select necessary features\n",
        "data=data[[\"title\",\"body\",\"labels\"]]\n",
        "data.head()"
      ],
      "execution_count": 109,
      "outputs": [
        {
          "output_type": "execute_result",
          "data": {
            "text/html": [
              "<div>\n",
              "<style scoped>\n",
              "    .dataframe tbody tr th:only-of-type {\n",
              "        vertical-align: middle;\n",
              "    }\n",
              "\n",
              "    .dataframe tbody tr th {\n",
              "        vertical-align: top;\n",
              "    }\n",
              "\n",
              "    .dataframe thead th {\n",
              "        text-align: right;\n",
              "    }\n",
              "</style>\n",
              "<table border=\"1\" class=\"dataframe\">\n",
              "  <thead>\n",
              "    <tr style=\"text-align: right;\">\n",
              "      <th></th>\n",
              "      <th>title</th>\n",
              "      <th>body</th>\n",
              "      <th>labels</th>\n",
              "    </tr>\n",
              "  </thead>\n",
              "  <tbody>\n",
              "    <tr>\n",
              "      <th>4809</th>\n",
              "      <td>\"Why does it return only fallback method even ...</td>\n",
              "      <td>\"@GetMapping(\\\"/{id}\\\")\\r\\n@HystrixCommand(fal...</td>\n",
              "      <td>[]</td>\n",
              "    </tr>\n",
              "    <tr>\n",
              "      <th>4231</th>\n",
              "      <td>\"Future plans to add a minimal install option\"</td>\n",
              "      <td>\"Hi guys, I was wondering if there were any pl...</td>\n",
              "      <td>[]</td>\n",
              "    </tr>\n",
              "    <tr>\n",
              "      <th>19705</th>\n",
              "      <td>\"Fix static injector error\"</td>\n",
              "      <td>\"Something in the current master build, I thin...</td>\n",
              "      <td>[{\"id\":1278577570,\"node_id\":\"MDU6TGFiZWwxMjc4N...</td>\n",
              "    </tr>\n",
              "    <tr>\n",
              "      <th>6359</th>\n",
              "      <td>\"The style sheets are missing\"</td>\n",
              "      <td>\"I was surprised to notice that the style shee...</td>\n",
              "      <td>[]</td>\n",
              "    </tr>\n",
              "    <tr>\n",
              "      <th>3782</th>\n",
              "      <td>\"pulling translations wipes dutch strings\"</td>\n",
              "      <td>\"see https://github.com/deltachat/deltachat-io...</td>\n",
              "      <td>[{\"id\":741876595,\"node_id\":\"MDU6TGFiZWw3NDE4Nz...</td>\n",
              "    </tr>\n",
              "  </tbody>\n",
              "</table>\n",
              "</div>"
            ],
            "text/plain": [
              "                                                   title  \\\n",
              "4809   \"Why does it return only fallback method even ...   \n",
              "4231      \"Future plans to add a minimal install option\"   \n",
              "19705                        \"Fix static injector error\"   \n",
              "6359                      \"The style sheets are missing\"   \n",
              "3782          \"pulling translations wipes dutch strings\"   \n",
              "\n",
              "                                                    body  \\\n",
              "4809   \"@GetMapping(\\\"/{id}\\\")\\r\\n@HystrixCommand(fal...   \n",
              "4231   \"Hi guys, I was wondering if there were any pl...   \n",
              "19705  \"Something in the current master build, I thin...   \n",
              "6359   \"I was surprised to notice that the style shee...   \n",
              "3782   \"see https://github.com/deltachat/deltachat-io...   \n",
              "\n",
              "                                                  labels  \n",
              "4809                                                  []  \n",
              "4231                                                  []  \n",
              "19705  [{\"id\":1278577570,\"node_id\":\"MDU6TGFiZWwxMjc4N...  \n",
              "6359                                                  []  \n",
              "3782   [{\"id\":741876595,\"node_id\":\"MDU6TGFiZWw3NDE4Nz...  "
            ]
          },
          "metadata": {
            "tags": []
          },
          "execution_count": 109
        }
      ]
    },
    {
      "cell_type": "code",
      "metadata": {
        "colab_type": "code",
        "id": "gsaA7-fC9N6c",
        "colab": {
          "base_uri": "https://localhost:8080/",
          "height": 272
        },
        "outputId": "157e0b26-3226-4248-d473-5b11a5bb23f8"
      },
      "source": [
        "# remove rows with empty labels\n",
        "def clean(s):\n",
        "    if s==\"[]\":\n",
        "        s=np.nan\n",
        "    return s\n",
        "    \n",
        "data['labels']=data['labels'].apply(lambda x: clean(x))\n",
        "data.head()"
      ],
      "execution_count": 110,
      "outputs": [
        {
          "output_type": "execute_result",
          "data": {
            "text/html": [
              "<div>\n",
              "<style scoped>\n",
              "    .dataframe tbody tr th:only-of-type {\n",
              "        vertical-align: middle;\n",
              "    }\n",
              "\n",
              "    .dataframe tbody tr th {\n",
              "        vertical-align: top;\n",
              "    }\n",
              "\n",
              "    .dataframe thead th {\n",
              "        text-align: right;\n",
              "    }\n",
              "</style>\n",
              "<table border=\"1\" class=\"dataframe\">\n",
              "  <thead>\n",
              "    <tr style=\"text-align: right;\">\n",
              "      <th></th>\n",
              "      <th>title</th>\n",
              "      <th>body</th>\n",
              "      <th>labels</th>\n",
              "    </tr>\n",
              "  </thead>\n",
              "  <tbody>\n",
              "    <tr>\n",
              "      <th>4809</th>\n",
              "      <td>\"Why does it return only fallback method even ...</td>\n",
              "      <td>\"@GetMapping(\\\"/{id}\\\")\\r\\n@HystrixCommand(fal...</td>\n",
              "      <td>NaN</td>\n",
              "    </tr>\n",
              "    <tr>\n",
              "      <th>4231</th>\n",
              "      <td>\"Future plans to add a minimal install option\"</td>\n",
              "      <td>\"Hi guys, I was wondering if there were any pl...</td>\n",
              "      <td>NaN</td>\n",
              "    </tr>\n",
              "    <tr>\n",
              "      <th>19705</th>\n",
              "      <td>\"Fix static injector error\"</td>\n",
              "      <td>\"Something in the current master build, I thin...</td>\n",
              "      <td>[{\"id\":1278577570,\"node_id\":\"MDU6TGFiZWwxMjc4N...</td>\n",
              "    </tr>\n",
              "    <tr>\n",
              "      <th>6359</th>\n",
              "      <td>\"The style sheets are missing\"</td>\n",
              "      <td>\"I was surprised to notice that the style shee...</td>\n",
              "      <td>NaN</td>\n",
              "    </tr>\n",
              "    <tr>\n",
              "      <th>3782</th>\n",
              "      <td>\"pulling translations wipes dutch strings\"</td>\n",
              "      <td>\"see https://github.com/deltachat/deltachat-io...</td>\n",
              "      <td>[{\"id\":741876595,\"node_id\":\"MDU6TGFiZWw3NDE4Nz...</td>\n",
              "    </tr>\n",
              "  </tbody>\n",
              "</table>\n",
              "</div>"
            ],
            "text/plain": [
              "                                                   title  \\\n",
              "4809   \"Why does it return only fallback method even ...   \n",
              "4231      \"Future plans to add a minimal install option\"   \n",
              "19705                        \"Fix static injector error\"   \n",
              "6359                      \"The style sheets are missing\"   \n",
              "3782          \"pulling translations wipes dutch strings\"   \n",
              "\n",
              "                                                    body  \\\n",
              "4809   \"@GetMapping(\\\"/{id}\\\")\\r\\n@HystrixCommand(fal...   \n",
              "4231   \"Hi guys, I was wondering if there were any pl...   \n",
              "19705  \"Something in the current master build, I thin...   \n",
              "6359   \"I was surprised to notice that the style shee...   \n",
              "3782   \"see https://github.com/deltachat/deltachat-io...   \n",
              "\n",
              "                                                  labels  \n",
              "4809                                                 NaN  \n",
              "4231                                                 NaN  \n",
              "19705  [{\"id\":1278577570,\"node_id\":\"MDU6TGFiZWwxMjc4N...  \n",
              "6359                                                 NaN  \n",
              "3782   [{\"id\":741876595,\"node_id\":\"MDU6TGFiZWw3NDE4Nz...  "
            ]
          },
          "metadata": {
            "tags": []
          },
          "execution_count": 110
        }
      ]
    },
    {
      "cell_type": "code",
      "metadata": {
        "colab_type": "code",
        "id": "l4BE0H3HIJBH",
        "colab": {}
      },
      "source": [
        "data.dropna(inplace=True)"
      ],
      "execution_count": 111,
      "outputs": []
    },
    {
      "cell_type": "code",
      "metadata": {
        "colab_type": "code",
        "id": "2Spnq92nMJyi",
        "colab": {
          "base_uri": "https://localhost:8080/",
          "height": 306
        },
        "outputId": "d51c9e96-c944-4429-8b41-b866acb7c135"
      },
      "source": [
        "data.head()"
      ],
      "execution_count": 112,
      "outputs": [
        {
          "output_type": "execute_result",
          "data": {
            "text/html": [
              "<div>\n",
              "<style scoped>\n",
              "    .dataframe tbody tr th:only-of-type {\n",
              "        vertical-align: middle;\n",
              "    }\n",
              "\n",
              "    .dataframe tbody tr th {\n",
              "        vertical-align: top;\n",
              "    }\n",
              "\n",
              "    .dataframe thead th {\n",
              "        text-align: right;\n",
              "    }\n",
              "</style>\n",
              "<table border=\"1\" class=\"dataframe\">\n",
              "  <thead>\n",
              "    <tr style=\"text-align: right;\">\n",
              "      <th></th>\n",
              "      <th>title</th>\n",
              "      <th>body</th>\n",
              "      <th>labels</th>\n",
              "    </tr>\n",
              "  </thead>\n",
              "  <tbody>\n",
              "    <tr>\n",
              "      <th>19705</th>\n",
              "      <td>\"Fix static injector error\"</td>\n",
              "      <td>\"Something in the current master build, I thin...</td>\n",
              "      <td>[{\"id\":1278577570,\"node_id\":\"MDU6TGFiZWwxMjc4N...</td>\n",
              "    </tr>\n",
              "    <tr>\n",
              "      <th>3782</th>\n",
              "      <td>\"pulling translations wipes dutch strings\"</td>\n",
              "      <td>\"see https://github.com/deltachat/deltachat-io...</td>\n",
              "      <td>[{\"id\":741876595,\"node_id\":\"MDU6TGFiZWw3NDE4Nz...</td>\n",
              "    </tr>\n",
              "    <tr>\n",
              "      <th>1974</th>\n",
              "      <td>\"On iOS 13 the text color doesn't work, and wi...</td>\n",
              "      <td>\"### The problem\\r\\nOn iOS 13 there is a trans...</td>\n",
              "      <td>[{\"id\":1221496105,\"node_id\":\"MDU6TGFiZWwxMjIxN...</td>\n",
              "    </tr>\n",
              "    <tr>\n",
              "      <th>5047</th>\n",
              "      <td>\"Could random.hypergeometric() be made to matc...</td>\n",
              "      <td>\"I am trying to implement a multidimensional h...</td>\n",
              "      <td>[{\"id\":16917445,\"node_id\":\"MDU6TGFiZWwxNjkxNzQ...</td>\n",
              "    </tr>\n",
              "    <tr>\n",
              "      <th>3039</th>\n",
              "      <td>\"User is able to get help during the Deploy SA...</td>\n",
              "      <td>\"Acceptance Criteria:\\r\\n* There is a highly-v...</td>\n",
              "      <td>[{\"id\":1000143067,\"node_id\":\"MDU6TGFiZWwxMDAwM...</td>\n",
              "    </tr>\n",
              "  </tbody>\n",
              "</table>\n",
              "</div>"
            ],
            "text/plain": [
              "                                                   title  \\\n",
              "19705                        \"Fix static injector error\"   \n",
              "3782          \"pulling translations wipes dutch strings\"   \n",
              "1974   \"On iOS 13 the text color doesn't work, and wi...   \n",
              "5047   \"Could random.hypergeometric() be made to matc...   \n",
              "3039   \"User is able to get help during the Deploy SA...   \n",
              "\n",
              "                                                    body  \\\n",
              "19705  \"Something in the current master build, I thin...   \n",
              "3782   \"see https://github.com/deltachat/deltachat-io...   \n",
              "1974   \"### The problem\\r\\nOn iOS 13 there is a trans...   \n",
              "5047   \"I am trying to implement a multidimensional h...   \n",
              "3039   \"Acceptance Criteria:\\r\\n* There is a highly-v...   \n",
              "\n",
              "                                                  labels  \n",
              "19705  [{\"id\":1278577570,\"node_id\":\"MDU6TGFiZWwxMjc4N...  \n",
              "3782   [{\"id\":741876595,\"node_id\":\"MDU6TGFiZWw3NDE4Nz...  \n",
              "1974   [{\"id\":1221496105,\"node_id\":\"MDU6TGFiZWwxMjIxN...  \n",
              "5047   [{\"id\":16917445,\"node_id\":\"MDU6TGFiZWwxNjkxNzQ...  \n",
              "3039   [{\"id\":1000143067,\"node_id\":\"MDU6TGFiZWwxMDAwM...  "
            ]
          },
          "metadata": {
            "tags": []
          },
          "execution_count": 112
        }
      ]
    },
    {
      "cell_type": "code",
      "metadata": {
        "colab_type": "code",
        "id": "K7LBFzMaOE9o",
        "colab": {
          "base_uri": "https://localhost:8080/",
          "height": 34
        },
        "outputId": "1faf490d-0177-41ec-fb67-bc05d38daa5a"
      },
      "source": [
        "print(\"No. of rows:\",data.shape[0])"
      ],
      "execution_count": 113,
      "outputs": [
        {
          "output_type": "stream",
          "text": [
            "No. of rows: 61957\n"
          ],
          "name": "stdout"
        }
      ]
    },
    {
      "cell_type": "code",
      "metadata": {
        "id": "vDzB7AXkGvcc",
        "colab_type": "code",
        "colab": {}
      },
      "source": [
        "data.reset_index(inplace=True,drop=True)"
      ],
      "execution_count": 114,
      "outputs": []
    },
    {
      "cell_type": "code",
      "metadata": {
        "colab_type": "code",
        "id": "FUK5Hl701hmN",
        "colab": {
          "base_uri": "https://localhost:8080/",
          "height": 119
        },
        "outputId": "b5e255c4-9ff4-4ffe-ab11-797a4bc9cb79"
      },
      "source": [
        "# check format of labels\n",
        "data['labels'][:5]"
      ],
      "execution_count": 115,
      "outputs": [
        {
          "output_type": "execute_result",
          "data": {
            "text/plain": [
              "0    [{\"id\":1278577570,\"node_id\":\"MDU6TGFiZWwxMjc4N...\n",
              "1    [{\"id\":741876595,\"node_id\":\"MDU6TGFiZWw3NDE4Nz...\n",
              "2    [{\"id\":1221496105,\"node_id\":\"MDU6TGFiZWwxMjIxN...\n",
              "3    [{\"id\":16917445,\"node_id\":\"MDU6TGFiZWwxNjkxNzQ...\n",
              "4    [{\"id\":1000143067,\"node_id\":\"MDU6TGFiZWwxMDAwM...\n",
              "Name: labels, dtype: object"
            ]
          },
          "metadata": {
            "tags": []
          },
          "execution_count": 115
        }
      ]
    },
    {
      "cell_type": "code",
      "metadata": {
        "id": "8MTpjGiKJJyQ",
        "colab_type": "code",
        "colab": {
          "base_uri": "https://localhost:8080/",
          "height": 52
        },
        "outputId": "eb1dbce8-0167-40fa-b819-46efca8d73e9"
      },
      "source": [
        "data['labels'][3]"
      ],
      "execution_count": 116,
      "outputs": [
        {
          "output_type": "execute_result",
          "data": {
            "application/vnd.google.colaboratory.intrinsic": {
              "type": "string"
            },
            "text/plain": [
              "'[{\"id\":16917445,\"node_id\":\"MDU6TGFiZWwxNjkxNzQ0NQ==\",\"url\":\"https://api.github.com/repos/numpy/numpy/labels/component:%20numpy.random\",\"name\":\"component: numpy.random\",\"color\":\"009800\",\"default\":false}]'"
            ]
          },
          "metadata": {
            "tags": []
          },
          "execution_count": 116
        }
      ]
    },
    {
      "cell_type": "code",
      "metadata": {
        "colab_type": "code",
        "id": "wMF76vYc2_9m",
        "colab": {
          "base_uri": "https://localhost:8080/",
          "height": 119
        },
        "outputId": "17072f58-387c-4b64-aa35-73c927d14ae8"
      },
      "source": [
        "#since labels are of string type, convert into list of dictionaries\n",
        "json.loads(data['labels'][3])"
      ],
      "execution_count": 117,
      "outputs": [
        {
          "output_type": "execute_result",
          "data": {
            "text/plain": [
              "[{'color': '009800',\n",
              "  'default': False,\n",
              "  'id': 16917445,\n",
              "  'name': 'component: numpy.random',\n",
              "  'node_id': 'MDU6TGFiZWwxNjkxNzQ0NQ==',\n",
              "  'url': 'https://api.github.com/repos/numpy/numpy/labels/component:%20numpy.random'}]"
            ]
          },
          "metadata": {
            "tags": []
          },
          "execution_count": 117
        }
      ]
    },
    {
      "cell_type": "code",
      "metadata": {
        "colab_type": "code",
        "id": "UDrrdbud4TyN",
        "colab": {
          "base_uri": "https://localhost:8080/",
          "height": 34
        },
        "outputId": "c8d5b789-f41c-4034-c8e8-91d2904a8aaa"
      },
      "source": [
        "#extract only name field from labels\n",
        "[x['name'] for x in json.loads(data['labels'][3])]"
      ],
      "execution_count": 118,
      "outputs": [
        {
          "output_type": "execute_result",
          "data": {
            "text/plain": [
              "['component: numpy.random']"
            ]
          },
          "metadata": {
            "tags": []
          },
          "execution_count": 118
        }
      ]
    },
    {
      "cell_type": "code",
      "metadata": {
        "colab_type": "code",
        "id": "t-Oifzq76loU",
        "colab": {
          "base_uri": "https://localhost:8080/",
          "height": 102
        },
        "outputId": "00bc180b-8b5d-4ea4-abfc-e08fce8c1eb0"
      },
      "source": [
        "#convert into list of lists\n",
        "labels=[]\n",
        "for i in data['labels']:\n",
        "    labels.append([x['name'] for x in json.loads(i)])\n",
        "labels[:5]"
      ],
      "execution_count": 119,
      "outputs": [
        {
          "output_type": "execute_result",
          "data": {
            "text/plain": [
              "[['bug'],\n",
              " ['bug'],\n",
              " ['feature'],\n",
              " ['component: numpy.random'],\n",
              " ['feature-request', 'ux-improvements']]"
            ]
          },
          "metadata": {
            "tags": []
          },
          "execution_count": 119
        }
      ]
    },
    {
      "cell_type": "code",
      "metadata": {
        "colab_type": "code",
        "id": "hctdulfs75el",
        "colab": {
          "base_uri": "https://localhost:8080/",
          "height": 204
        },
        "outputId": "dd82498b-0fda-4054-cd88-992ad5dfcbc6"
      },
      "source": [
        "data['labels']=labels\n",
        "data.head()"
      ],
      "execution_count": 120,
      "outputs": [
        {
          "output_type": "execute_result",
          "data": {
            "text/html": [
              "<div>\n",
              "<style scoped>\n",
              "    .dataframe tbody tr th:only-of-type {\n",
              "        vertical-align: middle;\n",
              "    }\n",
              "\n",
              "    .dataframe tbody tr th {\n",
              "        vertical-align: top;\n",
              "    }\n",
              "\n",
              "    .dataframe thead th {\n",
              "        text-align: right;\n",
              "    }\n",
              "</style>\n",
              "<table border=\"1\" class=\"dataframe\">\n",
              "  <thead>\n",
              "    <tr style=\"text-align: right;\">\n",
              "      <th></th>\n",
              "      <th>title</th>\n",
              "      <th>body</th>\n",
              "      <th>labels</th>\n",
              "    </tr>\n",
              "  </thead>\n",
              "  <tbody>\n",
              "    <tr>\n",
              "      <th>0</th>\n",
              "      <td>\"Fix static injector error\"</td>\n",
              "      <td>\"Something in the current master build, I thin...</td>\n",
              "      <td>[bug]</td>\n",
              "    </tr>\n",
              "    <tr>\n",
              "      <th>1</th>\n",
              "      <td>\"pulling translations wipes dutch strings\"</td>\n",
              "      <td>\"see https://github.com/deltachat/deltachat-io...</td>\n",
              "      <td>[bug]</td>\n",
              "    </tr>\n",
              "    <tr>\n",
              "      <th>2</th>\n",
              "      <td>\"On iOS 13 the text color doesn't work, and wi...</td>\n",
              "      <td>\"### The problem\\r\\nOn iOS 13 there is a trans...</td>\n",
              "      <td>[feature]</td>\n",
              "    </tr>\n",
              "    <tr>\n",
              "      <th>3</th>\n",
              "      <td>\"Could random.hypergeometric() be made to matc...</td>\n",
              "      <td>\"I am trying to implement a multidimensional h...</td>\n",
              "      <td>[component: numpy.random]</td>\n",
              "    </tr>\n",
              "    <tr>\n",
              "      <th>4</th>\n",
              "      <td>\"User is able to get help during the Deploy SA...</td>\n",
              "      <td>\"Acceptance Criteria:\\r\\n* There is a highly-v...</td>\n",
              "      <td>[feature-request, ux-improvements]</td>\n",
              "    </tr>\n",
              "  </tbody>\n",
              "</table>\n",
              "</div>"
            ],
            "text/plain": [
              "                                               title  \\\n",
              "0                        \"Fix static injector error\"   \n",
              "1         \"pulling translations wipes dutch strings\"   \n",
              "2  \"On iOS 13 the text color doesn't work, and wi...   \n",
              "3  \"Could random.hypergeometric() be made to matc...   \n",
              "4  \"User is able to get help during the Deploy SA...   \n",
              "\n",
              "                                                body  \\\n",
              "0  \"Something in the current master build, I thin...   \n",
              "1  \"see https://github.com/deltachat/deltachat-io...   \n",
              "2  \"### The problem\\r\\nOn iOS 13 there is a trans...   \n",
              "3  \"I am trying to implement a multidimensional h...   \n",
              "4  \"Acceptance Criteria:\\r\\n* There is a highly-v...   \n",
              "\n",
              "                               labels  \n",
              "0                               [bug]  \n",
              "1                               [bug]  \n",
              "2                           [feature]  \n",
              "3           [component: numpy.random]  \n",
              "4  [feature-request, ux-improvements]  "
            ]
          },
          "metadata": {
            "tags": []
          },
          "execution_count": 120
        }
      ]
    },
    {
      "cell_type": "code",
      "metadata": {
        "id": "xG5944ugiDrN",
        "colab_type": "code",
        "colab": {}
      },
      "source": [
        "# function for text cleaning \n",
        "def clean_text(s):\n",
        "    s=re.sub('\\\\\\\\r',' ',s)  #remove \\r\n",
        "    s=re.sub('[^a-zA-Z]',' ',s) #remove everything but letters\n",
        "    s=''.join([char for char in s if char not in '!\"\\',?']) #remove all punctuations\n",
        "    s=' '.join(s.split()) # remove whitespaces \n",
        "    s=s.lower()# convert text to lowercase \n",
        "    return s"
      ],
      "execution_count": 121,
      "outputs": []
    },
    {
      "cell_type": "code",
      "metadata": {
        "colab_type": "code",
        "id": "jk_Ol5NSPJ09",
        "colab": {}
      },
      "source": [
        "# clean title and body fields\n",
        "data['title'] = data['title'].apply(lambda x: clean_text(x))\n",
        "data['body'] = data['body'].apply(lambda x: clean_text(x))"
      ],
      "execution_count": 122,
      "outputs": []
    },
    {
      "cell_type": "code",
      "metadata": {
        "colab_type": "code",
        "id": "io_vyqZ0PlWu",
        "colab": {
          "base_uri": "https://localhost:8080/",
          "height": 512
        },
        "outputId": "e7986c14-7d9b-4178-d727-a4dfedc4839b"
      },
      "source": [
        "data.head(10)"
      ],
      "execution_count": 123,
      "outputs": [
        {
          "output_type": "execute_result",
          "data": {
            "text/html": [
              "<div>\n",
              "<style scoped>\n",
              "    .dataframe tbody tr th:only-of-type {\n",
              "        vertical-align: middle;\n",
              "    }\n",
              "\n",
              "    .dataframe tbody tr th {\n",
              "        vertical-align: top;\n",
              "    }\n",
              "\n",
              "    .dataframe thead th {\n",
              "        text-align: right;\n",
              "    }\n",
              "</style>\n",
              "<table border=\"1\" class=\"dataframe\">\n",
              "  <thead>\n",
              "    <tr style=\"text-align: right;\">\n",
              "      <th></th>\n",
              "      <th>title</th>\n",
              "      <th>body</th>\n",
              "      <th>labels</th>\n",
              "    </tr>\n",
              "  </thead>\n",
              "  <tbody>\n",
              "    <tr>\n",
              "      <th>0</th>\n",
              "      <td>fix static injector error</td>\n",
              "      <td>something in the current master build i think ...</td>\n",
              "      <td>[bug]</td>\n",
              "    </tr>\n",
              "    <tr>\n",
              "      <th>1</th>\n",
              "      <td>pulling translations wipes dutch strings</td>\n",
              "      <td>see https github com deltachat deltachat ios pull</td>\n",
              "      <td>[bug]</td>\n",
              "    </tr>\n",
              "    <tr>\n",
              "      <th>2</th>\n",
              "      <td>on ios the text color doesn t work and without...</td>\n",
              "      <td>the problem non ios there is a transparency of...</td>\n",
              "      <td>[feature]</td>\n",
              "    </tr>\n",
              "    <tr>\n",
              "      <th>3</th>\n",
              "      <td>could random hypergeometric be made to match b...</td>\n",
              "      <td>i am trying to implement a multidimensional hy...</td>\n",
              "      <td>[component: numpy.random]</td>\n",
              "    </tr>\n",
              "    <tr>\n",
              "      <th>4</th>\n",
              "      <td>user is able to get help during the deploy sam...</td>\n",
              "      <td>acceptance criteria n there is a highly visibl...</td>\n",
              "      <td>[feature-request, ux-improvements]</td>\n",
              "    </tr>\n",
              "    <tr>\n",
              "      <th>5</th>\n",
              "      <td>cii validation example file</td>\n",
              "      <td>hi nwe are currently implementing both cii and...</td>\n",
              "      <td>[Format CII, Step Schematron, question]</td>\n",
              "    </tr>\n",
              "    <tr>\n",
              "      <th>6</th>\n",
              "      <td>support running a command to get api token fro...</td>\n",
              "      <td>would there be interest in supporting a comman...</td>\n",
              "      <td>[enhancement]</td>\n",
              "    </tr>\n",
              "    <tr>\n",
              "      <th>7</th>\n",
              "      <td>pattern matching</td>\n",
              "      <td>a reasonable encoding of value level pattern m...</td>\n",
              "      <td>[enhancement, question]</td>\n",
              "    </tr>\n",
              "    <tr>\n",
              "      <th>8</th>\n",
              "      <td>fatal error uncaught error call to undefined f...</td>\n",
              "      <td>fatal error uncaught error call to undefined f...</td>\n",
              "      <td>[3rd party Compatibility, NEED FAST REVIEW, [P...</td>\n",
              "    </tr>\n",
              "    <tr>\n",
              "      <th>9</th>\n",
              "      <td>in archives category tags option is disable li...</td>\n",
              "      <td>ref https secure helpscout net conversation fo...</td>\n",
              "      <td>[NEED FAST REVIEW, [Priority: HIGH], bug]</td>\n",
              "    </tr>\n",
              "  </tbody>\n",
              "</table>\n",
              "</div>"
            ],
            "text/plain": [
              "                                               title  \\\n",
              "0                          fix static injector error   \n",
              "1           pulling translations wipes dutch strings   \n",
              "2  on ios the text color doesn t work and without...   \n",
              "3  could random hypergeometric be made to match b...   \n",
              "4  user is able to get help during the deploy sam...   \n",
              "5                        cii validation example file   \n",
              "6  support running a command to get api token fro...   \n",
              "7                                   pattern matching   \n",
              "8  fatal error uncaught error call to undefined f...   \n",
              "9  in archives category tags option is disable li...   \n",
              "\n",
              "                                                body  \\\n",
              "0  something in the current master build i think ...   \n",
              "1  see https github com deltachat deltachat ios pull   \n",
              "2  the problem non ios there is a transparency of...   \n",
              "3  i am trying to implement a multidimensional hy...   \n",
              "4  acceptance criteria n there is a highly visibl...   \n",
              "5  hi nwe are currently implementing both cii and...   \n",
              "6  would there be interest in supporting a comman...   \n",
              "7  a reasonable encoding of value level pattern m...   \n",
              "8  fatal error uncaught error call to undefined f...   \n",
              "9  ref https secure helpscout net conversation fo...   \n",
              "\n",
              "                                              labels  \n",
              "0                                              [bug]  \n",
              "1                                              [bug]  \n",
              "2                                          [feature]  \n",
              "3                          [component: numpy.random]  \n",
              "4                 [feature-request, ux-improvements]  \n",
              "5            [Format CII, Step Schematron, question]  \n",
              "6                                      [enhancement]  \n",
              "7                            [enhancement, question]  \n",
              "8  [3rd party Compatibility, NEED FAST REVIEW, [P...  \n",
              "9          [NEED FAST REVIEW, [Priority: HIGH], bug]  "
            ]
          },
          "metadata": {
            "tags": []
          },
          "execution_count": 123
        }
      ]
    },
    {
      "cell_type": "code",
      "metadata": {
        "id": "PVUd2UeU3pDG",
        "colab_type": "code",
        "colab": {}
      },
      "source": [
        "data['merged']=data['title']+\" \"+data['body']"
      ],
      "execution_count": 124,
      "outputs": []
    },
    {
      "cell_type": "code",
      "metadata": {
        "id": "hY6840MbuYhx",
        "colab_type": "code",
        "colab": {
          "base_uri": "https://localhost:8080/",
          "height": 419
        },
        "outputId": "ef5990dd-2287-4cef-a83d-74f0665bbead"
      },
      "source": [
        "data[['title','merged']]"
      ],
      "execution_count": 125,
      "outputs": [
        {
          "output_type": "execute_result",
          "data": {
            "text/html": [
              "<div>\n",
              "<style scoped>\n",
              "    .dataframe tbody tr th:only-of-type {\n",
              "        vertical-align: middle;\n",
              "    }\n",
              "\n",
              "    .dataframe tbody tr th {\n",
              "        vertical-align: top;\n",
              "    }\n",
              "\n",
              "    .dataframe thead th {\n",
              "        text-align: right;\n",
              "    }\n",
              "</style>\n",
              "<table border=\"1\" class=\"dataframe\">\n",
              "  <thead>\n",
              "    <tr style=\"text-align: right;\">\n",
              "      <th></th>\n",
              "      <th>title</th>\n",
              "      <th>merged</th>\n",
              "    </tr>\n",
              "  </thead>\n",
              "  <tbody>\n",
              "    <tr>\n",
              "      <th>0</th>\n",
              "      <td>fix static injector error</td>\n",
              "      <td>fix static injector error something in the cur...</td>\n",
              "    </tr>\n",
              "    <tr>\n",
              "      <th>1</th>\n",
              "      <td>pulling translations wipes dutch strings</td>\n",
              "      <td>pulling translations wipes dutch strings see h...</td>\n",
              "    </tr>\n",
              "    <tr>\n",
              "      <th>2</th>\n",
              "      <td>on ios the text color doesn t work and without...</td>\n",
              "      <td>on ios the text color doesn t work and without...</td>\n",
              "    </tr>\n",
              "    <tr>\n",
              "      <th>3</th>\n",
              "      <td>could random hypergeometric be made to match b...</td>\n",
              "      <td>could random hypergeometric be made to match b...</td>\n",
              "    </tr>\n",
              "    <tr>\n",
              "      <th>4</th>\n",
              "      <td>user is able to get help during the deploy sam...</td>\n",
              "      <td>user is able to get help during the deploy sam...</td>\n",
              "    </tr>\n",
              "    <tr>\n",
              "      <th>...</th>\n",
              "      <td>...</td>\n",
              "      <td>...</td>\n",
              "    </tr>\n",
              "    <tr>\n",
              "      <th>61952</th>\n",
              "      <td>preserve metadata only objects</td>\n",
              "      <td>preserve metadata only objects child of n ndo ...</td>\n",
              "    </tr>\n",
              "    <tr>\n",
              "      <th>61953</th>\n",
              "      <td>typeerror authuser user is undefined error thr...</td>\n",
              "      <td>typeerror authuser user is undefined error thr...</td>\n",
              "    </tr>\n",
              "    <tr>\n",
              "      <th>61954</th>\n",
              "      <td>games</td>\n",
              "      <td>games garder un espace jeux pour ceux qui s en...</td>\n",
              "    </tr>\n",
              "    <tr>\n",
              "      <th>61955</th>\n",
              "      <td></td>\n",
              "      <td></td>\n",
              "    </tr>\n",
              "    <tr>\n",
              "      <th>61956</th>\n",
              "      <td>undeclared dependencies binutils dev and libib...</td>\n",
              "      <td>undeclared dependencies binutils dev and libib...</td>\n",
              "    </tr>\n",
              "  </tbody>\n",
              "</table>\n",
              "<p>61957 rows × 2 columns</p>\n",
              "</div>"
            ],
            "text/plain": [
              "                                                   title  \\\n",
              "0                              fix static injector error   \n",
              "1               pulling translations wipes dutch strings   \n",
              "2      on ios the text color doesn t work and without...   \n",
              "3      could random hypergeometric be made to match b...   \n",
              "4      user is able to get help during the deploy sam...   \n",
              "...                                                  ...   \n",
              "61952                     preserve metadata only objects   \n",
              "61953  typeerror authuser user is undefined error thr...   \n",
              "61954                                              games   \n",
              "61955                                                      \n",
              "61956  undeclared dependencies binutils dev and libib...   \n",
              "\n",
              "                                                  merged  \n",
              "0      fix static injector error something in the cur...  \n",
              "1      pulling translations wipes dutch strings see h...  \n",
              "2      on ios the text color doesn t work and without...  \n",
              "3      could random hypergeometric be made to match b...  \n",
              "4      user is able to get help during the deploy sam...  \n",
              "...                                                  ...  \n",
              "61952  preserve metadata only objects child of n ndo ...  \n",
              "61953  typeerror authuser user is undefined error thr...  \n",
              "61954  games garder un espace jeux pour ceux qui s en...  \n",
              "61955                                                     \n",
              "61956  undeclared dependencies binutils dev and libib...  \n",
              "\n",
              "[61957 rows x 2 columns]"
            ]
          },
          "metadata": {
            "tags": []
          },
          "execution_count": 125
        }
      ]
    },
    {
      "cell_type": "code",
      "metadata": {
        "colab_type": "code",
        "id": "_tBgzPbmaEzq",
        "colab": {}
      },
      "source": [
        "#Labels of different issues are in different forms as they are created manually\n",
        "#Need to bring all in same shape to get proper count\n",
        "\n",
        "def clean_label(l):\n",
        "    s=','.join(l) # convert list to string\n",
        "    s=re.sub(r'\\[[^\\]]*\\]','',s) # remove everything within []\n",
        "    s=re.sub('[^a-zA-Z\\,]',' ',s) # remove everything but letters and comma\n",
        "    s=' '.join(s.split()) # remove extra spaces\n",
        "    s=s.lower() # to lowercase\n",
        "    lst=s.split(',')\n",
        "    return [lb.strip() for lb in lst] #strip spaces"
      ],
      "execution_count": 126,
      "outputs": []
    },
    {
      "cell_type": "code",
      "metadata": {
        "colab_type": "code",
        "id": "b7hoD_aSaSuI",
        "colab": {}
      },
      "source": [
        "data['clean_lbl']=data['labels'].apply(lambda x: clean_label(x))"
      ],
      "execution_count": 127,
      "outputs": []
    },
    {
      "cell_type": "code",
      "metadata": {
        "colab_type": "code",
        "id": "8aVtf_xwalQL",
        "colab": {
          "base_uri": "https://localhost:8080/",
          "height": 289
        },
        "outputId": "447c269c-e8df-4c63-c9bc-fe8639fe0198"
      },
      "source": [
        "data.head()"
      ],
      "execution_count": 128,
      "outputs": [
        {
          "output_type": "execute_result",
          "data": {
            "text/html": [
              "<div>\n",
              "<style scoped>\n",
              "    .dataframe tbody tr th:only-of-type {\n",
              "        vertical-align: middle;\n",
              "    }\n",
              "\n",
              "    .dataframe tbody tr th {\n",
              "        vertical-align: top;\n",
              "    }\n",
              "\n",
              "    .dataframe thead th {\n",
              "        text-align: right;\n",
              "    }\n",
              "</style>\n",
              "<table border=\"1\" class=\"dataframe\">\n",
              "  <thead>\n",
              "    <tr style=\"text-align: right;\">\n",
              "      <th></th>\n",
              "      <th>title</th>\n",
              "      <th>body</th>\n",
              "      <th>labels</th>\n",
              "      <th>merged</th>\n",
              "      <th>clean_lbl</th>\n",
              "    </tr>\n",
              "  </thead>\n",
              "  <tbody>\n",
              "    <tr>\n",
              "      <th>0</th>\n",
              "      <td>fix static injector error</td>\n",
              "      <td>something in the current master build i think ...</td>\n",
              "      <td>[bug]</td>\n",
              "      <td>fix static injector error something in the cur...</td>\n",
              "      <td>[bug]</td>\n",
              "    </tr>\n",
              "    <tr>\n",
              "      <th>1</th>\n",
              "      <td>pulling translations wipes dutch strings</td>\n",
              "      <td>see https github com deltachat deltachat ios pull</td>\n",
              "      <td>[bug]</td>\n",
              "      <td>pulling translations wipes dutch strings see h...</td>\n",
              "      <td>[bug]</td>\n",
              "    </tr>\n",
              "    <tr>\n",
              "      <th>2</th>\n",
              "      <td>on ios the text color doesn t work and without...</td>\n",
              "      <td>the problem non ios there is a transparency of...</td>\n",
              "      <td>[feature]</td>\n",
              "      <td>on ios the text color doesn t work and without...</td>\n",
              "      <td>[feature]</td>\n",
              "    </tr>\n",
              "    <tr>\n",
              "      <th>3</th>\n",
              "      <td>could random hypergeometric be made to match b...</td>\n",
              "      <td>i am trying to implement a multidimensional hy...</td>\n",
              "      <td>[component: numpy.random]</td>\n",
              "      <td>could random hypergeometric be made to match b...</td>\n",
              "      <td>[component numpy random]</td>\n",
              "    </tr>\n",
              "    <tr>\n",
              "      <th>4</th>\n",
              "      <td>user is able to get help during the deploy sam...</td>\n",
              "      <td>acceptance criteria n there is a highly visibl...</td>\n",
              "      <td>[feature-request, ux-improvements]</td>\n",
              "      <td>user is able to get help during the deploy sam...</td>\n",
              "      <td>[feature request, ux improvements]</td>\n",
              "    </tr>\n",
              "  </tbody>\n",
              "</table>\n",
              "</div>"
            ],
            "text/plain": [
              "                                               title  \\\n",
              "0                          fix static injector error   \n",
              "1           pulling translations wipes dutch strings   \n",
              "2  on ios the text color doesn t work and without...   \n",
              "3  could random hypergeometric be made to match b...   \n",
              "4  user is able to get help during the deploy sam...   \n",
              "\n",
              "                                                body  \\\n",
              "0  something in the current master build i think ...   \n",
              "1  see https github com deltachat deltachat ios pull   \n",
              "2  the problem non ios there is a transparency of...   \n",
              "3  i am trying to implement a multidimensional hy...   \n",
              "4  acceptance criteria n there is a highly visibl...   \n",
              "\n",
              "                               labels  \\\n",
              "0                               [bug]   \n",
              "1                               [bug]   \n",
              "2                           [feature]   \n",
              "3           [component: numpy.random]   \n",
              "4  [feature-request, ux-improvements]   \n",
              "\n",
              "                                              merged  \\\n",
              "0  fix static injector error something in the cur...   \n",
              "1  pulling translations wipes dutch strings see h...   \n",
              "2  on ios the text color doesn t work and without...   \n",
              "3  could random hypergeometric be made to match b...   \n",
              "4  user is able to get help during the deploy sam...   \n",
              "\n",
              "                            clean_lbl  \n",
              "0                               [bug]  \n",
              "1                               [bug]  \n",
              "2                           [feature]  \n",
              "3            [component numpy random]  \n",
              "4  [feature request, ux improvements]  "
            ]
          },
          "metadata": {
            "tags": []
          },
          "execution_count": 128
        }
      ]
    },
    {
      "cell_type": "code",
      "metadata": {
        "id": "-3BDvel1JJ0A",
        "colab_type": "code",
        "colab": {}
      },
      "source": [
        "#get all labels in a single list\n",
        "l=[]\n",
        "for i in data['clean_lbl']:\n",
        "    l.append(i)"
      ],
      "execution_count": 129,
      "outputs": []
    },
    {
      "cell_type": "code",
      "metadata": {
        "id": "2uX8VhGfJJ0H",
        "colab_type": "code",
        "colab": {
          "base_uri": "https://localhost:8080/",
          "height": 102
        },
        "outputId": "23d6a0b3-613a-408c-e71c-98329dc6632a"
      },
      "source": [
        "l[:5]"
      ],
      "execution_count": 130,
      "outputs": [
        {
          "output_type": "execute_result",
          "data": {
            "text/plain": [
              "[['bug'],\n",
              " ['bug'],\n",
              " ['feature'],\n",
              " ['component numpy random'],\n",
              " ['feature request', 'ux improvements']]"
            ]
          },
          "metadata": {
            "tags": []
          },
          "execution_count": 130
        }
      ]
    },
    {
      "cell_type": "code",
      "metadata": {
        "id": "qGnrjKmaJJ0M",
        "colab_type": "code",
        "colab": {}
      },
      "source": [
        "#Count frequency of labels\n",
        "count={}\n",
        "for y in l:  \n",
        "    for x in y:\n",
        "        if x not in count:\n",
        "            count[x]=1\n",
        "        else:\n",
        "            count[x]+=1\n",
        "d = collections.Counter(count)\n",
        "freq=[]\n",
        "for w,c in d.most_common(2502):\n",
        "    freq.append([w,c])"
      ],
      "execution_count": 131,
      "outputs": []
    },
    {
      "cell_type": "code",
      "metadata": {
        "id": "fBZOuopzJJ0Q",
        "colab_type": "code",
        "colab": {
          "base_uri": "https://localhost:8080/",
          "height": 867
        },
        "outputId": "16c7bbf8-7094-4e26-ecff-92cb3b701eba"
      },
      "source": [
        "#top 50 frequent labels\n",
        "freq[:50]"
      ],
      "execution_count": 132,
      "outputs": [
        {
          "output_type": "execute_result",
          "data": {
            "text/plain": [
              "[['bug', 19221],\n",
              " ['enhancement', 15414],\n",
              " ['question', 11555],\n",
              " ['help wanted', 1812],\n",
              " ['severity', 1667],\n",
              " ['feature', 1550],\n",
              " ['type bug', 1267],\n",
              " ['good first issue', 1217],\n",
              " ['triaged', 923],\n",
              " ['kind bug', 883],\n",
              " ['feature request', 747],\n",
              " ['wontfix', 732],\n",
              " ['stale', 689],\n",
              " ['product question', 675],\n",
              " ['', 661],\n",
              " ['engine gecko', 595],\n",
              " ['cxp', 573],\n",
              " ['type question', 551],\n",
              " ['p', 533],\n",
              " ['in progress', 463],\n",
              " ['type enhancement', 458],\n",
              " ['documentation', 428],\n",
              " ['fixed', 331],\n",
              " ['assigned to author', 331],\n",
              " ['priority high', 330],\n",
              " ['duplicate', 326],\n",
              " ['type feature', 304],\n",
              " ['doc enhancement', 303],\n",
              " ['invalid', 291],\n",
              " ['pri', 268],\n",
              " ['lifecycle rotten', 259],\n",
              " ['priority p', 254],\n",
              " ['kind feature', 241],\n",
              " ['priority medium', 236],\n",
              " ['hacktoberfest', 230],\n",
              " ['new feature', 223],\n",
              " ['frontend', 221],\n",
              " ['doc bug', 216],\n",
              " ['high priority', 213],\n",
              " ['kind question', 209],\n",
              " ['browser firefox', 209],\n",
              " ['browser firefox mobile', 204],\n",
              " ['v', 202],\n",
              " ['priority critical', 198],\n",
              " ['ui', 198],\n",
              " ['kind enhancement', 197],\n",
              " ['priority', 170],\n",
              " ['priority normal', 158],\n",
              " ['priority low', 158],\n",
              " ['needs triage', 156]]"
            ]
          },
          "metadata": {
            "tags": []
          },
          "execution_count": 132
        }
      ]
    },
    {
      "cell_type": "code",
      "metadata": {
        "colab_type": "code",
        "id": "hOFm2ZqWc_tJ",
        "colab": {}
      },
      "source": [
        "#\"type bug\",\"kind bug\" & \"bug fix\" are same, need to make them all as \"bug\"\n",
        "#Same thing applies for other labels. Using multiple string replaces for the same purpose\n",
        "lbls=[]\n",
        "for i in l:\n",
        "    i=[w.replace('type bug','bug').replace('kind bug','bug').replace('bug fix','bug').replace('bug bug','bug').replace('t bug','bug').replace('c bug','bug')\n",
        "       .replace('c enhancement','enhancement').replace('doenhancement','enhancement').replace('type enhancement','enhancement')\n",
        "       .replace('kind enhancement','enhancement').replace('improvement','enhancement').replace('suggestion','enhancement')\n",
        "       .replace('t be enhancement','enhancement').replace('t fe enhancement','enhancement')\n",
        "       .replace('feature request','feature').replace('new feature','feature').replace('type feature','feature')\n",
        "       .replace('kind feature','feature').replace('feature refactoring','feature')\n",
        "       .replace('priority high','highpriority').replace('priority critical','highpriority').replace('priority p','highpriority')\n",
        "       .replace('high priority','highpriority').replace('p high','highpriority').replace('priority important','highpriority')\n",
        "       .replace('priority medium','mediumpriority').replace('medium priority','mediumpriority')\n",
        "       .replace('priority med','mediumpriority').replace('p medium','mediumpriority')\n",
        "       .replace('low priority','lowpriority').replace('priority low','lowpriority')\n",
        "       .replace('type question','question').replace('kind question','question').replace('product question','question')\n",
        "       .replace('type support','support').replace('help wanted','helpwanted')\n",
        "       .replace('docs','documentation').replace('documentation needed','documentation').replace('type documentation','documentation')\n",
        "       .replace('type task','task').replace('front end','frontend')\n",
        "       .replace('type helpwanted','helpwanted').replace('in review','review').replace('triaged','triage') for w in i]\n",
        "    lbls.append(i)"
      ],
      "execution_count": 133,
      "outputs": []
    },
    {
      "cell_type": "code",
      "metadata": {
        "colab_type": "code",
        "id": "7_Qj0BHw38vb",
        "colab": {}
      },
      "source": [
        "count={}\n",
        "for y in lbls:\n",
        "    for x in y:\n",
        "        if x not in count:\n",
        "            count[x]=1\n",
        "        else:\n",
        "            count[x]+=1\n",
        "d = collections.Counter(count)\n",
        "freq=[]\n",
        "for w,c in d.most_common():\n",
        "    freq.append([w,c])"
      ],
      "execution_count": 134,
      "outputs": []
    },
    {
      "cell_type": "code",
      "metadata": {
        "colab_type": "code",
        "id": "M3m0Zpz3ApX9",
        "colab": {
          "base_uri": "https://localhost:8080/",
          "height": 867
        },
        "outputId": "47e9a78a-acf0-4db9-a8f3-4fc8b0600e19"
      },
      "source": [
        "freq[:50]"
      ],
      "execution_count": 135,
      "outputs": [
        {
          "output_type": "execute_result",
          "data": {
            "text/plain": [
              "[['bug', 21798],\n",
              " ['enhancement', 16491],\n",
              " ['question', 12990],\n",
              " ['feature', 3239],\n",
              " ['helpwanted', 1821],\n",
              " ['severity', 1667],\n",
              " ['highpriority', 1228],\n",
              " ['good first issue', 1217],\n",
              " ['triage', 995],\n",
              " ['wontfix', 732],\n",
              " ['stale', 689],\n",
              " ['', 661],\n",
              " ['engine gecko', 595],\n",
              " ['documentation', 591],\n",
              " ['cxp', 573],\n",
              " ['p', 533],\n",
              " ['in progress', 463],\n",
              " ['mediumpriority', 452],\n",
              " ['fixed', 331],\n",
              " ['assigned to author', 331],\n",
              " ['duplicate', 326],\n",
              " ['lowpriority', 309],\n",
              " ['invalid', 291],\n",
              " ['frontend', 281],\n",
              " ['pri', 268],\n",
              " ['lifecycle rotten', 259],\n",
              " ['hacktoberfest', 230],\n",
              " ['dobug', 216],\n",
              " ['browser firefox', 209],\n",
              " ['browser firefox mobile', 204],\n",
              " ['v', 202],\n",
              " ['ui', 198],\n",
              " ['priority', 170],\n",
              " ['priority normal', 158],\n",
              " ['needs triage', 156],\n",
              " ['backend', 152],\n",
              " ['browser fenix', 140],\n",
              " ['task', 138],\n",
              " ['greenkeeper', 138],\n",
              " ['discussion', 132],\n",
              " ['api', 130],\n",
              " ['answered', 129],\n",
              " ['active directory svc', 123],\n",
              " ['done', 116],\n",
              " ['needs more info', 114],\n",
              " ['core', 114],\n",
              " ['review', 111],\n",
              " ['support', 110],\n",
              " ['design', 103],\n",
              " ['high', 99]]"
            ]
          },
          "metadata": {
            "tags": []
          },
          "execution_count": 135
        }
      ]
    },
    {
      "cell_type": "code",
      "metadata": {
        "id": "Fi3yCX7GQtdj",
        "colab_type": "code",
        "colab": {}
      },
      "source": [
        "#feature and enhancement are same hence using single word enhancement\n",
        "lbls1=[]\n",
        "for i in lbls:\n",
        "    i=[w.replace('feature','enhancement')\n",
        "        for w in i]\n",
        "    lbls1.append(i)"
      ],
      "execution_count": 136,
      "outputs": []
    },
    {
      "cell_type": "code",
      "metadata": {
        "id": "sx9iZu4dQtAA",
        "colab_type": "code",
        "colab": {}
      },
      "source": [
        "count={}\n",
        "for y in lbls1:\n",
        "    for x in y:\n",
        "        if x not in count:\n",
        "            count[x]=1\n",
        "        else:\n",
        "            count[x]+=1\n",
        "d = collections.Counter(count)\n",
        "freq=[]\n",
        "for w,c in d.most_common():\n",
        "    freq.append([w,c])"
      ],
      "execution_count": 137,
      "outputs": []
    },
    {
      "cell_type": "code",
      "metadata": {
        "id": "mSvVNEAzSGsa",
        "colab_type": "code",
        "colab": {
          "base_uri": "https://localhost:8080/",
          "height": 867
        },
        "outputId": "e5f66e1f-8df3-4904-f1ff-ca47aa9d69a4"
      },
      "source": [
        "freq[:50]"
      ],
      "execution_count": 138,
      "outputs": [
        {
          "output_type": "execute_result",
          "data": {
            "text/plain": [
              "[['bug', 21798],\n",
              " ['enhancement', 19730],\n",
              " ['question', 12990],\n",
              " ['helpwanted', 1821],\n",
              " ['severity', 1667],\n",
              " ['highpriority', 1228],\n",
              " ['good first issue', 1217],\n",
              " ['triage', 995],\n",
              " ['wontfix', 732],\n",
              " ['stale', 689],\n",
              " ['', 661],\n",
              " ['engine gecko', 595],\n",
              " ['documentation', 591],\n",
              " ['cxp', 573],\n",
              " ['p', 533],\n",
              " ['in progress', 463],\n",
              " ['mediumpriority', 452],\n",
              " ['fixed', 331],\n",
              " ['assigned to author', 331],\n",
              " ['duplicate', 326],\n",
              " ['lowpriority', 309],\n",
              " ['invalid', 291],\n",
              " ['frontend', 281],\n",
              " ['pri', 268],\n",
              " ['lifecycle rotten', 259],\n",
              " ['hacktoberfest', 230],\n",
              " ['dobug', 216],\n",
              " ['browser firefox', 209],\n",
              " ['browser firefox mobile', 204],\n",
              " ['v', 202],\n",
              " ['ui', 198],\n",
              " ['priority', 170],\n",
              " ['priority normal', 158],\n",
              " ['needs triage', 156],\n",
              " ['backend', 152],\n",
              " ['browser fenix', 140],\n",
              " ['task', 138],\n",
              " ['greenkeeper', 138],\n",
              " ['discussion', 132],\n",
              " ['api', 130],\n",
              " ['answered', 129],\n",
              " ['active directory svc', 123],\n",
              " ['done', 116],\n",
              " ['needs more info', 114],\n",
              " ['core', 114],\n",
              " ['review', 111],\n",
              " ['support', 110],\n",
              " ['design', 103],\n",
              " ['high', 99],\n",
              " ['highpriority soon', 96]]"
            ]
          },
          "metadata": {
            "tags": []
          },
          "execution_count": 138
        }
      ]
    },
    {
      "cell_type": "code",
      "metadata": {
        "colab_type": "code",
        "id": "BPe3L7oeI5fn",
        "colab": {
          "base_uri": "https://localhost:8080/",
          "height": 357
        },
        "outputId": "f5a2fcb3-3133-475d-abda-db91cc1ccab0"
      },
      "source": [
        "#add cleaned labels to the dataset\n",
        "data['lbls_clean']=lbls1\n",
        "data.head()"
      ],
      "execution_count": 139,
      "outputs": [
        {
          "output_type": "execute_result",
          "data": {
            "text/html": [
              "<div>\n",
              "<style scoped>\n",
              "    .dataframe tbody tr th:only-of-type {\n",
              "        vertical-align: middle;\n",
              "    }\n",
              "\n",
              "    .dataframe tbody tr th {\n",
              "        vertical-align: top;\n",
              "    }\n",
              "\n",
              "    .dataframe thead th {\n",
              "        text-align: right;\n",
              "    }\n",
              "</style>\n",
              "<table border=\"1\" class=\"dataframe\">\n",
              "  <thead>\n",
              "    <tr style=\"text-align: right;\">\n",
              "      <th></th>\n",
              "      <th>title</th>\n",
              "      <th>body</th>\n",
              "      <th>labels</th>\n",
              "      <th>merged</th>\n",
              "      <th>clean_lbl</th>\n",
              "      <th>lbls_clean</th>\n",
              "    </tr>\n",
              "  </thead>\n",
              "  <tbody>\n",
              "    <tr>\n",
              "      <th>0</th>\n",
              "      <td>fix static injector error</td>\n",
              "      <td>something in the current master build i think ...</td>\n",
              "      <td>[bug]</td>\n",
              "      <td>fix static injector error something in the cur...</td>\n",
              "      <td>[bug]</td>\n",
              "      <td>[bug]</td>\n",
              "    </tr>\n",
              "    <tr>\n",
              "      <th>1</th>\n",
              "      <td>pulling translations wipes dutch strings</td>\n",
              "      <td>see https github com deltachat deltachat ios pull</td>\n",
              "      <td>[bug]</td>\n",
              "      <td>pulling translations wipes dutch strings see h...</td>\n",
              "      <td>[bug]</td>\n",
              "      <td>[bug]</td>\n",
              "    </tr>\n",
              "    <tr>\n",
              "      <th>2</th>\n",
              "      <td>on ios the text color doesn t work and without...</td>\n",
              "      <td>the problem non ios there is a transparency of...</td>\n",
              "      <td>[feature]</td>\n",
              "      <td>on ios the text color doesn t work and without...</td>\n",
              "      <td>[feature]</td>\n",
              "      <td>[enhancement]</td>\n",
              "    </tr>\n",
              "    <tr>\n",
              "      <th>3</th>\n",
              "      <td>could random hypergeometric be made to match b...</td>\n",
              "      <td>i am trying to implement a multidimensional hy...</td>\n",
              "      <td>[component: numpy.random]</td>\n",
              "      <td>could random hypergeometric be made to match b...</td>\n",
              "      <td>[component numpy random]</td>\n",
              "      <td>[component numpy random]</td>\n",
              "    </tr>\n",
              "    <tr>\n",
              "      <th>4</th>\n",
              "      <td>user is able to get help during the deploy sam...</td>\n",
              "      <td>acceptance criteria n there is a highly visibl...</td>\n",
              "      <td>[feature-request, ux-improvements]</td>\n",
              "      <td>user is able to get help during the deploy sam...</td>\n",
              "      <td>[feature request, ux improvements]</td>\n",
              "      <td>[enhancement, ux enhancements]</td>\n",
              "    </tr>\n",
              "  </tbody>\n",
              "</table>\n",
              "</div>"
            ],
            "text/plain": [
              "                                               title  \\\n",
              "0                          fix static injector error   \n",
              "1           pulling translations wipes dutch strings   \n",
              "2  on ios the text color doesn t work and without...   \n",
              "3  could random hypergeometric be made to match b...   \n",
              "4  user is able to get help during the deploy sam...   \n",
              "\n",
              "                                                body  \\\n",
              "0  something in the current master build i think ...   \n",
              "1  see https github com deltachat deltachat ios pull   \n",
              "2  the problem non ios there is a transparency of...   \n",
              "3  i am trying to implement a multidimensional hy...   \n",
              "4  acceptance criteria n there is a highly visibl...   \n",
              "\n",
              "                               labels  \\\n",
              "0                               [bug]   \n",
              "1                               [bug]   \n",
              "2                           [feature]   \n",
              "3           [component: numpy.random]   \n",
              "4  [feature-request, ux-improvements]   \n",
              "\n",
              "                                              merged  \\\n",
              "0  fix static injector error something in the cur...   \n",
              "1  pulling translations wipes dutch strings see h...   \n",
              "2  on ios the text color doesn t work and without...   \n",
              "3  could random hypergeometric be made to match b...   \n",
              "4  user is able to get help during the deploy sam...   \n",
              "\n",
              "                            clean_lbl                      lbls_clean  \n",
              "0                               [bug]                           [bug]  \n",
              "1                               [bug]                           [bug]  \n",
              "2                           [feature]                   [enhancement]  \n",
              "3            [component numpy random]        [component numpy random]  \n",
              "4  [feature request, ux improvements]  [enhancement, ux enhancements]  "
            ]
          },
          "metadata": {
            "tags": []
          },
          "execution_count": 139
        }
      ]
    },
    {
      "cell_type": "code",
      "metadata": {
        "colab_type": "code",
        "id": "vmEk4c4YI4db",
        "colab": {}
      },
      "source": [
        "#Not all labels can be taken for model building hence selecting\n",
        "#Important and some common labels of almost every repository\n",
        "selected_labels=['bug','enhancement','question']\n",
        "#,'helpwanted','documentation','task','invalid','support','review','frontend'\n",
        "\n",
        "#Not all labels can be taken for model building\n",
        "#Selecting top 50 frequent labels\n",
        "#selected_labels=[]\n",
        "#for i in freq[:50]:\n",
        "#    selected_labels.append(i[0])"
      ],
      "execution_count": 140,
      "outputs": []
    },
    {
      "cell_type": "code",
      "metadata": {
        "id": "abWrZwyTJJ0s",
        "colab_type": "code",
        "colab": {}
      },
      "source": [
        "#selected_labels[:5]"
      ],
      "execution_count": 141,
      "outputs": []
    },
    {
      "cell_type": "code",
      "metadata": {
        "colab_type": "code",
        "id": "rV29NoprMXZy",
        "colab": {
          "base_uri": "https://localhost:8080/",
          "height": 204
        },
        "outputId": "275f16df-2383-46e3-ee8a-895aed6c74ae"
      },
      "source": [
        "dset=data[[\"merged\",\"lbls_clean\"]]\n",
        "dset.head()"
      ],
      "execution_count": 142,
      "outputs": [
        {
          "output_type": "execute_result",
          "data": {
            "text/html": [
              "<div>\n",
              "<style scoped>\n",
              "    .dataframe tbody tr th:only-of-type {\n",
              "        vertical-align: middle;\n",
              "    }\n",
              "\n",
              "    .dataframe tbody tr th {\n",
              "        vertical-align: top;\n",
              "    }\n",
              "\n",
              "    .dataframe thead th {\n",
              "        text-align: right;\n",
              "    }\n",
              "</style>\n",
              "<table border=\"1\" class=\"dataframe\">\n",
              "  <thead>\n",
              "    <tr style=\"text-align: right;\">\n",
              "      <th></th>\n",
              "      <th>merged</th>\n",
              "      <th>lbls_clean</th>\n",
              "    </tr>\n",
              "  </thead>\n",
              "  <tbody>\n",
              "    <tr>\n",
              "      <th>0</th>\n",
              "      <td>fix static injector error something in the cur...</td>\n",
              "      <td>[bug]</td>\n",
              "    </tr>\n",
              "    <tr>\n",
              "      <th>1</th>\n",
              "      <td>pulling translations wipes dutch strings see h...</td>\n",
              "      <td>[bug]</td>\n",
              "    </tr>\n",
              "    <tr>\n",
              "      <th>2</th>\n",
              "      <td>on ios the text color doesn t work and without...</td>\n",
              "      <td>[enhancement]</td>\n",
              "    </tr>\n",
              "    <tr>\n",
              "      <th>3</th>\n",
              "      <td>could random hypergeometric be made to match b...</td>\n",
              "      <td>[component numpy random]</td>\n",
              "    </tr>\n",
              "    <tr>\n",
              "      <th>4</th>\n",
              "      <td>user is able to get help during the deploy sam...</td>\n",
              "      <td>[enhancement, ux enhancements]</td>\n",
              "    </tr>\n",
              "  </tbody>\n",
              "</table>\n",
              "</div>"
            ],
            "text/plain": [
              "                                              merged  \\\n",
              "0  fix static injector error something in the cur...   \n",
              "1  pulling translations wipes dutch strings see h...   \n",
              "2  on ios the text color doesn t work and without...   \n",
              "3  could random hypergeometric be made to match b...   \n",
              "4  user is able to get help during the deploy sam...   \n",
              "\n",
              "                       lbls_clean  \n",
              "0                           [bug]  \n",
              "1                           [bug]  \n",
              "2                   [enhancement]  \n",
              "3        [component numpy random]  \n",
              "4  [enhancement, ux enhancements]  "
            ]
          },
          "metadata": {
            "tags": []
          },
          "execution_count": 142
        }
      ]
    },
    {
      "cell_type": "code",
      "metadata": {
        "colab_type": "code",
        "id": "du-x6jM8QCsa",
        "colab": {
          "base_uri": "https://localhost:8080/",
          "height": 481
        },
        "outputId": "145391d7-f21e-44ab-81d2-34b42d9be500"
      },
      "source": [
        "#Keep only selected labels and remove others\n",
        "#each row is intersected with the selected_labels lists\n",
        "def intersection(lst1, lst2): \n",
        "    temp = set(lst2) \n",
        "    lst3 = [value for value in lst1 if value in temp] \n",
        "    return lst3\n",
        "\n",
        "dset['lbls_clean']=[intersection(selected_labels,i) for i in dset['lbls_clean']]\n",
        "dset.head(10)"
      ],
      "execution_count": 143,
      "outputs": [
        {
          "output_type": "stream",
          "text": [
            "/usr/local/lib/python3.6/dist-packages/ipykernel_launcher.py:8: SettingWithCopyWarning: \n",
            "A value is trying to be set on a copy of a slice from a DataFrame.\n",
            "Try using .loc[row_indexer,col_indexer] = value instead\n",
            "\n",
            "See the caveats in the documentation: https://pandas.pydata.org/pandas-docs/stable/user_guide/indexing.html#returning-a-view-versus-a-copy\n",
            "  \n"
          ],
          "name": "stderr"
        },
        {
          "output_type": "execute_result",
          "data": {
            "text/html": [
              "<div>\n",
              "<style scoped>\n",
              "    .dataframe tbody tr th:only-of-type {\n",
              "        vertical-align: middle;\n",
              "    }\n",
              "\n",
              "    .dataframe tbody tr th {\n",
              "        vertical-align: top;\n",
              "    }\n",
              "\n",
              "    .dataframe thead th {\n",
              "        text-align: right;\n",
              "    }\n",
              "</style>\n",
              "<table border=\"1\" class=\"dataframe\">\n",
              "  <thead>\n",
              "    <tr style=\"text-align: right;\">\n",
              "      <th></th>\n",
              "      <th>merged</th>\n",
              "      <th>lbls_clean</th>\n",
              "    </tr>\n",
              "  </thead>\n",
              "  <tbody>\n",
              "    <tr>\n",
              "      <th>0</th>\n",
              "      <td>fix static injector error something in the cur...</td>\n",
              "      <td>[bug]</td>\n",
              "    </tr>\n",
              "    <tr>\n",
              "      <th>1</th>\n",
              "      <td>pulling translations wipes dutch strings see h...</td>\n",
              "      <td>[bug]</td>\n",
              "    </tr>\n",
              "    <tr>\n",
              "      <th>2</th>\n",
              "      <td>on ios the text color doesn t work and without...</td>\n",
              "      <td>[enhancement]</td>\n",
              "    </tr>\n",
              "    <tr>\n",
              "      <th>3</th>\n",
              "      <td>could random hypergeometric be made to match b...</td>\n",
              "      <td>[]</td>\n",
              "    </tr>\n",
              "    <tr>\n",
              "      <th>4</th>\n",
              "      <td>user is able to get help during the deploy sam...</td>\n",
              "      <td>[enhancement]</td>\n",
              "    </tr>\n",
              "    <tr>\n",
              "      <th>5</th>\n",
              "      <td>cii validation example file hi nwe are current...</td>\n",
              "      <td>[question]</td>\n",
              "    </tr>\n",
              "    <tr>\n",
              "      <th>6</th>\n",
              "      <td>support running a command to get api token fro...</td>\n",
              "      <td>[enhancement]</td>\n",
              "    </tr>\n",
              "    <tr>\n",
              "      <th>7</th>\n",
              "      <td>pattern matching a reasonable encoding of valu...</td>\n",
              "      <td>[enhancement, question]</td>\n",
              "    </tr>\n",
              "    <tr>\n",
              "      <th>8</th>\n",
              "      <td>fatal error uncaught error call to undefined f...</td>\n",
              "      <td>[bug]</td>\n",
              "    </tr>\n",
              "    <tr>\n",
              "      <th>9</th>\n",
              "      <td>in archives category tags option is disable li...</td>\n",
              "      <td>[bug]</td>\n",
              "    </tr>\n",
              "  </tbody>\n",
              "</table>\n",
              "</div>"
            ],
            "text/plain": [
              "                                              merged               lbls_clean\n",
              "0  fix static injector error something in the cur...                    [bug]\n",
              "1  pulling translations wipes dutch strings see h...                    [bug]\n",
              "2  on ios the text color doesn t work and without...            [enhancement]\n",
              "3  could random hypergeometric be made to match b...                       []\n",
              "4  user is able to get help during the deploy sam...            [enhancement]\n",
              "5  cii validation example file hi nwe are current...               [question]\n",
              "6  support running a command to get api token fro...            [enhancement]\n",
              "7  pattern matching a reasonable encoding of valu...  [enhancement, question]\n",
              "8  fatal error uncaught error call to undefined f...                    [bug]\n",
              "9  in archives category tags option is disable li...                    [bug]"
            ]
          },
          "metadata": {
            "tags": []
          },
          "execution_count": 143
        }
      ]
    },
    {
      "cell_type": "code",
      "metadata": {
        "colab_type": "code",
        "id": "mt2PBQniR_eR",
        "colab": {}
      },
      "source": [
        "#Selected labels resulted in some empty labels as many repositories do not have them\n",
        "def clean(s):\n",
        "    if len(s)==0:\n",
        "        s=np.nan\n",
        "    return s\n",
        "\n",
        "ldata=dset.copy(deep=True)   \n",
        "ldata['lbls_clean']=ldata['lbls_clean'].apply(lambda x: clean(x))\n",
        "ldata.dropna(inplace=True) #Removing empty-label rows"
      ],
      "execution_count": 144,
      "outputs": []
    },
    {
      "cell_type": "code",
      "metadata": {
        "colab_type": "code",
        "id": "irojrKu7YzaA",
        "colab": {
          "base_uri": "https://localhost:8080/",
          "height": 34
        },
        "outputId": "9a0575ce-a925-4410-dfba-9ce20677baf2"
      },
      "source": [
        "ldata.shape"
      ],
      "execution_count": 145,
      "outputs": [
        {
          "output_type": "execute_result",
          "data": {
            "text/plain": [
              "(52363, 2)"
            ]
          },
          "metadata": {
            "tags": []
          },
          "execution_count": 145
        }
      ]
    },
    {
      "cell_type": "code",
      "metadata": {
        "colab_type": "code",
        "id": "KL3Oqf_RYg6p",
        "colab": {}
      },
      "source": [
        "#rows having merged body and title with empty values are removed\n",
        "#ldata=ldata[ldata['body']!=\"\"]\n",
        "#ldata=ldata[ldata['title']!=\"\"]\n",
        "ldata=ldata[ldata['merged']!=\"\"]"
      ],
      "execution_count": 146,
      "outputs": []
    },
    {
      "cell_type": "code",
      "metadata": {
        "colab_type": "code",
        "id": "sxl_rR8dZ7af",
        "colab": {
          "base_uri": "https://localhost:8080/",
          "height": 34
        },
        "outputId": "75806816-501b-4819-aeeb-91724de31da2"
      },
      "source": [
        "#finally dataset is reduced to 52,363 rows after cleaning and pre-processing\n",
        "ldata.shape"
      ],
      "execution_count": 147,
      "outputs": [
        {
          "output_type": "execute_result",
          "data": {
            "text/plain": [
              "(52363, 2)"
            ]
          },
          "metadata": {
            "tags": []
          },
          "execution_count": 147
        }
      ]
    },
    {
      "cell_type": "code",
      "metadata": {
        "id": "TLG3zhK_JJ1S",
        "colab_type": "code",
        "colab": {}
      },
      "source": [
        "ldata.reset_index(inplace=True,drop=True)"
      ],
      "execution_count": 148,
      "outputs": []
    },
    {
      "cell_type": "code",
      "metadata": {
        "id": "JTEgH9AaJJ1i",
        "colab_type": "code",
        "colab": {
          "base_uri": "https://localhost:8080/",
          "height": 204
        },
        "outputId": "ca42f528-fc0a-4518-e0a6-576e9525389d"
      },
      "source": [
        "ldata.head()"
      ],
      "execution_count": 149,
      "outputs": [
        {
          "output_type": "execute_result",
          "data": {
            "text/html": [
              "<div>\n",
              "<style scoped>\n",
              "    .dataframe tbody tr th:only-of-type {\n",
              "        vertical-align: middle;\n",
              "    }\n",
              "\n",
              "    .dataframe tbody tr th {\n",
              "        vertical-align: top;\n",
              "    }\n",
              "\n",
              "    .dataframe thead th {\n",
              "        text-align: right;\n",
              "    }\n",
              "</style>\n",
              "<table border=\"1\" class=\"dataframe\">\n",
              "  <thead>\n",
              "    <tr style=\"text-align: right;\">\n",
              "      <th></th>\n",
              "      <th>merged</th>\n",
              "      <th>lbls_clean</th>\n",
              "    </tr>\n",
              "  </thead>\n",
              "  <tbody>\n",
              "    <tr>\n",
              "      <th>0</th>\n",
              "      <td>fix static injector error something in the cur...</td>\n",
              "      <td>[bug]</td>\n",
              "    </tr>\n",
              "    <tr>\n",
              "      <th>1</th>\n",
              "      <td>pulling translations wipes dutch strings see h...</td>\n",
              "      <td>[bug]</td>\n",
              "    </tr>\n",
              "    <tr>\n",
              "      <th>2</th>\n",
              "      <td>on ios the text color doesn t work and without...</td>\n",
              "      <td>[enhancement]</td>\n",
              "    </tr>\n",
              "    <tr>\n",
              "      <th>3</th>\n",
              "      <td>user is able to get help during the deploy sam...</td>\n",
              "      <td>[enhancement]</td>\n",
              "    </tr>\n",
              "    <tr>\n",
              "      <th>4</th>\n",
              "      <td>cii validation example file hi nwe are current...</td>\n",
              "      <td>[question]</td>\n",
              "    </tr>\n",
              "  </tbody>\n",
              "</table>\n",
              "</div>"
            ],
            "text/plain": [
              "                                              merged     lbls_clean\n",
              "0  fix static injector error something in the cur...          [bug]\n",
              "1  pulling translations wipes dutch strings see h...          [bug]\n",
              "2  on ios the text color doesn t work and without...  [enhancement]\n",
              "3  user is able to get help during the deploy sam...  [enhancement]\n",
              "4  cii validation example file hi nwe are current...     [question]"
            ]
          },
          "metadata": {
            "tags": []
          },
          "execution_count": 149
        }
      ]
    },
    {
      "cell_type": "code",
      "metadata": {
        "id": "EJhgslC9p7E-",
        "colab_type": "code",
        "colab": {}
      },
      "source": [
        "#one_hot_encode the labels\n",
        "def one_hot_encode(data,label):\n",
        "  lb=[]\n",
        "  for row in data:\n",
        "    if label in row:\n",
        "      lb.append(1)\n",
        "    else:\n",
        "      lb.append(0)\n",
        "  return lb"
      ],
      "execution_count": 150,
      "outputs": []
    },
    {
      "cell_type": "code",
      "metadata": {
        "id": "kTtusMBWmrrj",
        "colab_type": "code",
        "colab": {}
      },
      "source": [
        "ldata['bug']=one_hot_encode(ldata['lbls_clean'], 'bug')"
      ],
      "execution_count": 151,
      "outputs": []
    },
    {
      "cell_type": "code",
      "metadata": {
        "id": "uGbr7NoLrEly",
        "colab_type": "code",
        "colab": {}
      },
      "source": [
        "ldata['enhancement']=one_hot_encode(ldata['lbls_clean'], 'enhancement')"
      ],
      "execution_count": 152,
      "outputs": []
    },
    {
      "cell_type": "code",
      "metadata": {
        "id": "SW6ZdsXDpphg",
        "colab_type": "code",
        "colab": {}
      },
      "source": [
        "ldata['question']=one_hot_encode(ldata['lbls_clean'], 'question')"
      ],
      "execution_count": 153,
      "outputs": []
    },
    {
      "cell_type": "code",
      "metadata": {
        "id": "YUvCwz3D5zrm",
        "colab_type": "code",
        "colab": {}
      },
      "source": [
        "ldata['id']=ldata.index"
      ],
      "execution_count": 154,
      "outputs": []
    },
    {
      "cell_type": "code",
      "metadata": {
        "id": "JQawe50fte3S",
        "colab_type": "code",
        "colab": {}
      },
      "source": [
        "ldata=ldata[[\"id\",\"merged\", \"bug\", \"enhancement\", \"question\"]]"
      ],
      "execution_count": 155,
      "outputs": []
    },
    {
      "cell_type": "code",
      "metadata": {
        "id": "dp30_wnSt6xm",
        "colab_type": "code",
        "colab": {
          "base_uri": "https://localhost:8080/",
          "height": 419
        },
        "outputId": "c63a00a2-2fa0-49e3-8cd3-3530541b7a62"
      },
      "source": [
        "ldata"
      ],
      "execution_count": 156,
      "outputs": [
        {
          "output_type": "execute_result",
          "data": {
            "text/html": [
              "<div>\n",
              "<style scoped>\n",
              "    .dataframe tbody tr th:only-of-type {\n",
              "        vertical-align: middle;\n",
              "    }\n",
              "\n",
              "    .dataframe tbody tr th {\n",
              "        vertical-align: top;\n",
              "    }\n",
              "\n",
              "    .dataframe thead th {\n",
              "        text-align: right;\n",
              "    }\n",
              "</style>\n",
              "<table border=\"1\" class=\"dataframe\">\n",
              "  <thead>\n",
              "    <tr style=\"text-align: right;\">\n",
              "      <th></th>\n",
              "      <th>id</th>\n",
              "      <th>merged</th>\n",
              "      <th>bug</th>\n",
              "      <th>enhancement</th>\n",
              "      <th>question</th>\n",
              "    </tr>\n",
              "  </thead>\n",
              "  <tbody>\n",
              "    <tr>\n",
              "      <th>0</th>\n",
              "      <td>0</td>\n",
              "      <td>fix static injector error something in the cur...</td>\n",
              "      <td>1</td>\n",
              "      <td>0</td>\n",
              "      <td>0</td>\n",
              "    </tr>\n",
              "    <tr>\n",
              "      <th>1</th>\n",
              "      <td>1</td>\n",
              "      <td>pulling translations wipes dutch strings see h...</td>\n",
              "      <td>1</td>\n",
              "      <td>0</td>\n",
              "      <td>0</td>\n",
              "    </tr>\n",
              "    <tr>\n",
              "      <th>2</th>\n",
              "      <td>2</td>\n",
              "      <td>on ios the text color doesn t work and without...</td>\n",
              "      <td>0</td>\n",
              "      <td>1</td>\n",
              "      <td>0</td>\n",
              "    </tr>\n",
              "    <tr>\n",
              "      <th>3</th>\n",
              "      <td>3</td>\n",
              "      <td>user is able to get help during the deploy sam...</td>\n",
              "      <td>0</td>\n",
              "      <td>1</td>\n",
              "      <td>0</td>\n",
              "    </tr>\n",
              "    <tr>\n",
              "      <th>4</th>\n",
              "      <td>4</td>\n",
              "      <td>cii validation example file hi nwe are current...</td>\n",
              "      <td>0</td>\n",
              "      <td>0</td>\n",
              "      <td>1</td>\n",
              "    </tr>\n",
              "    <tr>\n",
              "      <th>...</th>\n",
              "      <td>...</td>\n",
              "      <td>...</td>\n",
              "      <td>...</td>\n",
              "      <td>...</td>\n",
              "      <td>...</td>\n",
              "    </tr>\n",
              "    <tr>\n",
              "      <th>52358</th>\n",
              "      <td>52358</td>\n",
              "      <td>preserve metadata only objects child of n ndo ...</td>\n",
              "      <td>0</td>\n",
              "      <td>0</td>\n",
              "      <td>1</td>\n",
              "    </tr>\n",
              "    <tr>\n",
              "      <th>52359</th>\n",
              "      <td>52359</td>\n",
              "      <td>typeerror authuser user is undefined error thr...</td>\n",
              "      <td>1</td>\n",
              "      <td>0</td>\n",
              "      <td>0</td>\n",
              "    </tr>\n",
              "    <tr>\n",
              "      <th>52360</th>\n",
              "      <td>52360</td>\n",
              "      <td>games garder un espace jeux pour ceux qui s en...</td>\n",
              "      <td>0</td>\n",
              "      <td>1</td>\n",
              "      <td>0</td>\n",
              "    </tr>\n",
              "    <tr>\n",
              "      <th>52361</th>\n",
              "      <td>52361</td>\n",
              "      <td></td>\n",
              "      <td>0</td>\n",
              "      <td>1</td>\n",
              "      <td>0</td>\n",
              "    </tr>\n",
              "    <tr>\n",
              "      <th>52362</th>\n",
              "      <td>52362</td>\n",
              "      <td>undeclared dependencies binutils dev and libib...</td>\n",
              "      <td>1</td>\n",
              "      <td>0</td>\n",
              "      <td>0</td>\n",
              "    </tr>\n",
              "  </tbody>\n",
              "</table>\n",
              "<p>52363 rows × 5 columns</p>\n",
              "</div>"
            ],
            "text/plain": [
              "          id                                             merged  bug  \\\n",
              "0          0  fix static injector error something in the cur...    1   \n",
              "1          1  pulling translations wipes dutch strings see h...    1   \n",
              "2          2  on ios the text color doesn t work and without...    0   \n",
              "3          3  user is able to get help during the deploy sam...    0   \n",
              "4          4  cii validation example file hi nwe are current...    0   \n",
              "...      ...                                                ...  ...   \n",
              "52358  52358  preserve metadata only objects child of n ndo ...    0   \n",
              "52359  52359  typeerror authuser user is undefined error thr...    1   \n",
              "52360  52360  games garder un espace jeux pour ceux qui s en...    0   \n",
              "52361  52361                                                       0   \n",
              "52362  52362  undeclared dependencies binutils dev and libib...    1   \n",
              "\n",
              "       enhancement  question  \n",
              "0                0         0  \n",
              "1                0         0  \n",
              "2                1         0  \n",
              "3                1         0  \n",
              "4                0         1  \n",
              "...            ...       ...  \n",
              "52358            0         1  \n",
              "52359            0         0  \n",
              "52360            1         0  \n",
              "52361            1         0  \n",
              "52362            0         0  \n",
              "\n",
              "[52363 rows x 5 columns]"
            ]
          },
          "metadata": {
            "tags": []
          },
          "execution_count": 156
        }
      ]
    },
    {
      "cell_type": "markdown",
      "metadata": {
        "id": "_VsOO_bjZ8Vs",
        "colab_type": "text"
      },
      "source": [
        "# Preparing for BERT"
      ]
    },
    {
      "cell_type": "code",
      "metadata": {
        "id": "MoewHVEPZM3y",
        "colab_type": "code",
        "colab": {}
      },
      "source": [
        "import tensorflow_hub as hub"
      ],
      "execution_count": 157,
      "outputs": []
    },
    {
      "cell_type": "code",
      "metadata": {
        "id": "SI0CM6W-aHTY",
        "colab_type": "code",
        "colab": {
          "base_uri": "https://localhost:8080/",
          "height": 51
        },
        "outputId": "8a1f0f78-1f12-4ec6-86a9-74cfaebfbf7d"
      },
      "source": [
        "##install bert if not already done\n",
        "!pip install bert-tensorflow"
      ],
      "execution_count": 158,
      "outputs": [
        {
          "output_type": "stream",
          "text": [
            "Requirement already satisfied: bert-tensorflow in /usr/local/lib/python3.6/dist-packages (1.0.1)\n",
            "Requirement already satisfied: six in /usr/local/lib/python3.6/dist-packages (from bert-tensorflow) (1.12.0)\n"
          ],
          "name": "stdout"
        }
      ]
    },
    {
      "cell_type": "code",
      "metadata": {
        "id": "W-2609KcaQZn",
        "colab_type": "code",
        "colab": {}
      },
      "source": [
        "import bert\n",
        "from bert import run_classifier\n",
        "from bert import optimization\n",
        "from bert import tokenization\n",
        "from bert import modeling"
      ],
      "execution_count": 159,
      "outputs": []
    },
    {
      "cell_type": "code",
      "metadata": {
        "id": "J3lXX3T2aT6N",
        "colab_type": "code",
        "colab": {}
      },
      "source": [
        "##use downloaded model, change path accordingly\n",
        "BERT_VOCAB= '/content/drive/My Drive/FY_project/BERT_models/uncased_L-12_H-768_A-12/vocab.txt'\n",
        "BERT_INIT_CHKPNT = '/content/drive/My Drive/FY_project/BERT_models/uncased_L-12_H-768_A-12/bert_model.ckpt'\n",
        "BERT_CONFIG = '/content/drive/My Drive/FY_project/BERT_models/uncased_L-12_H-768_A-12/bert_config.json'"
      ],
      "execution_count": 160,
      "outputs": []
    },
    {
      "cell_type": "code",
      "metadata": {
        "id": "0fCByX6naWSl",
        "colab_type": "code",
        "colab": {}
      },
      "source": [
        "tokenization.validate_case_matches_checkpoint(True,BERT_INIT_CHKPNT)\n",
        "tokenizer = tokenization.FullTokenizer(\n",
        "      vocab_file=BERT_VOCAB, do_lower_case=True)"
      ],
      "execution_count": 161,
      "outputs": []
    },
    {
      "cell_type": "code",
      "metadata": {
        "id": "NN6jx90Tab_h",
        "colab_type": "code",
        "colab": {
          "base_uri": "https://localhost:8080/",
          "height": 221
        },
        "outputId": "283610b1-3457-424e-8a75-ab9a24b2df7a"
      },
      "source": [
        "tokenizer.tokenize(\"This here's an example of using the BERT tokenizer\")"
      ],
      "execution_count": 162,
      "outputs": [
        {
          "output_type": "execute_result",
          "data": {
            "text/plain": [
              "['this',\n",
              " 'here',\n",
              " \"'\",\n",
              " 's',\n",
              " 'an',\n",
              " 'example',\n",
              " 'of',\n",
              " 'using',\n",
              " 'the',\n",
              " 'bert',\n",
              " 'token',\n",
              " '##izer']"
            ]
          },
          "metadata": {
            "tags": []
          },
          "execution_count": 162
        }
      ]
    },
    {
      "cell_type": "code",
      "metadata": {
        "id": "cuxXP7f78j31",
        "colab_type": "code",
        "colab": {}
      },
      "source": [
        "x_train=ldata[:41890]\n",
        "x_val=ldata[41890:]"
      ],
      "execution_count": 163,
      "outputs": []
    },
    {
      "cell_type": "code",
      "metadata": {
        "id": "cRFmY1wu9d-a",
        "colab_type": "code",
        "colab": {
          "base_uri": "https://localhost:8080/",
          "height": 419
        },
        "outputId": "c9dae477-2cc2-4778-eb86-5727c22647c3"
      },
      "source": [
        "x_train"
      ],
      "execution_count": 164,
      "outputs": [
        {
          "output_type": "execute_result",
          "data": {
            "text/html": [
              "<div>\n",
              "<style scoped>\n",
              "    .dataframe tbody tr th:only-of-type {\n",
              "        vertical-align: middle;\n",
              "    }\n",
              "\n",
              "    .dataframe tbody tr th {\n",
              "        vertical-align: top;\n",
              "    }\n",
              "\n",
              "    .dataframe thead th {\n",
              "        text-align: right;\n",
              "    }\n",
              "</style>\n",
              "<table border=\"1\" class=\"dataframe\">\n",
              "  <thead>\n",
              "    <tr style=\"text-align: right;\">\n",
              "      <th></th>\n",
              "      <th>id</th>\n",
              "      <th>merged</th>\n",
              "      <th>bug</th>\n",
              "      <th>enhancement</th>\n",
              "      <th>question</th>\n",
              "    </tr>\n",
              "  </thead>\n",
              "  <tbody>\n",
              "    <tr>\n",
              "      <th>0</th>\n",
              "      <td>0</td>\n",
              "      <td>fix static injector error something in the cur...</td>\n",
              "      <td>1</td>\n",
              "      <td>0</td>\n",
              "      <td>0</td>\n",
              "    </tr>\n",
              "    <tr>\n",
              "      <th>1</th>\n",
              "      <td>1</td>\n",
              "      <td>pulling translations wipes dutch strings see h...</td>\n",
              "      <td>1</td>\n",
              "      <td>0</td>\n",
              "      <td>0</td>\n",
              "    </tr>\n",
              "    <tr>\n",
              "      <th>2</th>\n",
              "      <td>2</td>\n",
              "      <td>on ios the text color doesn t work and without...</td>\n",
              "      <td>0</td>\n",
              "      <td>1</td>\n",
              "      <td>0</td>\n",
              "    </tr>\n",
              "    <tr>\n",
              "      <th>3</th>\n",
              "      <td>3</td>\n",
              "      <td>user is able to get help during the deploy sam...</td>\n",
              "      <td>0</td>\n",
              "      <td>1</td>\n",
              "      <td>0</td>\n",
              "    </tr>\n",
              "    <tr>\n",
              "      <th>4</th>\n",
              "      <td>4</td>\n",
              "      <td>cii validation example file hi nwe are current...</td>\n",
              "      <td>0</td>\n",
              "      <td>0</td>\n",
              "      <td>1</td>\n",
              "    </tr>\n",
              "    <tr>\n",
              "      <th>...</th>\n",
              "      <td>...</td>\n",
              "      <td>...</td>\n",
              "      <td>...</td>\n",
              "      <td>...</td>\n",
              "      <td>...</td>\n",
              "    </tr>\n",
              "    <tr>\n",
              "      <th>41885</th>\n",
              "      <td>41885</td>\n",
              "      <td>heads up for ib insync project have you seen t...</td>\n",
              "      <td>0</td>\n",
              "      <td>1</td>\n",
              "      <td>0</td>\n",
              "    </tr>\n",
              "    <tr>\n",
              "      <th>41886</th>\n",
              "      <td>41886</td>\n",
              "      <td>support for nullif function in one of the quer...</td>\n",
              "      <td>0</td>\n",
              "      <td>1</td>\n",
              "      <td>0</td>\n",
              "    </tr>\n",
              "    <tr>\n",
              "      <th>41887</th>\n",
              "      <td>41887</td>\n",
              "      <td>dbsnp parser missing variants user report vari...</td>\n",
              "      <td>1</td>\n",
              "      <td>0</td>\n",
              "      <td>0</td>\n",
              "    </tr>\n",
              "    <tr>\n",
              "      <th>41888</th>\n",
              "      <td>41888</td>\n",
              "      <td>fix invited users staying pending after accept...</td>\n",
              "      <td>1</td>\n",
              "      <td>0</td>\n",
              "      <td>0</td>\n",
              "    </tr>\n",
              "    <tr>\n",
              "      <th>41889</th>\n",
              "      <td>41889</td>\n",
              "      <td>bug netlify fonts seem different than local bu...</td>\n",
              "      <td>1</td>\n",
              "      <td>0</td>\n",
              "      <td>0</td>\n",
              "    </tr>\n",
              "  </tbody>\n",
              "</table>\n",
              "<p>41890 rows × 5 columns</p>\n",
              "</div>"
            ],
            "text/plain": [
              "          id                                             merged  bug  \\\n",
              "0          0  fix static injector error something in the cur...    1   \n",
              "1          1  pulling translations wipes dutch strings see h...    1   \n",
              "2          2  on ios the text color doesn t work and without...    0   \n",
              "3          3  user is able to get help during the deploy sam...    0   \n",
              "4          4  cii validation example file hi nwe are current...    0   \n",
              "...      ...                                                ...  ...   \n",
              "41885  41885  heads up for ib insync project have you seen t...    0   \n",
              "41886  41886  support for nullif function in one of the quer...    0   \n",
              "41887  41887  dbsnp parser missing variants user report vari...    1   \n",
              "41888  41888  fix invited users staying pending after accept...    1   \n",
              "41889  41889  bug netlify fonts seem different than local bu...    1   \n",
              "\n",
              "       enhancement  question  \n",
              "0                0         0  \n",
              "1                0         0  \n",
              "2                1         0  \n",
              "3                1         0  \n",
              "4                0         1  \n",
              "...            ...       ...  \n",
              "41885            1         0  \n",
              "41886            1         0  \n",
              "41887            0         0  \n",
              "41888            0         0  \n",
              "41889            0         0  \n",
              "\n",
              "[41890 rows x 5 columns]"
            ]
          },
          "metadata": {
            "tags": []
          },
          "execution_count": 164
        }
      ]
    },
    {
      "cell_type": "code",
      "metadata": {
        "id": "6x17NsOlfvB3",
        "colab_type": "code",
        "colab": {}
      },
      "source": [
        "ID = 'id'\n",
        "DATA_COLUMN = 'merged'\n",
        "LABEL_COLUMNS = ['bug','enhancement','question']"
      ],
      "execution_count": 165,
      "outputs": []
    },
    {
      "cell_type": "markdown",
      "metadata": {
        "id": "BubEwzJh9_LA",
        "colab_type": "text"
      },
      "source": [
        "# Model Architecture"
      ]
    },
    {
      "cell_type": "code",
      "metadata": {
        "id": "jutbD0Hp98Mu",
        "colab_type": "code",
        "colab": {}
      },
      "source": [
        "class InputExample(object):\n",
        "    \"\"\"A single training/test example for simple sequence classification.\"\"\"\n",
        "\n",
        "    def __init__(self, guid, text_a, text_b=None, labels=None):\n",
        "        \"\"\"Constructs a InputExample.\n",
        "\n",
        "        Args:\n",
        "            guid: Unique id for the example.\n",
        "            text_a: string. The untokenized text of the first sequence. For single\n",
        "            sequence tasks, only this sequence must be specified.\n",
        "            text_b: (Optional) string. The untokenized text of the second sequence.\n",
        "            Only must be specified for sequence pair tasks.\n",
        "            labels: (Optional) [string]. The label of the example. This should be\n",
        "            specified for train and dev examples, but not for test examples.\n",
        "        \"\"\"\n",
        "        self.guid = guid\n",
        "        self.text_a = text_a\n",
        "        self.text_b = text_b\n",
        "        self.labels = labels\n",
        "\n",
        "\n",
        "class InputFeatures(object):\n",
        "    \"\"\"A single set of features of data.\"\"\"\n",
        "\n",
        "    def __init__(self, input_ids, input_mask, segment_ids, label_ids, is_real_example=True):\n",
        "        self.input_ids = input_ids\n",
        "        self.input_mask = input_mask\n",
        "        self.segment_ids = segment_ids\n",
        "        self.label_ids = label_ids,\n",
        "        self.is_real_example=is_real_example"
      ],
      "execution_count": 166,
      "outputs": []
    },
    {
      "cell_type": "code",
      "metadata": {
        "id": "v0HCEWun-A87",
        "colab_type": "code",
        "colab": {}
      },
      "source": [
        "def create_examples(df, labels_available=True):\n",
        "    \"\"\"Creates examples for the training and dev sets.\"\"\"\n",
        "    examples = []\n",
        "    for (i, row) in enumerate(df.values):\n",
        "        guid = row[0]\n",
        "        text_a = row[1]\n",
        "        if labels_available:\n",
        "            labels = row[2:]\n",
        "        else:\n",
        "            labels = [0,0,0]\n",
        "        examples.append(\n",
        "            InputExample(guid=guid, text_a=text_a, labels=labels))\n",
        "    return examples"
      ],
      "execution_count": 167,
      "outputs": []
    },
    {
      "cell_type": "code",
      "metadata": {
        "id": "IkyctObd-DVF",
        "colab_type": "code",
        "colab": {}
      },
      "source": [
        "train_examples = create_examples(x_train)"
      ],
      "execution_count": 168,
      "outputs": []
    },
    {
      "cell_type": "code",
      "metadata": {
        "id": "wm0yMV8AC45R",
        "colab_type": "code",
        "colab": {}
      },
      "source": [
        "def convert_examples_to_features(examples,  max_seq_length, tokenizer):\n",
        "    \"\"\"Loads a data file into a list of `InputBatch`s.\"\"\"\n",
        "\n",
        "    features = []\n",
        "    for (ex_index, example) in enumerate(examples):\n",
        "        print(example.text_a)\n",
        "        tokens_a = tokenizer.tokenize(example.text_a)\n",
        "\n",
        "        tokens_b = None\n",
        "        if example.text_b:\n",
        "            tokens_b = tokenizer.tokenize(example.text_b)\n",
        "            # Modifies `tokens_a` and `tokens_b` in place so that the total\n",
        "            # length is less than the specified length.\n",
        "            # Account for [CLS], [SEP], [SEP] with \"- 3\"\n",
        "            _truncate_seq_pair(tokens_a, tokens_b, max_seq_length - 3)\n",
        "        else:\n",
        "            # Account for [CLS] and [SEP] with \"- 2\"\n",
        "            if len(tokens_a) > max_seq_length - 2:\n",
        "                tokens_a = tokens_a[:(max_seq_length - 2)]\n",
        "\n",
        "        # The convention in BERT is:\n",
        "        # (a) For sequence pairs:\n",
        "        #  tokens:   [CLS] is this jack ##son ##ville ? [SEP] no it is not . [SEP]\n",
        "        #  type_ids: 0   0  0    0    0     0       0 0    1  1  1  1   1 1\n",
        "        # (b) For single sequences:\n",
        "        #  tokens:   [CLS] the dog is hairy . [SEP]\n",
        "        #  type_ids: 0   0   0   0  0     0 0\n",
        "        #\n",
        "        # Where \"type_ids\" are used to indicate whether this is the first\n",
        "        # sequence or the second sequence. The embedding vectors for `type=0` and\n",
        "        # `type=1` were learned during pre-training and are added to the wordpiece\n",
        "        # embedding vector (and position vector). This is not *strictly* necessary\n",
        "        # since the [SEP] token unambigiously separates the sequences, but it makes\n",
        "        # it easier for the model to learn the concept of sequences.\n",
        "        #\n",
        "        # For classification tasks, the first vector (corresponding to [CLS]) is\n",
        "        # used as as the \"sentence vector\". Note that this only makes sense because\n",
        "        # the entire model is fine-tuned.\n",
        "        tokens = [\"[CLS]\"] + tokens_a + [\"[SEP]\"]\n",
        "        segment_ids = [0] * len(tokens)\n",
        "\n",
        "        if tokens_b:\n",
        "            tokens += tokens_b + [\"[SEP]\"]\n",
        "            segment_ids += [1] * (len(tokens_b) + 1)\n",
        "\n",
        "        input_ids = tokenizer.convert_tokens_to_ids(tokens)\n",
        "\n",
        "        # The mask has 1 for real tokens and 0 for padding tokens. Only real\n",
        "        # tokens are attended to.\n",
        "        input_mask = [1] * len(input_ids)\n",
        "\n",
        "        # Zero-pad up to the sequence length.\n",
        "        padding = [0] * (max_seq_length - len(input_ids))\n",
        "        input_ids += padding\n",
        "        input_mask += padding\n",
        "        segment_ids += padding\n",
        "\n",
        "        assert len(input_ids) == max_seq_length\n",
        "        assert len(input_mask) == max_seq_length\n",
        "        assert len(segment_ids) == max_seq_length\n",
        "        \n",
        "        labels_ids = []\n",
        "        for label in example.labels:\n",
        "            labels_ids.append(int(label))\n",
        "\n",
        "        if ex_index < 0:\n",
        "            logger.info(\"*** Example ***\")\n",
        "            logger.info(\"guid: %s\" % (example.guid))\n",
        "            logger.info(\"tokens: %s\" % \" \".join(\n",
        "                    [str(x) for x in tokens]))\n",
        "            logger.info(\"input_ids: %s\" % \" \".join([str(x) for x in input_ids]))\n",
        "            logger.info(\"input_mask: %s\" % \" \".join([str(x) for x in input_mask]))\n",
        "            logger.info(\n",
        "                    \"segment_ids: %s\" % \" \".join([str(x) for x in segment_ids]))\n",
        "            logger.info(\"label: %s (id = %s)\" % (example.labels, labels_ids))\n",
        "\n",
        "        features.append(\n",
        "                InputFeatures(input_ids=input_ids,\n",
        "                              input_mask=input_mask,\n",
        "                              segment_ids=segment_ids,\n",
        "                              label_ids=labels_ids))\n",
        "    return features"
      ],
      "execution_count": 169,
      "outputs": []
    },
    {
      "cell_type": "code",
      "metadata": {
        "id": "YhsOs4oUDBlV",
        "colab_type": "code",
        "colab": {}
      },
      "source": [
        "# We'll set sequences to be at most 128 tokens long.\n",
        "MAX_SEQ_LENGTH = 128"
      ],
      "execution_count": 170,
      "outputs": []
    },
    {
      "cell_type": "code",
      "metadata": {
        "id": "Q-NREeL3DGAN",
        "colab_type": "code",
        "colab": {}
      },
      "source": [
        "# Compute train and warmup steps from batch size\n",
        "# These hyperparameters are copied from this colab notebook (https://colab.sandbox.google.com/github/tensorflow/tpu/blob/master/tools/colab/bert_finetuning_with_cloud_tpus.ipynb)\n",
        "BATCH_SIZE = 32\n",
        "LEARNING_RATE = 2e-5\n",
        "NUM_TRAIN_EPOCHS = 1.0\n",
        "# Warmup is a period of time where hte learning rate \n",
        "# is small and gradually increases--usually helps training.\n",
        "WARMUP_PROPORTION = 0.1\n",
        "# Model configs\n",
        "SAVE_CHECKPOINTS_STEPS = 1000\n",
        "SAVE_SUMMARY_STEPS = 500"
      ],
      "execution_count": 171,
      "outputs": []
    },
    {
      "cell_type": "code",
      "metadata": {
        "id": "c1rP48ajDShd",
        "colab_type": "code",
        "colab": {}
      },
      "source": [
        "class PaddingInputExample(object):\n",
        "    \"\"\"Fake example so the num input examples is a multiple of the batch size.\n",
        "    When running eval/predict on the TPU, we need to pad the number of examples\n",
        "    to be a multiple of the batch size, because the TPU requires a fixed batch\n",
        "    size. The alternative is to drop the last batch, which is bad because it means\n",
        "    the entire output data won't be generated.\n",
        "    We use this class instead of `None` because treating `None` as padding\n",
        "    battches could cause silent errors.\n",
        "    \"\"\"\n",
        "    \n",
        "    \n",
        "def convert_single_example(ex_index, example, max_seq_length,\n",
        "                           tokenizer):\n",
        "    \"\"\"Converts a single `InputExample` into a single `InputFeatures`.\"\"\"\n",
        "\n",
        "    if isinstance(example, PaddingInputExample):\n",
        "        return InputFeatures(\n",
        "            input_ids=[0] * max_seq_length,\n",
        "            input_mask=[0] * max_seq_length,\n",
        "            segment_ids=[0] * max_seq_length,\n",
        "            label_ids=0,\n",
        "            is_real_example=False)\n",
        "\n",
        "    tokens_a = tokenizer.tokenize(example.text_a)\n",
        "    tokens_b = None\n",
        "    if example.text_b:\n",
        "        tokens_b = tokenizer.tokenize(example.text_b)\n",
        "\n",
        "    if tokens_b:\n",
        "        # Modifies `tokens_a` and `tokens_b` in place so that the total\n",
        "        # length is less than the specified length.\n",
        "        # Account for [CLS], [SEP], [SEP] with \"- 3\"\n",
        "        _truncate_seq_pair(tokens_a, tokens_b, max_seq_length - 3)\n",
        "    else:\n",
        "        # Account for [CLS] and [SEP] with \"- 2\"\n",
        "        if len(tokens_a) > max_seq_length - 2:\n",
        "            tokens_a = tokens_a[0:(max_seq_length - 2)]\n",
        "\n",
        "    # The convention in BERT is:\n",
        "    # (a) For sequence pairs:\n",
        "    #  tokens:   [CLS] is this jack ##son ##ville ? [SEP] no it is not . [SEP]\n",
        "    #  type_ids: 0     0  0    0    0     0       0 0     1  1  1  1   1 1\n",
        "    # (b) For single sequences:\n",
        "    #  tokens:   [CLS] the dog is hairy . [SEP]\n",
        "    #  type_ids: 0     0   0   0  0     0 0\n",
        "    #\n",
        "    # Where \"type_ids\" are used to indicate whether this is the first\n",
        "    # sequence or the second sequence. The embedding vectors for `type=0` and\n",
        "    # `type=1` were learned during pre-training and are added to the wordpiece\n",
        "    # embedding vector (and position vector). This is not *strictly* necessary\n",
        "    # since the [SEP] token unambiguously separates the sequences, but it makes\n",
        "    # it easier for the model to learn the concept of sequences.\n",
        "    #\n",
        "    # For classification tasks, the first vector (corresponding to [CLS]) is\n",
        "    # used as the \"sentence vector\". Note that this only makes sense because\n",
        "    # the entire model is fine-tuned.\n",
        "    tokens = []\n",
        "    segment_ids = []\n",
        "    tokens.append(\"[CLS]\")\n",
        "    segment_ids.append(0)\n",
        "    for token in tokens_a:\n",
        "        tokens.append(token)\n",
        "        segment_ids.append(0)\n",
        "    tokens.append(\"[SEP]\")\n",
        "    segment_ids.append(0)\n",
        "\n",
        "    if tokens_b:\n",
        "        for token in tokens_b:\n",
        "            tokens.append(token)\n",
        "            segment_ids.append(1)\n",
        "        tokens.append(\"[SEP]\")\n",
        "        segment_ids.append(1)\n",
        "\n",
        "    input_ids = tokenizer.convert_tokens_to_ids(tokens)\n",
        "\n",
        "    # The mask has 1 for real tokens and 0 for padding tokens. Only real\n",
        "    # tokens are attended to.\n",
        "    input_mask = [1] * len(input_ids)\n",
        "\n",
        "    # Zero-pad up to the sequence length.\n",
        "    while len(input_ids) < max_seq_length:\n",
        "        input_ids.append(0)\n",
        "        input_mask.append(0)\n",
        "        segment_ids.append(0)\n",
        "\n",
        "    assert len(input_ids) == max_seq_length\n",
        "    assert len(input_mask) == max_seq_length\n",
        "    assert len(segment_ids) == max_seq_length\n",
        "\n",
        "    labels_ids = []\n",
        "    for label in example.labels:\n",
        "        labels_ids.append(int(label))\n",
        "\n",
        "\n",
        "    feature = InputFeatures(\n",
        "        input_ids=input_ids,\n",
        "        input_mask=input_mask,\n",
        "        segment_ids=segment_ids,\n",
        "        label_ids=labels_ids,\n",
        "        is_real_example=True)\n",
        "    return feature\n",
        "\n",
        "\n",
        "def file_based_convert_examples_to_features(\n",
        "        examples, max_seq_length, tokenizer, output_file):\n",
        "    \"\"\"Convert a set of `InputExample`s to a TFRecord file.\"\"\"\n",
        "\n",
        "    writer = tf.python_io.TFRecordWriter(output_file)\n",
        "\n",
        "    for (ex_index, example) in enumerate(examples):\n",
        "        #if ex_index % 10000 == 0:\n",
        "            #tf.logging.info(\"Writing example %d of %d\" % (ex_index, len(examples)))\n",
        "\n",
        "        feature = convert_single_example(ex_index, example,\n",
        "                                         max_seq_length, tokenizer)\n",
        "\n",
        "        def create_int_feature(values):\n",
        "            f = tf.train.Feature(int64_list=tf.train.Int64List(value=list(values)))\n",
        "            return f\n",
        "\n",
        "        features = collections.OrderedDict()\n",
        "        features[\"input_ids\"] = create_int_feature(feature.input_ids)\n",
        "        features[\"input_mask\"] = create_int_feature(feature.input_mask)\n",
        "        features[\"segment_ids\"] = create_int_feature(feature.segment_ids)\n",
        "        features[\"is_real_example\"] = create_int_feature(\n",
        "            [int(feature.is_real_example)])\n",
        "        if isinstance(feature.label_ids, list):\n",
        "            label_ids = feature.label_ids\n",
        "        else:\n",
        "            label_ids = feature.label_ids[0]\n",
        "        features[\"label_ids\"] = create_int_feature(label_ids)\n",
        "\n",
        "        tf_example = tf.train.Example(features=tf.train.Features(feature=features))\n",
        "        writer.write(tf_example.SerializeToString())\n",
        "    writer.close()\n",
        "\n",
        "\n",
        "def file_based_input_fn_builder(input_file, seq_length, is_training,\n",
        "                                drop_remainder):\n",
        "    \"\"\"Creates an `input_fn` closure to be passed to TPUEstimator.\"\"\"\n",
        "\n",
        "    name_to_features = {\n",
        "        \"input_ids\": tf.FixedLenFeature([seq_length], tf.int64),\n",
        "        \"input_mask\": tf.FixedLenFeature([seq_length], tf.int64),\n",
        "        \"segment_ids\": tf.FixedLenFeature([seq_length], tf.int64),\n",
        "        \"label_ids\": tf.FixedLenFeature([3], tf.int64),\n",
        "        \"is_real_example\": tf.FixedLenFeature([], tf.int64),\n",
        "    }\n",
        "\n",
        "    def _decode_record(record, name_to_features):\n",
        "        \"\"\"Decodes a record to a TensorFlow example.\"\"\"\n",
        "        example = tf.parse_single_example(record, name_to_features)\n",
        "\n",
        "        # tf.Example only supports tf.int64, but the TPU only supports tf.int32.\n",
        "        # So cast all int64 to int32.\n",
        "        for name in list(example.keys()):\n",
        "            t = example[name]\n",
        "            if t.dtype == tf.int64:\n",
        "                t = tf.to_int32(t)\n",
        "            example[name] = t\n",
        "\n",
        "        return example\n",
        "\n",
        "    def input_fn(params):\n",
        "        \"\"\"The actual input function.\"\"\"\n",
        "        batch_size = params[\"batch_size\"]\n",
        "\n",
        "        # For training, we want a lot of parallel reading and shuffling.\n",
        "        # For eval, we want no shuffling and parallel reading doesn't matter.\n",
        "        d = tf.data.TFRecordDataset(input_file)\n",
        "        if is_training:\n",
        "            d = d.repeat()\n",
        "            d = d.shuffle(buffer_size=100)\n",
        "\n",
        "        d = d.apply(\n",
        "            tf.contrib.data.map_and_batch(\n",
        "                lambda record: _decode_record(record, name_to_features),\n",
        "                batch_size=batch_size,\n",
        "                drop_remainder=drop_remainder))\n",
        "\n",
        "        return d\n",
        "\n",
        "    return input_fn\n",
        "\n",
        "\n",
        "def _truncate_seq_pair(tokens_a, tokens_b, max_length):\n",
        "    \"\"\"Truncates a sequence pair in place to the maximum length.\"\"\"\n",
        "\n",
        "    # This is a simple heuristic which will always truncate the longer sequence\n",
        "    # one token at a time. This makes more sense than truncating an equal percent\n",
        "    # of tokens from each, since if one sequence is very short then each token\n",
        "    # that's truncated likely contains more information than a longer sequence.\n",
        "    while True:\n",
        "        total_length = len(tokens_a) + len(tokens_b)\n",
        "        if total_length <= max_length:\n",
        "            break\n",
        "        if len(tokens_a) > len(tokens_b):\n",
        "            tokens_a.pop()\n",
        "        else:\n",
        "            tokens_b.pop()"
      ],
      "execution_count": 172,
      "outputs": []
    },
    {
      "cell_type": "code",
      "metadata": {
        "id": "xZr6GximD_v8",
        "colab_type": "code",
        "colab": {}
      },
      "source": [
        "# Compute # train and warmup steps from batch size\n",
        "num_train_steps = int(len(train_examples) / BATCH_SIZE * NUM_TRAIN_EPOCHS)\n",
        "num_warmup_steps = int(num_train_steps * WARMUP_PROPORTION)"
      ],
      "execution_count": 173,
      "outputs": []
    },
    {
      "cell_type": "markdown",
      "metadata": {
        "id": "twdyQQYR-I8t",
        "colab_type": "text"
      },
      "source": [
        "# Training"
      ]
    },
    {
      "cell_type": "code",
      "metadata": {
        "id": "dJlc_JRBEZII",
        "colab_type": "code",
        "colab": {}
      },
      "source": [
        "import os\n",
        "train_file = os.path.join('/content/drive/My Drive/FY_project/working', \"train.tf_record\")\n",
        "#filename = Path(train_file)\n",
        "if not os.path.exists(train_file):\n",
        "    open(train_file, 'w').close()"
      ],
      "execution_count": 174,
      "outputs": []
    },
    {
      "cell_type": "code",
      "metadata": {
        "id": "k0DRuetTHKWH",
        "colab_type": "code",
        "colab": {
          "base_uri": "https://localhost:8080/",
          "height": 119
        },
        "outputId": "7d8f0ca5-d0d9-467c-b6c5-597a94a57f46"
      },
      "source": [
        "%%time\n",
        "file_based_convert_examples_to_features(\n",
        "            train_examples, MAX_SEQ_LENGTH, tokenizer, train_file)\n",
        "tf.logging.info(\"***** Running training *****\")\n",
        "tf.logging.info(\"  Num examples = %d\", len(train_examples))\n",
        "tf.logging.info(\"  Batch size = %d\", BATCH_SIZE)\n",
        "tf.logging.info(\"  Num steps = %d\", num_train_steps)"
      ],
      "execution_count": 175,
      "outputs": [
        {
          "output_type": "stream",
          "text": [
            "INFO:tensorflow:***** Running training *****\n",
            "INFO:tensorflow:  Num examples = 41890\n",
            "INFO:tensorflow:  Batch size = 32\n",
            "INFO:tensorflow:  Num steps = 1309\n",
            "CPU times: user 1min 49s, sys: 16.2 ms, total: 1min 49s\n",
            "Wall time: 1min 49s\n"
          ],
          "name": "stdout"
        }
      ]
    },
    {
      "cell_type": "code",
      "metadata": {
        "id": "7y_xzSdcHM3B",
        "colab_type": "code",
        "colab": {}
      },
      "source": [
        "train_input_fn = file_based_input_fn_builder(\n",
        "    input_file=train_file,\n",
        "    seq_length=MAX_SEQ_LENGTH,\n",
        "    is_training=True,\n",
        "    drop_remainder=True)"
      ],
      "execution_count": 176,
      "outputs": []
    },
    {
      "cell_type": "code",
      "metadata": {
        "id": "P0UuxDGYHaRX",
        "colab_type": "code",
        "colab": {}
      },
      "source": [
        "def create_model(bert_config, is_training, input_ids, input_mask, segment_ids,\n",
        "                 labels, num_labels, use_one_hot_embeddings):\n",
        "    \"\"\"Creates a classification model.\"\"\"\n",
        "    model = modeling.BertModel(\n",
        "        config=bert_config,\n",
        "        is_training=is_training,\n",
        "        input_ids=input_ids,\n",
        "        input_mask=input_mask,\n",
        "        token_type_ids=segment_ids,\n",
        "        use_one_hot_embeddings=use_one_hot_embeddings)\n",
        "\n",
        "    # In the demo, we are doing a simple classification task on the entire\n",
        "    # segment.\n",
        "    #\n",
        "    # If you want to use the token-level output, use model.get_sequence_output()\n",
        "    # instead.\n",
        "    output_layer = model.get_pooled_output()\n",
        "\n",
        "    hidden_size = output_layer.shape[-1].value\n",
        "\n",
        "    output_weights = tf.get_variable(\n",
        "        \"output_weights\", [num_labels, hidden_size],\n",
        "        initializer=tf.truncated_normal_initializer(stddev=0.02))\n",
        "\n",
        "    output_bias = tf.get_variable(\n",
        "        \"output_bias\", [num_labels], initializer=tf.zeros_initializer())\n",
        "\n",
        "    with tf.variable_scope(\"loss\"):\n",
        "        if is_training:\n",
        "            # I.e., 0.1 dropout\n",
        "            output_layer = tf.nn.dropout(output_layer, keep_prob=0.9)\n",
        "\n",
        "        logits = tf.matmul(output_layer, output_weights, transpose_b=True)\n",
        "        logits = tf.nn.bias_add(logits, output_bias)\n",
        "        \n",
        "        # probabilities = tf.nn.softmax(logits, axis=-1) ### multiclass case\n",
        "        probabilities = tf.nn.sigmoid(logits)#### multi-label case\n",
        "        \n",
        "        labels = tf.cast(labels, tf.float32)\n",
        "        tf.logging.info(\"num_labels:{};logits:{};labels:{}\".format(num_labels, logits, labels))\n",
        "        per_example_loss = tf.nn.sigmoid_cross_entropy_with_logits(labels=labels, logits=logits)\n",
        "        loss = tf.reduce_mean(per_example_loss)\n",
        "\n",
        "        # probabilities = tf.nn.softmax(logits, axis=-1)\n",
        "        # log_probs = tf.nn.log_softmax(logits, axis=-1)\n",
        "        #\n",
        "        # one_hot_labels = tf.one_hot(labels, depth=num_labels, dtype=tf.float32)\n",
        "        #\n",
        "        # per_example_loss = -tf.reduce_sum(one_hot_labels * log_probs, axis=-1)\n",
        "        # loss = tf.reduce_mean(per_example_loss)\n",
        "\n",
        "        return (loss, per_example_loss, logits, probabilities)\n",
        "\n",
        "\n",
        "def model_fn_builder(bert_config, num_labels, init_checkpoint, learning_rate,\n",
        "                     num_train_steps, num_warmup_steps, use_tpu,\n",
        "                     use_one_hot_embeddings):\n",
        "    \"\"\"Returns `model_fn` closure for TPUEstimator.\"\"\"\n",
        "\n",
        "    def model_fn(features, labels, mode, params):  # pylint: disable=unused-argument\n",
        "        \"\"\"The `model_fn` for TPUEstimator.\"\"\"\n",
        "\n",
        "        #tf.logging.info(\"*** Features ***\")\n",
        "        #for name in sorted(features.keys()):\n",
        "        #    tf.logging.info(\"  name = %s, shape = %s\" % (name, features[name].shape))\n",
        "\n",
        "        input_ids = features[\"input_ids\"]\n",
        "        input_mask = features[\"input_mask\"]\n",
        "        segment_ids = features[\"segment_ids\"]\n",
        "        label_ids = features[\"label_ids\"]\n",
        "        is_real_example = None\n",
        "        if \"is_real_example\" in features:\n",
        "             is_real_example = tf.cast(features[\"is_real_example\"], dtype=tf.float32)\n",
        "        else:\n",
        "             is_real_example = tf.ones(tf.shape(label_ids), dtype=tf.float32)\n",
        "\n",
        "        is_training = (mode == tf.estimator.ModeKeys.TRAIN)\n",
        "\n",
        "        (total_loss, per_example_loss, logits, probabilities) = create_model(\n",
        "            bert_config, is_training, input_ids, input_mask, segment_ids, label_ids,\n",
        "            num_labels, use_one_hot_embeddings)\n",
        "\n",
        "        tvars = tf.trainable_variables()\n",
        "        initialized_variable_names = {}\n",
        "        scaffold_fn = None\n",
        "        if init_checkpoint:\n",
        "            (assignment_map, initialized_variable_names\n",
        "             ) = modeling.get_assignment_map_from_checkpoint(tvars, init_checkpoint)\n",
        "            if use_tpu:\n",
        "\n",
        "                def tpu_scaffold():\n",
        "                    tf.train.init_from_checkpoint(init_checkpoint, assignment_map)\n",
        "                    return tf.train.Scaffold()\n",
        "\n",
        "                scaffold_fn = tpu_scaffold\n",
        "            else:\n",
        "                tf.train.init_from_checkpoint(init_checkpoint, assignment_map)\n",
        "\n",
        "        tf.logging.info(\"**** Trainable Variables ****\")\n",
        "        for var in tvars:\n",
        "            init_string = \"\"\n",
        "            if var.name in initialized_variable_names:\n",
        "                init_string = \", *INIT_FROM_CKPT*\"\n",
        "            #tf.logging.info(\"  name = %s, shape = %s%s\", var.name, var.shape,init_string)\n",
        "\n",
        "        output_spec = None\n",
        "        if mode == tf.estimator.ModeKeys.TRAIN:\n",
        "\n",
        "            train_op = optimization.create_optimizer(\n",
        "                total_loss, learning_rate, num_train_steps, num_warmup_steps, use_tpu)\n",
        "\n",
        "            output_spec = tf.estimator.EstimatorSpec(\n",
        "                mode=mode,\n",
        "                loss=total_loss,\n",
        "                train_op=train_op,\n",
        "                scaffold=scaffold_fn)\n",
        "        elif mode == tf.estimator.ModeKeys.EVAL:\n",
        "\n",
        "            def metric_fn(per_example_loss, label_ids, probabilities, is_real_example):\n",
        "\n",
        "                logits_split = tf.split(probabilities, num_labels, axis=-1)\n",
        "                label_ids_split = tf.split(label_ids, num_labels, axis=-1)\n",
        "                # metrics change to auc of every class\n",
        "                eval_dict = {}\n",
        "                for j, logits in enumerate(logits_split):\n",
        "                    label_id_ = tf.cast(label_ids_split[j], dtype=tf.int32)\n",
        "                    current_auc, update_op_auc = tf.metrics.auc(label_id_, logits)\n",
        "                    eval_dict[str(j)] = (current_auc, update_op_auc)\n",
        "                eval_dict['eval_loss'] = tf.metrics.mean(values=per_example_loss)\n",
        "                return eval_dict\n",
        "\n",
        "                ## original eval metrics\n",
        "                # predictions = tf.argmax(logits, axis=-1, output_type=tf.int32)\n",
        "                # accuracy = tf.metrics.accuracy(\n",
        "                #     labels=label_ids, predictions=predictions, weights=is_real_example)\n",
        "                # loss = tf.metrics.mean(values=per_example_loss, weights=is_real_example)\n",
        "                # return {\n",
        "                #     \"eval_accuracy\": accuracy,\n",
        "                #     \"eval_loss\": loss,\n",
        "                # }\n",
        "\n",
        "            eval_metrics = metric_fn(per_example_loss, label_ids, probabilities, is_real_example)\n",
        "            output_spec = tf.estimator.EstimatorSpec(\n",
        "                mode=mode,\n",
        "                loss=total_loss,\n",
        "                eval_metric_ops=eval_metrics,\n",
        "                scaffold=scaffold_fn)\n",
        "        else:\n",
        "            print(\"mode:\", mode,\"probabilities:\", probabilities)\n",
        "            output_spec = tf.estimator.EstimatorSpec(\n",
        "                mode=mode,\n",
        "                predictions={\"probabilities\": probabilities},\n",
        "                scaffold=scaffold_fn)\n",
        "        return output_spec\n",
        "\n",
        "    return model_fn"
      ],
      "execution_count": 177,
      "outputs": []
    },
    {
      "cell_type": "code",
      "metadata": {
        "id": "HBzXjL6WHbnH",
        "colab_type": "code",
        "colab": {}
      },
      "source": [
        "OUTPUT_DIR = \"/content/drive/My Drive/FY_project/working/output\"\n",
        "# Specify outpit directory and number of checkpoint steps to save\n",
        "run_config = tf.estimator.RunConfig(\n",
        "    model_dir=OUTPUT_DIR,\n",
        "    save_summary_steps=SAVE_SUMMARY_STEPS,\n",
        "    keep_checkpoint_max=1,\n",
        "    save_checkpoints_steps=SAVE_CHECKPOINTS_STEPS)"
      ],
      "execution_count": 178,
      "outputs": []
    },
    {
      "cell_type": "code",
      "metadata": {
        "id": "BzxwZ1La_vq-",
        "colab_type": "code",
        "colab": {
          "base_uri": "https://localhost:8080/",
          "height": 156
        },
        "outputId": "69ce81d7-bd7e-4e4a-8487-25e07aab8dc1"
      },
      "source": [
        "bert_config = modeling.BertConfig.from_json_file(BERT_CONFIG)\n",
        "model_fn = model_fn_builder(\n",
        "  bert_config=bert_config,\n",
        "  num_labels= len(LABEL_COLUMNS),\n",
        "  init_checkpoint=BERT_INIT_CHKPNT,\n",
        "  learning_rate=LEARNING_RATE,\n",
        "  num_train_steps=num_train_steps,\n",
        "  num_warmup_steps=num_warmup_steps,\n",
        "  use_tpu=False,\n",
        "  use_one_hot_embeddings=False)\n",
        "\n",
        "estimator = tf.estimator.Estimator(\n",
        "  model_fn=model_fn,\n",
        "  config=run_config,\n",
        "  params={\"batch_size\": BATCH_SIZE})"
      ],
      "execution_count": 179,
      "outputs": [
        {
          "output_type": "stream",
          "text": [
            "INFO:tensorflow:Using config: {'_model_dir': '/content/drive/My Drive/FY_project/working/output', '_tf_random_seed': None, '_save_summary_steps': 500, '_save_checkpoints_steps': 1000, '_save_checkpoints_secs': None, '_session_config': allow_soft_placement: true\n",
            "graph_options {\n",
            "  rewrite_options {\n",
            "    meta_optimizer_iterations: ONE\n",
            "  }\n",
            "}\n",
            ", '_keep_checkpoint_max': 1, '_keep_checkpoint_every_n_hours': 10000, '_log_step_count_steps': 100, '_train_distribute': None, '_device_fn': None, '_protocol': None, '_eval_distribute': None, '_experimental_distribute': None, '_experimental_max_worker_delay_secs': None, '_session_creation_timeout_secs': 7200, '_service': None, '_cluster_spec': <tensorflow.python.training.server_lib.ClusterSpec object at 0x7f01c0de2fd0>, '_task_type': 'worker', '_task_id': 0, '_global_id_in_cluster': 0, '_master': '', '_evaluation_master': '', '_is_chief': True, '_num_ps_replicas': 0, '_num_worker_replicas': 1}\n"
          ],
          "name": "stdout"
        }
      ]
    },
    {
      "cell_type": "code",
      "metadata": {
        "id": "iuRHEPdA_0Bu",
        "colab_type": "code",
        "colab": {
          "base_uri": "https://localhost:8080/",
          "height": 85
        },
        "outputId": "38350a08-4701-4d94-ecad-42bcd6d1dc10"
      },
      "source": [
        "%%time\n",
        "print(f'Beginning Training!')\n",
        "estimator.train(input_fn=train_input_fn, max_steps=num_train_steps)"
      ],
      "execution_count": 180,
      "outputs": [
        {
          "output_type": "stream",
          "text": [
            "Beginning Training!\n",
            "INFO:tensorflow:Skipping training since max_steps has already saved.\n",
            "CPU times: user 5.3 ms, sys: 31 ms, total: 36.3 ms\n",
            "Wall time: 40.5 ms\n"
          ],
          "name": "stdout"
        }
      ]
    },
    {
      "cell_type": "code",
      "metadata": {
        "id": "bWoi-jYZmmeY",
        "colab_type": "code",
        "colab": {}
      },
      "source": [
        "#save model\n",
        "#from sklearn.externals import joblib\n",
        "#joblib.dump(estimator, 'bert_estimator.pkl') "
      ],
      "execution_count": 181,
      "outputs": []
    },
    {
      "cell_type": "markdown",
      "metadata": {
        "id": "dtRqNAyA-Q4c",
        "colab_type": "text"
      },
      "source": [
        "# Validation"
      ]
    },
    {
      "cell_type": "code",
      "metadata": {
        "id": "6jpagNQR_0uK",
        "colab_type": "code",
        "colab": {}
      },
      "source": [
        "eval_file = os.path.join('/content/drive/My Drive/FY_project/working', \"eval.tf_record\")\n",
        "#filename = Path(train_file)\n",
        "if not os.path.exists(eval_file):\n",
        "    open(eval_file, 'w').close()\n",
        "\n",
        "eval_examples = create_examples(x_val)\n",
        "file_based_convert_examples_to_features(\n",
        "    eval_examples, MAX_SEQ_LENGTH, tokenizer, eval_file)"
      ],
      "execution_count": 182,
      "outputs": []
    },
    {
      "cell_type": "code",
      "metadata": {
        "id": "7Zooc8si_4kX",
        "colab_type": "code",
        "colab": {
          "base_uri": "https://localhost:8080/",
          "height": 309
        },
        "outputId": "69f5d935-b586-4706-d410-57842a80d105"
      },
      "source": [
        "# This tells the estimator to run through the entire set.\n",
        "%%time\n",
        "eval_steps = None\n",
        "\n",
        "eval_drop_remainder = False\n",
        "eval_input_fn = file_based_input_fn_builder(\n",
        "    input_file=eval_file,\n",
        "    seq_length=MAX_SEQ_LENGTH,\n",
        "    is_training=False,\n",
        "    drop_remainder=False)\n",
        "\n",
        "result = estimator.evaluate(input_fn=eval_input_fn, steps=eval_steps)"
      ],
      "execution_count": 183,
      "outputs": [
        {
          "output_type": "stream",
          "text": [
            "WARNING:tensorflow:Entity <function file_based_input_fn_builder.<locals>.input_fn.<locals>.<lambda> at 0x7f01b2535400> could not be transformed and will be executed as-is. Please report this to the AutoGraph team. When filing the bug, set the verbosity to 10 (on Linux, `export AUTOGRAPH_VERBOSITY=10`) and attach the full output. Cause: module 'gast' has no attribute 'Str'\n",
            "WARNING: Entity <function file_based_input_fn_builder.<locals>.input_fn.<locals>.<lambda> at 0x7f01b2535400> could not be transformed and will be executed as-is. Please report this to the AutoGraph team. When filing the bug, set the verbosity to 10 (on Linux, `export AUTOGRAPH_VERBOSITY=10`) and attach the full output. Cause: module 'gast' has no attribute 'Str'\n",
            "INFO:tensorflow:Calling model_fn.\n",
            "INFO:tensorflow:num_labels:3;logits:Tensor(\"loss/BiasAdd:0\", shape=(?, 3), dtype=float32);labels:Tensor(\"loss/Cast:0\", shape=(?, 3), dtype=float32)\n",
            "INFO:tensorflow:**** Trainable Variables ****\n",
            "INFO:tensorflow:Done calling model_fn.\n",
            "INFO:tensorflow:Starting evaluation at 2020-06-26T06:26:33Z\n",
            "INFO:tensorflow:Graph was finalized.\n",
            "INFO:tensorflow:Restoring parameters from /content/drive/My Drive/FY_project/working/output/model.ckpt-1309\n",
            "INFO:tensorflow:Running local_init_op.\n",
            "INFO:tensorflow:Done running local_init_op.\n",
            "INFO:tensorflow:Finished evaluation at 2020-06-26-06:29:32\n",
            "INFO:tensorflow:Saving dict for global step 1309: 0 = 0.9383231, 1 = 0.9362668, 2 = 0.9044779, eval_loss = 0.31277484, global_step = 1309, loss = 0.31262192\n",
            "INFO:tensorflow:Saving 'checkpoint_path' summary for global step 1309: /content/drive/My Drive/FY_project/working/output/model.ckpt-1309\n",
            "CPU times: user 30.1 s, sys: 6.9 s, total: 37 s\n",
            "Wall time: 3min 2s\n"
          ],
          "name": "stdout"
        }
      ]
    },
    {
      "cell_type": "code",
      "metadata": {
        "id": "YmbHr92q_7x7",
        "colab_type": "code",
        "colab": {
          "base_uri": "https://localhost:8080/",
          "height": 136
        },
        "outputId": "f14d5806-993e-4a3a-dc77-7d73635a7d6b"
      },
      "source": [
        "output_eval_file = os.path.join(\"/content/drive/My Drive/FY_project/working\", \"eval_results.txt\")\n",
        "with tf.gfile.GFile(output_eval_file, \"w\") as writer:\n",
        "    tf.logging.info(\"***** Eval results *****\")\n",
        "    for key in sorted(result.keys()):\n",
        "        tf.logging.info(\"  %s = %s\", key, str(result[key]))\n",
        "        writer.write(\"%s = %s\\n\" % (key, str(result[key])))"
      ],
      "execution_count": 184,
      "outputs": [
        {
          "output_type": "stream",
          "text": [
            "INFO:tensorflow:***** Eval results *****\n",
            "INFO:tensorflow:  0 = 0.9383231\n",
            "INFO:tensorflow:  1 = 0.9362668\n",
            "INFO:tensorflow:  2 = 0.9044779\n",
            "INFO:tensorflow:  eval_loss = 0.31277484\n",
            "INFO:tensorflow:  global_step = 1309\n",
            "INFO:tensorflow:  loss = 0.31262192\n"
          ],
          "name": "stdout"
        }
      ]
    },
    {
      "cell_type": "markdown",
      "metadata": {
        "id": "_KQo7gJu-WkE",
        "colab_type": "text"
      },
      "source": [
        "# Testing"
      ]
    },
    {
      "cell_type": "code",
      "metadata": {
        "id": "6QT-zhln9wuq",
        "colab_type": "code",
        "colab": {
          "base_uri": "https://localhost:8080/",
          "height": 142
        },
        "outputId": "ef867c93-003d-4796-e08f-324b208d6f6f"
      },
      "source": [
        "#x_test=x_val.drop(['bug','enhancement','question'], axis=1)\n",
        "x_test=pd.read_csv('/content/drive/My Drive/FY_project/dataset/test_input.csv')\n",
        "x_test"
      ],
      "execution_count": 185,
      "outputs": [
        {
          "output_type": "execute_result",
          "data": {
            "text/html": [
              "<div>\n",
              "<style scoped>\n",
              "    .dataframe tbody tr th:only-of-type {\n",
              "        vertical-align: middle;\n",
              "    }\n",
              "\n",
              "    .dataframe tbody tr th {\n",
              "        vertical-align: top;\n",
              "    }\n",
              "\n",
              "    .dataframe thead th {\n",
              "        text-align: right;\n",
              "    }\n",
              "</style>\n",
              "<table border=\"1\" class=\"dataframe\">\n",
              "  <thead>\n",
              "    <tr style=\"text-align: right;\">\n",
              "      <th></th>\n",
              "      <th>title</th>\n",
              "      <th>body</th>\n",
              "    </tr>\n",
              "  </thead>\n",
              "  <tbody>\n",
              "    <tr>\n",
              "      <th>0</th>\n",
              "      <td>Login Page not redering Properly</td>\n",
              "      <td>the login page always crash in spite of giving...</td>\n",
              "    </tr>\n",
              "    <tr>\n",
              "      <th>1</th>\n",
              "      <td>Query for echo</td>\n",
              "      <td>How can we turn off echo from settings?</td>\n",
              "    </tr>\n",
              "    <tr>\n",
              "      <th>2</th>\n",
              "      <td>add more options</td>\n",
              "      <td>please add more options with camera during ga...</td>\n",
              "    </tr>\n",
              "  </tbody>\n",
              "</table>\n",
              "</div>"
            ],
            "text/plain": [
              "                              title  \\\n",
              "0  Login Page not redering Properly   \n",
              "1                    Query for echo   \n",
              "2                  add more options   \n",
              "\n",
              "                                                body  \n",
              "0  the login page always crash in spite of giving...  \n",
              "1            How can we turn off echo from settings?  \n",
              "2   please add more options with camera during ga...  "
            ]
          },
          "metadata": {
            "tags": []
          },
          "execution_count": 185
        }
      ]
    },
    {
      "cell_type": "code",
      "metadata": {
        "id": "0ZH2TIix_-g0",
        "colab_type": "code",
        "colab": {}
      },
      "source": [
        "#x_test = test[:10000] #testing a small sample\n",
        "x_test = x_test.reset_index(drop=True)\n",
        "test_file = os.path.join('/content/drive/My Drive/FY_project/working', \"test.tf_record\")\n",
        "#filename = Path(train_file)\n",
        "if not os.path.exists(test_file):\n",
        "    open(test_file, 'w').close()\n",
        "\n",
        "test_examples = create_examples(x_test, False)"
      ],
      "execution_count": 186,
      "outputs": []
    },
    {
      "cell_type": "code",
      "metadata": {
        "id": "0yTfZUALABJl",
        "colab_type": "code",
        "colab": {
          "base_uri": "https://localhost:8080/",
          "height": 51
        },
        "outputId": "764a0454-e1a1-4c21-c283-e6143a6a723a"
      },
      "source": [
        "%%time\n",
        "file_based_convert_examples_to_features(\n",
        "    test_examples, MAX_SEQ_LENGTH, tokenizer, test_file)"
      ],
      "execution_count": 187,
      "outputs": [
        {
          "output_type": "stream",
          "text": [
            "CPU times: user 2.76 ms, sys: 990 µs, total: 3.75 ms\n",
            "Wall time: 11.5 ms\n"
          ],
          "name": "stdout"
        }
      ]
    },
    {
      "cell_type": "markdown",
      "metadata": {
        "id": "FOshM-iGADpx",
        "colab_type": "text"
      },
      "source": [
        "def input_fn_builder(features, seq_length, is_training, drop_remainder):\n",
        "  \"\"\"Creates an `input_fn` closure to be passed to TPUEstimator.\"\"\"\n",
        "\n",
        "  all_input_ids = []\n",
        "  all_input_mask = []\n",
        "  all_segment_ids = []\n",
        "  all_label_ids = []\n",
        "\n",
        "  for feature in features:\n",
        "    all_input_ids.append(feature.input_ids)\n",
        "    all_input_mask.append(feature.input_mask)\n",
        "    all_segment_ids.append(feature.segment_ids)\n",
        "    all_label_ids.append(feature.label_ids)\n",
        "\n",
        "  def input_fn(params):\n",
        "    \"\"\"The actual input function.\"\"\"\n",
        "    batch_size = params[\"batch_size\"]\n",
        "\n",
        "    num_examples = len(features)\n",
        "\n",
        "    # This is for demo purposes and does NOT scale to large data sets. We do\n",
        "    # not use Dataset.from_generator() because that uses tf.py_func which is\n",
        "    # not TPU compatible. The right way to load data is with TFRecordReader.\n",
        "    d = tf.data.Dataset.from_tensor_slices({\n",
        "        \"input_ids\":\n",
        "            tf.constant(\n",
        "                all_input_ids, shape=[num_examples, seq_length],\n",
        "                dtype=tf.int32),\n",
        "        \"input_mask\":\n",
        "            tf.constant(\n",
        "                all_input_mask,\n",
        "                shape=[num_examples, seq_length],\n",
        "                dtype=tf.int32),\n",
        "        \"segment_ids\":\n",
        "            tf.constant(\n",
        "                all_segment_ids,\n",
        "                shape=[num_examples, seq_length],\n",
        "                dtype=tf.int32),\n",
        "        \"label_ids\":\n",
        "            tf.constant(all_label_ids, shape=[num_examples, len(LABEL_COLUMNS)], dtype=tf.int32),\n",
        "    })\n",
        "\n",
        "    if is_training:\n",
        "      d = d.repeat()\n",
        "      d = d.shuffle(buffer_size=100)\n",
        "\n",
        "    d = d.batch(batch_size=batch_size, drop_remainder=drop_remainder)\n",
        "    return d\n",
        "\n",
        "  return input_fn"
      ]
    },
    {
      "cell_type": "code",
      "metadata": {
        "id": "VRfXxoJR8gtL",
        "colab_type": "code",
        "colab": {}
      },
      "source": [
        "predict_input_fn = file_based_input_fn_builder(\n",
        "    input_file=test_file,\n",
        "    seq_length=MAX_SEQ_LENGTH,\n",
        "    is_training=False,\n",
        "    drop_remainder=False)"
      ],
      "execution_count": 188,
      "outputs": []
    },
    {
      "cell_type": "code",
      "metadata": {
        "id": "R3uFrj2MAc59",
        "colab_type": "code",
        "colab": {
          "base_uri": "https://localhost:8080/",
          "height": 68
        },
        "outputId": "c72cbb4c-925a-4ef7-e66e-63d36d042ea4"
      },
      "source": [
        "%%time\n",
        "print('Begin predictions!')\n",
        "predictions = estimator.predict(predict_input_fn)"
      ],
      "execution_count": 189,
      "outputs": [
        {
          "output_type": "stream",
          "text": [
            "Begin predictions!\n",
            "CPU times: user 562 µs, sys: 26 µs, total: 588 µs\n",
            "Wall time: 1.16 ms\n"
          ],
          "name": "stdout"
        }
      ]
    },
    {
      "cell_type": "code",
      "metadata": {
        "id": "dHxO89O8Ae_A",
        "colab_type": "code",
        "colab": {}
      },
      "source": [
        "def create_output(predictions):\n",
        "    probabilities = []\n",
        "    for (i, prediction) in enumerate(predictions):\n",
        "        preds = prediction[\"probabilities\"]\n",
        "        probabilities.append(preds)\n",
        "    dff = pd.DataFrame(probabilities)\n",
        "    dff.columns = LABEL_COLUMNS\n",
        "    \n",
        "    return dff"
      ],
      "execution_count": 190,
      "outputs": []
    },
    {
      "cell_type": "code",
      "metadata": {
        "id": "8MA5szQmAlBi",
        "colab_type": "code",
        "colab": {
          "base_uri": "https://localhost:8080/",
          "height": 224
        },
        "outputId": "16431f57-b3f9-49cc-d70b-c57767b55def"
      },
      "source": [
        "output_df = create_output(predictions)\n",
        "merged_df =  pd.concat([x_test, output_df], axis=1)"
      ],
      "execution_count": 191,
      "outputs": [
        {
          "output_type": "stream",
          "text": [
            "WARNING:tensorflow:Entity <function file_based_input_fn_builder.<locals>.input_fn.<locals>.<lambda> at 0x7f01b279fd90> could not be transformed and will be executed as-is. Please report this to the AutoGraph team. When filing the bug, set the verbosity to 10 (on Linux, `export AUTOGRAPH_VERBOSITY=10`) and attach the full output. Cause: module 'gast' has no attribute 'Str'\n",
            "WARNING: Entity <function file_based_input_fn_builder.<locals>.input_fn.<locals>.<lambda> at 0x7f01b279fd90> could not be transformed and will be executed as-is. Please report this to the AutoGraph team. When filing the bug, set the verbosity to 10 (on Linux, `export AUTOGRAPH_VERBOSITY=10`) and attach the full output. Cause: module 'gast' has no attribute 'Str'\n",
            "INFO:tensorflow:Calling model_fn.\n",
            "INFO:tensorflow:num_labels:3;logits:Tensor(\"loss/BiasAdd:0\", shape=(?, 3), dtype=float32);labels:Tensor(\"loss/Cast:0\", shape=(?, 3), dtype=float32)\n",
            "INFO:tensorflow:**** Trainable Variables ****\n",
            "mode: infer probabilities: Tensor(\"loss/Sigmoid:0\", shape=(?, 3), dtype=float32)\n",
            "INFO:tensorflow:Done calling model_fn.\n",
            "INFO:tensorflow:Graph was finalized.\n",
            "INFO:tensorflow:Restoring parameters from /content/drive/My Drive/FY_project/working/output/model.ckpt-1309\n",
            "INFO:tensorflow:Running local_init_op.\n",
            "INFO:tensorflow:Done running local_init_op.\n"
          ],
          "name": "stdout"
        }
      ]
    },
    {
      "cell_type": "code",
      "metadata": {
        "id": "YXHQvcFItyvG",
        "colab_type": "code",
        "colab": {
          "base_uri": "https://localhost:8080/",
          "height": 142
        },
        "outputId": "ac23d8c0-637e-4f0c-911b-5fbb87459349"
      },
      "source": [
        "merged_df.head(20)"
      ],
      "execution_count": 192,
      "outputs": [
        {
          "output_type": "execute_result",
          "data": {
            "text/html": [
              "<div>\n",
              "<style scoped>\n",
              "    .dataframe tbody tr th:only-of-type {\n",
              "        vertical-align: middle;\n",
              "    }\n",
              "\n",
              "    .dataframe tbody tr th {\n",
              "        vertical-align: top;\n",
              "    }\n",
              "\n",
              "    .dataframe thead th {\n",
              "        text-align: right;\n",
              "    }\n",
              "</style>\n",
              "<table border=\"1\" class=\"dataframe\">\n",
              "  <thead>\n",
              "    <tr style=\"text-align: right;\">\n",
              "      <th></th>\n",
              "      <th>title</th>\n",
              "      <th>body</th>\n",
              "      <th>bug</th>\n",
              "      <th>enhancement</th>\n",
              "      <th>question</th>\n",
              "    </tr>\n",
              "  </thead>\n",
              "  <tbody>\n",
              "    <tr>\n",
              "      <th>0</th>\n",
              "      <td>Login Page not redering Properly</td>\n",
              "      <td>the login page always crash in spite of giving...</td>\n",
              "      <td>0.965356</td>\n",
              "      <td>0.050356</td>\n",
              "      <td>0.015914</td>\n",
              "    </tr>\n",
              "    <tr>\n",
              "      <th>1</th>\n",
              "      <td>Query for echo</td>\n",
              "      <td>How can we turn off echo from settings?</td>\n",
              "      <td>0.030471</td>\n",
              "      <td>0.107110</td>\n",
              "      <td>0.904022</td>\n",
              "    </tr>\n",
              "    <tr>\n",
              "      <th>2</th>\n",
              "      <td>add more options</td>\n",
              "      <td>please add more options with camera during ga...</td>\n",
              "      <td>0.045349</td>\n",
              "      <td>0.947842</td>\n",
              "      <td>0.024671</td>\n",
              "    </tr>\n",
              "  </tbody>\n",
              "</table>\n",
              "</div>"
            ],
            "text/plain": [
              "                              title  \\\n",
              "0  Login Page not redering Properly   \n",
              "1                    Query for echo   \n",
              "2                  add more options   \n",
              "\n",
              "                                                body       bug  enhancement  \\\n",
              "0  the login page always crash in spite of giving...  0.965356     0.050356   \n",
              "1            How can we turn off echo from settings?  0.030471     0.107110   \n",
              "2   please add more options with camera during ga...  0.045349     0.947842   \n",
              "\n",
              "   question  \n",
              "0  0.015914  \n",
              "1  0.904022  \n",
              "2  0.024671  "
            ]
          },
          "metadata": {
            "tags": []
          },
          "execution_count": 192
        }
      ]
    },
    {
      "cell_type": "code",
      "metadata": {
        "id": "lVvizRfyU-XI",
        "colab_type": "code",
        "colab": {
          "base_uri": "https://localhost:8080/",
          "height": 142
        },
        "outputId": "82071702-d628-40f6-f410-424c0512aa9a"
      },
      "source": [
        "x_test.head(20)"
      ],
      "execution_count": 193,
      "outputs": [
        {
          "output_type": "execute_result",
          "data": {
            "text/html": [
              "<div>\n",
              "<style scoped>\n",
              "    .dataframe tbody tr th:only-of-type {\n",
              "        vertical-align: middle;\n",
              "    }\n",
              "\n",
              "    .dataframe tbody tr th {\n",
              "        vertical-align: top;\n",
              "    }\n",
              "\n",
              "    .dataframe thead th {\n",
              "        text-align: right;\n",
              "    }\n",
              "</style>\n",
              "<table border=\"1\" class=\"dataframe\">\n",
              "  <thead>\n",
              "    <tr style=\"text-align: right;\">\n",
              "      <th></th>\n",
              "      <th>title</th>\n",
              "      <th>body</th>\n",
              "    </tr>\n",
              "  </thead>\n",
              "  <tbody>\n",
              "    <tr>\n",
              "      <th>0</th>\n",
              "      <td>Login Page not redering Properly</td>\n",
              "      <td>the login page always crash in spite of giving...</td>\n",
              "    </tr>\n",
              "    <tr>\n",
              "      <th>1</th>\n",
              "      <td>Query for echo</td>\n",
              "      <td>How can we turn off echo from settings?</td>\n",
              "    </tr>\n",
              "    <tr>\n",
              "      <th>2</th>\n",
              "      <td>add more options</td>\n",
              "      <td>please add more options with camera during ga...</td>\n",
              "    </tr>\n",
              "  </tbody>\n",
              "</table>\n",
              "</div>"
            ],
            "text/plain": [
              "                              title  \\\n",
              "0  Login Page not redering Properly   \n",
              "1                    Query for echo   \n",
              "2                  add more options   \n",
              "\n",
              "                                                body  \n",
              "0  the login page always crash in spite of giving...  \n",
              "1            How can we turn off echo from settings?  \n",
              "2   please add more options with camera during ga...  "
            ]
          },
          "metadata": {
            "tags": []
          },
          "execution_count": 193
        }
      ]
    },
    {
      "cell_type": "code",
      "metadata": {
        "id": "I5pK9lJ4WSNq",
        "colab_type": "code",
        "colab": {}
      },
      "source": [
        "#merged_df.to_csv('/content/drive/My Drive/FY_project/dataset/bert_predicted2.csv', index=False)"
      ],
      "execution_count": 194,
      "outputs": []
    },
    {
      "cell_type": "code",
      "metadata": {
        "id": "N5IoLUmFbyaI",
        "colab_type": "code",
        "colab": {}
      },
      "source": [
        "#x_val.to_csv('/content/drive/My Drive/FY_project/dataset/bert_check2.csv', index=False)"
      ],
      "execution_count": 195,
      "outputs": []
    }
  ]
}