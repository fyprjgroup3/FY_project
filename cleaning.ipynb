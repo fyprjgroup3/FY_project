{
 "cells": [
  {
   "cell_type": "markdown",
   "metadata": {
    "colab_type": "text",
    "id": "view-in-github"
   },
   "source": [
    "<a href=\"https://colab.research.google.com/github/fyprjgroup3/FY_project/blob/avik's_work/Labelizer_nbv2.ipynb\" target=\"_parent\"><img src=\"https://colab.research.google.com/assets/colab-badge.svg\" alt=\"Open In Colab\"/></a>"
   ]
  },
  {
   "cell_type": "code",
   "execution_count": 1,
   "metadata": {
    "colab": {},
    "colab_type": "code",
    "id": "UDR0Z89_yP_v"
   },
   "outputs": [],
   "source": [
    "import pandas as pd\n",
    "import numpy as np\n",
    "import re\n",
    "import json\n",
    "import nltk\n",
    "import matplotlib.pyplot as plt\n",
    "import seaborn as sns\n",
    "import string\n",
    "import collections\n",
    "pd.set_option(\"display.max_columns\",2500)\n",
    "pd.set_option(\"display.max_rows\",2500)"
   ]
  },
  {
   "cell_type": "markdown",
   "metadata": {},
   "source": [
    "### Data Import"
   ]
  },
  {
   "cell_type": "code",
   "execution_count": 2,
   "metadata": {
    "colab": {
     "base_uri": "https://localhost:8080/",
     "height": 513
    },
    "colab_type": "code",
    "id": "cuZZefDs1SgH",
    "outputId": "3362ccf8-8afa-4629-c738-89b2f234334e"
   },
   "outputs": [
    {
     "data": {
      "text/html": [
       "<div>\n",
       "<style scoped>\n",
       "    .dataframe tbody tr th:only-of-type {\n",
       "        vertical-align: middle;\n",
       "    }\n",
       "\n",
       "    .dataframe tbody tr th {\n",
       "        vertical-align: top;\n",
       "    }\n",
       "\n",
       "    .dataframe thead th {\n",
       "        text-align: right;\n",
       "    }\n",
       "</style>\n",
       "<table border=\"1\" class=\"dataframe\">\n",
       "  <thead>\n",
       "    <tr style=\"text-align: right;\">\n",
       "      <th></th>\n",
       "      <th>action</th>\n",
       "      <th>url</th>\n",
       "      <th>title</th>\n",
       "      <th>body</th>\n",
       "      <th>labels</th>\n",
       "    </tr>\n",
       "  </thead>\n",
       "  <tbody>\n",
       "    <tr>\n",
       "      <th>0</th>\n",
       "      <td>\"closed\"</td>\n",
       "      <td>\"https://github.com/Microsoft/vcpkg/issues/4548\"</td>\n",
       "      <td>\"Error: Building package zlib:x64-windows-stat...</td>\n",
       "      <td>\"\\r\\nPackage: zlib:x64-windows-static\\r\\nVcpkg...</td>\n",
       "      <td>[{\"id\":455857191,\"node_id\":\"MDU6TGFiZWw0NTU4NT...</td>\n",
       "    </tr>\n",
       "    <tr>\n",
       "      <th>1</th>\n",
       "      <td>\"closed\"</td>\n",
       "      <td>\"https://github.com/primefaces/primeng/issues/...</td>\n",
       "      <td>\"Pagination bug when removing an item\"</td>\n",
       "      <td>\"Reported by a PRO user;\\r\\n\\r\\n&gt; If for exemp...</td>\n",
       "      <td>[{\"id\":312160661,\"node_id\":\"MDU6TGFiZWwzMTIxNj...</td>\n",
       "    </tr>\n",
       "    <tr>\n",
       "      <th>2</th>\n",
       "      <td>\"closed\"</td>\n",
       "      <td>\"https://github.com/zen-kernel/zen-kernel/issu...</td>\n",
       "      <td>\"bfq error\"</td>\n",
       "      <td>\"Hi, Steven/\\r\\nAfter last update today &gt;git f...</td>\n",
       "      <td>[]</td>\n",
       "    </tr>\n",
       "    <tr>\n",
       "      <th>3</th>\n",
       "      <td>\"closed\"</td>\n",
       "      <td>\"https://github.com/biig-io/ngx-smart-modal/is...</td>\n",
       "      <td>\"Can't open next modal at once after closing p...</td>\n",
       "      <td>\"\\r\\nwhen I click immediately after closing pr...</td>\n",
       "      <td>[]</td>\n",
       "    </tr>\n",
       "    <tr>\n",
       "      <th>4</th>\n",
       "      <td>\"closed\"</td>\n",
       "      <td>\"https://github.com/istio/istio/issues/12790\"</td>\n",
       "      <td>\"Helm podAntiAffinity templating error\"</td>\n",
       "      <td>\"**Describe the bug**\\r\\n\\r\\nHelm charts fail ...</td>\n",
       "      <td>[{\"id\":670442116,\"node_id\":\"MDU6TGFiZWw2NzA0ND...</td>\n",
       "    </tr>\n",
       "  </tbody>\n",
       "</table>\n",
       "</div>"
      ],
      "text/plain": [
       "     action                                                url  \\\n",
       "0  \"closed\"   \"https://github.com/Microsoft/vcpkg/issues/4548\"   \n",
       "1  \"closed\"  \"https://github.com/primefaces/primeng/issues/...   \n",
       "2  \"closed\"  \"https://github.com/zen-kernel/zen-kernel/issu...   \n",
       "3  \"closed\"  \"https://github.com/biig-io/ngx-smart-modal/is...   \n",
       "4  \"closed\"      \"https://github.com/istio/istio/issues/12790\"   \n",
       "\n",
       "                                               title  \\\n",
       "0  \"Error: Building package zlib:x64-windows-stat...   \n",
       "1             \"Pagination bug when removing an item\"   \n",
       "2                                        \"bfq error\"   \n",
       "3  \"Can't open next modal at once after closing p...   \n",
       "4            \"Helm podAntiAffinity templating error\"   \n",
       "\n",
       "                                                body  \\\n",
       "0  \"\\r\\nPackage: zlib:x64-windows-static\\r\\nVcpkg...   \n",
       "1  \"Reported by a PRO user;\\r\\n\\r\\n> If for exemp...   \n",
       "2  \"Hi, Steven/\\r\\nAfter last update today >git f...   \n",
       "3  \"\\r\\nwhen I click immediately after closing pr...   \n",
       "4  \"**Describe the bug**\\r\\n\\r\\nHelm charts fail ...   \n",
       "\n",
       "                                              labels  \n",
       "0  [{\"id\":455857191,\"node_id\":\"MDU6TGFiZWw0NTU4NT...  \n",
       "1  [{\"id\":312160661,\"node_id\":\"MDU6TGFiZWwzMTIxNj...  \n",
       "2                                                 []  \n",
       "3                                                 []  \n",
       "4  [{\"id\":670442116,\"node_id\":\"MDU6TGFiZWw2NzA0ND...  "
      ]
     },
     "execution_count": 2,
     "metadata": {},
     "output_type": "execute_result"
    }
   ],
   "source": [
    "#import the data\n",
    "#data=pd.read_csv('/content/drive/My Drive/FY_project/dataset/results-20190513-ofapr19.csv')\n",
    "data=pd.read_csv('E:\\yearproject.csv')\n",
    "data.head()"
   ]
  },
  {
   "cell_type": "code",
   "execution_count": 3,
   "metadata": {
    "colab": {
     "base_uri": "https://localhost:8080/",
     "height": 34
    },
    "colab_type": "code",
    "id": "AKgCotmX1Uxo",
    "outputId": "ed24a75b-16af-4acb-b485-275e98e9cfc0"
   },
   "outputs": [
    {
     "name": "stdout",
     "output_type": "stream",
     "text": [
      "No. of rows: 7964\n"
     ]
    }
   ],
   "source": [
    "print(\"No. of rows:\",data.shape[0])"
   ]
  },
  {
   "cell_type": "markdown",
   "metadata": {},
   "source": [
    "### Data Cleaning"
   ]
  },
  {
   "cell_type": "code",
   "execution_count": 4,
   "metadata": {
    "colab": {
     "base_uri": "https://localhost:8080/",
     "height": 34
    },
    "colab_type": "code",
    "id": "RcaCbq1AVwLg",
    "outputId": "c3367fc5-d864-4d52-a043-084aa27f0575"
   },
   "outputs": [
    {
     "name": "stdout",
     "output_type": "stream",
     "text": [
      "No. of duplicate rows:  3\n"
     ]
    }
   ],
   "source": [
    "print('No. of duplicate rows: ',data.duplicated().sum())"
   ]
  },
  {
   "cell_type": "code",
   "execution_count": 5,
   "metadata": {
    "colab": {},
    "colab_type": "code",
    "id": "dhtfKNalWfyS"
   },
   "outputs": [],
   "source": [
    "data.drop_duplicates(inplace=True)"
   ]
  },
  {
   "cell_type": "code",
   "execution_count": 6,
   "metadata": {
    "colab": {
     "base_uri": "https://localhost:8080/",
     "height": 34
    },
    "colab_type": "code",
    "id": "JPgfNluzWnMx",
    "outputId": "d304b228-9e71-4016-a318-5c2d9e2bc6fe"
   },
   "outputs": [
    {
     "data": {
      "text/plain": [
       "(7961, 5)"
      ]
     },
     "execution_count": 6,
     "metadata": {},
     "output_type": "execute_result"
    }
   ],
   "source": [
    "data.shape"
   ]
  },
  {
   "cell_type": "code",
   "execution_count": 7,
   "metadata": {
    "colab": {
     "base_uri": "https://localhost:8080/",
     "height": 289
    },
    "colab_type": "code",
    "id": "wk4JasqL1qje",
    "outputId": "c2182654-37cb-45b5-b5ec-4556ee0e16cf"
   },
   "outputs": [
    {
     "data": {
      "text/html": [
       "<div>\n",
       "<style scoped>\n",
       "    .dataframe tbody tr th:only-of-type {\n",
       "        vertical-align: middle;\n",
       "    }\n",
       "\n",
       "    .dataframe tbody tr th {\n",
       "        vertical-align: top;\n",
       "    }\n",
       "\n",
       "    .dataframe thead th {\n",
       "        text-align: right;\n",
       "    }\n",
       "</style>\n",
       "<table border=\"1\" class=\"dataframe\">\n",
       "  <thead>\n",
       "    <tr style=\"text-align: right;\">\n",
       "      <th></th>\n",
       "      <th>title</th>\n",
       "      <th>body</th>\n",
       "      <th>labels</th>\n",
       "    </tr>\n",
       "  </thead>\n",
       "  <tbody>\n",
       "    <tr>\n",
       "      <th>0</th>\n",
       "      <td>\"Error: Building package zlib:x64-windows-stat...</td>\n",
       "      <td>\"\\r\\nPackage: zlib:x64-windows-static\\r\\nVcpkg...</td>\n",
       "      <td>[{\"id\":455857191,\"node_id\":\"MDU6TGFiZWw0NTU4NT...</td>\n",
       "    </tr>\n",
       "    <tr>\n",
       "      <th>1</th>\n",
       "      <td>\"Pagination bug when removing an item\"</td>\n",
       "      <td>\"Reported by a PRO user;\\r\\n\\r\\n&gt; If for exemp...</td>\n",
       "      <td>[{\"id\":312160661,\"node_id\":\"MDU6TGFiZWwzMTIxNj...</td>\n",
       "    </tr>\n",
       "    <tr>\n",
       "      <th>2</th>\n",
       "      <td>\"bfq error\"</td>\n",
       "      <td>\"Hi, Steven/\\r\\nAfter last update today &gt;git f...</td>\n",
       "      <td>[]</td>\n",
       "    </tr>\n",
       "    <tr>\n",
       "      <th>3</th>\n",
       "      <td>\"Can't open next modal at once after closing p...</td>\n",
       "      <td>\"\\r\\nwhen I click immediately after closing pr...</td>\n",
       "      <td>[]</td>\n",
       "    </tr>\n",
       "    <tr>\n",
       "      <th>4</th>\n",
       "      <td>\"Helm podAntiAffinity templating error\"</td>\n",
       "      <td>\"**Describe the bug**\\r\\n\\r\\nHelm charts fail ...</td>\n",
       "      <td>[{\"id\":670442116,\"node_id\":\"MDU6TGFiZWw2NzA0ND...</td>\n",
       "    </tr>\n",
       "  </tbody>\n",
       "</table>\n",
       "</div>"
      ],
      "text/plain": [
       "                                               title  \\\n",
       "0  \"Error: Building package zlib:x64-windows-stat...   \n",
       "1             \"Pagination bug when removing an item\"   \n",
       "2                                        \"bfq error\"   \n",
       "3  \"Can't open next modal at once after closing p...   \n",
       "4            \"Helm podAntiAffinity templating error\"   \n",
       "\n",
       "                                                body  \\\n",
       "0  \"\\r\\nPackage: zlib:x64-windows-static\\r\\nVcpkg...   \n",
       "1  \"Reported by a PRO user;\\r\\n\\r\\n> If for exemp...   \n",
       "2  \"Hi, Steven/\\r\\nAfter last update today >git f...   \n",
       "3  \"\\r\\nwhen I click immediately after closing pr...   \n",
       "4  \"**Describe the bug**\\r\\n\\r\\nHelm charts fail ...   \n",
       "\n",
       "                                              labels  \n",
       "0  [{\"id\":455857191,\"node_id\":\"MDU6TGFiZWw0NTU4NT...  \n",
       "1  [{\"id\":312160661,\"node_id\":\"MDU6TGFiZWwzMTIxNj...  \n",
       "2                                                 []  \n",
       "3                                                 []  \n",
       "4  [{\"id\":670442116,\"node_id\":\"MDU6TGFiZWw2NzA0ND...  "
      ]
     },
     "execution_count": 7,
     "metadata": {},
     "output_type": "execute_result"
    }
   ],
   "source": [
    "# select necessary features\n",
    "data=data[[\"title\",\"body\",\"labels\"]]\n",
    "data.head()"
   ]
  },
  {
   "cell_type": "code",
   "execution_count": 8,
   "metadata": {
    "colab": {
     "base_uri": "https://localhost:8080/",
     "height": 411
    },
    "colab_type": "code",
    "id": "gsaA7-fC9N6c",
    "outputId": "cf4ea9da-977c-4e39-a3c5-6996a3e82ee0"
   },
   "outputs": [
    {
     "data": {
      "text/html": [
       "<div>\n",
       "<style scoped>\n",
       "    .dataframe tbody tr th:only-of-type {\n",
       "        vertical-align: middle;\n",
       "    }\n",
       "\n",
       "    .dataframe tbody tr th {\n",
       "        vertical-align: top;\n",
       "    }\n",
       "\n",
       "    .dataframe thead th {\n",
       "        text-align: right;\n",
       "    }\n",
       "</style>\n",
       "<table border=\"1\" class=\"dataframe\">\n",
       "  <thead>\n",
       "    <tr style=\"text-align: right;\">\n",
       "      <th></th>\n",
       "      <th>title</th>\n",
       "      <th>body</th>\n",
       "      <th>labels</th>\n",
       "    </tr>\n",
       "  </thead>\n",
       "  <tbody>\n",
       "    <tr>\n",
       "      <th>0</th>\n",
       "      <td>\"Error: Building package zlib:x64-windows-stat...</td>\n",
       "      <td>\"\\r\\nPackage: zlib:x64-windows-static\\r\\nVcpkg...</td>\n",
       "      <td>[{\"id\":455857191,\"node_id\":\"MDU6TGFiZWw0NTU4NT...</td>\n",
       "    </tr>\n",
       "    <tr>\n",
       "      <th>1</th>\n",
       "      <td>\"Pagination bug when removing an item\"</td>\n",
       "      <td>\"Reported by a PRO user;\\r\\n\\r\\n&gt; If for exemp...</td>\n",
       "      <td>[{\"id\":312160661,\"node_id\":\"MDU6TGFiZWwzMTIxNj...</td>\n",
       "    </tr>\n",
       "    <tr>\n",
       "      <th>2</th>\n",
       "      <td>\"bfq error\"</td>\n",
       "      <td>\"Hi, Steven/\\r\\nAfter last update today &gt;git f...</td>\n",
       "      <td>NaN</td>\n",
       "    </tr>\n",
       "    <tr>\n",
       "      <th>3</th>\n",
       "      <td>\"Can't open next modal at once after closing p...</td>\n",
       "      <td>\"\\r\\nwhen I click immediately after closing pr...</td>\n",
       "      <td>NaN</td>\n",
       "    </tr>\n",
       "    <tr>\n",
       "      <th>4</th>\n",
       "      <td>\"Helm podAntiAffinity templating error\"</td>\n",
       "      <td>\"**Describe the bug**\\r\\n\\r\\nHelm charts fail ...</td>\n",
       "      <td>[{\"id\":670442116,\"node_id\":\"MDU6TGFiZWw2NzA0ND...</td>\n",
       "    </tr>\n",
       "  </tbody>\n",
       "</table>\n",
       "</div>"
      ],
      "text/plain": [
       "                                               title  \\\n",
       "0  \"Error: Building package zlib:x64-windows-stat...   \n",
       "1             \"Pagination bug when removing an item\"   \n",
       "2                                        \"bfq error\"   \n",
       "3  \"Can't open next modal at once after closing p...   \n",
       "4            \"Helm podAntiAffinity templating error\"   \n",
       "\n",
       "                                                body  \\\n",
       "0  \"\\r\\nPackage: zlib:x64-windows-static\\r\\nVcpkg...   \n",
       "1  \"Reported by a PRO user;\\r\\n\\r\\n> If for exemp...   \n",
       "2  \"Hi, Steven/\\r\\nAfter last update today >git f...   \n",
       "3  \"\\r\\nwhen I click immediately after closing pr...   \n",
       "4  \"**Describe the bug**\\r\\n\\r\\nHelm charts fail ...   \n",
       "\n",
       "                                              labels  \n",
       "0  [{\"id\":455857191,\"node_id\":\"MDU6TGFiZWw0NTU4NT...  \n",
       "1  [{\"id\":312160661,\"node_id\":\"MDU6TGFiZWwzMTIxNj...  \n",
       "2                                                NaN  \n",
       "3                                                NaN  \n",
       "4  [{\"id\":670442116,\"node_id\":\"MDU6TGFiZWw2NzA0ND...  "
      ]
     },
     "execution_count": 8,
     "metadata": {},
     "output_type": "execute_result"
    }
   ],
   "source": [
    "# remove rows with empty labels\n",
    "def clean(s):\n",
    "    if s==\"[]\":\n",
    "        s=np.nan\n",
    "    return s\n",
    "    \n",
    "data['labels']=data['labels'].apply(lambda x: clean(x))\n",
    "data.head()"
   ]
  },
  {
   "cell_type": "code",
   "execution_count": 9,
   "metadata": {
    "colab": {
     "base_uri": "https://localhost:8080/",
     "height": 122
    },
    "colab_type": "code",
    "id": "l4BE0H3HIJBH",
    "outputId": "cffc7d20-1864-4574-e3fc-4343908d717a"
   },
   "outputs": [],
   "source": [
    "data.dropna(inplace=True)"
   ]
  },
  {
   "cell_type": "code",
   "execution_count": 10,
   "metadata": {
    "colab": {
     "base_uri": "https://localhost:8080/",
     "height": 289
    },
    "colab_type": "code",
    "id": "2Spnq92nMJyi",
    "outputId": "a4e4936d-5ef2-432a-fb11-6890508a8254"
   },
   "outputs": [
    {
     "data": {
      "text/html": [
       "<div>\n",
       "<style scoped>\n",
       "    .dataframe tbody tr th:only-of-type {\n",
       "        vertical-align: middle;\n",
       "    }\n",
       "\n",
       "    .dataframe tbody tr th {\n",
       "        vertical-align: top;\n",
       "    }\n",
       "\n",
       "    .dataframe thead th {\n",
       "        text-align: right;\n",
       "    }\n",
       "</style>\n",
       "<table border=\"1\" class=\"dataframe\">\n",
       "  <thead>\n",
       "    <tr style=\"text-align: right;\">\n",
       "      <th></th>\n",
       "      <th>title</th>\n",
       "      <th>body</th>\n",
       "      <th>labels</th>\n",
       "    </tr>\n",
       "  </thead>\n",
       "  <tbody>\n",
       "    <tr>\n",
       "      <th>0</th>\n",
       "      <td>\"Error: Building package zlib:x64-windows-stat...</td>\n",
       "      <td>\"\\r\\nPackage: zlib:x64-windows-static\\r\\nVcpkg...</td>\n",
       "      <td>[{\"id\":455857191,\"node_id\":\"MDU6TGFiZWw0NTU4NT...</td>\n",
       "    </tr>\n",
       "    <tr>\n",
       "      <th>1</th>\n",
       "      <td>\"Pagination bug when removing an item\"</td>\n",
       "      <td>\"Reported by a PRO user;\\r\\n\\r\\n&gt; If for exemp...</td>\n",
       "      <td>[{\"id\":312160661,\"node_id\":\"MDU6TGFiZWwzMTIxNj...</td>\n",
       "    </tr>\n",
       "    <tr>\n",
       "      <th>4</th>\n",
       "      <td>\"Helm podAntiAffinity templating error\"</td>\n",
       "      <td>\"**Describe the bug**\\r\\n\\r\\nHelm charts fail ...</td>\n",
       "      <td>[{\"id\":670442116,\"node_id\":\"MDU6TGFiZWw2NzA0ND...</td>\n",
       "    </tr>\n",
       "    <tr>\n",
       "      <th>5</th>\n",
       "      <td>\"[0.5][Tradingview] Quick Chart resize does no...</td>\n",
       "      <td>\"**Describe the bug**\\r\\nThe up and down arrow...</td>\n",
       "      <td>[{\"id\":1089646255,\"node_id\":\"MDU6TGFiZWwxMDg5N...</td>\n",
       "    </tr>\n",
       "    <tr>\n",
       "      <th>6</th>\n",
       "      <td>\"Upgrade isort\"</td>\n",
       "      <td>\"We are using 4.3.4 but [isort[(https://pypi.o...</td>\n",
       "      <td>[{\"id\":717069763,\"node_id\":\"MDU6TGFiZWw3MTcwNj...</td>\n",
       "    </tr>\n",
       "  </tbody>\n",
       "</table>\n",
       "</div>"
      ],
      "text/plain": [
       "                                               title  \\\n",
       "0  \"Error: Building package zlib:x64-windows-stat...   \n",
       "1             \"Pagination bug when removing an item\"   \n",
       "4            \"Helm podAntiAffinity templating error\"   \n",
       "5  \"[0.5][Tradingview] Quick Chart resize does no...   \n",
       "6                                    \"Upgrade isort\"   \n",
       "\n",
       "                                                body  \\\n",
       "0  \"\\r\\nPackage: zlib:x64-windows-static\\r\\nVcpkg...   \n",
       "1  \"Reported by a PRO user;\\r\\n\\r\\n> If for exemp...   \n",
       "4  \"**Describe the bug**\\r\\n\\r\\nHelm charts fail ...   \n",
       "5  \"**Describe the bug**\\r\\nThe up and down arrow...   \n",
       "6  \"We are using 4.3.4 but [isort[(https://pypi.o...   \n",
       "\n",
       "                                              labels  \n",
       "0  [{\"id\":455857191,\"node_id\":\"MDU6TGFiZWw0NTU4NT...  \n",
       "1  [{\"id\":312160661,\"node_id\":\"MDU6TGFiZWwzMTIxNj...  \n",
       "4  [{\"id\":670442116,\"node_id\":\"MDU6TGFiZWw2NzA0ND...  \n",
       "5  [{\"id\":1089646255,\"node_id\":\"MDU6TGFiZWwxMDg5N...  \n",
       "6  [{\"id\":717069763,\"node_id\":\"MDU6TGFiZWw3MTcwNj...  "
      ]
     },
     "execution_count": 10,
     "metadata": {},
     "output_type": "execute_result"
    }
   ],
   "source": [
    "data.head()"
   ]
  },
  {
   "cell_type": "code",
   "execution_count": 11,
   "metadata": {
    "colab": {
     "base_uri": "https://localhost:8080/",
     "height": 34
    },
    "colab_type": "code",
    "id": "K7LBFzMaOE9o",
    "outputId": "765e1c3b-18c1-44c6-c5a5-3dcea59a7424"
   },
   "outputs": [
    {
     "name": "stdout",
     "output_type": "stream",
     "text": [
      "No. of rows: 4063\n"
     ]
    }
   ],
   "source": [
    "print(\"No. of rows:\",data.shape[0])"
   ]
  },
  {
   "cell_type": "code",
   "execution_count": 12,
   "metadata": {
    "colab": {
     "base_uri": "https://localhost:8080/",
     "height": 54
    },
    "colab_type": "code",
    "id": "FUK5Hl701hmN",
    "outputId": "6ccefd43-f3c0-46c4-a95a-394683e2b771"
   },
   "outputs": [
    {
     "data": {
      "text/plain": [
       "0    [{\"id\":455857191,\"node_id\":\"MDU6TGFiZWw0NTU4NT...\n",
       "1    [{\"id\":312160661,\"node_id\":\"MDU6TGFiZWwzMTIxNj...\n",
       "4    [{\"id\":670442116,\"node_id\":\"MDU6TGFiZWw2NzA0ND...\n",
       "5    [{\"id\":1089646255,\"node_id\":\"MDU6TGFiZWwxMDg5N...\n",
       "6    [{\"id\":717069763,\"node_id\":\"MDU6TGFiZWw3MTcwNj...\n",
       "Name: labels, dtype: object"
      ]
     },
     "execution_count": 12,
     "metadata": {},
     "output_type": "execute_result"
    }
   ],
   "source": [
    "# check format of labels\n",
    "data['labels'][:5]"
   ]
  },
  {
   "cell_type": "code",
   "execution_count": 13,
   "metadata": {},
   "outputs": [
    {
     "data": {
      "text/plain": [
       "'[{\"id\":1089646255,\"node_id\":\"MDU6TGFiZWwxMDg5NjQ2MjU1\",\"url\":\"https://api.github.com/repos/bitshares/bitshares-ui/labels/[1b]%20User%20Story\",\"name\":\"[1b] User Story\",\"color\":\"b8e4fc\",\"default\":false},{\"id\":272058720,\"node_id\":\"MDU6TGFiZWwyNzIwNTg3MjA=\",\"url\":\"https://api.github.com/repos/bitshares/bitshares-ui/labels/[3]%20Bug\",\"name\":\"[3] Bug\",\"color\":\"b60205\",\"default\":false},{\"id\":522016380,\"node_id\":\"MDU6TGFiZWw1MjIwMTYzODA=\",\"url\":\"https://api.github.com/repos/bitshares/bitshares-ui/labels/[4c]%20High%20Priority\",\"name\":\"[4c] High Priority\",\"color\":\"fbca04\",\"default\":false},{\"id\":1089668332,\"node_id\":\"MDU6TGFiZWwxMDg5NjY4MzMy\",\"url\":\"https://api.github.com/repos/bitshares/bitshares-ui/labels/[5a]%20Tiny\",\"name\":\"[5a] Tiny\",\"color\":\"f9aed0\",\"default\":false},{\"id\":1133046734,\"node_id\":\"MDU6TGFiZWwxMTMzMDQ2NzM0\",\"url\":\"https://api.github.com/repos/bitshares/bitshares-ui/labels/[6]%20RC%20Blockage\",\"name\":\"[6] RC Blockage\",\"color\":\"0052cc\",\"default\":false},{\"id\":1134524965,\"node_id\":\"MDU6TGFiZWwxMTM0NTI0OTY1\",\"url\":\"https://api.github.com/repos/bitshares/bitshares-ui/labels/[7]%20Estimated\",\"name\":\"[7] Estimated\",\"color\":\"994d00\",\"default\":false}]'"
      ]
     },
     "execution_count": 13,
     "metadata": {},
     "output_type": "execute_result"
    }
   ],
   "source": [
    "data['labels'][5]"
   ]
  },
  {
   "cell_type": "code",
   "execution_count": 14,
   "metadata": {
    "colab": {
     "base_uri": "https://localhost:8080/",
     "height": 629
    },
    "colab_type": "code",
    "id": "wMF76vYc2_9m",
    "outputId": "c106e14a-3aed-4454-9267-3b90ef42b0ea"
   },
   "outputs": [
    {
     "data": {
      "text/plain": [
       "[{'id': 1089646255,\n",
       "  'node_id': 'MDU6TGFiZWwxMDg5NjQ2MjU1',\n",
       "  'url': 'https://api.github.com/repos/bitshares/bitshares-ui/labels/[1b]%20User%20Story',\n",
       "  'name': '[1b] User Story',\n",
       "  'color': 'b8e4fc',\n",
       "  'default': False},\n",
       " {'id': 272058720,\n",
       "  'node_id': 'MDU6TGFiZWwyNzIwNTg3MjA=',\n",
       "  'url': 'https://api.github.com/repos/bitshares/bitshares-ui/labels/[3]%20Bug',\n",
       "  'name': '[3] Bug',\n",
       "  'color': 'b60205',\n",
       "  'default': False},\n",
       " {'id': 522016380,\n",
       "  'node_id': 'MDU6TGFiZWw1MjIwMTYzODA=',\n",
       "  'url': 'https://api.github.com/repos/bitshares/bitshares-ui/labels/[4c]%20High%20Priority',\n",
       "  'name': '[4c] High Priority',\n",
       "  'color': 'fbca04',\n",
       "  'default': False},\n",
       " {'id': 1089668332,\n",
       "  'node_id': 'MDU6TGFiZWwxMDg5NjY4MzMy',\n",
       "  'url': 'https://api.github.com/repos/bitshares/bitshares-ui/labels/[5a]%20Tiny',\n",
       "  'name': '[5a] Tiny',\n",
       "  'color': 'f9aed0',\n",
       "  'default': False},\n",
       " {'id': 1133046734,\n",
       "  'node_id': 'MDU6TGFiZWwxMTMzMDQ2NzM0',\n",
       "  'url': 'https://api.github.com/repos/bitshares/bitshares-ui/labels/[6]%20RC%20Blockage',\n",
       "  'name': '[6] RC Blockage',\n",
       "  'color': '0052cc',\n",
       "  'default': False},\n",
       " {'id': 1134524965,\n",
       "  'node_id': 'MDU6TGFiZWwxMTM0NTI0OTY1',\n",
       "  'url': 'https://api.github.com/repos/bitshares/bitshares-ui/labels/[7]%20Estimated',\n",
       "  'name': '[7] Estimated',\n",
       "  'color': '994d00',\n",
       "  'default': False}]"
      ]
     },
     "execution_count": 14,
     "metadata": {},
     "output_type": "execute_result"
    }
   ],
   "source": [
    "#since labels are of string type, convert into list of dictionaries\n",
    "json.loads(data['labels'][5])"
   ]
  },
  {
   "cell_type": "code",
   "execution_count": 15,
   "metadata": {
    "colab": {
     "base_uri": "https://localhost:8080/",
     "height": 119
    },
    "colab_type": "code",
    "id": "UDrrdbud4TyN",
    "outputId": "4c3bc79b-23d0-4043-a164-db568bd24b66"
   },
   "outputs": [
    {
     "data": {
      "text/plain": [
       "['[1b] User Story',\n",
       " '[3] Bug',\n",
       " '[4c] High Priority',\n",
       " '[5a] Tiny',\n",
       " '[6] RC Blockage',\n",
       " '[7] Estimated']"
      ]
     },
     "execution_count": 15,
     "metadata": {},
     "output_type": "execute_result"
    }
   ],
   "source": [
    "#extract only name field from labels\n",
    "[x['name'] for x in json.loads(data['labels'][5])]"
   ]
  },
  {
   "cell_type": "code",
   "execution_count": 16,
   "metadata": {
    "colab": {
     "base_uri": "https://localhost:8080/",
     "height": 272
    },
    "colab_type": "code",
    "id": "t-Oifzq76loU",
    "outputId": "e7b080d7-f845-48b4-eb12-cc5b2feaf757"
   },
   "outputs": [
    {
     "data": {
      "text/plain": [
       "[['needs-repro'],\n",
       " ['enhancement'],\n",
       " ['area/environments'],\n",
       " ['[1b] User Story',\n",
       "  '[3] Bug',\n",
       "  '[4c] High Priority',\n",
       "  '[5a] Tiny',\n",
       "  '[6] RC Blockage',\n",
       "  '[7] Estimated'],\n",
       " ['feature-refactoring', 'good first issue', 'needs PR', 'type-code health']]"
      ]
     },
     "execution_count": 16,
     "metadata": {},
     "output_type": "execute_result"
    }
   ],
   "source": [
    "#convert into list of lists\n",
    "labels=[]\n",
    "for i in data['labels']:\n",
    "    labels.append([x['name'] for x in json.loads(i)])\n",
    "labels[:5]"
   ]
  },
  {
   "cell_type": "code",
   "execution_count": 17,
   "metadata": {
    "colab": {
     "base_uri": "https://localhost:8080/",
     "height": 394
    },
    "colab_type": "code",
    "id": "hctdulfs75el",
    "outputId": "5125ab9a-aaf3-413f-875c-727c60a84f93"
   },
   "outputs": [
    {
     "data": {
      "text/html": [
       "<div>\n",
       "<style scoped>\n",
       "    .dataframe tbody tr th:only-of-type {\n",
       "        vertical-align: middle;\n",
       "    }\n",
       "\n",
       "    .dataframe tbody tr th {\n",
       "        vertical-align: top;\n",
       "    }\n",
       "\n",
       "    .dataframe thead th {\n",
       "        text-align: right;\n",
       "    }\n",
       "</style>\n",
       "<table border=\"1\" class=\"dataframe\">\n",
       "  <thead>\n",
       "    <tr style=\"text-align: right;\">\n",
       "      <th></th>\n",
       "      <th>title</th>\n",
       "      <th>body</th>\n",
       "      <th>labels</th>\n",
       "    </tr>\n",
       "  </thead>\n",
       "  <tbody>\n",
       "    <tr>\n",
       "      <th>0</th>\n",
       "      <td>\"Error: Building package zlib:x64-windows-stat...</td>\n",
       "      <td>\"\\r\\nPackage: zlib:x64-windows-static\\r\\nVcpkg...</td>\n",
       "      <td>[needs-repro]</td>\n",
       "    </tr>\n",
       "    <tr>\n",
       "      <th>1</th>\n",
       "      <td>\"Pagination bug when removing an item\"</td>\n",
       "      <td>\"Reported by a PRO user;\\r\\n\\r\\n&gt; If for exemp...</td>\n",
       "      <td>[enhancement]</td>\n",
       "    </tr>\n",
       "    <tr>\n",
       "      <th>4</th>\n",
       "      <td>\"Helm podAntiAffinity templating error\"</td>\n",
       "      <td>\"**Describe the bug**\\r\\n\\r\\nHelm charts fail ...</td>\n",
       "      <td>[area/environments]</td>\n",
       "    </tr>\n",
       "    <tr>\n",
       "      <th>5</th>\n",
       "      <td>\"[0.5][Tradingview] Quick Chart resize does no...</td>\n",
       "      <td>\"**Describe the bug**\\r\\nThe up and down arrow...</td>\n",
       "      <td>[[1b] User Story, [3] Bug, [4c] High Priority,...</td>\n",
       "    </tr>\n",
       "    <tr>\n",
       "      <th>6</th>\n",
       "      <td>\"Upgrade isort\"</td>\n",
       "      <td>\"We are using 4.3.4 but [isort[(https://pypi.o...</td>\n",
       "      <td>[feature-refactoring, good first issue, needs ...</td>\n",
       "    </tr>\n",
       "  </tbody>\n",
       "</table>\n",
       "</div>"
      ],
      "text/plain": [
       "                                               title  \\\n",
       "0  \"Error: Building package zlib:x64-windows-stat...   \n",
       "1             \"Pagination bug when removing an item\"   \n",
       "4            \"Helm podAntiAffinity templating error\"   \n",
       "5  \"[0.5][Tradingview] Quick Chart resize does no...   \n",
       "6                                    \"Upgrade isort\"   \n",
       "\n",
       "                                                body  \\\n",
       "0  \"\\r\\nPackage: zlib:x64-windows-static\\r\\nVcpkg...   \n",
       "1  \"Reported by a PRO user;\\r\\n\\r\\n> If for exemp...   \n",
       "4  \"**Describe the bug**\\r\\n\\r\\nHelm charts fail ...   \n",
       "5  \"**Describe the bug**\\r\\nThe up and down arrow...   \n",
       "6  \"We are using 4.3.4 but [isort[(https://pypi.o...   \n",
       "\n",
       "                                              labels  \n",
       "0                                      [needs-repro]  \n",
       "1                                      [enhancement]  \n",
       "4                                [area/environments]  \n",
       "5  [[1b] User Story, [3] Bug, [4c] High Priority,...  \n",
       "6  [feature-refactoring, good first issue, needs ...  "
      ]
     },
     "execution_count": 17,
     "metadata": {},
     "output_type": "execute_result"
    }
   ],
   "source": [
    "data['labels']=labels\n",
    "data.head()"
   ]
  },
  {
   "cell_type": "code",
   "execution_count": 18,
   "metadata": {
    "colab": {},
    "colab_type": "code",
    "id": "fdCCcKpaU9gI"
   },
   "outputs": [],
   "source": [
    "stopwords = nltk.corpus.stopwords.words('english')"
   ]
  },
  {
   "cell_type": "code",
   "execution_count": 19,
   "metadata": {
    "colab": {
     "base_uri": "https://localhost:8080/",
     "height": 34
    },
    "colab_type": "code",
    "id": "C3B9XSMJaB5B",
    "outputId": "39ddd0da-a9e8-4b80-cf87-5aab7d937289"
   },
   "outputs": [
    {
     "name": "stdout",
     "output_type": "stream",
     "text": [
      "179\n"
     ]
    }
   ],
   "source": [
    "print(len(stopwords))"
   ]
  },
  {
   "cell_type": "code",
   "execution_count": 20,
   "metadata": {
    "colab": {
     "base_uri": "https://localhost:8080/",
     "height": 34
    },
    "colab_type": "code",
    "id": "lNQ8ANvcaMTr",
    "outputId": "d72f115e-c62f-4f6c-ef2b-3b593edc84a8"
   },
   "outputs": [
    {
     "data": {
      "text/plain": [
       "['i', 'me', 'my', 'myself', 'we']"
      ]
     },
     "execution_count": 20,
     "metadata": {},
     "output_type": "execute_result"
    }
   ],
   "source": [
    "stopwords[:5]"
   ]
  },
  {
   "cell_type": "code",
   "execution_count": 21,
   "metadata": {
    "colab": {
     "base_uri": "https://localhost:8080/",
     "height": 34
    },
    "colab_type": "code",
    "id": "h_S6MzHzZ4Fg",
    "outputId": "8fa9b394-9d2d-4b24-fbd0-b863f4579e4d"
   },
   "outputs": [
    {
     "data": {
      "text/plain": [
       "'!\"#$%&\\'()*+,-./:;<=>?@[\\\\]^_`{|}~'"
      ]
     },
     "execution_count": 21,
     "metadata": {},
     "output_type": "execute_result"
    }
   ],
   "source": [
    "string.punctuation"
   ]
  },
  {
   "cell_type": "code",
   "execution_count": 22,
   "metadata": {
    "colab": {},
    "colab_type": "code",
    "id": "kYAO2MubO-UL"
   },
   "outputs": [],
   "source": [
    "# function for text cleaning \n",
    "def clean_text(s):\n",
    "    s=re.sub(\"[\\'\\\"]\",\" \",s) #remove ' and \"\n",
    "    s=re.sub('\\\\\\\\r',' ',s)  #remove \\r\n",
    "    s=re.sub('\\\\\\\\n',' ',s)  #remove \\n\n",
    "    s=re.sub('[^a-zA-Z]',' ',s) #remove everything but letters\n",
    "    s=''.join([char for char in s if char not in string.punctuation]) #remove all punctuations\n",
    "    s=' '.join(s.split()) # remove whitespaces \n",
    "    s=s.lower()# convert text to lowercase \n",
    "    return s"
   ]
  },
  {
   "cell_type": "code",
   "execution_count": 23,
   "metadata": {
    "colab": {
     "base_uri": "https://localhost:8080/",
     "height": 241
    },
    "colab_type": "code",
    "id": "jk_Ol5NSPJ09",
    "outputId": "232de3ae-b222-468f-b4ed-46a5886bd225"
   },
   "outputs": [],
   "source": [
    "# clean title and body fields\n",
    "data['title'] = data['title'].apply(lambda x: clean_text(x))\n",
    "data['body'] = data['body'].apply(lambda x: clean_text(x))"
   ]
  },
  {
   "cell_type": "code",
   "execution_count": 24,
   "metadata": {
    "colab": {
     "base_uri": "https://localhost:8080/",
     "height": 529
    },
    "colab_type": "code",
    "id": "io_vyqZ0PlWu",
    "outputId": "bd10ac1d-40d2-45ad-9429-2942b6d1173a"
   },
   "outputs": [
    {
     "data": {
      "text/html": [
       "<div>\n",
       "<style scoped>\n",
       "    .dataframe tbody tr th:only-of-type {\n",
       "        vertical-align: middle;\n",
       "    }\n",
       "\n",
       "    .dataframe tbody tr th {\n",
       "        vertical-align: top;\n",
       "    }\n",
       "\n",
       "    .dataframe thead th {\n",
       "        text-align: right;\n",
       "    }\n",
       "</style>\n",
       "<table border=\"1\" class=\"dataframe\">\n",
       "  <thead>\n",
       "    <tr style=\"text-align: right;\">\n",
       "      <th></th>\n",
       "      <th>title</th>\n",
       "      <th>body</th>\n",
       "      <th>labels</th>\n",
       "    </tr>\n",
       "  </thead>\n",
       "  <tbody>\n",
       "    <tr>\n",
       "      <th>0</th>\n",
       "      <td>error building package zlib x windows static f...</td>\n",
       "      <td>package zlib x windows static vcpkg version debug</td>\n",
       "      <td>[needs-repro]</td>\n",
       "    </tr>\n",
       "    <tr>\n",
       "      <th>1</th>\n",
       "      <td>pagination bug when removing an item</td>\n",
       "      <td>reported by a pro user if for exemple we have ...</td>\n",
       "      <td>[enhancement]</td>\n",
       "    </tr>\n",
       "    <tr>\n",
       "      <th>4</th>\n",
       "      <td>helm podantiaffinity templating error</td>\n",
       "      <td>describe the bug helm charts fail to generate ...</td>\n",
       "      <td>[area/environments]</td>\n",
       "    </tr>\n",
       "    <tr>\n",
       "      <th>5</th>\n",
       "      <td>tradingview quick chart resize does not honor ...</td>\n",
       "      <td>describe the bug the up and down arrows for tr...</td>\n",
       "      <td>[[1b] User Story, [3] Bug, [4c] High Priority,...</td>\n",
       "    </tr>\n",
       "    <tr>\n",
       "      <th>6</th>\n",
       "      <td>upgrade isort</td>\n",
       "      <td>we are using but isort https pypi org project ...</td>\n",
       "      <td>[feature-refactoring, good first issue, needs ...</td>\n",
       "    </tr>\n",
       "  </tbody>\n",
       "</table>\n",
       "</div>"
      ],
      "text/plain": [
       "                                               title  \\\n",
       "0  error building package zlib x windows static f...   \n",
       "1               pagination bug when removing an item   \n",
       "4              helm podantiaffinity templating error   \n",
       "5  tradingview quick chart resize does not honor ...   \n",
       "6                                      upgrade isort   \n",
       "\n",
       "                                                body  \\\n",
       "0  package zlib x windows static vcpkg version debug   \n",
       "1  reported by a pro user if for exemple we have ...   \n",
       "4  describe the bug helm charts fail to generate ...   \n",
       "5  describe the bug the up and down arrows for tr...   \n",
       "6  we are using but isort https pypi org project ...   \n",
       "\n",
       "                                              labels  \n",
       "0                                      [needs-repro]  \n",
       "1                                      [enhancement]  \n",
       "4                                [area/environments]  \n",
       "5  [[1b] User Story, [3] Bug, [4c] High Priority,...  \n",
       "6  [feature-refactoring, good first issue, needs ...  "
      ]
     },
     "execution_count": 24,
     "metadata": {},
     "output_type": "execute_result"
    }
   ],
   "source": [
    "data.head()"
   ]
  },
  {
   "cell_type": "code",
   "execution_count": 25,
   "metadata": {
    "colab": {
     "base_uri": "https://localhost:8080/",
     "height": 1000
    },
    "colab_type": "code",
    "id": "jxgEFXceP49H",
    "outputId": "24e3211d-d16e-4718-b430-b6264f78524e"
   },
   "outputs": [],
   "source": [
    "#find most frequent words in title and body\n",
    "def freq_words(x,no=30): \n",
    "    all_words=' '.join([text for text in x]) \n",
    "    all_words=all_words.split() \n",
    "    fdict=nltk.FreqDist(all_words) \n",
    "    df=pd.DataFrame({'word':list(fdict.keys()),'count':list(fdict.values())}) \n",
    "\n",
    "    # select top n most frequent words \n",
    "    d=df.nlargest(columns=\"count\",n=no) \n",
    "\n",
    "    # visualize words and frequencies\n",
    "    plt.figure(figsize=(12,10)) \n",
    "    sns.barplot(x=d['count'],y=d['word'])  "
   ]
  },
  {
   "cell_type": "code",
   "execution_count": 26,
   "metadata": {},
   "outputs": [
    {
     "data": {
      "image/png": "[encoded data removed]",
      "text/plain": [
       "<Figure size 864x720 with 1 Axes>"
      ]
     },
     "metadata": {},
     "output_type": "display_data"
    }
   ],
   "source": [
    "freq_words(data['body'])"
   ]
  },
  {
   "cell_type": "code",
   "execution_count": 27,
   "metadata": {
    "colab": {
     "base_uri": "https://localhost:8080/",
     "height": 1000
    },
    "colab_type": "code",
    "id": "1IyEJ9c6ScWo",
    "outputId": "974c23de-f3ba-46d9-bd42-64a631b38888"
   },
   "outputs": [
    {
     "data": {
      "image/png": "[encoded data removed]",
      "text/plain": [
       "<Figure size 864x720 with 1 Axes>"
      ]
     },
     "metadata": {},
     "output_type": "display_data"
    }
   ],
   "source": [
    "freq_words(data['title'])"
   ]
  },
  {
   "cell_type": "markdown",
   "metadata": {},
   "source": [
    "Along with normal stopwords, other not very important words are also present that do not describe the text much."
   ]
  },
  {
   "cell_type": "code",
   "execution_count": 28,
   "metadata": {},
   "outputs": [],
   "source": [
    "stopwords.extend(['www','com','r','n','c','e','f','b','g','h','l','http','https','u','v','x','z','de','non','rb','ef','li','ts'\\\n",
    "                  ,'p','md','ci','go','cli','en','ms','br','sdm','us','k','cc','eslint','tat','im','fbadb','cccfb','dali'])\n",
    "def remove_stopwords(s):\n",
    "    s =' '.join([w for w in s.split() if not w in stopwords]) \n",
    "    return s"
   ]
  },
  {
   "cell_type": "code",
   "execution_count": 29,
   "metadata": {
    "colab": {
     "base_uri": "https://localhost:8080/",
     "height": 1000
    },
    "colab_type": "code",
    "id": "MjImOfJ2W4MY",
    "outputId": "11d07fb7-0d1a-4328-9077-c2dcf9e8e406"
   },
   "outputs": [],
   "source": [
    "data['title'] = data['title'].apply(lambda x: remove_stopwords(x))\n",
    "data['body'] = data['body'].apply(lambda x: remove_stopwords(x))"
   ]
  },
  {
   "cell_type": "code",
   "execution_count": 30,
   "metadata": {},
   "outputs": [
    {
     "data": {
      "text/html": [
       "<div>\n",
       "<style scoped>\n",
       "    .dataframe tbody tr th:only-of-type {\n",
       "        vertical-align: middle;\n",
       "    }\n",
       "\n",
       "    .dataframe tbody tr th {\n",
       "        vertical-align: top;\n",
       "    }\n",
       "\n",
       "    .dataframe thead th {\n",
       "        text-align: right;\n",
       "    }\n",
       "</style>\n",
       "<table border=\"1\" class=\"dataframe\">\n",
       "  <thead>\n",
       "    <tr style=\"text-align: right;\">\n",
       "      <th></th>\n",
       "      <th>title</th>\n",
       "      <th>body</th>\n",
       "      <th>labels</th>\n",
       "    </tr>\n",
       "  </thead>\n",
       "  <tbody>\n",
       "    <tr>\n",
       "      <th>0</th>\n",
       "      <td>error building package zlib windows static fai...</td>\n",
       "      <td>package zlib windows static vcpkg version debug</td>\n",
       "      <td>[needs-repro]</td>\n",
       "    </tr>\n",
       "    <tr>\n",
       "      <th>1</th>\n",
       "      <td>pagination bug removing item</td>\n",
       "      <td>reported pro user exemple table items per page...</td>\n",
       "      <td>[enhancement]</td>\n",
       "    </tr>\n",
       "    <tr>\n",
       "      <th>4</th>\n",
       "      <td>helm podantiaffinity templating error</td>\n",
       "      <td>describe bug helm charts fail generate proper ...</td>\n",
       "      <td>[area/environments]</td>\n",
       "    </tr>\n",
       "    <tr>\n",
       "      <th>5</th>\n",
       "      <td>tradingview quick chart resize honor limit values</td>\n",
       "      <td>describe bug arrows tradingview chart size wor...</td>\n",
       "      <td>[[1b] User Story, [3] Bug, [4c] High Priority,...</td>\n",
       "    </tr>\n",
       "    <tr>\n",
       "      <th>6</th>\n",
       "      <td>upgrade isort</td>\n",
       "      <td>using isort pypi org project isort latest migh...</td>\n",
       "      <td>[feature-refactoring, good first issue, needs ...</td>\n",
       "    </tr>\n",
       "  </tbody>\n",
       "</table>\n",
       "</div>"
      ],
      "text/plain": [
       "                                               title  \\\n",
       "0  error building package zlib windows static fai...   \n",
       "1                       pagination bug removing item   \n",
       "4              helm podantiaffinity templating error   \n",
       "5  tradingview quick chart resize honor limit values   \n",
       "6                                      upgrade isort   \n",
       "\n",
       "                                                body  \\\n",
       "0    package zlib windows static vcpkg version debug   \n",
       "1  reported pro user exemple table items per page...   \n",
       "4  describe bug helm charts fail generate proper ...   \n",
       "5  describe bug arrows tradingview chart size wor...   \n",
       "6  using isort pypi org project isort latest migh...   \n",
       "\n",
       "                                              labels  \n",
       "0                                      [needs-repro]  \n",
       "1                                      [enhancement]  \n",
       "4                                [area/environments]  \n",
       "5  [[1b] User Story, [3] Bug, [4c] High Priority,...  \n",
       "6  [feature-refactoring, good first issue, needs ...  "
      ]
     },
     "execution_count": 30,
     "metadata": {},
     "output_type": "execute_result"
    }
   ],
   "source": [
    "data.head() "
   ]
  },
  {
   "cell_type": "code",
   "execution_count": 31,
   "metadata": {},
   "outputs": [
    {
     "data": {
      "image/png": "[encoded data removed]",
      "text/plain": [
       "<Figure size 864x720 with 1 Axes>"
      ]
     },
     "metadata": {},
     "output_type": "display_data"
    }
   ],
   "source": [
    "freq_words(data['body'])"
   ]
  },
  {
   "cell_type": "code",
   "execution_count": 32,
   "metadata": {},
   "outputs": [
    {
     "data": {
      "image/png": "[encoded data removed]",
      "text/plain": [
       "<Figure size 864x720 with 1 Axes>"
      ]
     },
     "metadata": {},
     "output_type": "display_data"
    }
   ],
   "source": [
    "freq_words(data['title'])"
   ]
  },
  {
   "cell_type": "code",
   "execution_count": 33,
   "metadata": {},
   "outputs": [
    {
     "data": {
      "text/html": [
       "<div>\n",
       "<style scoped>\n",
       "    .dataframe tbody tr th:only-of-type {\n",
       "        vertical-align: middle;\n",
       "    }\n",
       "\n",
       "    .dataframe tbody tr th {\n",
       "        vertical-align: top;\n",
       "    }\n",
       "\n",
       "    .dataframe thead th {\n",
       "        text-align: right;\n",
       "    }\n",
       "</style>\n",
       "<table border=\"1\" class=\"dataframe\">\n",
       "  <thead>\n",
       "    <tr style=\"text-align: right;\">\n",
       "      <th></th>\n",
       "      <th>title</th>\n",
       "      <th>body</th>\n",
       "      <th>labels</th>\n",
       "    </tr>\n",
       "  </thead>\n",
       "  <tbody>\n",
       "    <tr>\n",
       "      <th>0</th>\n",
       "      <td>error building package zlib windows static fai...</td>\n",
       "      <td>package zlib windows static vcpkg version debug</td>\n",
       "      <td>[needs-repro]</td>\n",
       "    </tr>\n",
       "    <tr>\n",
       "      <th>1</th>\n",
       "      <td>pagination bug removing item</td>\n",
       "      <td>reported pro user exemple table items per page...</td>\n",
       "      <td>[enhancement]</td>\n",
       "    </tr>\n",
       "    <tr>\n",
       "      <th>4</th>\n",
       "      <td>helm podantiaffinity templating error</td>\n",
       "      <td>describe bug helm charts fail generate proper ...</td>\n",
       "      <td>[area/environments]</td>\n",
       "    </tr>\n",
       "    <tr>\n",
       "      <th>5</th>\n",
       "      <td>tradingview quick chart resize honor limit values</td>\n",
       "      <td>describe bug arrows tradingview chart size wor...</td>\n",
       "      <td>[[1b] User Story, [3] Bug, [4c] High Priority,...</td>\n",
       "    </tr>\n",
       "    <tr>\n",
       "      <th>6</th>\n",
       "      <td>upgrade isort</td>\n",
       "      <td>using isort pypi org project isort latest migh...</td>\n",
       "      <td>[feature-refactoring, good first issue, needs ...</td>\n",
       "    </tr>\n",
       "  </tbody>\n",
       "</table>\n",
       "</div>"
      ],
      "text/plain": [
       "                                               title  \\\n",
       "0  error building package zlib windows static fai...   \n",
       "1                       pagination bug removing item   \n",
       "4              helm podantiaffinity templating error   \n",
       "5  tradingview quick chart resize honor limit values   \n",
       "6                                      upgrade isort   \n",
       "\n",
       "                                                body  \\\n",
       "0    package zlib windows static vcpkg version debug   \n",
       "1  reported pro user exemple table items per page...   \n",
       "4  describe bug helm charts fail generate proper ...   \n",
       "5  describe bug arrows tradingview chart size wor...   \n",
       "6  using isort pypi org project isort latest migh...   \n",
       "\n",
       "                                              labels  \n",
       "0                                      [needs-repro]  \n",
       "1                                      [enhancement]  \n",
       "4                                [area/environments]  \n",
       "5  [[1b] User Story, [3] Bug, [4c] High Priority,...  \n",
       "6  [feature-refactoring, good first issue, needs ...  "
      ]
     },
     "execution_count": 33,
     "metadata": {},
     "output_type": "execute_result"
    }
   ],
   "source": [
    "data.head()"
   ]
  },
  {
   "cell_type": "code",
   "execution_count": 34,
   "metadata": {
    "colab": {},
    "colab_type": "code",
    "id": "_tBgzPbmaEzq"
   },
   "outputs": [],
   "source": [
    "#Labels of different issues are in different forms as they are created manually\n",
    "#Need to bring all in same shape to get proper count\n",
    "\n",
    "def clean_label(l):\n",
    "    s=','.join(l) # convert list to string\n",
    "    s=re.sub(r'\\[[^\\]]*\\]','',s) # remove everything within []\n",
    "    s=re.sub('[^a-zA-Z\\,]',' ',s) # remove everything but letters and comma\n",
    "    s=' '.join(s.split()) # remove extra spaces\n",
    "    s=s.lower() # to lowercase\n",
    "    lst=s.split(',')\n",
    "    return [lb.strip() for lb in lst] #strip spaces"
   ]
  },
  {
   "cell_type": "code",
   "execution_count": 35,
   "metadata": {
    "colab": {
     "base_uri": "https://localhost:8080/",
     "height": 139
    },
    "colab_type": "code",
    "id": "b7hoD_aSaSuI",
    "outputId": "fbb2b740-bab3-4109-f409-6fe080369a43"
   },
   "outputs": [],
   "source": [
    "data['clean_lbl']=data['labels'].apply(lambda x: clean_label(x))"
   ]
  },
  {
   "cell_type": "code",
   "execution_count": 36,
   "metadata": {
    "colab": {
     "base_uri": "https://localhost:8080/",
     "height": 529
    },
    "colab_type": "code",
    "id": "8aVtf_xwalQL",
    "outputId": "5cb70523-3922-4014-e70d-805a72e33d06"
   },
   "outputs": [
    {
     "data": {
      "text/html": [
       "<div>\n",
       "<style scoped>\n",
       "    .dataframe tbody tr th:only-of-type {\n",
       "        vertical-align: middle;\n",
       "    }\n",
       "\n",
       "    .dataframe tbody tr th {\n",
       "        vertical-align: top;\n",
       "    }\n",
       "\n",
       "    .dataframe thead th {\n",
       "        text-align: right;\n",
       "    }\n",
       "</style>\n",
       "<table border=\"1\" class=\"dataframe\">\n",
       "  <thead>\n",
       "    <tr style=\"text-align: right;\">\n",
       "      <th></th>\n",
       "      <th>title</th>\n",
       "      <th>body</th>\n",
       "      <th>labels</th>\n",
       "      <th>clean_lbl</th>\n",
       "    </tr>\n",
       "  </thead>\n",
       "  <tbody>\n",
       "    <tr>\n",
       "      <th>0</th>\n",
       "      <td>error building package zlib windows static fai...</td>\n",
       "      <td>package zlib windows static vcpkg version debug</td>\n",
       "      <td>[needs-repro]</td>\n",
       "      <td>[needs repro]</td>\n",
       "    </tr>\n",
       "    <tr>\n",
       "      <th>1</th>\n",
       "      <td>pagination bug removing item</td>\n",
       "      <td>reported pro user exemple table items per page...</td>\n",
       "      <td>[enhancement]</td>\n",
       "      <td>[enhancement]</td>\n",
       "    </tr>\n",
       "    <tr>\n",
       "      <th>4</th>\n",
       "      <td>helm podantiaffinity templating error</td>\n",
       "      <td>describe bug helm charts fail generate proper ...</td>\n",
       "      <td>[area/environments]</td>\n",
       "      <td>[area environments]</td>\n",
       "    </tr>\n",
       "    <tr>\n",
       "      <th>5</th>\n",
       "      <td>tradingview quick chart resize honor limit values</td>\n",
       "      <td>describe bug arrows tradingview chart size wor...</td>\n",
       "      <td>[[1b] User Story, [3] Bug, [4c] High Priority,...</td>\n",
       "      <td>[user story, bug, high priority, tiny, rc bloc...</td>\n",
       "    </tr>\n",
       "    <tr>\n",
       "      <th>6</th>\n",
       "      <td>upgrade isort</td>\n",
       "      <td>using isort pypi org project isort latest migh...</td>\n",
       "      <td>[feature-refactoring, good first issue, needs ...</td>\n",
       "      <td>[feature refactoring, good first issue, needs ...</td>\n",
       "    </tr>\n",
       "  </tbody>\n",
       "</table>\n",
       "</div>"
      ],
      "text/plain": [
       "                                               title  \\\n",
       "0  error building package zlib windows static fai...   \n",
       "1                       pagination bug removing item   \n",
       "4              helm podantiaffinity templating error   \n",
       "5  tradingview quick chart resize honor limit values   \n",
       "6                                      upgrade isort   \n",
       "\n",
       "                                                body  \\\n",
       "0    package zlib windows static vcpkg version debug   \n",
       "1  reported pro user exemple table items per page...   \n",
       "4  describe bug helm charts fail generate proper ...   \n",
       "5  describe bug arrows tradingview chart size wor...   \n",
       "6  using isort pypi org project isort latest migh...   \n",
       "\n",
       "                                              labels  \\\n",
       "0                                      [needs-repro]   \n",
       "1                                      [enhancement]   \n",
       "4                                [area/environments]   \n",
       "5  [[1b] User Story, [3] Bug, [4c] High Priority,...   \n",
       "6  [feature-refactoring, good first issue, needs ...   \n",
       "\n",
       "                                           clean_lbl  \n",
       "0                                      [needs repro]  \n",
       "1                                      [enhancement]  \n",
       "4                                [area environments]  \n",
       "5  [user story, bug, high priority, tiny, rc bloc...  \n",
       "6  [feature refactoring, good first issue, needs ...  "
      ]
     },
     "execution_count": 36,
     "metadata": {},
     "output_type": "execute_result"
    }
   ],
   "source": [
    "data.head()"
   ]
  },
  {
   "cell_type": "code",
   "execution_count": 37,
   "metadata": {},
   "outputs": [],
   "source": [
    "#get all labels in a single list\n",
    "l=[]\n",
    "for i in data['clean_lbl']:\n",
    "    l.append(i)"
   ]
  },
  {
   "cell_type": "code",
   "execution_count": 38,
   "metadata": {},
   "outputs": [
    {
     "data": {
      "text/plain": [
       "[['needs repro'],\n",
       " ['enhancement'],\n",
       " ['area environments'],\n",
       " ['user story', 'bug', 'high priority', 'tiny', 'rc blockage', 'estimated'],\n",
       " ['feature refactoring', 'good first issue', 'needs pr', 'type code health']]"
      ]
     },
     "execution_count": 38,
     "metadata": {},
     "output_type": "execute_result"
    }
   ],
   "source": [
    "l[:5]"
   ]
  },
  {
   "cell_type": "code",
   "execution_count": 39,
   "metadata": {},
   "outputs": [],
   "source": [
    "#Count frequency of labels\n",
    "count={}\n",
    "for y in l:  \n",
    "    for x in y:\n",
    "        if x not in count:\n",
    "            count[x]=1\n",
    "        else:\n",
    "            count[x]+=1\n",
    "d = collections.Counter(count)\n",
    "freq=[]\n",
    "for w,c in d.most_common(2502):\n",
    "    freq.append([w,c])"
   ]
  },
  {
   "cell_type": "code",
   "execution_count": 40,
   "metadata": {},
   "outputs": [
    {
     "data": {
      "text/plain": [
       "[['bug', 754],\n",
       " ['enhancement', 617],\n",
       " ['question', 160],\n",
       " ['help wanted', 109],\n",
       " ['good first issue', 96],\n",
       " ['type bug', 89],\n",
       " ['', 85],\n",
       " ['feature', 84],\n",
       " ['wontfix', 75],\n",
       " ['stale', 57],\n",
       " ['in progress', 54],\n",
       " ['p', 52],\n",
       " ['priority high', 47],\n",
       " ['greenkeeper', 47],\n",
       " ['triaged', 43],\n",
       " ['priority medium', 40],\n",
       " ['task', 39],\n",
       " ['documentation', 39],\n",
       " ['duplicate', 38],\n",
       " ['type enhancement', 37],\n",
       " ['feature request', 31],\n",
       " ['invalid', 30],\n",
       " ['kind bug', 29],\n",
       " ['p medium', 27],\n",
       " ['high priority', 25],\n",
       " ['docs', 25],\n",
       " ['user submission', 25],\n",
       " ['ui', 23],\n",
       " ['assigned to author', 23],\n",
       " ['priority p', 23],\n",
       " ['review', 22],\n",
       " ['version', 22],\n",
       " ['design', 19],\n",
       " ['priority low', 18],\n",
       " ['fixed', 18],\n",
       " ['v', 18],\n",
       " ['n adguard browser extension', 18],\n",
       " ['frontend', 18],\n",
       " ['epic', 18],\n",
       " ['support', 17],\n",
       " ['front end', 17],\n",
       " ['browser firefox', 17],\n",
       " ['priority critical', 16],\n",
       " ['priority', 16],\n",
       " ['type feature', 16],\n",
       " ['backend', 15],\n",
       " ['backlog', 14],\n",
       " ['sprint', 14],\n",
       " ['needs more info', 14],\n",
       " ['new version', 14]]"
      ]
     },
     "execution_count": 40,
     "metadata": {},
     "output_type": "execute_result"
    }
   ],
   "source": [
    "#top 50 frequent labels\n",
    "freq[:50]"
   ]
  },
  {
   "cell_type": "code",
   "execution_count": 41,
   "metadata": {
    "colab": {},
    "colab_type": "code",
    "id": "hOFm2ZqWc_tJ"
   },
   "outputs": [],
   "source": [
    "#\"type bug\",\"kind bug\" & \"bug fix\" are same, need to make them all as \"bug\"\n",
    "#Same thing applies for other labels. Using multiple string replaces for the same purpose\n",
    "lbls=[]\n",
    "for i in l:\n",
    "    i=[w.replace('type bug','bug').replace('kind bug','bug').replace('bug fix','bug').replace('bug bug','bug')\n",
    "       .replace('c enhancement','enhancement').replace('doenhancement','enhancement').replace('type enhancement','enhancement')\n",
    "       .replace('kind enhancement','enhancement').replace('improvement','enhancement').replace('suggestion','enhancement')\n",
    "       .replace('t be enhancement','enhancement').replace('t fe enhancement','enhancement')\n",
    "       .replace('feature request','feature').replace('new feature','feature').replace('type feature','feature')\n",
    "       .replace('kind feature','feature').replace('feature refactoring','feature')\n",
    "       .replace('priority high','highpriority').replace('priority critical','highpriority').replace('priority p','highpriority')\n",
    "       .replace('high priority','highpriority').replace('p high','highpriority').replace('priority important','highpriority')\n",
    "       .replace('priority medium','mediumpriority').replace('medium priority','mediumpriority')\n",
    "       .replace('priority med','mediumpriority').replace('p medium','mediumpriority')\n",
    "       .replace('low priority','lowpriority').replace('priority low','lowpriority')\n",
    "       .replace('type question','question').replace('kind question','question')\n",
    "       .replace('type support','support').replace('help wanted','helpwanted')\n",
    "       .replace('docs','documentation').replace('documentation needed','documentation').replace('type documentation','documentation')\n",
    "       .replace('type task','task').replace('front end','frontend')\n",
    "       .replace('type helpwanted','helpwanted').replace('in review','review').replace('triaged','triage') for w in i]\n",
    "    lbls.append(i)"
   ]
  },
  {
   "cell_type": "code",
   "execution_count": 42,
   "metadata": {
    "colab": {},
    "colab_type": "code",
    "id": "7_Qj0BHw38vb"
   },
   "outputs": [],
   "source": [
    "count={}\n",
    "for y in lbls:\n",
    "    for x in y:\n",
    "        if x not in count:\n",
    "            count[x]=1\n",
    "        else:\n",
    "            count[x]+=1\n",
    "d = collections.Counter(count)\n",
    "freq=[]\n",
    "for w,c in d.most_common():\n",
    "    freq.append([w,c])"
   ]
  },
  {
   "cell_type": "code",
   "execution_count": 43,
   "metadata": {
    "colab": {
     "base_uri": "https://localhost:8080/",
     "height": 527
    },
    "colab_type": "code",
    "id": "M3m0Zpz3ApX9",
    "outputId": "3ef79ce7-8496-4297-c57f-d7a5b718c6c7"
   },
   "outputs": [
    {
     "data": {
      "text/plain": [
       "[['bug', 882],\n",
       " ['enhancement', 692],\n",
       " ['question', 178],\n",
       " ['feature', 158],\n",
       " ['highpriority', 137],\n",
       " ['helpwanted', 113],\n",
       " ['good first issue', 96],\n",
       " ['', 85],\n",
       " ['documentation', 77],\n",
       " ['wontfix', 75],\n",
       " ['mediumpriority', 75],\n",
       " ['triage', 57],\n",
       " ['stale', 57],\n",
       " ['in progress', 54],\n",
       " ['p', 52],\n",
       " ['greenkeeper', 47],\n",
       " ['task', 43],\n",
       " ['duplicate', 38],\n",
       " ['frontend', 35],\n",
       " ['review', 35],\n",
       " ['invalid', 30],\n",
       " ['lowpriority', 28],\n",
       " ['support', 28],\n",
       " ['user submission', 25],\n",
       " ['ui', 23],\n",
       " ['assigned to author', 23],\n",
       " ['version', 22],\n",
       " ['design', 19],\n",
       " ['fixed', 18],\n",
       " ['v', 18],\n",
       " ['n adguard browser extension', 18],\n",
       " ['epic', 18],\n",
       " ['browser firefox', 17],\n",
       " ['priority', 16],\n",
       " ['backend', 15],\n",
       " ['backlog', 14],\n",
       " ['sprint', 14],\n",
       " ['needs more info', 14],\n",
       " ['new version', 14],\n",
       " ['cxp', 14],\n",
       " ['browser firefox mobile', 14],\n",
       " ['discussion', 13],\n",
       " ['medium', 13],\n",
       " ['target', 12],\n",
       " ['todo', 12],\n",
       " ['approved', 12],\n",
       " ['ver', 12],\n",
       " ['eps', 11],\n",
       " ['in scope june', 11],\n",
       " ['lang zh', 11]]"
      ]
     },
     "execution_count": 43,
     "metadata": {},
     "output_type": "execute_result"
    }
   ],
   "source": [
    "freq[:50]"
   ]
  },
  {
   "cell_type": "code",
   "execution_count": 44,
   "metadata": {
    "colab": {
     "base_uri": "https://localhost:8080/",
     "height": 428
    },
    "colab_type": "code",
    "id": "BPe3L7oeI5fn",
    "outputId": "cd6eedfc-4f8b-4a07-bdcc-0545090c9642"
   },
   "outputs": [
    {
     "data": {
      "text/html": [
       "<div>\n",
       "<style scoped>\n",
       "    .dataframe tbody tr th:only-of-type {\n",
       "        vertical-align: middle;\n",
       "    }\n",
       "\n",
       "    .dataframe tbody tr th {\n",
       "        vertical-align: top;\n",
       "    }\n",
       "\n",
       "    .dataframe thead th {\n",
       "        text-align: right;\n",
       "    }\n",
       "</style>\n",
       "<table border=\"1\" class=\"dataframe\">\n",
       "  <thead>\n",
       "    <tr style=\"text-align: right;\">\n",
       "      <th></th>\n",
       "      <th>title</th>\n",
       "      <th>body</th>\n",
       "      <th>labels</th>\n",
       "      <th>clean_lbl</th>\n",
       "      <th>lbls_clean</th>\n",
       "    </tr>\n",
       "  </thead>\n",
       "  <tbody>\n",
       "    <tr>\n",
       "      <th>0</th>\n",
       "      <td>error building package zlib windows static fai...</td>\n",
       "      <td>package zlib windows static vcpkg version debug</td>\n",
       "      <td>[needs-repro]</td>\n",
       "      <td>[needs repro]</td>\n",
       "      <td>[needs repro]</td>\n",
       "    </tr>\n",
       "    <tr>\n",
       "      <th>1</th>\n",
       "      <td>pagination bug removing item</td>\n",
       "      <td>reported pro user exemple table items per page...</td>\n",
       "      <td>[enhancement]</td>\n",
       "      <td>[enhancement]</td>\n",
       "      <td>[enhancement]</td>\n",
       "    </tr>\n",
       "    <tr>\n",
       "      <th>4</th>\n",
       "      <td>helm podantiaffinity templating error</td>\n",
       "      <td>describe bug helm charts fail generate proper ...</td>\n",
       "      <td>[area/environments]</td>\n",
       "      <td>[area environments]</td>\n",
       "      <td>[area environments]</td>\n",
       "    </tr>\n",
       "    <tr>\n",
       "      <th>5</th>\n",
       "      <td>tradingview quick chart resize honor limit values</td>\n",
       "      <td>describe bug arrows tradingview chart size wor...</td>\n",
       "      <td>[[1b] User Story, [3] Bug, [4c] High Priority,...</td>\n",
       "      <td>[user story, bug, high priority, tiny, rc bloc...</td>\n",
       "      <td>[user story, bug, highpriority, tiny, rc block...</td>\n",
       "    </tr>\n",
       "    <tr>\n",
       "      <th>6</th>\n",
       "      <td>upgrade isort</td>\n",
       "      <td>using isort pypi org project isort latest migh...</td>\n",
       "      <td>[feature-refactoring, good first issue, needs ...</td>\n",
       "      <td>[feature refactoring, good first issue, needs ...</td>\n",
       "      <td>[feature, good first issue, needs pr, type cod...</td>\n",
       "    </tr>\n",
       "  </tbody>\n",
       "</table>\n",
       "</div>"
      ],
      "text/plain": [
       "                                               title  \\\n",
       "0  error building package zlib windows static fai...   \n",
       "1                       pagination bug removing item   \n",
       "4              helm podantiaffinity templating error   \n",
       "5  tradingview quick chart resize honor limit values   \n",
       "6                                      upgrade isort   \n",
       "\n",
       "                                                body  \\\n",
       "0    package zlib windows static vcpkg version debug   \n",
       "1  reported pro user exemple table items per page...   \n",
       "4  describe bug helm charts fail generate proper ...   \n",
       "5  describe bug arrows tradingview chart size wor...   \n",
       "6  using isort pypi org project isort latest migh...   \n",
       "\n",
       "                                              labels  \\\n",
       "0                                      [needs-repro]   \n",
       "1                                      [enhancement]   \n",
       "4                                [area/environments]   \n",
       "5  [[1b] User Story, [3] Bug, [4c] High Priority,...   \n",
       "6  [feature-refactoring, good first issue, needs ...   \n",
       "\n",
       "                                           clean_lbl  \\\n",
       "0                                      [needs repro]   \n",
       "1                                      [enhancement]   \n",
       "4                                [area environments]   \n",
       "5  [user story, bug, high priority, tiny, rc bloc...   \n",
       "6  [feature refactoring, good first issue, needs ...   \n",
       "\n",
       "                                          lbls_clean  \n",
       "0                                      [needs repro]  \n",
       "1                                      [enhancement]  \n",
       "4                                [area environments]  \n",
       "5  [user story, bug, highpriority, tiny, rc block...  \n",
       "6  [feature, good first issue, needs pr, type cod...  "
      ]
     },
     "execution_count": 44,
     "metadata": {},
     "output_type": "execute_result"
    }
   ],
   "source": [
    "#add cleaned labels to the dataset\n",
    "data['lbls_clean']=lbls\n",
    "data.head()"
   ]
  },
  {
   "cell_type": "code",
   "execution_count": 45,
   "metadata": {
    "colab": {},
    "colab_type": "code",
    "id": "vmEk4c4YI4db"
   },
   "outputs": [],
   "source": [
    "#Not all labels can be taken for model building\n",
    "#Selecting top 50 frequent labels\n",
    "selected_labels=[]\n",
    "for i in freq[:50]:\n",
    "    selected_labels.append(i[0])"
   ]
  },
  {
   "cell_type": "code",
   "execution_count": 46,
   "metadata": {},
   "outputs": [
    {
     "data": {
      "text/plain": [
       "['bug', 'enhancement', 'question', 'feature', 'highpriority']"
      ]
     },
     "execution_count": 46,
     "metadata": {},
     "output_type": "execute_result"
    }
   ],
   "source": [
    "selected_labels[:5]"
   ]
  },
  {
   "cell_type": "code",
   "execution_count": 47,
   "metadata": {
    "colab": {
     "base_uri": "https://localhost:8080/",
     "height": 289
    },
    "colab_type": "code",
    "id": "rV29NoprMXZy",
    "outputId": "dbd0d3bb-3180-4f0b-caa6-1a709c2d5cbc"
   },
   "outputs": [
    {
     "data": {
      "text/html": [
       "<div>\n",
       "<style scoped>\n",
       "    .dataframe tbody tr th:only-of-type {\n",
       "        vertical-align: middle;\n",
       "    }\n",
       "\n",
       "    .dataframe tbody tr th {\n",
       "        vertical-align: top;\n",
       "    }\n",
       "\n",
       "    .dataframe thead th {\n",
       "        text-align: right;\n",
       "    }\n",
       "</style>\n",
       "<table border=\"1\" class=\"dataframe\">\n",
       "  <thead>\n",
       "    <tr style=\"text-align: right;\">\n",
       "      <th></th>\n",
       "      <th>title</th>\n",
       "      <th>body</th>\n",
       "      <th>lbls_clean</th>\n",
       "    </tr>\n",
       "  </thead>\n",
       "  <tbody>\n",
       "    <tr>\n",
       "      <th>0</th>\n",
       "      <td>error building package zlib windows static fai...</td>\n",
       "      <td>package zlib windows static vcpkg version debug</td>\n",
       "      <td>[needs repro]</td>\n",
       "    </tr>\n",
       "    <tr>\n",
       "      <th>1</th>\n",
       "      <td>pagination bug removing item</td>\n",
       "      <td>reported pro user exemple table items per page...</td>\n",
       "      <td>[enhancement]</td>\n",
       "    </tr>\n",
       "    <tr>\n",
       "      <th>4</th>\n",
       "      <td>helm podantiaffinity templating error</td>\n",
       "      <td>describe bug helm charts fail generate proper ...</td>\n",
       "      <td>[area environments]</td>\n",
       "    </tr>\n",
       "    <tr>\n",
       "      <th>5</th>\n",
       "      <td>tradingview quick chart resize honor limit values</td>\n",
       "      <td>describe bug arrows tradingview chart size wor...</td>\n",
       "      <td>[user story, bug, highpriority, tiny, rc block...</td>\n",
       "    </tr>\n",
       "    <tr>\n",
       "      <th>6</th>\n",
       "      <td>upgrade isort</td>\n",
       "      <td>using isort pypi org project isort latest migh...</td>\n",
       "      <td>[feature, good first issue, needs pr, type cod...</td>\n",
       "    </tr>\n",
       "  </tbody>\n",
       "</table>\n",
       "</div>"
      ],
      "text/plain": [
       "                                               title  \\\n",
       "0  error building package zlib windows static fai...   \n",
       "1                       pagination bug removing item   \n",
       "4              helm podantiaffinity templating error   \n",
       "5  tradingview quick chart resize honor limit values   \n",
       "6                                      upgrade isort   \n",
       "\n",
       "                                                body  \\\n",
       "0    package zlib windows static vcpkg version debug   \n",
       "1  reported pro user exemple table items per page...   \n",
       "4  describe bug helm charts fail generate proper ...   \n",
       "5  describe bug arrows tradingview chart size wor...   \n",
       "6  using isort pypi org project isort latest migh...   \n",
       "\n",
       "                                          lbls_clean  \n",
       "0                                      [needs repro]  \n",
       "1                                      [enhancement]  \n",
       "4                                [area environments]  \n",
       "5  [user story, bug, highpriority, tiny, rc block...  \n",
       "6  [feature, good first issue, needs pr, type cod...  "
      ]
     },
     "execution_count": 47,
     "metadata": {},
     "output_type": "execute_result"
    }
   ],
   "source": [
    "dset=data[[\"title\",\"body\",\"lbls_clean\"]]\n",
    "dset.head()"
   ]
  },
  {
   "cell_type": "code",
   "execution_count": 48,
   "metadata": {
    "colab": {
     "base_uri": "https://localhost:8080/",
     "height": 481
    },
    "colab_type": "code",
    "id": "du-x6jM8QCsa",
    "outputId": "03308e66-c0aa-4b91-ee77-fcf8419033e8"
   },
   "outputs": [
    {
     "name": "stderr",
     "output_type": "stream",
     "text": [
      "C:\\Users\\Dhriti Dhruve\\Anaconda3\\lib\\site-packages\\ipykernel_launcher.py:8: SettingWithCopyWarning: \n",
      "A value is trying to be set on a copy of a slice from a DataFrame.\n",
      "Try using .loc[row_indexer,col_indexer] = value instead\n",
      "\n",
      "See the caveats in the documentation: http://pandas.pydata.org/pandas-docs/stable/indexing.html#indexing-view-versus-copy\n",
      "  \n"
     ]
    },
    {
     "data": {
      "text/html": [
       "<div>\n",
       "<style scoped>\n",
       "    .dataframe tbody tr th:only-of-type {\n",
       "        vertical-align: middle;\n",
       "    }\n",
       "\n",
       "    .dataframe tbody tr th {\n",
       "        vertical-align: top;\n",
       "    }\n",
       "\n",
       "    .dataframe thead th {\n",
       "        text-align: right;\n",
       "    }\n",
       "</style>\n",
       "<table border=\"1\" class=\"dataframe\">\n",
       "  <thead>\n",
       "    <tr style=\"text-align: right;\">\n",
       "      <th></th>\n",
       "      <th>title</th>\n",
       "      <th>body</th>\n",
       "      <th>lbls_clean</th>\n",
       "    </tr>\n",
       "  </thead>\n",
       "  <tbody>\n",
       "    <tr>\n",
       "      <th>0</th>\n",
       "      <td>error building package zlib windows static fai...</td>\n",
       "      <td>package zlib windows static vcpkg version debug</td>\n",
       "      <td>[]</td>\n",
       "    </tr>\n",
       "    <tr>\n",
       "      <th>1</th>\n",
       "      <td>pagination bug removing item</td>\n",
       "      <td>reported pro user exemple table items per page...</td>\n",
       "      <td>[enhancement]</td>\n",
       "    </tr>\n",
       "    <tr>\n",
       "      <th>4</th>\n",
       "      <td>helm podantiaffinity templating error</td>\n",
       "      <td>describe bug helm charts fail generate proper ...</td>\n",
       "      <td>[]</td>\n",
       "    </tr>\n",
       "    <tr>\n",
       "      <th>5</th>\n",
       "      <td>tradingview quick chart resize honor limit values</td>\n",
       "      <td>describe bug arrows tradingview chart size wor...</td>\n",
       "      <td>[bug, highpriority]</td>\n",
       "    </tr>\n",
       "    <tr>\n",
       "      <th>6</th>\n",
       "      <td>upgrade isort</td>\n",
       "      <td>using isort pypi org project isort latest migh...</td>\n",
       "      <td>[feature, good first issue]</td>\n",
       "    </tr>\n",
       "    <tr>\n",
       "      <th>7</th>\n",
       "      <td>configurable window completion</td>\n",
       "      <td>fixed window completion given questionnaire co...</td>\n",
       "      <td>[feature]</td>\n",
       "    </tr>\n",
       "    <tr>\n",
       "      <th>8</th>\n",
       "      <td>telemetry add search counts baseline ping</td>\n",
       "      <td>follow github mozilla mobile fenix issues issu...</td>\n",
       "      <td>[p]</td>\n",
       "    </tr>\n",
       "    <tr>\n",
       "      <th>9</th>\n",
       "      <td>sql show zone configuration table table name p...</td>\n",
       "      <td>describe problem partitioned table created rep...</td>\n",
       "      <td>[enhancement]</td>\n",
       "    </tr>\n",
       "    <tr>\n",
       "      <th>12</th>\n",
       "      <td>add ice snow melt flag general flag category</td>\n",
       "      <td>could useful cases</td>\n",
       "      <td>[enhancement, lowpriority]</td>\n",
       "    </tr>\n",
       "    <tr>\n",
       "      <th>13</th>\n",
       "      <td>vulnerability ddos get api projects</td>\n",
       "      <td>project apitestuat template apiv projectsgetqu...</td>\n",
       "      <td>[]</td>\n",
       "    </tr>\n",
       "  </tbody>\n",
       "</table>\n",
       "</div>"
      ],
      "text/plain": [
       "                                                title  \\\n",
       "0   error building package zlib windows static fai...   \n",
       "1                        pagination bug removing item   \n",
       "4               helm podantiaffinity templating error   \n",
       "5   tradingview quick chart resize honor limit values   \n",
       "6                                       upgrade isort   \n",
       "7                      configurable window completion   \n",
       "8           telemetry add search counts baseline ping   \n",
       "9   sql show zone configuration table table name p...   \n",
       "12       add ice snow melt flag general flag category   \n",
       "13                vulnerability ddos get api projects   \n",
       "\n",
       "                                                 body  \\\n",
       "0     package zlib windows static vcpkg version debug   \n",
       "1   reported pro user exemple table items per page...   \n",
       "4   describe bug helm charts fail generate proper ...   \n",
       "5   describe bug arrows tradingview chart size wor...   \n",
       "6   using isort pypi org project isort latest migh...   \n",
       "7   fixed window completion given questionnaire co...   \n",
       "8   follow github mozilla mobile fenix issues issu...   \n",
       "9   describe problem partitioned table created rep...   \n",
       "12                                 could useful cases   \n",
       "13  project apitestuat template apiv projectsgetqu...   \n",
       "\n",
       "                     lbls_clean  \n",
       "0                            []  \n",
       "1                 [enhancement]  \n",
       "4                            []  \n",
       "5           [bug, highpriority]  \n",
       "6   [feature, good first issue]  \n",
       "7                     [feature]  \n",
       "8                           [p]  \n",
       "9                 [enhancement]  \n",
       "12   [enhancement, lowpriority]  \n",
       "13                           []  "
      ]
     },
     "execution_count": 48,
     "metadata": {},
     "output_type": "execute_result"
    }
   ],
   "source": [
    "#Keep only selected labels and remove others\n",
    "#each row is intersected with the selected_labels lists\n",
    "def intersection(lst1, lst2): \n",
    "    temp = set(lst2) \n",
    "    lst3 = [value for value in lst1 if value in temp] \n",
    "    return lst3\n",
    "\n",
    "dset['lbls_clean']=[intersection(selected_labels,i) for i in dset['lbls_clean']]\n",
    "dset.head(10)"
   ]
  },
  {
   "cell_type": "code",
   "execution_count": 49,
   "metadata": {
    "colab": {},
    "colab_type": "code",
    "id": "mt2PBQniR_eR"
   },
   "outputs": [],
   "source": [
    "#Selected labels resulted in some empty labels as many repositories do not have them\n",
    "def clean(s):\n",
    "    if len(s)==0:\n",
    "        s=np.nan\n",
    "    return s\n",
    "\n",
    "ldata=dset.copy(deep=True)   \n",
    "ldata['lbls_clean']=ldata['lbls_clean'].apply(lambda x: clean(x))\n",
    "ldata.dropna(inplace=True) #Removing empty-label rows"
   ]
  },
  {
   "cell_type": "code",
   "execution_count": 50,
   "metadata": {
    "colab": {
     "base_uri": "https://localhost:8080/",
     "height": 34
    },
    "colab_type": "code",
    "id": "irojrKu7YzaA",
    "outputId": "355f80e0-51a7-4a90-852d-5b75aa842fb1"
   },
   "outputs": [
    {
     "data": {
      "text/plain": [
       "(2827, 3)"
      ]
     },
     "execution_count": 50,
     "metadata": {},
     "output_type": "execute_result"
    }
   ],
   "source": [
    "ldata.shape"
   ]
  },
  {
   "cell_type": "code",
   "execution_count": 51,
   "metadata": {
    "colab": {},
    "colab_type": "code",
    "id": "KL3Oqf_RYg6p"
   },
   "outputs": [],
   "source": [
    "#rows having body and title with empty values are removed\n",
    "ldata=ldata[ldata['body']!=\"\"]\n",
    "ldata=ldata[ldata['title']!=\"\"]"
   ]
  },
  {
   "cell_type": "code",
   "execution_count": 52,
   "metadata": {
    "colab": {
     "base_uri": "https://localhost:8080/",
     "height": 34
    },
    "colab_type": "code",
    "id": "sxl_rR8dZ7af",
    "outputId": "f185f79a-fa1e-44c8-a932-8accbc91bdb8"
   },
   "outputs": [
    {
     "data": {
      "text/plain": [
       "(2543, 3)"
      ]
     },
     "execution_count": 52,
     "metadata": {},
     "output_type": "execute_result"
    }
   ],
   "source": [
    "#finally dataset is reduced to 2543 rows after cleaning and pre-processing\n",
    "ldata.shape"
   ]
  },
  {
   "cell_type": "code",
   "execution_count": 53,
   "metadata": {},
   "outputs": [],
   "source": [
    "ldata.reset_index(inplace=True,drop=True)"
   ]
  },
  {
   "cell_type": "code",
   "execution_count": 54,
   "metadata": {},
   "outputs": [
    {
     "data": {
      "text/html": [
       "<div>\n",
       "<style scoped>\n",
       "    .dataframe tbody tr th:only-of-type {\n",
       "        vertical-align: middle;\n",
       "    }\n",
       "\n",
       "    .dataframe tbody tr th {\n",
       "        vertical-align: top;\n",
       "    }\n",
       "\n",
       "    .dataframe thead th {\n",
       "        text-align: right;\n",
       "    }\n",
       "</style>\n",
       "<table border=\"1\" class=\"dataframe\">\n",
       "  <thead>\n",
       "    <tr style=\"text-align: right;\">\n",
       "      <th></th>\n",
       "      <th>title</th>\n",
       "      <th>body</th>\n",
       "      <th>lbls_clean</th>\n",
       "    </tr>\n",
       "  </thead>\n",
       "  <tbody>\n",
       "    <tr>\n",
       "      <th>0</th>\n",
       "      <td>pagination bug removing item</td>\n",
       "      <td>reported pro user exemple table items per page...</td>\n",
       "      <td>[enhancement]</td>\n",
       "    </tr>\n",
       "    <tr>\n",
       "      <th>1</th>\n",
       "      <td>tradingview quick chart resize honor limit values</td>\n",
       "      <td>describe bug arrows tradingview chart size wor...</td>\n",
       "      <td>[bug, highpriority]</td>\n",
       "    </tr>\n",
       "    <tr>\n",
       "      <th>2</th>\n",
       "      <td>upgrade isort</td>\n",
       "      <td>using isort pypi org project isort latest migh...</td>\n",
       "      <td>[feature, good first issue]</td>\n",
       "    </tr>\n",
       "    <tr>\n",
       "      <th>3</th>\n",
       "      <td>configurable window completion</td>\n",
       "      <td>fixed window completion given questionnaire co...</td>\n",
       "      <td>[feature]</td>\n",
       "    </tr>\n",
       "    <tr>\n",
       "      <th>4</th>\n",
       "      <td>telemetry add search counts baseline ping</td>\n",
       "      <td>follow github mozilla mobile fenix issues issu...</td>\n",
       "      <td>[p]</td>\n",
       "    </tr>\n",
       "  </tbody>\n",
       "</table>\n",
       "</div>"
      ],
      "text/plain": [
       "                                               title  \\\n",
       "0                       pagination bug removing item   \n",
       "1  tradingview quick chart resize honor limit values   \n",
       "2                                      upgrade isort   \n",
       "3                     configurable window completion   \n",
       "4          telemetry add search counts baseline ping   \n",
       "\n",
       "                                                body  \\\n",
       "0  reported pro user exemple table items per page...   \n",
       "1  describe bug arrows tradingview chart size wor...   \n",
       "2  using isort pypi org project isort latest migh...   \n",
       "3  fixed window completion given questionnaire co...   \n",
       "4  follow github mozilla mobile fenix issues issu...   \n",
       "\n",
       "                    lbls_clean  \n",
       "0                [enhancement]  \n",
       "1          [bug, highpriority]  \n",
       "2  [feature, good first issue]  \n",
       "3                    [feature]  \n",
       "4                          [p]  "
      ]
     },
     "execution_count": 54,
     "metadata": {},
     "output_type": "execute_result"
    }
   ],
   "source": [
    "ldata.head()"
   ]
  },
  {
   "cell_type": "markdown",
   "metadata": {},
   "source": [
    "### Model Building"
   ]
  },
  {
   "cell_type": "code",
   "execution_count": 55,
   "metadata": {},
   "outputs": [],
   "source": [
    "from sklearn.preprocessing import MultiLabelBinarizer"
   ]
  },
  {
   "cell_type": "code",
   "execution_count": 56,
   "metadata": {},
   "outputs": [],
   "source": [
    "mb=MultiLabelBinarizer()"
   ]
  },
  {
   "cell_type": "code",
   "execution_count": 57,
   "metadata": {},
   "outputs": [
    {
     "data": {
      "text/plain": [
       "MultiLabelBinarizer(classes=None, sparse_output=False)"
      ]
     },
     "execution_count": 57,
     "metadata": {},
     "output_type": "execute_result"
    }
   ],
   "source": [
    "mb.fit(ldata['lbls_clean'])"
   ]
  },
  {
   "cell_type": "code",
   "execution_count": 58,
   "metadata": {},
   "outputs": [],
   "source": [
    "y=mb.transform(ldata['lbls_clean'])"
   ]
  },
  {
   "cell_type": "code",
   "execution_count": 59,
   "metadata": {},
   "outputs": [
    {
     "data": {
      "text/plain": [
       "array([[0, 0, 0, ..., 0, 0, 0],\n",
       "       [0, 0, 0, ..., 0, 0, 0],\n",
       "       [0, 0, 0, ..., 0, 0, 0],\n",
       "       ...,\n",
       "       [0, 0, 0, ..., 0, 0, 0],\n",
       "       [0, 0, 0, ..., 0, 0, 0],\n",
       "       [0, 0, 0, ..., 0, 0, 0]])"
      ]
     },
     "execution_count": 59,
     "metadata": {},
     "output_type": "execute_result"
    }
   ],
   "source": [
    "y"
   ]
  },
  {
   "cell_type": "code",
   "execution_count": 60,
   "metadata": {},
   "outputs": [],
   "source": [
    "from sklearn.feature_extraction.text import TfidfVectorizer"
   ]
  },
  {
   "cell_type": "code",
   "execution_count": 61,
   "metadata": {},
   "outputs": [],
   "source": [
    "tfidf=TfidfVectorizer(max_features=100)"
   ]
  },
  {
   "cell_type": "code",
   "execution_count": 62,
   "metadata": {},
   "outputs": [],
   "source": [
    "from sklearn.model_selection import train_test_split"
   ]
  },
  {
   "cell_type": "code",
   "execution_count": 63,
   "metadata": {},
   "outputs": [],
   "source": [
    "X_train, X_test, y_train, y_test = train_test_split(ldata['body'], y, test_size=0.33, random_state=42)"
   ]
  },
  {
   "cell_type": "code",
   "execution_count": 64,
   "metadata": {},
   "outputs": [],
   "source": [
    "xtrain_tfidf=tfidf.fit_transform(X_train)\n",
    "xtest_tfidf=tfidf.transform(X_test)"
   ]
  },
  {
   "cell_type": "code",
   "execution_count": 65,
   "metadata": {},
   "outputs": [],
   "source": [
    "from sklearn.linear_model import LogisticRegression\n",
    "from sklearn.multiclass import OneVsRestClassifier\n",
    "from sklearn.metrics import f1_score"
   ]
  },
  {
   "cell_type": "code",
   "execution_count": 66,
   "metadata": {},
   "outputs": [],
   "source": [
    "lr=LogisticRegression()\n",
    "clf=OneVsRestClassifier(lr)"
   ]
  },
  {
   "cell_type": "code",
   "execution_count": 67,
   "metadata": {},
   "outputs": [
    {
     "data": {
      "text/plain": [
       "OneVsRestClassifier(estimator=LogisticRegression(C=1.0, class_weight=None, dual=False, fit_intercept=True,\n",
       "          intercept_scaling=1, max_iter=100, multi_class='ovr', n_jobs=1,\n",
       "          penalty='l2', random_state=None, solver='liblinear', tol=0.0001,\n",
       "          verbose=0, warm_start=False),\n",
       "          n_jobs=1)"
      ]
     },
     "execution_count": 67,
     "metadata": {},
     "output_type": "execute_result"
    }
   ],
   "source": [
    "clf.fit(xtrain_tfidf,y_train)"
   ]
  },
  {
   "cell_type": "code",
   "execution_count": 68,
   "metadata": {},
   "outputs": [],
   "source": [
    "pred=clf.predict(xtest_tfidf)"
   ]
  },
  {
   "cell_type": "code",
   "execution_count": 69,
   "metadata": {},
   "outputs": [
    {
     "data": {
      "text/plain": [
       "array([0, 0, 0, 0, 0, 0, 0, 1, 0, 0, 0, 0, 0, 0, 0, 0, 0, 0, 0, 0, 0, 0,\n",
       "       0, 0, 0, 0, 0, 0, 0, 0, 0, 0, 0, 0, 0, 0, 0, 0, 0, 0, 0, 0, 0, 0,\n",
       "       0, 0, 0, 0, 0, 0])"
      ]
     },
     "execution_count": 69,
     "metadata": {},
     "output_type": "execute_result"
    }
   ],
   "source": [
    "pred[5]"
   ]
  },
  {
   "cell_type": "code",
   "execution_count": 70,
   "metadata": {},
   "outputs": [
    {
     "name": "stdout",
     "output_type": "stream",
     "text": [
      "predicted: ('bug',)\n",
      "actual: ('bug',)\n"
     ]
    }
   ],
   "source": [
    "print(\"predicted:\",mb.inverse_transform(pred)[5])\n",
    "print(\"actual:\",mb.inverse_transform(y_test)[5])"
   ]
  },
  {
   "cell_type": "code",
   "execution_count": 71,
   "metadata": {},
   "outputs": [
    {
     "data": {
      "text/plain": [
       "0.2352941176470588"
      ]
     },
     "execution_count": 71,
     "metadata": {},
     "output_type": "execute_result"
    }
   ],
   "source": [
    "f1_score(y_test,pred,average=\"micro\")"
   ]
  },
  {
   "cell_type": "markdown",
   "metadata": {},
   "source": [
    "f1-score of 0.2352941176470588 achieved using 0.5 as threshold probability"
   ]
  },
  {
   "cell_type": "code",
   "execution_count": 72,
   "metadata": {},
   "outputs": [],
   "source": [
    "#Get prediction probalities\n",
    "prob=clf.predict_proba(xtest_tfidf)"
   ]
  },
  {
   "cell_type": "code",
   "execution_count": 73,
   "metadata": {},
   "outputs": [],
   "source": [
    "#Set threshold of 0.2 instead of 0.5\n",
    "#Hence any probability >= 0.2 will be 1, else 0.\n",
    "t=0.2\n",
    "pred_new=(prob>=t).astype(int)"
   ]
  },
  {
   "cell_type": "code",
   "execution_count": 74,
   "metadata": {},
   "outputs": [
    {
     "data": {
      "text/plain": [
       "0.41789667896678967"
      ]
     },
     "execution_count": 74,
     "metadata": {},
     "output_type": "execute_result"
    }
   ],
   "source": [
    "f1_score(y_test,pred_new,average=\"micro\")"
   ]
  },
  {
   "cell_type": "markdown",
   "metadata": {},
   "source": [
    "f1-score of 0.41789667896678967 achieved using 0.2 as threshold probability"
   ]
  },
  {
   "cell_type": "code",
   "execution_count": null,
   "metadata": {},
   "outputs": [],
   "source": []
  }
 ],
 "metadata": {
  "colab": {
   "collapsed_sections": [],
   "include_colab_link": true,
   "name": "Labelizer_nb.ipynb",
   "provenance": []
  },
  "kernelspec": {
   "display_name": "Python 3",
   "language": "python",
   "name": "python3"
  },
  "language_info": {
   "codemirror_mode": {
    "name": "ipython",
    "version": 3
   },
   "file_extension": ".py",
   "mimetype": "text/x-python",
   "name": "python",
   "nbconvert_exporter": "python",
   "pygments_lexer": "ipython3",
   "version": "3.6.5"
  }
 },
 "nbformat": 4,
 "nbformat_minor": 1
}
